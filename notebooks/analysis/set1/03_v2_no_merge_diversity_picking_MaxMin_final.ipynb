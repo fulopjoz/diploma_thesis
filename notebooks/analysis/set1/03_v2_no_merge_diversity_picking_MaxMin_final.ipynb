{
 "cells": [
  {
   "cell_type": "code",
   "execution_count": 1,
   "id": "40aeb1fa",
   "metadata": {
    "execution": {
     "iopub.execute_input": "2024-04-17T17:27:49.834493Z",
     "iopub.status.busy": "2024-04-17T17:27:49.833893Z",
     "iopub.status.idle": "2024-04-17T17:27:50.554362Z",
     "shell.execute_reply": "2024-04-17T17:27:50.552927Z"
    },
    "papermill": {
     "duration": 0.740487,
     "end_time": "2024-04-17T17:27:50.558813",
     "exception": false,
     "start_time": "2024-04-17T17:27:49.818326",
     "status": "completed"
    },
    "tags": []
   },
   "outputs": [],
   "source": [
    "import os\n",
    "import pandas as pd\n",
    "from rdkit.SimDivFilters import  MaxMinPicker\n",
    "from rdkit import RDLogger\n",
    "RDLogger.DisableLog('rdApp.error')\n",
    "from tqdm.auto import tqdm\n",
    "tqdm.pandas()\n",
    "from multiprocessing import Pool, cpu_count\n",
    "import time"
   ]
  },
  {
   "cell_type": "code",
   "execution_count": 2,
   "id": "94f0d802",
   "metadata": {
    "execution": {
     "iopub.execute_input": "2024-04-17T17:27:50.583048Z",
     "iopub.status.busy": "2024-04-17T17:27:50.582230Z",
     "iopub.status.idle": "2024-04-17T17:28:07.605211Z",
     "shell.execute_reply": "2024-04-17T17:28:07.604126Z"
    },
    "papermill": {
     "duration": 17.038171,
     "end_time": "2024-04-17T17:28:07.609616",
     "exception": false,
     "start_time": "2024-04-17T17:27:50.571445",
     "status": "completed"
    },
    "tags": []
   },
   "outputs": [],
   "source": [
    "# load datasets pickle from ../data/ECFP_datasets/\n",
    "enamine_protein = pd.read_pickle('../data/ECFP_datasets/enamine_protein_ECFP6_v4_dedup_all.pkl')\n",
    "chemdiv_rna = pd.read_pickle('../data/ECFP_datasets/chemdiv_ECFP6_v4_dedup_all.pkl')\n",
    "enamine_rna = pd.read_pickle('../data/ECFP_datasets/enamine_ECFP6_v4_dedup_all.pkl')\n",
    "life_chemicals_rna = pd.read_pickle('../data/ECFP_datasets/life_chemicals_ECFP6_v4_dedup_all.pkl')\n",
    "robin_rna = pd.read_pickle('../data/ECFP_datasets/robin_ECFP6_v4_dedup_all.pkl')"
   ]
  },
  {
   "cell_type": "code",
   "execution_count": 3,
   "id": "1502455f",
   "metadata": {
    "execution": {
     "iopub.execute_input": "2024-04-17T17:28:07.632697Z",
     "iopub.status.busy": "2024-04-17T17:28:07.632042Z",
     "iopub.status.idle": "2024-04-17T17:28:07.640490Z",
     "shell.execute_reply": "2024-04-17T17:28:07.638655Z"
    },
    "papermill": {
     "duration": 0.02286,
     "end_time": "2024-04-17T17:28:07.644734",
     "exception": false,
     "start_time": "2024-04-17T17:28:07.621874",
     "status": "completed"
    },
    "tags": []
   },
   "outputs": [],
   "source": [
    "total_molecules_rna = len(chemdiv_rna) + len(enamine_rna) + len(life_chemicals_rna) + len(robin_rna)\n"
   ]
  },
  {
   "cell_type": "code",
   "execution_count": 4,
   "id": "29e7471f",
   "metadata": {
    "execution": {
     "iopub.execute_input": "2024-04-17T17:28:07.666866Z",
     "iopub.status.busy": "2024-04-17T17:28:07.665211Z",
     "iopub.status.idle": "2024-04-17T17:28:07.672544Z",
     "shell.execute_reply": "2024-04-17T17:28:07.670988Z"
    },
    "papermill": {
     "duration": 0.020294,
     "end_time": "2024-04-17T17:28:07.675654",
     "exception": false,
     "start_time": "2024-04-17T17:28:07.655360",
     "status": "completed"
    },
    "tags": []
   },
   "outputs": [],
   "source": [
    "# # for each dataset create a column source, which will be used to identify the source of the molecule\n",
    "\n",
    "# enamine_protein['source'] = 'enamine_protein'\n",
    "# chemdiv_rna['source'] = 'chemdiv_rna'\n",
    "# enamine_rna['source'] = 'enamine_rna'\n",
    "# life_chemicals_rna['source'] = 'life_chemicals_rna'\n",
    "# robin_rna['source'] = 'robin_rna'\n"
   ]
  },
  {
   "cell_type": "code",
   "execution_count": 5,
   "id": "a7c09d18",
   "metadata": {
    "execution": {
     "iopub.execute_input": "2024-04-17T17:28:07.692372Z",
     "iopub.status.busy": "2024-04-17T17:28:07.691176Z",
     "iopub.status.idle": "2024-04-17T17:28:07.721821Z",
     "shell.execute_reply": "2024-04-17T17:28:07.720737Z"
    },
    "papermill": {
     "duration": 0.042002,
     "end_time": "2024-04-17T17:28:07.725253",
     "exception": false,
     "start_time": "2024-04-17T17:28:07.683251",
     "status": "completed"
    },
    "tags": []
   },
   "outputs": [
    {
     "data": {
      "text/html": [
       "<div>\n",
       "<style scoped>\n",
       "    .dataframe tbody tr th:only-of-type {\n",
       "        vertical-align: middle;\n",
       "    }\n",
       "\n",
       "    .dataframe tbody tr th {\n",
       "        vertical-align: top;\n",
       "    }\n",
       "\n",
       "    .dataframe thead th {\n",
       "        text-align: right;\n",
       "    }\n",
       "</style>\n",
       "<table border=\"1\" class=\"dataframe\">\n",
       "  <thead>\n",
       "    <tr style=\"text-align: right;\">\n",
       "      <th></th>\n",
       "      <th>source</th>\n",
       "      <th>SMILES</th>\n",
       "      <th>mol</th>\n",
       "      <th>ECFP6</th>\n",
       "    </tr>\n",
       "  </thead>\n",
       "  <tbody>\n",
       "    <tr>\n",
       "      <th>0</th>\n",
       "      <td>life_chemicals</td>\n",
       "      <td>Cn1c(N2CCC(CO)CC2)cc(=O)n(C)c1=O</td>\n",
       "      <td>&lt;rdkit.Chem.rdchem.Mol object at 0x7fa6101501d0&gt;</td>\n",
       "      <td>[0, 0, 0, 0, 0, 0, 0, 0, 0, 0, 0, 0, 0, 0, 0, ...</td>\n",
       "    </tr>\n",
       "    <tr>\n",
       "      <th>1</th>\n",
       "      <td>life_chemicals</td>\n",
       "      <td>O=c1cccc2n1CC1CC2CN(C2CCOCC2)C1</td>\n",
       "      <td>&lt;rdkit.Chem.rdchem.Mol object at 0x7fa60d0e0220&gt;</td>\n",
       "      <td>[0, 0, 0, 0, 0, 0, 0, 0, 0, 0, 0, 0, 0, 0, 0, ...</td>\n",
       "    </tr>\n",
       "    <tr>\n",
       "      <th>2</th>\n",
       "      <td>life_chemicals</td>\n",
       "      <td>CN1CCCN(c2ncccc2C#N)CC1</td>\n",
       "      <td>&lt;rdkit.Chem.rdchem.Mol object at 0x7fa60d0e0270&gt;</td>\n",
       "      <td>[0, 0, 0, 0, 0, 0, 0, 0, 0, 0, 0, 0, 0, 0, 1, ...</td>\n",
       "    </tr>\n",
       "    <tr>\n",
       "      <th>3</th>\n",
       "      <td>life_chemicals</td>\n",
       "      <td>CN1CCN(C(=O)c2cc(C3CC3)on2)CC1</td>\n",
       "      <td>&lt;rdkit.Chem.rdchem.Mol object at 0x7fa60d0e02c0&gt;</td>\n",
       "      <td>[0, 0, 0, 0, 0, 0, 0, 0, 0, 0, 0, 0, 0, 0, 1, ...</td>\n",
       "    </tr>\n",
       "    <tr>\n",
       "      <th>4</th>\n",
       "      <td>life_chemicals</td>\n",
       "      <td>O=C(NCC1CCCO1)c1noc2c1CCCC2</td>\n",
       "      <td>&lt;rdkit.Chem.rdchem.Mol object at 0x7fa60d0e0310&gt;</td>\n",
       "      <td>[0, 0, 0, 0, 0, 0, 0, 0, 0, 0, 0, 0, 0, 0, 0, ...</td>\n",
       "    </tr>\n",
       "  </tbody>\n",
       "</table>\n",
       "</div>"
      ],
      "text/plain": [
       "           source                            SMILES  \\\n",
       "0  life_chemicals  Cn1c(N2CCC(CO)CC2)cc(=O)n(C)c1=O   \n",
       "1  life_chemicals   O=c1cccc2n1CC1CC2CN(C2CCOCC2)C1   \n",
       "2  life_chemicals           CN1CCCN(c2ncccc2C#N)CC1   \n",
       "3  life_chemicals    CN1CCN(C(=O)c2cc(C3CC3)on2)CC1   \n",
       "4  life_chemicals       O=C(NCC1CCCO1)c1noc2c1CCCC2   \n",
       "\n",
       "                                                mol  \\\n",
       "0  <rdkit.Chem.rdchem.Mol object at 0x7fa6101501d0>   \n",
       "1  <rdkit.Chem.rdchem.Mol object at 0x7fa60d0e0220>   \n",
       "2  <rdkit.Chem.rdchem.Mol object at 0x7fa60d0e0270>   \n",
       "3  <rdkit.Chem.rdchem.Mol object at 0x7fa60d0e02c0>   \n",
       "4  <rdkit.Chem.rdchem.Mol object at 0x7fa60d0e0310>   \n",
       "\n",
       "                                               ECFP6  \n",
       "0  [0, 0, 0, 0, 0, 0, 0, 0, 0, 0, 0, 0, 0, 0, 0, ...  \n",
       "1  [0, 0, 0, 0, 0, 0, 0, 0, 0, 0, 0, 0, 0, 0, 0, ...  \n",
       "2  [0, 0, 0, 0, 0, 0, 0, 0, 0, 0, 0, 0, 0, 0, 1, ...  \n",
       "3  [0, 0, 0, 0, 0, 0, 0, 0, 0, 0, 0, 0, 0, 0, 1, ...  \n",
       "4  [0, 0, 0, 0, 0, 0, 0, 0, 0, 0, 0, 0, 0, 0, 0, ...  "
      ]
     },
     "execution_count": 5,
     "metadata": {},
     "output_type": "execute_result"
    }
   ],
   "source": [
    "life_chemicals_rna.head()"
   ]
  },
  {
   "cell_type": "code",
   "execution_count": 6,
   "id": "af9cbf4e",
   "metadata": {
    "execution": {
     "iopub.execute_input": "2024-04-17T17:28:07.746974Z",
     "iopub.status.busy": "2024-04-17T17:28:07.745902Z",
     "iopub.status.idle": "2024-04-17T17:28:07.753392Z",
     "shell.execute_reply": "2024-04-17T17:28:07.751966Z"
    },
    "papermill": {
     "duration": 0.019592,
     "end_time": "2024-04-17T17:28:07.755988",
     "exception": false,
     "start_time": "2024-04-17T17:28:07.736396",
     "status": "completed"
    },
    "tags": []
   },
   "outputs": [],
   "source": [
    "# create folder for results\n",
    "# create subfolder for each ECFP dataset ECFP4, ECFP6, ECFP8, ECFP10\n",
    "directories = ['../data/diversity_picking/ECFP6_v2/',\n",
    "               '../data/diversity_picking/RNA/ECFP6_v2/',]\n",
    "\n",
    "\n",
    "for directory in directories:\n",
    "    if not os.path.exists(directory):\n",
    "        os.makedirs(directory)\n",
    "\n"
   ]
  },
  {
   "cell_type": "code",
   "execution_count": 7,
   "id": "313d9594",
   "metadata": {
    "execution": {
     "iopub.execute_input": "2024-04-17T17:28:07.772085Z",
     "iopub.status.busy": "2024-04-17T17:28:07.770576Z",
     "iopub.status.idle": "2024-04-17T17:28:07.783127Z",
     "shell.execute_reply": "2024-04-17T17:28:07.781245Z"
    },
    "papermill": {
     "duration": 0.022978,
     "end_time": "2024-04-17T17:28:07.786081",
     "exception": false,
     "start_time": "2024-04-17T17:28:07.763103",
     "status": "completed"
    },
    "tags": []
   },
   "outputs": [],
   "source": [
    "def diversity_picking_MaxMin(df, colname, filename):\n",
    "    # Resetting the index of the DataFrame\n",
    "    df = df.reset_index(drop=True)\n",
    "\n",
    "    processed_col = df[colname]\n",
    "    smiles_col = df['SMILES']\n",
    "    mol_col = df['mol']\n",
    "    source_col = df['source']\n",
    "\n",
    "    fps = processed_col.values\n",
    "    mmp = MaxMinPicker()\n",
    "    picks = mmp.LazyBitVectorPick(fps, len(df), len(df), seed=42)\n",
    "    \n",
    "    picked_df = pd.DataFrame({\n",
    "        'mol': mol_col.iloc[picks],\n",
    "        'smiles': smiles_col.iloc[picks],\n",
    "        colname: processed_col.iloc[picks],     \n",
    "        'source': source_col.iloc[picks]\n",
    "    })\n",
    "\n",
    "    picked_df.to_pickle(filename)\n",
    "    return picked_df\n",
    "\n"
   ]
  },
  {
   "cell_type": "code",
   "execution_count": 8,
   "id": "1293de3d",
   "metadata": {
    "execution": {
     "iopub.execute_input": "2024-04-17T17:28:07.803101Z",
     "iopub.status.busy": "2024-04-17T17:28:07.802491Z",
     "iopub.status.idle": "2024-04-17T17:28:07.814659Z",
     "shell.execute_reply": "2024-04-17T17:28:07.812832Z"
    },
    "papermill": {
     "duration": 0.023953,
     "end_time": "2024-04-17T17:28:07.817550",
     "exception": false,
     "start_time": "2024-04-17T17:28:07.793597",
     "status": "completed"
    },
    "tags": []
   },
   "outputs": [],
   "source": [
    "def diversity_picking_MaxMin_protein(df, colname, filename):\n",
    "    df = df.reset_index(drop=True)\n",
    "\n",
    "    \n",
    "    processed_col = df[colname]\n",
    "    smiles_col = df['SMILES']\n",
    "    mol_col = df['mol']\n",
    "    source_col = df['source']\n",
    "\n",
    "    fps = processed_col.values\n",
    "    mmp = MaxMinPicker()\n",
    "    picks = mmp.LazyBitVectorPick(fps, len(df), total_molecules_rna, seed=42)\n",
    "    \n",
    "    picked_df = pd.DataFrame({\n",
    "        'mol': mol_col[picks],\n",
    "        'smiles': smiles_col[picks],\n",
    "        # ECFP col will have the same name as the input colname\n",
    "        colname: processed_col[picks],   \n",
    "        'source': source_col[picks]\n",
    "    })\n",
    "\n",
    "    picked_df.to_pickle(filename)\n",
    "    return picked_df\n"
   ]
  },
  {
   "cell_type": "code",
   "execution_count": 9,
   "id": "95c38b9b",
   "metadata": {
    "execution": {
     "iopub.execute_input": "2024-04-17T17:28:07.833123Z",
     "iopub.status.busy": "2024-04-17T17:28:07.831745Z",
     "iopub.status.idle": "2024-04-17T17:28:07.841346Z",
     "shell.execute_reply": "2024-04-17T17:28:07.839532Z"
    },
    "papermill": {
     "duration": 0.019746,
     "end_time": "2024-04-17T17:28:07.843893",
     "exception": false,
     "start_time": "2024-04-17T17:28:07.824147",
     "status": "completed"
    },
    "tags": []
   },
   "outputs": [],
   "source": [
    "\n",
    "datasets = [\n",
    "    (robin_rna, 'ECFP6', '../data/diversity_picking/ECFP6_v2/robin_rna_ECFP6_MaxMin_v3.pkl'),\n",
    "    (chemdiv_rna, 'ECFP6', '../data/diversity_picking/ECFP6_v2/chemdiv_rna_ECFP6_MaxMin_v3.pkl'),\n",
    "    (enamine_rna, 'ECFP6', '../data/diversity_picking/ECFP6_v2/enamine_rna_ECFP6_MaxMin_v3.pkl'),\n",
    "    (life_chemicals_rna, 'ECFP6', '../data/diversity_picking/ECFP6_v2/life_chemicals_rna_ECFP6_MaxMin_v3.pkl'),\n",
    "\n",
    "]\n",
    "\n",
    "protein = [\n",
    "    (enamine_protein, 'ECFP6', '../data/diversity_picking/ECFP6_v2/enamine_protein_ECFP6_MaxMin_v3.pkl'),\n",
    "]"
   ]
  },
  {
   "cell_type": "code",
   "execution_count": 10,
   "id": "7c77c063",
   "metadata": {
    "execution": {
     "iopub.execute_input": "2024-04-17T17:28:07.860571Z",
     "iopub.status.busy": "2024-04-17T17:28:07.859966Z",
     "iopub.status.idle": "2024-04-17T17:28:07.867277Z",
     "shell.execute_reply": "2024-04-17T17:28:07.865660Z"
    },
    "papermill": {
     "duration": 0.018078,
     "end_time": "2024-04-17T17:28:07.870018",
     "exception": false,
     "start_time": "2024-04-17T17:28:07.851940",
     "status": "completed"
    },
    "tags": []
   },
   "outputs": [],
   "source": [
    "\n",
    "# Determine the number of processors to use\n",
    "num_processors = 8   # Use all available processors: cpu_count()\n",
    "\n"
   ]
  },
  {
   "cell_type": "code",
   "execution_count": 11,
   "id": "51b8a097",
   "metadata": {
    "execution": {
     "iopub.execute_input": "2024-04-17T17:28:07.885646Z",
     "iopub.status.busy": "2024-04-17T17:28:07.884392Z",
     "iopub.status.idle": "2024-04-17T17:28:07.897913Z",
     "shell.execute_reply": "2024-04-17T17:28:07.896410Z"
    },
    "papermill": {
     "duration": 0.023862,
     "end_time": "2024-04-17T17:28:07.900351",
     "exception": false,
     "start_time": "2024-04-17T17:28:07.876489",
     "status": "completed"
    },
    "tags": []
   },
   "outputs": [],
   "source": [
    "def process_dataset(dataset):\n",
    "    df, fp_type, output_path = dataset\n",
    "    with tqdm(total=len(df), desc=f\"Processing {fp_type}\") as pbar:\n",
    "        start_time = time.time()\n",
    "        diversity_picking_MaxMin(df, fp_type, output_path)\n",
    "        elapsed_time = time.time() - start_time\n",
    "        pbar.set_postfix({\"Time\": f\"{elapsed_time:.2f} s\"})\n",
    "        pbar.update(len(df))\n",
    "\n",
    "def process_dataset_protein(dataset):\n",
    "    df, fp_type, output_path = dataset\n",
    "    with tqdm(total=len(df), desc=f\"Processing {fp_type}\") as pbar:\n",
    "        start_time = time.time()\n",
    "        diversity_picking_MaxMin_protein(df, fp_type, output_path)\n",
    "        elapsed_time = time.time() - start_time\n",
    "        pbar.set_postfix({\"Time\": f\"{elapsed_time:.2f} s\"})\n",
    "        pbar.update(len(df))"
   ]
  },
  {
   "cell_type": "code",
   "execution_count": 12,
   "id": "72c95756",
   "metadata": {
    "execution": {
     "iopub.execute_input": "2024-04-17T17:28:07.915857Z",
     "iopub.status.busy": "2024-04-17T17:28:07.914652Z",
     "iopub.status.idle": "2024-04-17T17:28:30.661523Z",
     "shell.execute_reply": "2024-04-17T17:28:30.659592Z"
    },
    "papermill": {
     "duration": 22.759415,
     "end_time": "2024-04-17T17:28:30.665993",
     "exception": false,
     "start_time": "2024-04-17T17:28:07.906578",
     "status": "completed"
    },
    "tags": []
   },
   "outputs": [
    {
     "name": "stdout",
     "output_type": "stream",
     "text": [
      "Processing RNA datasets\n"
     ]
    },
    {
     "name": "stdout",
     "output_type": "stream",
     "text": [
      "Processing RNA datasets done\n"
     ]
    }
   ],
   "source": [
    "# with Pool(processes=num_processors) as pool:\n",
    "#     list(tqdm(pool.imap(process_dataset, datasets), total=len(datasets), desc=\"Processing RNA datasets\"))\n",
    "print(f'Processing RNA datasets')    \n",
    "# use without tqdm\n",
    "with Pool(processes=num_processors) as pool:\n",
    "    pool.map(process_dataset, datasets)\n",
    "    print(f\"Processing RNA datasets done\")"
   ]
  },
  {
   "cell_type": "code",
   "execution_count": 13,
   "id": "0a9fcd37",
   "metadata": {
    "execution": {
     "iopub.execute_input": "2024-04-17T17:28:30.688799Z",
     "iopub.status.busy": "2024-04-17T17:28:30.688099Z",
     "iopub.status.idle": "2024-04-17T17:43:47.168535Z",
     "shell.execute_reply": "2024-04-17T17:43:47.166509Z"
    },
    "papermill": {
     "duration": 916.495587,
     "end_time": "2024-04-17T17:43:47.173408",
     "exception": false,
     "start_time": "2024-04-17T17:28:30.677821",
     "status": "completed"
    },
    "tags": []
   },
   "outputs": [
    {
     "name": "stdout",
     "output_type": "stream",
     "text": [
      "Processing protein datasets\n"
     ]
    },
    {
     "name": "stdout",
     "output_type": "stream",
     "text": [
      "Processing protein datasets done\n"
     ]
    }
   ],
   "source": [
    "# with Pool(processes=num_processors) as pool:\n",
    "#     list(tqdm(pool.imap(process_dataset_protein, protein), total=len(protein), desc=\"Processing protein datasets\"))\n",
    "\n",
    "print(f\"Processing protein datasets\")\n",
    "\n",
    "with Pool(processes=num_processors) as pool:\n",
    "    pool.map(process_dataset_protein, protein)\n",
    "    print(f\"Processing protein datasets done\")"
   ]
  },
  {
   "cell_type": "code",
   "execution_count": 14,
   "id": "ed200cd5",
   "metadata": {
    "execution": {
     "iopub.execute_input": "2024-04-17T17:43:47.198380Z",
     "iopub.status.busy": "2024-04-17T17:43:47.197097Z",
     "iopub.status.idle": "2024-04-17T17:43:47.217345Z",
     "shell.execute_reply": "2024-04-17T17:43:47.215985Z"
    },
    "papermill": {
     "duration": 0.034514,
     "end_time": "2024-04-17T17:43:47.220799",
     "exception": false,
     "start_time": "2024-04-17T17:43:47.186285",
     "status": "completed"
    },
    "tags": []
   },
   "outputs": [],
   "source": [
    "rna_df = pd.concat([chemdiv_rna, enamine_rna, robin_rna, life_chemicals_rna], ignore_index=True)\n",
    "rna_df.reset_index(drop=True, inplace=True)\n"
   ]
  },
  {
   "cell_type": "code",
   "execution_count": 15,
   "id": "771738d9",
   "metadata": {
    "execution": {
     "iopub.execute_input": "2024-04-17T17:43:47.244558Z",
     "iopub.status.busy": "2024-04-17T17:43:47.243946Z",
     "iopub.status.idle": "2024-04-17T17:43:47.255039Z",
     "shell.execute_reply": "2024-04-17T17:43:47.253252Z"
    },
    "papermill": {
     "duration": 0.025272,
     "end_time": "2024-04-17T17:43:47.258181",
     "exception": false,
     "start_time": "2024-04-17T17:43:47.232909",
     "status": "completed"
    },
    "tags": []
   },
   "outputs": [
    {
     "data": {
      "text/plain": [
       "(38710, 4)"
      ]
     },
     "execution_count": 15,
     "metadata": {},
     "output_type": "execute_result"
    }
   ],
   "source": [
    "rna_df.shape"
   ]
  },
  {
   "cell_type": "code",
   "execution_count": 16,
   "id": "e7ee1c38",
   "metadata": {
    "execution": {
     "iopub.execute_input": "2024-04-17T17:43:47.277114Z",
     "iopub.status.busy": "2024-04-17T17:43:47.276082Z",
     "iopub.status.idle": "2024-04-17T17:45:14.598067Z",
     "shell.execute_reply": "2024-04-17T17:45:14.595631Z"
    },
    "papermill": {
     "duration": 87.336235,
     "end_time": "2024-04-17T17:45:14.602725",
     "exception": false,
     "start_time": "2024-04-17T17:43:47.266490",
     "status": "completed"
    },
    "tags": []
   },
   "outputs": [
    {
     "name": "stdout",
     "output_type": "stream",
     "text": [
      "Processing RNA merged datasets\n"
     ]
    },
    {
     "name": "stdout",
     "output_type": "stream",
     "text": [
      "Processing RNA merged datasets done\n"
     ]
    }
   ],
   "source": [
    "rna_datasets = [\n",
    "    (rna_df, 'ECFP6', '../data/diversity_picking/RNA/ECFP6_v2/rna_ECFP6_MaxMin_v3.pkl'),  #  explain the set = (df, colname, filename)\n",
    "\n",
    "]\n",
    "\n",
    "\n",
    "def diversity_picking_MaxMin_rna_merged(df, colname,  filename):\n",
    "    fps = df[colname].values\n",
    "    mmp = MaxMinPicker()\n",
    "    picks = mmp.LazyBitVectorPick(fps, len(df), len(df), seed=42) # second len(df) is the number of molecules to pick \n",
    "    picked_df = df.iloc[picks]\n",
    "    picked_df.to_pickle(filename)\n",
    "    return picked_df\n",
    "\n",
    "\n",
    "def process_rna_dataset(dataset):\n",
    "    df, fp_type, output_path = dataset\n",
    "    with tqdm(total=len(df), desc=f\"Processing {fp_type} (RNA)\") as pbar:\n",
    "        start_time = time.time()\n",
    "        diversity_picking_MaxMin_rna_merged(df, fp_type, output_path)\n",
    "        elapsed_time = time.time() - start_time\n",
    "        pbar.set_postfix({\"Time\": f\"{elapsed_time:.2f} s\"})\n",
    "        pbar.update(len(df))\n",
    "\n",
    "\n",
    "# with Pool(processes=num_processors) as pool:\n",
    "#     list(tqdm(pool.imap(process_rna_dataset, rna_datasets), total=len(rna_datasets), desc=\"Processing RNA merged datasets\"))\n",
    "    \n",
    "print(f\"Processing RNA merged datasets\")\n",
    "with Pool(processes=num_processors) as pool:\n",
    "    pool.map(process_rna_dataset, rna_datasets)\n",
    "    print(f\"Processing RNA merged datasets done\")\n",
    "    "
   ]
  }
 ],
 "metadata": {
  "kernelspec": {
   "display_name": "cdd",
   "language": "python",
   "name": "python3"
  },
  "language_info": {
   "codemirror_mode": {
    "name": "ipython",
    "version": 3
   },
   "file_extension": ".py",
   "mimetype": "text/x-python",
   "name": "python",
   "nbconvert_exporter": "python",
   "pygments_lexer": "ipython3",
   "version": "3.10.10"
  },
  "papermill": {
   "default_parameters": {},
   "duration": 1049.01261,
   "end_time": "2024-04-17T17:45:17.546897",
   "environment_variables": {},
   "exception": null,
   "input_path": "03_v2_no_merge_diversity_picking_MaxMin.ipynb",
   "output_path": "./final/03_v2_no_merge_diversity_picking_MaxMin_final.ipynb",
   "parameters": {},
   "start_time": "2024-04-17T17:27:48.534287",
   "version": "2.3.4"
  },
  "widgets": {
   "application/vnd.jupyter.widget-state+json": {
    "state": {
     "0411b7c10842415194475d8305f02f66": {
      "model_module": "@jupyter-widgets/base",
      "model_module_version": "2.0.0",
      "model_name": "LayoutModel",
      "state": {
       "_model_module": "@jupyter-widgets/base",
       "_model_module_version": "2.0.0",
       "_model_name": "LayoutModel",
       "_view_count": null,
       "_view_module": "@jupyter-widgets/base",
       "_view_module_version": "2.0.0",
       "_view_name": "LayoutView",
       "align_content": null,
       "align_items": null,
       "align_self": null,
       "border_bottom": null,
       "border_left": null,
       "border_right": null,
       "border_top": null,
       "bottom": null,
       "display": null,
       "flex": null,
       "flex_flow": null,
       "grid_area": null,
       "grid_auto_columns": null,
       "grid_auto_flow": null,
       "grid_auto_rows": null,
       "grid_column": null,
       "grid_gap": null,
       "grid_row": null,
       "grid_template_areas": null,
       "grid_template_columns": null,
       "grid_template_rows": null,
       "height": null,
       "justify_content": null,
       "justify_items": null,
       "left": null,
       "margin": null,
       "max_height": null,
       "max_width": null,
       "min_height": null,
       "min_width": null,
       "object_fit": null,
       "object_position": null,
       "order": null,
       "overflow": null,
       "padding": null,
       "right": null,
       "top": null,
       "visibility": null,
       "width": null
      }
     },
     "199740eb2bb04be7a13ab2f3bf232cd3": {
      "model_module": "@jupyter-widgets/controls",
      "model_module_version": "2.0.0",
      "model_name": "HTMLStyleModel",
      "state": {
       "_model_module": "@jupyter-widgets/controls",
       "_model_module_version": "2.0.0",
       "_model_name": "HTMLStyleModel",
       "_view_count": null,
       "_view_module": "@jupyter-widgets/base",
       "_view_module_version": "2.0.0",
       "_view_name": "StyleView",
       "background": null,
       "description_width": "",
       "font_size": null,
       "text_color": null
      }
     },
     "26a9277321f942078e788f1ba0b950e7": {
      "model_module": "@jupyter-widgets/controls",
      "model_module_version": "2.0.0",
      "model_name": "FloatProgressModel",
      "state": {
       "_dom_classes": [],
       "_model_module": "@jupyter-widgets/controls",
       "_model_module_version": "2.0.0",
       "_model_name": "FloatProgressModel",
       "_view_count": null,
       "_view_module": "@jupyter-widgets/controls",
       "_view_module_version": "2.0.0",
       "_view_name": "ProgressView",
       "bar_style": "danger",
       "description": "",
       "description_allow_html": false,
       "layout": "IPY_MODEL_cf88a738c431487689a4f60127787025",
       "max": 4,
       "min": 0,
       "orientation": "horizontal",
       "style": "IPY_MODEL_84633125250247038b57fdf56e39b664",
       "tabbable": null,
       "tooltip": null,
       "value": 1
      }
     },
     "4a7fa2abe36e4420ada7cd1aa80f08ae": {
      "model_module": "@jupyter-widgets/base",
      "model_module_version": "2.0.0",
      "model_name": "LayoutModel",
      "state": {
       "_model_module": "@jupyter-widgets/base",
       "_model_module_version": "2.0.0",
       "_model_name": "LayoutModel",
       "_view_count": null,
       "_view_module": "@jupyter-widgets/base",
       "_view_module_version": "2.0.0",
       "_view_name": "LayoutView",
       "align_content": null,
       "align_items": null,
       "align_self": null,
       "border_bottom": null,
       "border_left": null,
       "border_right": null,
       "border_top": null,
       "bottom": null,
       "display": null,
       "flex": null,
       "flex_flow": null,
       "grid_area": null,
       "grid_auto_columns": null,
       "grid_auto_flow": null,
       "grid_auto_rows": null,
       "grid_column": null,
       "grid_gap": null,
       "grid_row": null,
       "grid_template_areas": null,
       "grid_template_columns": null,
       "grid_template_rows": null,
       "height": null,
       "justify_content": null,
       "justify_items": null,
       "left": null,
       "margin": null,
       "max_height": null,
       "max_width": null,
       "min_height": null,
       "min_width": null,
       "object_fit": null,
       "object_position": null,
       "order": null,
       "overflow": null,
       "padding": null,
       "right": null,
       "top": null,
       "visibility": null,
       "width": null
      }
     },
     "688c0957768c4f519ff3632fcf914080": {
      "model_module": "@jupyter-widgets/controls",
      "model_module_version": "2.0.0",
      "model_name": "HTMLStyleModel",
      "state": {
       "_model_module": "@jupyter-widgets/controls",
       "_model_module_version": "2.0.0",
       "_model_name": "HTMLStyleModel",
       "_view_count": null,
       "_view_module": "@jupyter-widgets/base",
       "_view_module_version": "2.0.0",
       "_view_name": "StyleView",
       "background": null,
       "description_width": "",
       "font_size": null,
       "text_color": null
      }
     },
     "8022572e5901469ab4b385fe25377752": {
      "model_module": "@jupyter-widgets/controls",
      "model_module_version": "2.0.0",
      "model_name": "HTMLModel",
      "state": {
       "_dom_classes": [],
       "_model_module": "@jupyter-widgets/controls",
       "_model_module_version": "2.0.0",
       "_model_name": "HTMLModel",
       "_view_count": null,
       "_view_module": "@jupyter-widgets/controls",
       "_view_module_version": "2.0.0",
       "_view_name": "HTMLView",
       "description": "",
       "description_allow_html": false,
       "layout": "IPY_MODEL_0411b7c10842415194475d8305f02f66",
       "placeholder": "​",
       "style": "IPY_MODEL_199740eb2bb04be7a13ab2f3bf232cd3",
       "tabbable": null,
       "tooltip": null,
       "value": "Processing RNA datasets:  25%"
      }
     },
     "84633125250247038b57fdf56e39b664": {
      "model_module": "@jupyter-widgets/controls",
      "model_module_version": "2.0.0",
      "model_name": "ProgressStyleModel",
      "state": {
       "_model_module": "@jupyter-widgets/controls",
       "_model_module_version": "2.0.0",
       "_model_name": "ProgressStyleModel",
       "_view_count": null,
       "_view_module": "@jupyter-widgets/base",
       "_view_module_version": "2.0.0",
       "_view_name": "StyleView",
       "bar_color": null,
       "description_width": ""
      }
     },
     "98dd07eb5c364a728beb03975ff53d05": {
      "model_module": "@jupyter-widgets/controls",
      "model_module_version": "2.0.0",
      "model_name": "HBoxModel",
      "state": {
       "_dom_classes": [],
       "_model_module": "@jupyter-widgets/controls",
       "_model_module_version": "2.0.0",
       "_model_name": "HBoxModel",
       "_view_count": null,
       "_view_module": "@jupyter-widgets/controls",
       "_view_module_version": "2.0.0",
       "_view_name": "HBoxView",
       "box_style": "",
       "children": [
        "IPY_MODEL_8022572e5901469ab4b385fe25377752",
        "IPY_MODEL_26a9277321f942078e788f1ba0b950e7",
        "IPY_MODEL_de837664cced442d99c3e85f66563f07"
       ],
       "layout": "IPY_MODEL_4a7fa2abe36e4420ada7cd1aa80f08ae",
       "tabbable": null,
       "tooltip": null
      }
     },
     "a7e68955f435407d97e0e7b1f08d5a25": {
      "model_module": "@jupyter-widgets/base",
      "model_module_version": "2.0.0",
      "model_name": "LayoutModel",
      "state": {
       "_model_module": "@jupyter-widgets/base",
       "_model_module_version": "2.0.0",
       "_model_name": "LayoutModel",
       "_view_count": null,
       "_view_module": "@jupyter-widgets/base",
       "_view_module_version": "2.0.0",
       "_view_name": "LayoutView",
       "align_content": null,
       "align_items": null,
       "align_self": null,
       "border_bottom": null,
       "border_left": null,
       "border_right": null,
       "border_top": null,
       "bottom": null,
       "display": null,
       "flex": null,
       "flex_flow": null,
       "grid_area": null,
       "grid_auto_columns": null,
       "grid_auto_flow": null,
       "grid_auto_rows": null,
       "grid_column": null,
       "grid_gap": null,
       "grid_row": null,
       "grid_template_areas": null,
       "grid_template_columns": null,
       "grid_template_rows": null,
       "height": null,
       "justify_content": null,
       "justify_items": null,
       "left": null,
       "margin": null,
       "max_height": null,
       "max_width": null,
       "min_height": null,
       "min_width": null,
       "object_fit": null,
       "object_position": null,
       "order": null,
       "overflow": null,
       "padding": null,
       "right": null,
       "top": null,
       "visibility": null,
       "width": null
      }
     },
     "cf88a738c431487689a4f60127787025": {
      "model_module": "@jupyter-widgets/base",
      "model_module_version": "2.0.0",
      "model_name": "LayoutModel",
      "state": {
       "_model_module": "@jupyter-widgets/base",
       "_model_module_version": "2.0.0",
       "_model_name": "LayoutModel",
       "_view_count": null,
       "_view_module": "@jupyter-widgets/base",
       "_view_module_version": "2.0.0",
       "_view_name": "LayoutView",
       "align_content": null,
       "align_items": null,
       "align_self": null,
       "border_bottom": null,
       "border_left": null,
       "border_right": null,
       "border_top": null,
       "bottom": null,
       "display": null,
       "flex": null,
       "flex_flow": null,
       "grid_area": null,
       "grid_auto_columns": null,
       "grid_auto_flow": null,
       "grid_auto_rows": null,
       "grid_column": null,
       "grid_gap": null,
       "grid_row": null,
       "grid_template_areas": null,
       "grid_template_columns": null,
       "grid_template_rows": null,
       "height": null,
       "justify_content": null,
       "justify_items": null,
       "left": null,
       "margin": null,
       "max_height": null,
       "max_width": null,
       "min_height": null,
       "min_width": null,
       "object_fit": null,
       "object_position": null,
       "order": null,
       "overflow": null,
       "padding": null,
       "right": null,
       "top": null,
       "visibility": null,
       "width": null
      }
     },
     "de837664cced442d99c3e85f66563f07": {
      "model_module": "@jupyter-widgets/controls",
      "model_module_version": "2.0.0",
      "model_name": "HTMLModel",
      "state": {
       "_dom_classes": [],
       "_model_module": "@jupyter-widgets/controls",
       "_model_module_version": "2.0.0",
       "_model_name": "HTMLModel",
       "_view_count": null,
       "_view_module": "@jupyter-widgets/controls",
       "_view_module_version": "2.0.0",
       "_view_name": "HTMLView",
       "description": "",
       "description_allow_html": false,
       "layout": "IPY_MODEL_a7e68955f435407d97e0e7b1f08d5a25",
       "placeholder": "​",
       "style": "IPY_MODEL_688c0957768c4f519ff3632fcf914080",
       "tabbable": null,
       "tooltip": null,
       "value": " 1/4 [00:21&lt;00:01,  1.99it/s]"
      }
     }
    },
    "version_major": 2,
    "version_minor": 0
   }
  }
 },
 "nbformat": 4,
 "nbformat_minor": 5
}