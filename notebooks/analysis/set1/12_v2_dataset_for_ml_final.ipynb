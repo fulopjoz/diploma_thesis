{
 "cells": [
  {
   "cell_type": "code",
   "execution_count": 1,
   "id": "6ff52870",
   "metadata": {
    "execution": {
     "iopub.execute_input": "2024-04-17T22:05:32.657116Z",
     "iopub.status.busy": "2024-04-17T22:05:32.656626Z",
     "iopub.status.idle": "2024-04-17T22:05:33.115934Z",
     "shell.execute_reply": "2024-04-17T22:05:33.114499Z"
    },
    "papermill": {
     "duration": 0.48369,
     "end_time": "2024-04-17T22:05:33.120085",
     "exception": false,
     "start_time": "2024-04-17T22:05:32.636395",
     "status": "completed"
    },
    "tags": []
   },
   "outputs": [],
   "source": [
    "\n",
    "from rdkit.Chem.AllChem import GetMorganFingerprintAsBitVect\n",
    "from rdkit.Chem import MolFromSmiles, MolToSmiles\n",
    "from tqdm.auto import tqdm\n",
    "tqdm.pandas()\n",
    "import pandas as pd\n",
    "import os\n",
    "import pickle\n",
    "from multiprocessing import Pool\n",
    "from rdkit import RDLogger\n",
    "import numpy as np\n",
    "import itertools\n",
    "RDLogger.DisableLog('rdApp.error')\n",
    "from rdkit import Chem\n",
    "from rdkit.Chem import AllChem\n",
    "import pandas as pd"
   ]
  },
  {
   "cell_type": "code",
   "execution_count": 2,
   "id": "d9c81fde",
   "metadata": {
    "execution": {
     "iopub.execute_input": "2024-04-17T22:05:33.135985Z",
     "iopub.status.busy": "2024-04-17T22:05:33.134493Z",
     "iopub.status.idle": "2024-04-17T22:05:36.043190Z",
     "shell.execute_reply": "2024-04-17T22:05:36.042009Z"
    },
    "papermill": {
     "duration": 2.920631,
     "end_time": "2024-04-17T22:05:36.047327",
     "exception": false,
     "start_time": "2024-04-17T22:05:33.126696",
     "status": "completed"
    },
    "tags": []
   },
   "outputs": [],
   "source": [
    "# load the pickled files\n",
    "enamine_protein = pd.read_pickle('../data/diversity_picking/ECFP6_v2/enamine_protein_ECFP6_MaxMin_v3.pkl')\n",
    "chemdiv_rna = pd.read_pickle('../data/diversity_picking/ECFP6_v2/chemdiv_rna_ECFP6_MaxMin_v3.pkl')\n",
    "enamine_rna = pd.read_pickle('../data/diversity_picking/ECFP6_v2/enamine_rna_ECFP6_MaxMin_v3.pkl')\n",
    "life_chemicals_rna = pd.read_pickle('../data/diversity_picking/ECFP6_v2/life_chemicals_rna_ECFP6_MaxMin_v3.pkl')\n",
    "robin_rna = pd.read_pickle('../data/diversity_picking/ECFP6_v2/robin_rna_ECFP6_MaxMin_v3.pkl')\n"
   ]
  },
  {
   "cell_type": "code",
   "execution_count": 3,
   "id": "31925ca0",
   "metadata": {
    "execution": {
     "iopub.execute_input": "2024-04-17T22:05:36.062740Z",
     "iopub.status.busy": "2024-04-17T22:05:36.061390Z",
     "iopub.status.idle": "2024-04-17T22:05:36.078632Z",
     "shell.execute_reply": "2024-04-17T22:05:36.076726Z"
    },
    "papermill": {
     "duration": 0.028875,
     "end_time": "2024-04-17T22:05:36.082604",
     "exception": false,
     "start_time": "2024-04-17T22:05:36.053729",
     "status": "completed"
    },
    "tags": []
   },
   "outputs": [
    {
     "data": {
      "text/plain": [
       "Index(['mol', 'smiles', 'ECFP6', 'source'], dtype='object')"
      ]
     },
     "execution_count": 3,
     "metadata": {},
     "output_type": "execute_result"
    }
   ],
   "source": [
    "# columns of the dataframe\n",
    "enamine_protein.columns"
   ]
  },
  {
   "cell_type": "code",
   "execution_count": 4,
   "id": "295cdc0c",
   "metadata": {
    "execution": {
     "iopub.execute_input": "2024-04-17T22:05:36.096046Z",
     "iopub.status.busy": "2024-04-17T22:05:36.095418Z",
     "iopub.status.idle": "2024-04-17T22:05:36.118491Z",
     "shell.execute_reply": "2024-04-17T22:05:36.117063Z"
    },
    "papermill": {
     "duration": 0.033984,
     "end_time": "2024-04-17T22:05:36.122584",
     "exception": false,
     "start_time": "2024-04-17T22:05:36.088600",
     "status": "completed"
    },
    "tags": []
   },
   "outputs": [
    {
     "data": {
      "text/html": [
       "<div>\n",
       "<style scoped>\n",
       "    .dataframe tbody tr th:only-of-type {\n",
       "        vertical-align: middle;\n",
       "    }\n",
       "\n",
       "    .dataframe tbody tr th {\n",
       "        vertical-align: top;\n",
       "    }\n",
       "\n",
       "    .dataframe thead th {\n",
       "        text-align: right;\n",
       "    }\n",
       "</style>\n",
       "<table border=\"1\" class=\"dataframe\">\n",
       "  <thead>\n",
       "    <tr style=\"text-align: right;\">\n",
       "      <th></th>\n",
       "      <th>mol</th>\n",
       "      <th>smiles</th>\n",
       "      <th>ECFP6</th>\n",
       "      <th>source</th>\n",
       "    </tr>\n",
       "  </thead>\n",
       "  <tbody>\n",
       "    <tr>\n",
       "      <th>170822</th>\n",
       "      <td>&lt;rdkit.Chem.rdchem.Mol object at 0x7f4ce71dec50&gt;</td>\n",
       "      <td>Cc1nnc(NS(=O)(=O)c2ccc3c(c2)CCC3)s1</td>\n",
       "      <td>[0, 0, 0, 0, 1, 0, 0, 0, 0, 1, 0, 0, 0, 0, 0, ...</td>\n",
       "      <td>enamine_protein</td>\n",
       "    </tr>\n",
       "  </tbody>\n",
       "</table>\n",
       "</div>"
      ],
      "text/plain": [
       "                                                     mol  \\\n",
       "170822  <rdkit.Chem.rdchem.Mol object at 0x7f4ce71dec50>   \n",
       "\n",
       "                                     smiles  \\\n",
       "170822  Cc1nnc(NS(=O)(=O)c2ccc3c(c2)CCC3)s1   \n",
       "\n",
       "                                                    ECFP6           source  \n",
       "170822  [0, 0, 0, 0, 1, 0, 0, 0, 0, 1, 0, 0, 0, 0, 0, ...  enamine_protein  "
      ]
     },
     "execution_count": 4,
     "metadata": {},
     "output_type": "execute_result"
    }
   ],
   "source": [
    "enamine_protein.head(1)"
   ]
  },
  {
   "cell_type": "code",
   "execution_count": 5,
   "id": "d76aff49",
   "metadata": {
    "execution": {
     "iopub.execute_input": "2024-04-17T22:05:36.137712Z",
     "iopub.status.busy": "2024-04-17T22:05:36.137228Z",
     "iopub.status.idle": "2024-04-17T22:05:36.146865Z",
     "shell.execute_reply": "2024-04-17T22:05:36.144970Z"
    },
    "papermill": {
     "duration": 0.021939,
     "end_time": "2024-04-17T22:05:36.150966",
     "exception": false,
     "start_time": "2024-04-17T22:05:36.129027",
     "status": "completed"
    },
    "tags": []
   },
   "outputs": [
    {
     "name": "stdout",
     "output_type": "stream",
     "text": [
      "Enamine Protein: (38710, 4)\n",
      "ChemDiv RNA: (19908, 4)\n",
      "Enamine RNA: (11502, 4)\n",
      "LifeChemicals RNA: (5308, 4)\n",
      "Robin RNA: (1992, 4)\n"
     ]
    }
   ],
   "source": [
    "# shape of the data\n",
    "print('Enamine Protein:', enamine_protein.shape)\n",
    "print('ChemDiv RNA:', chemdiv_rna.shape)\n",
    "print('Enamine RNA:', enamine_rna.shape)\n",
    "print('LifeChemicals RNA:', life_chemicals_rna.shape)\n",
    "print('Robin RNA:', robin_rna.shape)\n"
   ]
  },
  {
   "cell_type": "code",
   "execution_count": 6,
   "id": "25bf79b5",
   "metadata": {
    "execution": {
     "iopub.execute_input": "2024-04-17T22:05:36.164769Z",
     "iopub.status.busy": "2024-04-17T22:05:36.164151Z",
     "iopub.status.idle": "2024-04-17T22:05:36.172329Z",
     "shell.execute_reply": "2024-04-17T22:05:36.170510Z"
    },
    "papermill": {
     "duration": 0.018442,
     "end_time": "2024-04-17T22:05:36.175454",
     "exception": false,
     "start_time": "2024-04-17T22:05:36.157012",
     "status": "completed"
    },
    "tags": []
   },
   "outputs": [],
   "source": [
    "df_list = [enamine_protein, chemdiv_rna, enamine_rna, life_chemicals_rna, robin_rna]\n"
   ]
  },
  {
   "cell_type": "code",
   "execution_count": 7,
   "id": "fff590e2",
   "metadata": {
    "execution": {
     "iopub.execute_input": "2024-04-17T22:05:36.186733Z",
     "iopub.status.busy": "2024-04-17T22:05:36.186097Z",
     "iopub.status.idle": "2024-04-17T22:05:36.195527Z",
     "shell.execute_reply": "2024-04-17T22:05:36.193788Z"
    },
    "papermill": {
     "duration": 0.019183,
     "end_time": "2024-04-17T22:05:36.199108",
     "exception": false,
     "start_time": "2024-04-17T22:05:36.179925",
     "status": "completed"
    },
    "tags": []
   },
   "outputs": [],
   "source": [
    "# from each dataframe, delete column ECFP6\n",
    "for df in df_list:\n",
    "    del df['ECFP6']\n",
    "    "
   ]
  },
  {
   "cell_type": "code",
   "execution_count": 8,
   "id": "6a15565b",
   "metadata": {
    "execution": {
     "iopub.execute_input": "2024-04-17T22:05:36.212552Z",
     "iopub.status.busy": "2024-04-17T22:05:36.211924Z",
     "iopub.status.idle": "2024-04-17T22:05:36.224542Z",
     "shell.execute_reply": "2024-04-17T22:05:36.222948Z"
    },
    "papermill": {
     "duration": 0.024512,
     "end_time": "2024-04-17T22:05:36.228893",
     "exception": false,
     "start_time": "2024-04-17T22:05:36.204381",
     "status": "completed"
    },
    "tags": []
   },
   "outputs": [],
   "source": [
    "def compute_ECFP_with_bit_info(df, smiles_column):\n",
    "    # Function to calculate ECFP6 and capture bit information\n",
    "    def get_fingerprint_and_bit_info(smiles):\n",
    "        mol = Chem.MolFromSmiles(smiles)\n",
    "        # Calculate ECFP6 with radius=3 and capture bit info\n",
    "        fp = AllChem.GetMorganFingerprintAsBitVect(mol, radius=3, nBits=2048, bitInfo=bit_info_map)\n",
    "        # Convert fingerprint to bit string for storage\n",
    "        fp_bit_string = fp.ToBitString()\n",
    "        # Convert bit info map to a storable format (e.g., string or list)\n",
    "        bit_info_storable = {bit: list(info) for bit, info in bit_info_map.items()}\n",
    "        return fp_bit_string, bit_info_storable\n",
    "\n",
    "    # Initialize an empty bit info map for each molecule\n",
    "    bit_info_map = {}\n",
    "    # Apply the function to each SMILES in the dataframe\n",
    "    df[['ecfp6', 'bit_info_map']] = df.apply(lambda x: pd.Series(get_fingerprint_and_bit_info(x[smiles_column])), axis=1)\n",
    "    \n",
    "    return df\n",
    "\n"
   ]
  },
  {
   "cell_type": "code",
   "execution_count": 9,
   "id": "c8784653",
   "metadata": {
    "execution": {
     "iopub.execute_input": "2024-04-17T22:05:36.245532Z",
     "iopub.status.busy": "2024-04-17T22:05:36.244805Z",
     "iopub.status.idle": "2024-04-17T22:06:27.396954Z",
     "shell.execute_reply": "2024-04-17T22:06:27.395860Z"
    },
    "papermill": {
     "duration": 51.165304,
     "end_time": "2024-04-17T22:06:27.401102",
     "exception": false,
     "start_time": "2024-04-17T22:05:36.235798",
     "status": "completed"
    },
    "tags": []
   },
   "outputs": [],
   "source": [
    "# compute ECFP with bit info for each dataset  \n",
    "enamine_protein = compute_ECFP_with_bit_info(enamine_protein, 'smiles')\n",
    "chemdiv_rna = compute_ECFP_with_bit_info(chemdiv_rna, 'smiles')\n",
    "enamine_rna = compute_ECFP_with_bit_info(enamine_rna, 'smiles')\n",
    "life_chemicals_rna = compute_ECFP_with_bit_info(life_chemicals_rna, 'smiles')\n",
    "robin_rna = compute_ECFP_with_bit_info(robin_rna, 'smiles')"
   ]
  },
  {
   "cell_type": "code",
   "execution_count": 10,
   "id": "24a9f188",
   "metadata": {
    "execution": {
     "iopub.execute_input": "2024-04-17T22:06:27.415970Z",
     "iopub.status.busy": "2024-04-17T22:06:27.415685Z",
     "iopub.status.idle": "2024-04-17T22:06:27.449676Z",
     "shell.execute_reply": "2024-04-17T22:06:27.448748Z"
    },
    "papermill": {
     "duration": 0.044171,
     "end_time": "2024-04-17T22:06:27.453289",
     "exception": false,
     "start_time": "2024-04-17T22:06:27.409118",
     "status": "completed"
    },
    "tags": []
   },
   "outputs": [
    {
     "data": {
      "text/html": [
       "<div>\n",
       "<style scoped>\n",
       "    .dataframe tbody tr th:only-of-type {\n",
       "        vertical-align: middle;\n",
       "    }\n",
       "\n",
       "    .dataframe tbody tr th {\n",
       "        vertical-align: top;\n",
       "    }\n",
       "\n",
       "    .dataframe thead th {\n",
       "        text-align: right;\n",
       "    }\n",
       "</style>\n",
       "<table border=\"1\" class=\"dataframe\">\n",
       "  <thead>\n",
       "    <tr style=\"text-align: right;\">\n",
       "      <th></th>\n",
       "      <th>mol</th>\n",
       "      <th>smiles</th>\n",
       "      <th>source</th>\n",
       "      <th>ecfp6</th>\n",
       "      <th>bit_info_map</th>\n",
       "    </tr>\n",
       "  </thead>\n",
       "  <tbody>\n",
       "    <tr>\n",
       "      <th>170822</th>\n",
       "      <td>&lt;rdkit.Chem.rdchem.Mol object at 0x7f4ce71dec50&gt;</td>\n",
       "      <td>Cc1nnc(NS(=O)(=O)c2ccc3c(c2)CCC3)s1</td>\n",
       "      <td>enamine_protein</td>\n",
       "      <td>0000100001000000000000000000000000000000000000...</td>\n",
       "      <td>{4: [(6, 2)], 9: [(18, 2)], 162: [(18, 1)], 16...</td>\n",
       "    </tr>\n",
       "  </tbody>\n",
       "</table>\n",
       "</div>"
      ],
      "text/plain": [
       "                                                     mol  \\\n",
       "170822  <rdkit.Chem.rdchem.Mol object at 0x7f4ce71dec50>   \n",
       "\n",
       "                                     smiles           source  \\\n",
       "170822  Cc1nnc(NS(=O)(=O)c2ccc3c(c2)CCC3)s1  enamine_protein   \n",
       "\n",
       "                                                    ecfp6  \\\n",
       "170822  0000100001000000000000000000000000000000000000...   \n",
       "\n",
       "                                             bit_info_map  \n",
       "170822  {4: [(6, 2)], 9: [(18, 2)], 162: [(18, 1)], 16...  "
      ]
     },
     "execution_count": 10,
     "metadata": {},
     "output_type": "execute_result"
    }
   ],
   "source": [
    "enamine_protein.head(1)"
   ]
  },
  {
   "cell_type": "code",
   "execution_count": 11,
   "id": "910fbdd7",
   "metadata": {
    "execution": {
     "iopub.execute_input": "2024-04-17T22:06:27.467348Z",
     "iopub.status.busy": "2024-04-17T22:06:27.467098Z",
     "iopub.status.idle": "2024-04-17T22:06:27.474824Z",
     "shell.execute_reply": "2024-04-17T22:06:27.473608Z"
    },
    "papermill": {
     "duration": 0.016348,
     "end_time": "2024-04-17T22:06:27.477242",
     "exception": false,
     "start_time": "2024-04-17T22:06:27.460894",
     "status": "completed"
    },
    "tags": []
   },
   "outputs": [],
   "source": [
    "# add column rna to each dataframe and if the  dataframe is not enamine_protein, add 1 to the column rna \n",
    "enamine_protein['rna'] = 0\n",
    "chemdiv_rna['rna'] = 1\n",
    "enamine_rna['rna'] = 1\n",
    "life_chemicals_rna['rna'] = 1\n",
    "robin_rna['rna'] = 1"
   ]
  },
  {
   "cell_type": "code",
   "execution_count": 12,
   "id": "5b049c84",
   "metadata": {
    "execution": {
     "iopub.execute_input": "2024-04-17T22:06:27.490218Z",
     "iopub.status.busy": "2024-04-17T22:06:27.489062Z",
     "iopub.status.idle": "2024-04-17T22:06:37.398056Z",
     "shell.execute_reply": "2024-04-17T22:06:37.396934Z"
    },
    "papermill": {
     "duration": 9.920645,
     "end_time": "2024-04-17T22:06:37.402236",
     "exception": false,
     "start_time": "2024-04-17T22:06:27.481591",
     "status": "completed"
    },
    "tags": []
   },
   "outputs": [],
   "source": [
    "# save the datasets with ECFP and bit info to pickle files to '/home/ubuntu/diplomka/notebooks_ipynb/data_for_ml'\n",
    "enamine_protein.to_pickle('data_for_ml/enamine_protein_df_ml.pkl')\n",
    "chemdiv_rna.to_pickle('data_for_ml/chemdiv_rna_df_ml.pkl')\n",
    "enamine_rna.to_pickle('data_for_ml/enamine_rna_df_ml.pkl')\n",
    "life_chemicals_rna.to_pickle('data_for_ml/life_chemicals_rna_df_ml.pkl')\n",
    "robin_rna.to_pickle('data_for_ml/robin_rna_df_ml.pkl')"
   ]
  },
  {
   "cell_type": "code",
   "execution_count": 13,
   "id": "53ae312d",
   "metadata": {
    "execution": {
     "iopub.execute_input": "2024-04-17T22:06:37.417615Z",
     "iopub.status.busy": "2024-04-17T22:06:37.417270Z",
     "iopub.status.idle": "2024-04-17T22:06:47.702111Z",
     "shell.execute_reply": "2024-04-17T22:06:47.700939Z"
    },
    "papermill": {
     "duration": 10.295491,
     "end_time": "2024-04-17T22:06:47.705793",
     "exception": false,
     "start_time": "2024-04-17T22:06:37.410302",
     "status": "completed"
    },
    "tags": []
   },
   "outputs": [
    {
     "data": {
      "text/plain": [
       "(38710, 6)"
      ]
     },
     "execution_count": 13,
     "metadata": {},
     "output_type": "execute_result"
    }
   ],
   "source": [
    "# load the datasets from pickle\n",
    "enamine_protein = pd.read_pickle('data_for_ml/enamine_protein_df_ml.pkl')\n",
    "chemdiv_rna = pd.read_pickle('data_for_ml/chemdiv_rna_df_ml.pkl')\n",
    "enamine_rna = pd.read_pickle('data_for_ml/enamine_rna_df_ml.pkl')\n",
    "life_chemicals_rna = pd.read_pickle('data_for_ml/life_chemicals_rna_df_ml.pkl')\n",
    "robin_rna = pd.read_pickle('data_for_ml/robin_rna_df_ml.pkl')\n",
    "\n",
    "# concatenate all rna datasets and count the number of rows\n",
    "rna_df = pd.concat([chemdiv_rna, enamine_rna, life_chemicals_rna, robin_rna])\n",
    "rna_df.shape\n"
   ]
  }
 ],
 "metadata": {
  "kernelspec": {
   "display_name": "cdd",
   "language": "python",
   "name": "python3"
  },
  "language_info": {
   "codemirror_mode": {
    "name": "ipython",
    "version": 3
   },
   "file_extension": ".py",
   "mimetype": "text/x-python",
   "name": "python",
   "nbconvert_exporter": "python",
   "pygments_lexer": "ipython3",
   "version": "3.10.10"
  },
  "papermill": {
   "default_parameters": {},
   "duration": 79.381405,
   "end_time": "2024-04-17T22:06:50.642143",
   "environment_variables": {},
   "exception": null,
   "input_path": "12_v2_dataset_for_ml.ipynb",
   "output_path": "./final/12_v2_dataset_for_ml_final.ipynb",
   "parameters": {},
   "start_time": "2024-04-17T22:05:31.260738",
   "version": "2.3.4"
  }
 },
 "nbformat": 4,
 "nbformat_minor": 5
}