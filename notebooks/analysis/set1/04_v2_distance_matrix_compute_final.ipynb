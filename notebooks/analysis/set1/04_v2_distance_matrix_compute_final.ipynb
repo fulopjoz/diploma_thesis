{
 "cells": [
  {
   "cell_type": "code",
   "execution_count": 1,
   "id": "cf01f57e",
   "metadata": {
    "execution": {
     "iopub.execute_input": "2024-04-17T17:45:19.799560Z",
     "iopub.status.busy": "2024-04-17T17:45:19.798872Z",
     "iopub.status.idle": "2024-04-17T17:45:20.265256Z",
     "shell.execute_reply": "2024-04-17T17:45:20.264206Z"
    },
    "papermill": {
     "duration": 0.494229,
     "end_time": "2024-04-17T17:45:20.269532",
     "exception": false,
     "start_time": "2024-04-17T17:45:19.775303",
     "status": "completed"
    },
    "tags": []
   },
   "outputs": [],
   "source": [
    "import os\n",
    "from rdkit import RDLogger\n",
    "RDLogger.DisableLog('rdApp.error')\n",
    "from rdkit import DataStructs\n",
    "import numpy as np\n",
    "import pandas as pd\n",
    "from tqdm.auto import tqdm\n",
    "tqdm.pandas()\n",
    "\n",
    "\n",
    "# create directory for saving similarity matrices\n",
    "if not os.path.exists('../output/distance_matrices/v2'):\n",
    "    os.makedirs('../output/distance_matrices/v2')\n",
    "\n",
    "    \n",
    "n_protein = 8000\n",
    "n_rna = 2000\n",
    "\n",
    "\n",
    "\n"
   ]
  },
  {
   "cell_type": "code",
   "execution_count": 2,
   "id": "08048c27",
   "metadata": {
    "execution": {
     "iopub.execute_input": "2024-04-17T17:45:20.286836Z",
     "iopub.status.busy": "2024-04-17T17:45:20.286389Z",
     "iopub.status.idle": "2024-04-17T17:45:23.355848Z",
     "shell.execute_reply": "2024-04-17T17:45:23.354571Z"
    },
    "papermill": {
     "duration": 3.081333,
     "end_time": "2024-04-17T17:45:23.359973",
     "exception": false,
     "start_time": "2024-04-17T17:45:20.278640",
     "status": "completed"
    },
    "tags": []
   },
   "outputs": [],
   "source": [
    "enamine_protein_div6 = pd.read_pickle('../data/diversity_picking/ECFP6_v2/enamine_protein_ECFP6_MaxMin_v3.pkl').head(n_protein)\n",
    "chemdiv_div6 = pd.read_pickle('../data/diversity_picking/ECFP6_v2/chemdiv_rna_ECFP6_MaxMin_v3.pkl').head(n_rna)\n",
    "enamine_div6 = pd.read_pickle('../data/diversity_picking/ECFP6_v2/enamine_rna_ECFP6_MaxMin_v3.pkl').head(n_rna)\n",
    "life_chemicals_div6 = pd.read_pickle('../data/diversity_picking/ECFP6_v2/life_chemicals_rna_ECFP6_MaxMin_v3.pkl').head(n_rna)\n",
    "robin_df_div6 = pd.read_pickle('../data/diversity_picking/ECFP6_v2/robin_rna_ECFP6_MaxMin_v3.pkl').head(n_rna)\n",
    "\n"
   ]
  },
  {
   "cell_type": "code",
   "execution_count": 3,
   "id": "6fa922a3",
   "metadata": {
    "execution": {
     "iopub.execute_input": "2024-04-17T17:45:23.377165Z",
     "iopub.status.busy": "2024-04-17T17:45:23.376882Z",
     "iopub.status.idle": "2024-04-17T17:45:23.384064Z",
     "shell.execute_reply": "2024-04-17T17:45:23.382810Z"
    },
    "papermill": {
     "duration": 0.017275,
     "end_time": "2024-04-17T17:45:23.386498",
     "exception": false,
     "start_time": "2024-04-17T17:45:23.369223",
     "status": "completed"
    },
    "tags": []
   },
   "outputs": [
    {
     "name": "stdout",
     "output_type": "stream",
     "text": [
      "8000 2000 2000 2000 1992\n"
     ]
    }
   ],
   "source": [
    "# Length of all dataframes\n",
    "print(len(enamine_protein_div6), len(chemdiv_div6), len(enamine_div6), len(life_chemicals_div6), len(robin_df_div6))"
   ]
  },
  {
   "cell_type": "code",
   "execution_count": 4,
   "id": "8f91e596",
   "metadata": {
    "execution": {
     "iopub.execute_input": "2024-04-17T17:45:23.397741Z",
     "iopub.status.busy": "2024-04-17T17:45:23.397286Z",
     "iopub.status.idle": "2024-04-17T17:45:23.423286Z",
     "shell.execute_reply": "2024-04-17T17:45:23.422109Z"
    },
    "papermill": {
     "duration": 0.035319,
     "end_time": "2024-04-17T17:45:23.426377",
     "exception": false,
     "start_time": "2024-04-17T17:45:23.391058",
     "status": "completed"
    },
    "tags": []
   },
   "outputs": [],
   "source": [
    "# Combine datasets into one DataFrame\n",
    "combined_df = pd.concat([enamine_protein_div6, chemdiv_div6, enamine_div6, life_chemicals_div6, robin_df_div6])\n",
    "\n",
    "# Sort datasets by size (largest to smallest)\n",
    "datasets = [enamine_protein_div6, chemdiv_div6, enamine_div6, life_chemicals_div6, robin_df_div6]\n",
    "sorted_datasets = sorted(datasets, key=lambda x: x.shape[0], reverse=True)\n",
    "\n",
    "# Finding all unique duplicates across datasets\n",
    "all_duplicates = combined_df[combined_df.duplicated('smiles', keep=False)]\n",
    "\n",
    "# Remove duplicates in order from largest to smallest, except the smallest\n",
    "for i in range(len(sorted_datasets) - 1):  # Skip the smallest dataset\n",
    "    dataset = sorted_datasets[i]\n",
    "    duplicates_to_remove = all_duplicates[~all_duplicates['source'].isin([dataset['source'].iloc[0]])]['smiles']\n",
    "    sorted_datasets[i] = dataset[~dataset['smiles'].isin(duplicates_to_remove)]\n",
    "\n",
    "# Extracting the updated datasets\n",
    "enamine_protein_div6, chemdiv_div6, enamine_div6, life_chemicals_div6, robin_df_div6 = sorted_datasets\n",
    "\n",
    "# Now the datasets are deduplicated in the desired order"
   ]
  },
  {
   "cell_type": "code",
   "execution_count": 5,
   "id": "0b274d2d",
   "metadata": {
    "execution": {
     "iopub.execute_input": "2024-04-17T17:45:23.444889Z",
     "iopub.status.busy": "2024-04-17T17:45:23.443784Z",
     "iopub.status.idle": "2024-04-17T17:45:23.488222Z",
     "shell.execute_reply": "2024-04-17T17:45:23.486342Z"
    },
    "papermill": {
     "duration": 0.057683,
     "end_time": "2024-04-17T17:45:23.492176",
     "exception": false,
     "start_time": "2024-04-17T17:45:23.434493",
     "status": "completed"
    },
    "tags": []
   },
   "outputs": [
    {
     "name": "stdout",
     "output_type": "stream",
     "text": [
      "Duplicates between chemdiv and enamine_protein: 0\n",
      "Duplicates between enamine and enamine_protein: 0\n",
      "Duplicates between enamine_protein and life_chemicals: 0\n",
      "Duplicates between enamine_protein and robin: 0\n",
      "Duplicates between chemdiv and enamine: 0\n",
      "Duplicates between chemdiv and life_chemicals: 0\n",
      "Duplicates between chemdiv and robin: 0\n",
      "Duplicates between enamine and life_chemicals: 0\n",
      "Duplicates between enamine and robin: 0\n",
      "Duplicates between life_chemicals and robin: 0\n"
     ]
    }
   ],
   "source": [
    "combined_df = pd.concat([\n",
    "    enamine_protein_div6, chemdiv_div6, enamine_div6, \n",
    "    life_chemicals_div6, robin_df_div6\n",
    "])\n",
    "\n",
    "# Finding duplicates in the 'SMILES' column\n",
    "duplicates = combined_df[combined_df.duplicated('smiles', keep=False)]\n",
    "\n",
    "# Creating a summary of duplicates between each pair of datasets\n",
    "summary = {}\n",
    "for dataset1 in combined_df['source'].unique():\n",
    "    for dataset2 in combined_df['source'].unique():\n",
    "        if dataset1 != dataset2:\n",
    "            pair = tuple(sorted([dataset1, dataset2]))\n",
    "            if pair not in summary:\n",
    "                duplicates_in_pair = duplicates[\n",
    "                    (duplicates['source'] == dataset1) | \n",
    "                    (duplicates['source'] == dataset2)\n",
    "                ]\n",
    "                count = duplicates_in_pair['smiles'].nunique()\n",
    "                summary[pair] = count\n",
    "\n",
    "# Displaying the summary\n",
    "for pair, count in summary.items():\n",
    "    print(f\"Duplicates between {pair[0]} and {pair[1]}: {count}\")"
   ]
  },
  {
   "cell_type": "code",
   "execution_count": 6,
   "id": "90e5acb8",
   "metadata": {
    "execution": {
     "iopub.execute_input": "2024-04-17T17:45:23.510523Z",
     "iopub.status.busy": "2024-04-17T17:45:23.509895Z",
     "iopub.status.idle": "2024-04-17T18:07:29.628162Z",
     "shell.execute_reply": "2024-04-17T18:07:29.626103Z"
    },
    "papermill": {
     "duration": 1326.131789,
     "end_time": "2024-04-17T18:07:29.632999",
     "exception": false,
     "start_time": "2024-04-17T17:45:23.501210",
     "status": "completed"
    },
    "tags": []
   },
   "outputs": [
    {
     "data": {
      "application/vnd.jupyter.widget-view+json": {
       "model_id": "54c52068a42f482c901fc1cd963af443",
       "version_major": 2,
       "version_minor": 0
      },
      "text/plain": [
       "Calculating distance matrices:   0%|          | 0/1 [00:00<?, ?it/s]"
      ]
     },
     "metadata": {},
     "output_type": "display_data"
    },
    {
     "name": "stdout",
     "output_type": "stream",
     "text": [
      "0\n"
     ]
    },
    {
     "name": "stdout",
     "output_type": "stream",
     "text": [
      "100\n"
     ]
    },
    {
     "name": "stdout",
     "output_type": "stream",
     "text": [
      "200\n"
     ]
    },
    {
     "name": "stdout",
     "output_type": "stream",
     "text": [
      "300\n"
     ]
    },
    {
     "name": "stdout",
     "output_type": "stream",
     "text": [
      "400\n"
     ]
    },
    {
     "name": "stdout",
     "output_type": "stream",
     "text": [
      "500\n"
     ]
    },
    {
     "name": "stdout",
     "output_type": "stream",
     "text": [
      "600\n"
     ]
    },
    {
     "name": "stdout",
     "output_type": "stream",
     "text": [
      "700\n"
     ]
    },
    {
     "name": "stdout",
     "output_type": "stream",
     "text": [
      "800\n"
     ]
    },
    {
     "name": "stdout",
     "output_type": "stream",
     "text": [
      "900\n"
     ]
    },
    {
     "name": "stdout",
     "output_type": "stream",
     "text": [
      "1000\n"
     ]
    },
    {
     "name": "stdout",
     "output_type": "stream",
     "text": [
      "1100\n"
     ]
    },
    {
     "name": "stdout",
     "output_type": "stream",
     "text": [
      "1200\n"
     ]
    },
    {
     "name": "stdout",
     "output_type": "stream",
     "text": [
      "1300\n"
     ]
    },
    {
     "name": "stdout",
     "output_type": "stream",
     "text": [
      "1400\n"
     ]
    },
    {
     "name": "stdout",
     "output_type": "stream",
     "text": [
      "1500\n"
     ]
    },
    {
     "name": "stdout",
     "output_type": "stream",
     "text": [
      "1600\n"
     ]
    },
    {
     "name": "stdout",
     "output_type": "stream",
     "text": [
      "1700\n"
     ]
    },
    {
     "name": "stdout",
     "output_type": "stream",
     "text": [
      "1800\n"
     ]
    },
    {
     "name": "stdout",
     "output_type": "stream",
     "text": [
      "1900\n"
     ]
    },
    {
     "name": "stdout",
     "output_type": "stream",
     "text": [
      "2000\n"
     ]
    },
    {
     "name": "stdout",
     "output_type": "stream",
     "text": [
      "2100\n"
     ]
    },
    {
     "name": "stdout",
     "output_type": "stream",
     "text": [
      "2200\n"
     ]
    },
    {
     "name": "stdout",
     "output_type": "stream",
     "text": [
      "2300\n"
     ]
    },
    {
     "name": "stdout",
     "output_type": "stream",
     "text": [
      "2400\n"
     ]
    },
    {
     "name": "stdout",
     "output_type": "stream",
     "text": [
      "2500\n"
     ]
    },
    {
     "name": "stdout",
     "output_type": "stream",
     "text": [
      "2600\n"
     ]
    },
    {
     "name": "stdout",
     "output_type": "stream",
     "text": [
      "2700\n"
     ]
    },
    {
     "name": "stdout",
     "output_type": "stream",
     "text": [
      "2800\n"
     ]
    },
    {
     "name": "stdout",
     "output_type": "stream",
     "text": [
      "2900\n"
     ]
    },
    {
     "name": "stdout",
     "output_type": "stream",
     "text": [
      "3000\n"
     ]
    },
    {
     "name": "stdout",
     "output_type": "stream",
     "text": [
      "3100\n"
     ]
    },
    {
     "name": "stdout",
     "output_type": "stream",
     "text": [
      "3200\n"
     ]
    },
    {
     "name": "stdout",
     "output_type": "stream",
     "text": [
      "3300\n"
     ]
    },
    {
     "name": "stdout",
     "output_type": "stream",
     "text": [
      "3400\n"
     ]
    },
    {
     "name": "stdout",
     "output_type": "stream",
     "text": [
      "3500\n"
     ]
    },
    {
     "name": "stdout",
     "output_type": "stream",
     "text": [
      "3600\n"
     ]
    },
    {
     "name": "stdout",
     "output_type": "stream",
     "text": [
      "3700\n"
     ]
    },
    {
     "name": "stdout",
     "output_type": "stream",
     "text": [
      "3800\n"
     ]
    },
    {
     "name": "stdout",
     "output_type": "stream",
     "text": [
      "3900\n"
     ]
    },
    {
     "name": "stdout",
     "output_type": "stream",
     "text": [
      "4000\n"
     ]
    },
    {
     "name": "stdout",
     "output_type": "stream",
     "text": [
      "4100\n"
     ]
    },
    {
     "name": "stdout",
     "output_type": "stream",
     "text": [
      "4200\n"
     ]
    },
    {
     "name": "stdout",
     "output_type": "stream",
     "text": [
      "4300\n"
     ]
    },
    {
     "name": "stdout",
     "output_type": "stream",
     "text": [
      "4400\n"
     ]
    },
    {
     "name": "stdout",
     "output_type": "stream",
     "text": [
      "4500\n"
     ]
    },
    {
     "name": "stdout",
     "output_type": "stream",
     "text": [
      "4600\n"
     ]
    },
    {
     "name": "stdout",
     "output_type": "stream",
     "text": [
      "4700\n"
     ]
    },
    {
     "name": "stdout",
     "output_type": "stream",
     "text": [
      "4800\n"
     ]
    },
    {
     "name": "stdout",
     "output_type": "stream",
     "text": [
      "4900\n"
     ]
    },
    {
     "name": "stdout",
     "output_type": "stream",
     "text": [
      "5000\n"
     ]
    },
    {
     "name": "stdout",
     "output_type": "stream",
     "text": [
      "5100\n"
     ]
    },
    {
     "name": "stdout",
     "output_type": "stream",
     "text": [
      "5200\n"
     ]
    },
    {
     "name": "stdout",
     "output_type": "stream",
     "text": [
      "5300\n"
     ]
    },
    {
     "name": "stdout",
     "output_type": "stream",
     "text": [
      "5400\n"
     ]
    },
    {
     "name": "stdout",
     "output_type": "stream",
     "text": [
      "5500\n"
     ]
    },
    {
     "name": "stdout",
     "output_type": "stream",
     "text": [
      "5600\n"
     ]
    },
    {
     "name": "stdout",
     "output_type": "stream",
     "text": [
      "5700\n"
     ]
    },
    {
     "name": "stdout",
     "output_type": "stream",
     "text": [
      "5800\n"
     ]
    },
    {
     "name": "stdout",
     "output_type": "stream",
     "text": [
      "5900\n"
     ]
    },
    {
     "name": "stdout",
     "output_type": "stream",
     "text": [
      "6000\n"
     ]
    },
    {
     "name": "stdout",
     "output_type": "stream",
     "text": [
      "6100\n"
     ]
    },
    {
     "name": "stdout",
     "output_type": "stream",
     "text": [
      "6200\n"
     ]
    },
    {
     "name": "stdout",
     "output_type": "stream",
     "text": [
      "6300\n"
     ]
    },
    {
     "name": "stdout",
     "output_type": "stream",
     "text": [
      "6400\n"
     ]
    },
    {
     "name": "stdout",
     "output_type": "stream",
     "text": [
      "6500\n"
     ]
    },
    {
     "name": "stdout",
     "output_type": "stream",
     "text": [
      "6600\n"
     ]
    },
    {
     "name": "stdout",
     "output_type": "stream",
     "text": [
      "6700\n"
     ]
    },
    {
     "name": "stdout",
     "output_type": "stream",
     "text": [
      "6800\n"
     ]
    },
    {
     "name": "stdout",
     "output_type": "stream",
     "text": [
      "6900\n"
     ]
    },
    {
     "name": "stdout",
     "output_type": "stream",
     "text": [
      "7000\n"
     ]
    },
    {
     "name": "stdout",
     "output_type": "stream",
     "text": [
      "7100\n"
     ]
    },
    {
     "name": "stdout",
     "output_type": "stream",
     "text": [
      "7200\n"
     ]
    },
    {
     "name": "stdout",
     "output_type": "stream",
     "text": [
      "7300\n"
     ]
    },
    {
     "name": "stdout",
     "output_type": "stream",
     "text": [
      "7400\n"
     ]
    },
    {
     "name": "stdout",
     "output_type": "stream",
     "text": [
      "7500\n"
     ]
    },
    {
     "name": "stdout",
     "output_type": "stream",
     "text": [
      "7600\n"
     ]
    },
    {
     "name": "stdout",
     "output_type": "stream",
     "text": [
      "7700\n"
     ]
    },
    {
     "name": "stdout",
     "output_type": "stream",
     "text": [
      "7800\n"
     ]
    },
    {
     "name": "stdout",
     "output_type": "stream",
     "text": [
      "7900\n"
     ]
    },
    {
     "name": "stdout",
     "output_type": "stream",
     "text": [
      "8000\n"
     ]
    },
    {
     "name": "stdout",
     "output_type": "stream",
     "text": [
      "8100\n"
     ]
    },
    {
     "name": "stdout",
     "output_type": "stream",
     "text": [
      "8200\n"
     ]
    },
    {
     "name": "stdout",
     "output_type": "stream",
     "text": [
      "8300\n"
     ]
    },
    {
     "name": "stdout",
     "output_type": "stream",
     "text": [
      "8400\n"
     ]
    },
    {
     "name": "stdout",
     "output_type": "stream",
     "text": [
      "8500\n"
     ]
    },
    {
     "name": "stdout",
     "output_type": "stream",
     "text": [
      "8600\n"
     ]
    },
    {
     "name": "stdout",
     "output_type": "stream",
     "text": [
      "8700\n"
     ]
    },
    {
     "name": "stdout",
     "output_type": "stream",
     "text": [
      "8800\n"
     ]
    },
    {
     "name": "stdout",
     "output_type": "stream",
     "text": [
      "8900\n"
     ]
    },
    {
     "name": "stdout",
     "output_type": "stream",
     "text": [
      "9000\n"
     ]
    },
    {
     "name": "stdout",
     "output_type": "stream",
     "text": [
      "9100\n"
     ]
    },
    {
     "name": "stdout",
     "output_type": "stream",
     "text": [
      "9200\n"
     ]
    },
    {
     "name": "stdout",
     "output_type": "stream",
     "text": [
      "9300\n"
     ]
    },
    {
     "name": "stdout",
     "output_type": "stream",
     "text": [
      "9400\n"
     ]
    },
    {
     "name": "stdout",
     "output_type": "stream",
     "text": [
      "9500\n"
     ]
    },
    {
     "name": "stdout",
     "output_type": "stream",
     "text": [
      "9600\n"
     ]
    },
    {
     "name": "stdout",
     "output_type": "stream",
     "text": [
      "9700\n"
     ]
    },
    {
     "name": "stdout",
     "output_type": "stream",
     "text": [
      "9800\n"
     ]
    },
    {
     "name": "stdout",
     "output_type": "stream",
     "text": [
      "9900\n"
     ]
    },
    {
     "name": "stdout",
     "output_type": "stream",
     "text": [
      "10000\n"
     ]
    },
    {
     "name": "stdout",
     "output_type": "stream",
     "text": [
      "10100\n"
     ]
    },
    {
     "name": "stdout",
     "output_type": "stream",
     "text": [
      "10200\n"
     ]
    },
    {
     "name": "stdout",
     "output_type": "stream",
     "text": [
      "10300\n"
     ]
    },
    {
     "name": "stdout",
     "output_type": "stream",
     "text": [
      "10400\n"
     ]
    },
    {
     "name": "stdout",
     "output_type": "stream",
     "text": [
      "10500\n"
     ]
    },
    {
     "name": "stdout",
     "output_type": "stream",
     "text": [
      "10600\n"
     ]
    },
    {
     "name": "stdout",
     "output_type": "stream",
     "text": [
      "10700\n"
     ]
    },
    {
     "name": "stdout",
     "output_type": "stream",
     "text": [
      "10800\n"
     ]
    },
    {
     "name": "stdout",
     "output_type": "stream",
     "text": [
      "10900\n"
     ]
    },
    {
     "name": "stdout",
     "output_type": "stream",
     "text": [
      "11000\n"
     ]
    },
    {
     "name": "stdout",
     "output_type": "stream",
     "text": [
      "11100\n"
     ]
    },
    {
     "name": "stdout",
     "output_type": "stream",
     "text": [
      "11200\n"
     ]
    },
    {
     "name": "stdout",
     "output_type": "stream",
     "text": [
      "11300\n"
     ]
    },
    {
     "name": "stdout",
     "output_type": "stream",
     "text": [
      "11400\n"
     ]
    },
    {
     "name": "stdout",
     "output_type": "stream",
     "text": [
      "11500\n"
     ]
    },
    {
     "name": "stdout",
     "output_type": "stream",
     "text": [
      "11600\n"
     ]
    },
    {
     "name": "stdout",
     "output_type": "stream",
     "text": [
      "11700\n"
     ]
    },
    {
     "name": "stdout",
     "output_type": "stream",
     "text": [
      "11800\n"
     ]
    },
    {
     "name": "stdout",
     "output_type": "stream",
     "text": [
      "11900\n"
     ]
    },
    {
     "name": "stdout",
     "output_type": "stream",
     "text": [
      "12000\n"
     ]
    },
    {
     "name": "stdout",
     "output_type": "stream",
     "text": [
      "12100\n"
     ]
    },
    {
     "name": "stdout",
     "output_type": "stream",
     "text": [
      "12200\n"
     ]
    },
    {
     "name": "stdout",
     "output_type": "stream",
     "text": [
      "12300\n"
     ]
    },
    {
     "name": "stdout",
     "output_type": "stream",
     "text": [
      "12400\n"
     ]
    },
    {
     "name": "stdout",
     "output_type": "stream",
     "text": [
      "12500\n"
     ]
    },
    {
     "name": "stdout",
     "output_type": "stream",
     "text": [
      "12600\n"
     ]
    },
    {
     "name": "stdout",
     "output_type": "stream",
     "text": [
      "12700\n"
     ]
    },
    {
     "name": "stdout",
     "output_type": "stream",
     "text": [
      "12800\n"
     ]
    },
    {
     "name": "stdout",
     "output_type": "stream",
     "text": [
      "12900\n"
     ]
    },
    {
     "name": "stdout",
     "output_type": "stream",
     "text": [
      "13000\n"
     ]
    },
    {
     "name": "stdout",
     "output_type": "stream",
     "text": [
      "13100\n"
     ]
    },
    {
     "name": "stdout",
     "output_type": "stream",
     "text": [
      "13200\n"
     ]
    },
    {
     "name": "stdout",
     "output_type": "stream",
     "text": [
      "13300\n"
     ]
    },
    {
     "name": "stdout",
     "output_type": "stream",
     "text": [
      "13400\n"
     ]
    },
    {
     "name": "stdout",
     "output_type": "stream",
     "text": [
      "13500\n"
     ]
    },
    {
     "name": "stdout",
     "output_type": "stream",
     "text": [
      "13600\n"
     ]
    },
    {
     "name": "stdout",
     "output_type": "stream",
     "text": [
      "13700\n"
     ]
    },
    {
     "name": "stdout",
     "output_type": "stream",
     "text": [
      "13800\n"
     ]
    },
    {
     "name": "stdout",
     "output_type": "stream",
     "text": [
      "13900\n"
     ]
    },
    {
     "name": "stdout",
     "output_type": "stream",
     "text": [
      "14000\n"
     ]
    },
    {
     "name": "stdout",
     "output_type": "stream",
     "text": [
      "14100\n"
     ]
    },
    {
     "name": "stdout",
     "output_type": "stream",
     "text": [
      "14200\n"
     ]
    },
    {
     "name": "stdout",
     "output_type": "stream",
     "text": [
      "14300\n"
     ]
    },
    {
     "name": "stdout",
     "output_type": "stream",
     "text": [
      "14400\n"
     ]
    },
    {
     "name": "stdout",
     "output_type": "stream",
     "text": [
      "14500\n"
     ]
    },
    {
     "name": "stdout",
     "output_type": "stream",
     "text": [
      "14600\n"
     ]
    },
    {
     "name": "stdout",
     "output_type": "stream",
     "text": [
      "14700\n"
     ]
    },
    {
     "name": "stdout",
     "output_type": "stream",
     "text": [
      "14800\n"
     ]
    },
    {
     "name": "stdout",
     "output_type": "stream",
     "text": [
      "14900\n"
     ]
    },
    {
     "name": "stdout",
     "output_type": "stream",
     "text": [
      "15000\n"
     ]
    },
    {
     "name": "stdout",
     "output_type": "stream",
     "text": [
      "15100\n"
     ]
    },
    {
     "name": "stdout",
     "output_type": "stream",
     "text": [
      "15200\n"
     ]
    },
    {
     "name": "stdout",
     "output_type": "stream",
     "text": [
      "15300\n"
     ]
    },
    {
     "name": "stdout",
     "output_type": "stream",
     "text": [
      "15400\n"
     ]
    },
    {
     "name": "stdout",
     "output_type": "stream",
     "text": [
      "15500\n"
     ]
    },
    {
     "name": "stdout",
     "output_type": "stream",
     "text": [
      "15600\n"
     ]
    },
    {
     "name": "stdout",
     "output_type": "stream",
     "text": [
      "15700\n"
     ]
    },
    {
     "name": "stdout",
     "output_type": "stream",
     "text": [
      "15800\n",
      "15900\n"
     ]
    }
   ],
   "source": [
    "\n",
    "# Combine the dataframes\n",
    "combined_df6 = pd.concat([enamine_protein_div6, chemdiv_div6, enamine_div6, life_chemicals_div6, robin_df_div6], ignore_index=True)\n",
    "\n",
    "\n",
    "n = combined_df6.shape[0]\n",
    "ecfp_column = ['ECFP6']\n",
    "df_list = []\n",
    "\n",
    "for ecfp_col in tqdm(ecfp_column, desc=\"Calculating distance matrices\"):\n",
    "    if ecfp_col == 'ECFP6':\n",
    "        combined_df = combined_df6\n",
    "\n",
    "    distance_matrix = np.zeros((n, n))\n",
    "\n",
    "    for i in range(n):\n",
    "        if i % 100 == 0:\n",
    "            print(i)\n",
    "        for j in range(i, n):\n",
    "            distance_matrix[i, j] = 1 - DataStructs.TanimotoSimilarity(combined_df[ecfp_col][i], combined_df[ecfp_col][j])\n",
    "            distance_matrix[j, i] = distance_matrix[i, j]\n",
    "\n",
    "    df = pd.DataFrame({'mol': combined_df['mol'], 'source': combined_df['source'], ecfp_col: distance_matrix.tolist()})\n",
    "    df_list.append(df)\n",
    "\n",
    "    file_name = f'../output/distance_matrices/v2/distance_matrix_{ecfp_col}.pkl'\n",
    "    df.to_pickle(file_name)\n",
    "\n",
    "# Concatenate the DataFrames for all ECFP columns\n",
    "combined_df = pd.concat(df_list, axis=1)"
   ]
  },
  {
   "cell_type": "code",
   "execution_count": 7,
   "id": "96351043",
   "metadata": {
    "execution": {
     "iopub.execute_input": "2024-04-17T18:07:29.710693Z",
     "iopub.status.busy": "2024-04-17T18:07:29.709971Z",
     "iopub.status.idle": "2024-04-17T18:07:51.896492Z",
     "shell.execute_reply": "2024-04-17T18:07:51.895495Z"
    },
    "papermill": {
     "duration": 22.248425,
     "end_time": "2024-04-17T18:07:51.900823",
     "exception": false,
     "start_time": "2024-04-17T18:07:29.652398",
     "status": "completed"
    },
    "tags": []
   },
   "outputs": [
    {
     "data": {
      "text/html": [
       "<div>\n",
       "<style scoped>\n",
       "    .dataframe tbody tr th:only-of-type {\n",
       "        vertical-align: middle;\n",
       "    }\n",
       "\n",
       "    .dataframe tbody tr th {\n",
       "        vertical-align: top;\n",
       "    }\n",
       "\n",
       "    .dataframe thead th {\n",
       "        text-align: right;\n",
       "    }\n",
       "</style>\n",
       "<table border=\"1\" class=\"dataframe\">\n",
       "  <thead>\n",
       "    <tr style=\"text-align: right;\">\n",
       "      <th></th>\n",
       "      <th>mol</th>\n",
       "      <th>source</th>\n",
       "      <th>ECFP6</th>\n",
       "    </tr>\n",
       "  </thead>\n",
       "  <tbody>\n",
       "    <tr>\n",
       "      <th>0</th>\n",
       "      <td>&lt;rdkit.Chem.rdchem.Mol object at 0x7f8e58ddfdd0&gt;</td>\n",
       "      <td>enamine_protein</td>\n",
       "      <td>[0.0, 0.9895833333333334, 0.9705882352941176, ...</td>\n",
       "    </tr>\n",
       "    <tr>\n",
       "      <th>1</th>\n",
       "      <td>&lt;rdkit.Chem.rdchem.Mol object at 0x7f8e58ddd210&gt;</td>\n",
       "      <td>enamine_protein</td>\n",
       "      <td>[0.9895833333333334, 0.0, 0.968421052631579, 0...</td>\n",
       "    </tr>\n",
       "    <tr>\n",
       "      <th>2</th>\n",
       "      <td>&lt;rdkit.Chem.rdchem.Mol object at 0x7f8e58ddd940&gt;</td>\n",
       "      <td>enamine_protein</td>\n",
       "      <td>[0.9705882352941176, 0.968421052631579, 0.0, 0...</td>\n",
       "    </tr>\n",
       "    <tr>\n",
       "      <th>3</th>\n",
       "      <td>&lt;rdkit.Chem.rdchem.Mol object at 0x7f8e58ddc900&gt;</td>\n",
       "      <td>enamine_protein</td>\n",
       "      <td>[0.9655172413793104, 0.9727272727272728, 0.965...</td>\n",
       "    </tr>\n",
       "    <tr>\n",
       "      <th>4</th>\n",
       "      <td>&lt;rdkit.Chem.rdchem.Mol object at 0x7f8e58ddc720&gt;</td>\n",
       "      <td>enamine_protein</td>\n",
       "      <td>[0.962962962962963, 0.9603960396039604, 0.9633...</td>\n",
       "    </tr>\n",
       "    <tr>\n",
       "      <th>...</th>\n",
       "      <td>...</td>\n",
       "      <td>...</td>\n",
       "      <td>...</td>\n",
       "    </tr>\n",
       "    <tr>\n",
       "      <th>15987</th>\n",
       "      <td>&lt;rdkit.Chem.rdchem.Mol object at 0x7f8be2f4ce50&gt;</td>\n",
       "      <td>robin</td>\n",
       "      <td>[0.9189189189189189, 0.9819819819819819, 0.947...</td>\n",
       "    </tr>\n",
       "    <tr>\n",
       "      <th>15988</th>\n",
       "      <td>&lt;rdkit.Chem.rdchem.Mol object at 0x7f8be2f4cea0&gt;</td>\n",
       "      <td>robin</td>\n",
       "      <td>[0.9285714285714286, 0.9421487603305785, 0.961...</td>\n",
       "    </tr>\n",
       "    <tr>\n",
       "      <th>15989</th>\n",
       "      <td>&lt;rdkit.Chem.rdchem.Mol object at 0x7f8be2f4cef0&gt;</td>\n",
       "      <td>robin</td>\n",
       "      <td>[0.937007874015748, 0.9508196721311475, 0.9774...</td>\n",
       "    </tr>\n",
       "    <tr>\n",
       "      <th>15990</th>\n",
       "      <td>&lt;rdkit.Chem.rdchem.Mol object at 0x7f8be2f4cf40&gt;</td>\n",
       "      <td>robin</td>\n",
       "      <td>[0.9316239316239316, 0.9464285714285714, 0.958...</td>\n",
       "    </tr>\n",
       "    <tr>\n",
       "      <th>15991</th>\n",
       "      <td>&lt;rdkit.Chem.rdchem.Mol object at 0x7f8be2f4cf90&gt;</td>\n",
       "      <td>robin</td>\n",
       "      <td>[0.9130434782608696, 0.978021978021978, 0.9479...</td>\n",
       "    </tr>\n",
       "  </tbody>\n",
       "</table>\n",
       "<p>15992 rows × 3 columns</p>\n",
       "</div>"
      ],
      "text/plain": [
       "                                                    mol           source  \\\n",
       "0      <rdkit.Chem.rdchem.Mol object at 0x7f8e58ddfdd0>  enamine_protein   \n",
       "1      <rdkit.Chem.rdchem.Mol object at 0x7f8e58ddd210>  enamine_protein   \n",
       "2      <rdkit.Chem.rdchem.Mol object at 0x7f8e58ddd940>  enamine_protein   \n",
       "3      <rdkit.Chem.rdchem.Mol object at 0x7f8e58ddc900>  enamine_protein   \n",
       "4      <rdkit.Chem.rdchem.Mol object at 0x7f8e58ddc720>  enamine_protein   \n",
       "...                                                 ...              ...   \n",
       "15987  <rdkit.Chem.rdchem.Mol object at 0x7f8be2f4ce50>            robin   \n",
       "15988  <rdkit.Chem.rdchem.Mol object at 0x7f8be2f4cea0>            robin   \n",
       "15989  <rdkit.Chem.rdchem.Mol object at 0x7f8be2f4cef0>            robin   \n",
       "15990  <rdkit.Chem.rdchem.Mol object at 0x7f8be2f4cf40>            robin   \n",
       "15991  <rdkit.Chem.rdchem.Mol object at 0x7f8be2f4cf90>            robin   \n",
       "\n",
       "                                                   ECFP6  \n",
       "0      [0.0, 0.9895833333333334, 0.9705882352941176, ...  \n",
       "1      [0.9895833333333334, 0.0, 0.968421052631579, 0...  \n",
       "2      [0.9705882352941176, 0.968421052631579, 0.0, 0...  \n",
       "3      [0.9655172413793104, 0.9727272727272728, 0.965...  \n",
       "4      [0.962962962962963, 0.9603960396039604, 0.9633...  \n",
       "...                                                  ...  \n",
       "15987  [0.9189189189189189, 0.9819819819819819, 0.947...  \n",
       "15988  [0.9285714285714286, 0.9421487603305785, 0.961...  \n",
       "15989  [0.937007874015748, 0.9508196721311475, 0.9774...  \n",
       "15990  [0.9316239316239316, 0.9464285714285714, 0.958...  \n",
       "15991  [0.9130434782608696, 0.978021978021978, 0.9479...  \n",
       "\n",
       "[15992 rows x 3 columns]"
      ]
     },
     "execution_count": 7,
     "metadata": {},
     "output_type": "execute_result"
    }
   ],
   "source": [
    "# load pickle\n",
    "dist_mat_ = pd.read_pickle('../output/distance_matrices/v2/distance_matrix_ECFP6.pkl')\n",
    "dist_mat_"
   ]
  }
 ],
 "metadata": {
  "kernelspec": {
   "display_name": "cdd",
   "language": "python",
   "name": "python3"
  },
  "language_info": {
   "codemirror_mode": {
    "name": "ipython",
    "version": 3
   },
   "file_extension": ".py",
   "mimetype": "text/x-python",
   "name": "python",
   "nbconvert_exporter": "python",
   "pygments_lexer": "ipython3",
   "version": "3.10.10"
  },
  "papermill": {
   "default_parameters": {},
   "duration": 1357.155567,
   "end_time": "2024-04-17T18:07:55.556402",
   "environment_variables": {},
   "exception": null,
   "input_path": "04_v2_distance_matrix_compute.ipynb",
   "output_path": "./final/04_v2_distance_matrix_compute_final.ipynb",
   "parameters": {},
   "start_time": "2024-04-17T17:45:18.400835",
   "version": "2.3.4"
  },
  "widgets": {
   "application/vnd.jupyter.widget-state+json": {
    "state": {
     "1afd0cc5422e425cb8cfd42a77ac4b7c": {
      "model_module": "@jupyter-widgets/base",
      "model_module_version": "2.0.0",
      "model_name": "LayoutModel",
      "state": {
       "_model_module": "@jupyter-widgets/base",
       "_model_module_version": "2.0.0",
       "_model_name": "LayoutModel",
       "_view_count": null,
       "_view_module": "@jupyter-widgets/base",
       "_view_module_version": "2.0.0",
       "_view_name": "LayoutView",
       "align_content": null,
       "align_items": null,
       "align_self": null,
       "border_bottom": null,
       "border_left": null,
       "border_right": null,
       "border_top": null,
       "bottom": null,
       "display": null,
       "flex": null,
       "flex_flow": null,
       "grid_area": null,
       "grid_auto_columns": null,
       "grid_auto_flow": null,
       "grid_auto_rows": null,
       "grid_column": null,
       "grid_gap": null,
       "grid_row": null,
       "grid_template_areas": null,
       "grid_template_columns": null,
       "grid_template_rows": null,
       "height": null,
       "justify_content": null,
       "justify_items": null,
       "left": null,
       "margin": null,
       "max_height": null,
       "max_width": null,
       "min_height": null,
       "min_width": null,
       "object_fit": null,
       "object_position": null,
       "order": null,
       "overflow": null,
       "padding": null,
       "right": null,
       "top": null,
       "visibility": null,
       "width": null
      }
     },
     "24c97f7831f94f2db44ad3147854e908": {
      "model_module": "@jupyter-widgets/base",
      "model_module_version": "2.0.0",
      "model_name": "LayoutModel",
      "state": {
       "_model_module": "@jupyter-widgets/base",
       "_model_module_version": "2.0.0",
       "_model_name": "LayoutModel",
       "_view_count": null,
       "_view_module": "@jupyter-widgets/base",
       "_view_module_version": "2.0.0",
       "_view_name": "LayoutView",
       "align_content": null,
       "align_items": null,
       "align_self": null,
       "border_bottom": null,
       "border_left": null,
       "border_right": null,
       "border_top": null,
       "bottom": null,
       "display": null,
       "flex": null,
       "flex_flow": null,
       "grid_area": null,
       "grid_auto_columns": null,
       "grid_auto_flow": null,
       "grid_auto_rows": null,
       "grid_column": null,
       "grid_gap": null,
       "grid_row": null,
       "grid_template_areas": null,
       "grid_template_columns": null,
       "grid_template_rows": null,
       "height": null,
       "justify_content": null,
       "justify_items": null,
       "left": null,
       "margin": null,
       "max_height": null,
       "max_width": null,
       "min_height": null,
       "min_width": null,
       "object_fit": null,
       "object_position": null,
       "order": null,
       "overflow": null,
       "padding": null,
       "right": null,
       "top": null,
       "visibility": null,
       "width": null
      }
     },
     "2d58a2a1e58e4319a18a015f122c4e27": {
      "model_module": "@jupyter-widgets/controls",
      "model_module_version": "2.0.0",
      "model_name": "HTMLStyleModel",
      "state": {
       "_model_module": "@jupyter-widgets/controls",
       "_model_module_version": "2.0.0",
       "_model_name": "HTMLStyleModel",
       "_view_count": null,
       "_view_module": "@jupyter-widgets/base",
       "_view_module_version": "2.0.0",
       "_view_name": "StyleView",
       "background": null,
       "description_width": "",
       "font_size": null,
       "text_color": null
      }
     },
     "3d30600f1c674c378886a3abd59be3b8": {
      "model_module": "@jupyter-widgets/controls",
      "model_module_version": "2.0.0",
      "model_name": "HTMLModel",
      "state": {
       "_dom_classes": [],
       "_model_module": "@jupyter-widgets/controls",
       "_model_module_version": "2.0.0",
       "_model_name": "HTMLModel",
       "_view_count": null,
       "_view_module": "@jupyter-widgets/controls",
       "_view_module_version": "2.0.0",
       "_view_name": "HTMLView",
       "description": "",
       "description_allow_html": false,
       "layout": "IPY_MODEL_24c97f7831f94f2db44ad3147854e908",
       "placeholder": "​",
       "style": "IPY_MODEL_2d58a2a1e58e4319a18a015f122c4e27",
       "tabbable": null,
       "tooltip": null,
       "value": " 1/1 [22:06&lt;00:00, 1326.08s/it]"
      }
     },
     "54c52068a42f482c901fc1cd963af443": {
      "model_module": "@jupyter-widgets/controls",
      "model_module_version": "2.0.0",
      "model_name": "HBoxModel",
      "state": {
       "_dom_classes": [],
       "_model_module": "@jupyter-widgets/controls",
       "_model_module_version": "2.0.0",
       "_model_name": "HBoxModel",
       "_view_count": null,
       "_view_module": "@jupyter-widgets/controls",
       "_view_module_version": "2.0.0",
       "_view_name": "HBoxView",
       "box_style": "",
       "children": [
        "IPY_MODEL_a92088425e2243ebb1ec385ba43b5560",
        "IPY_MODEL_fa44d333a0f94fea80341555a7b9c75d",
        "IPY_MODEL_3d30600f1c674c378886a3abd59be3b8"
       ],
       "layout": "IPY_MODEL_7aed0fc2a3df45e993f6cae5d500389b",
       "tabbable": null,
       "tooltip": null
      }
     },
     "7940642a0d3049f3bc0a9fd74be0d366": {
      "model_module": "@jupyter-widgets/base",
      "model_module_version": "2.0.0",
      "model_name": "LayoutModel",
      "state": {
       "_model_module": "@jupyter-widgets/base",
       "_model_module_version": "2.0.0",
       "_model_name": "LayoutModel",
       "_view_count": null,
       "_view_module": "@jupyter-widgets/base",
       "_view_module_version": "2.0.0",
       "_view_name": "LayoutView",
       "align_content": null,
       "align_items": null,
       "align_self": null,
       "border_bottom": null,
       "border_left": null,
       "border_right": null,
       "border_top": null,
       "bottom": null,
       "display": null,
       "flex": null,
       "flex_flow": null,
       "grid_area": null,
       "grid_auto_columns": null,
       "grid_auto_flow": null,
       "grid_auto_rows": null,
       "grid_column": null,
       "grid_gap": null,
       "grid_row": null,
       "grid_template_areas": null,
       "grid_template_columns": null,
       "grid_template_rows": null,
       "height": null,
       "justify_content": null,
       "justify_items": null,
       "left": null,
       "margin": null,
       "max_height": null,
       "max_width": null,
       "min_height": null,
       "min_width": null,
       "object_fit": null,
       "object_position": null,
       "order": null,
       "overflow": null,
       "padding": null,
       "right": null,
       "top": null,
       "visibility": null,
       "width": null
      }
     },
     "7aed0fc2a3df45e993f6cae5d500389b": {
      "model_module": "@jupyter-widgets/base",
      "model_module_version": "2.0.0",
      "model_name": "LayoutModel",
      "state": {
       "_model_module": "@jupyter-widgets/base",
       "_model_module_version": "2.0.0",
       "_model_name": "LayoutModel",
       "_view_count": null,
       "_view_module": "@jupyter-widgets/base",
       "_view_module_version": "2.0.0",
       "_view_name": "LayoutView",
       "align_content": null,
       "align_items": null,
       "align_self": null,
       "border_bottom": null,
       "border_left": null,
       "border_right": null,
       "border_top": null,
       "bottom": null,
       "display": null,
       "flex": null,
       "flex_flow": null,
       "grid_area": null,
       "grid_auto_columns": null,
       "grid_auto_flow": null,
       "grid_auto_rows": null,
       "grid_column": null,
       "grid_gap": null,
       "grid_row": null,
       "grid_template_areas": null,
       "grid_template_columns": null,
       "grid_template_rows": null,
       "height": null,
       "justify_content": null,
       "justify_items": null,
       "left": null,
       "margin": null,
       "max_height": null,
       "max_width": null,
       "min_height": null,
       "min_width": null,
       "object_fit": null,
       "object_position": null,
       "order": null,
       "overflow": null,
       "padding": null,
       "right": null,
       "top": null,
       "visibility": null,
       "width": null
      }
     },
     "9800ae781dc546a59a9ccef4c73ad376": {
      "model_module": "@jupyter-widgets/controls",
      "model_module_version": "2.0.0",
      "model_name": "HTMLStyleModel",
      "state": {
       "_model_module": "@jupyter-widgets/controls",
       "_model_module_version": "2.0.0",
       "_model_name": "HTMLStyleModel",
       "_view_count": null,
       "_view_module": "@jupyter-widgets/base",
       "_view_module_version": "2.0.0",
       "_view_name": "StyleView",
       "background": null,
       "description_width": "",
       "font_size": null,
       "text_color": null
      }
     },
     "a297ee457c244128ad01ff949573bbc3": {
      "model_module": "@jupyter-widgets/controls",
      "model_module_version": "2.0.0",
      "model_name": "ProgressStyleModel",
      "state": {
       "_model_module": "@jupyter-widgets/controls",
       "_model_module_version": "2.0.0",
       "_model_name": "ProgressStyleModel",
       "_view_count": null,
       "_view_module": "@jupyter-widgets/base",
       "_view_module_version": "2.0.0",
       "_view_name": "StyleView",
       "bar_color": null,
       "description_width": ""
      }
     },
     "a92088425e2243ebb1ec385ba43b5560": {
      "model_module": "@jupyter-widgets/controls",
      "model_module_version": "2.0.0",
      "model_name": "HTMLModel",
      "state": {
       "_dom_classes": [],
       "_model_module": "@jupyter-widgets/controls",
       "_model_module_version": "2.0.0",
       "_model_name": "HTMLModel",
       "_view_count": null,
       "_view_module": "@jupyter-widgets/controls",
       "_view_module_version": "2.0.0",
       "_view_name": "HTMLView",
       "description": "",
       "description_allow_html": false,
       "layout": "IPY_MODEL_7940642a0d3049f3bc0a9fd74be0d366",
       "placeholder": "​",
       "style": "IPY_MODEL_9800ae781dc546a59a9ccef4c73ad376",
       "tabbable": null,
       "tooltip": null,
       "value": "Calculating distance matrices: 100%"
      }
     },
     "fa44d333a0f94fea80341555a7b9c75d": {
      "model_module": "@jupyter-widgets/controls",
      "model_module_version": "2.0.0",
      "model_name": "FloatProgressModel",
      "state": {
       "_dom_classes": [],
       "_model_module": "@jupyter-widgets/controls",
       "_model_module_version": "2.0.0",
       "_model_name": "FloatProgressModel",
       "_view_count": null,
       "_view_module": "@jupyter-widgets/controls",
       "_view_module_version": "2.0.0",
       "_view_name": "ProgressView",
       "bar_style": "success",
       "description": "",
       "description_allow_html": false,
       "layout": "IPY_MODEL_1afd0cc5422e425cb8cfd42a77ac4b7c",
       "max": 1.0,
       "min": 0.0,
       "orientation": "horizontal",
       "style": "IPY_MODEL_a297ee457c244128ad01ff949573bbc3",
       "tabbable": null,
       "tooltip": null,
       "value": 1.0
      }
     }
    },
    "version_major": 2,
    "version_minor": 0
   }
  }
 },
 "nbformat": 4,
 "nbformat_minor": 5
}