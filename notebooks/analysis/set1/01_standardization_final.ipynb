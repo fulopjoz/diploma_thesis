{
 "cells": [
  {
   "cell_type": "markdown",
   "id": "5063424b",
   "metadata": {
    "papermill": {
     "duration": 0.012607,
     "end_time": "2024-04-17T15:35:26.679542",
     "exception": false,
     "start_time": "2024-04-17T15:35:26.666935",
     "status": "completed"
    },
    "tags": []
   },
   "source": [
    "# Standardization\n",
    "\n",
    "This notebook downloads data and standardize them using ChEMBL Structure Pipeline:\n",
    "https://jcheminf.biomedcentral.com/articles/10.1186/s13321-020-00456-1\n",
    "https://github.com/chembl/ChEMBL_Structure_Pipeline\n",
    "\n"
   ]
  },
  {
   "cell_type": "code",
   "execution_count": 11,
   "id": "770ef87c",
   "metadata": {
    "execution": {
     "iopub.execute_input": "2024-04-17T15:35:26.696203Z",
     "iopub.status.busy": "2024-04-17T15:35:26.695551Z",
     "iopub.status.idle": "2024-04-17T15:35:27.139963Z",
     "shell.execute_reply": "2024-04-17T15:35:27.139095Z"
    },
    "papermill": {
     "duration": 0.456892,
     "end_time": "2024-04-17T15:35:27.144629",
     "exception": false,
     "start_time": "2024-04-17T15:35:26.687737",
     "status": "completed"
    },
    "tags": []
   },
   "outputs": [],
   "source": [
    "import os\n",
    "from zipfile import ZipFile\n",
    "from io import BytesIO\n",
    "\n",
    "import pandas as pd\n",
    "import numpy as np\n",
    "\n",
    "from rdkit.Chem import AllChem\n",
    "from rdkit.Chem import PandasTools\n",
    "from rdkit import Chem\n",
    "\n",
    "from rdkit import Chem, SimDivFilters\n",
    "\n",
    "from chembl_structure_pipeline import standardizer\n",
    "\n",
    "\n",
    "from IPython.display import display\n",
    "\n",
    "from rdkit import RDLogger\n",
    "RDLogger.DisableLog('rdApp.error')\n"
   ]
  },
  {
   "cell_type": "markdown",
   "id": "2e4bdad7",
   "metadata": {
    "papermill": {
     "duration": 0.007672,
     "end_time": "2024-04-17T15:35:27.164321",
     "exception": false,
     "start_time": "2024-04-17T15:35:27.156649",
     "status": "completed"
    },
    "tags": []
   },
   "source": [
    "# Fetch data\n"
   ]
  },
  {
   "cell_type": "code",
   "execution_count": 12,
   "id": "8db000b8",
   "metadata": {
    "execution": {
     "iopub.execute_input": "2024-04-17T15:35:27.200576Z",
     "iopub.status.busy": "2024-04-17T15:35:27.199955Z",
     "iopub.status.idle": "2024-04-17T15:35:27.210886Z",
     "shell.execute_reply": "2024-04-17T15:35:27.209033Z"
    },
    "papermill": {
     "duration": 0.019837,
     "end_time": "2024-04-17T15:35:27.213574",
     "exception": false,
     "start_time": "2024-04-17T15:35:27.193737",
     "status": "completed"
    },
    "tags": []
   },
   "outputs": [],
   "source": [
    "def read_sdf(sdf_file_path):\n",
    "    supplier = Chem.SDMolSupplier(sdf_file_path)\n",
    "    data = []\n",
    "    for mol in supplier:\n",
    "        if mol is not None:\n",
    "            # Create a dictionary with only the SMILES and the molecule object\n",
    "            mol_data = {\n",
    "                'SMILES': Chem.MolToSmiles(mol, canonical=True),  # Canonical SMILES\n",
    "                'mol': mol  # RDKit molecule object\n",
    "            }\n",
    "            data.append(mol_data)\n",
    "    \n",
    "    # Creating a DataFrame from the list of dictionaries\n",
    "    df = pd.DataFrame(data, columns=['SMILES', 'mol'])\n",
    "    return df"
   ]
  },
  {
   "cell_type": "code",
   "execution_count": 13,
   "id": "7602d1d7",
   "metadata": {
    "execution": {
     "iopub.execute_input": "2024-04-17T15:35:27.230765Z",
     "iopub.status.busy": "2024-04-17T15:35:27.230167Z",
     "iopub.status.idle": "2024-04-17T15:37:39.095701Z",
     "shell.execute_reply": "2024-04-17T15:37:39.094668Z"
    },
    "papermill": {
     "duration": 131.879424,
     "end_time": "2024-04-17T15:37:39.099859",
     "exception": false,
     "start_time": "2024-04-17T15:35:27.220435",
     "status": "completed"
    },
    "tags": []
   },
   "outputs": [],
   "source": [
    "chemdiv_df = read_sdf('../../../data/raw_data/raw_data2/chemdiv.sdf')\n",
    "life_chemicals_df = read_sdf('../../../data/raw_data/raw_data2/life_chemicals.sdf')\n",
    "enamine_rna_df = read_sdf('../../../data/raw_data/raw_data2/enamine_rna.sdf')\n",
    "enamine_protein_df = read_sdf('../../../data/raw_data/raw_data2/enamine_protein.sdf')\n",
    "robin_df = read_sdf('../../../data/raw_data/raw_data2/robin.sdf')\n"
   ]
  },
  {
   "cell_type": "code",
   "execution_count": 14,
   "id": "50e39f4a",
   "metadata": {
    "execution": {
     "iopub.execute_input": "2024-04-17T15:37:39.122416Z",
     "iopub.status.busy": "2024-04-17T15:37:39.122062Z",
     "iopub.status.idle": "2024-04-17T15:37:39.131941Z",
     "shell.execute_reply": "2024-04-17T15:37:39.130597Z"
    },
    "papermill": {
     "duration": 0.022247,
     "end_time": "2024-04-17T15:37:39.134572",
     "exception": false,
     "start_time": "2024-04-17T15:37:39.112325",
     "status": "completed"
    },
    "tags": []
   },
   "outputs": [],
   "source": [
    "datasets = [chemdiv_df, life_chemicals_df, robin_df, enamine_rna_df, enamine_protein_df]\n",
    "\n",
    "# for all dataset rename the column from 0 to mol\n",
    "for df in datasets:\n",
    "    df.rename(columns={0: 'mol'}, inplace=True)"
   ]
  },
  {
   "cell_type": "markdown",
   "id": "69b7c5a6",
   "metadata": {
    "papermill": {
     "duration": 0.006257,
     "end_time": "2024-04-17T15:37:39.149155",
     "exception": false,
     "start_time": "2024-04-17T15:37:39.142898",
     "status": "completed"
    },
    "tags": []
   },
   "source": [
    "## calculate 2D coordinates for ROBIN lib. because it is in 3D"
   ]
  },
  {
   "cell_type": "code",
   "execution_count": 15,
   "id": "a8fbb8e4",
   "metadata": {
    "execution": {
     "iopub.execute_input": "2024-04-17T15:37:39.161944Z",
     "iopub.status.busy": "2024-04-17T15:37:39.160701Z",
     "iopub.status.idle": "2024-04-17T15:37:39.170855Z",
     "shell.execute_reply": "2024-04-17T15:37:39.168909Z"
    },
    "papermill": {
     "duration": 0.018287,
     "end_time": "2024-04-17T15:37:39.173127",
     "exception": false,
     "start_time": "2024-04-17T15:37:39.154840",
     "status": "completed"
    },
    "tags": []
   },
   "outputs": [],
   "source": [
    "def generate_2d_coords(mol):\n",
    "    mol_2d = Chem.Mol(mol)  # Create a copy of the molecule\n",
    "    AllChem.Compute2DCoords(mol_2d)\n",
    "    return mol_2d\n",
    "\n",
    "# Define the standardize_mol function\n",
    "def standardize_mol(mol):\n",
    "    \"\"\"Standardize molecule.\"\"\"\n",
    "    mol = standardizer.standardize_mol(mol)\n",
    "    return mol"
   ]
  },
  {
   "cell_type": "code",
   "execution_count": 16,
   "id": "44206632",
   "metadata": {
    "execution": {
     "iopub.execute_input": "2024-04-17T15:37:39.187033Z",
     "iopub.status.busy": "2024-04-17T15:37:39.185409Z",
     "iopub.status.idle": "2024-04-17T15:37:39.602674Z",
     "shell.execute_reply": "2024-04-17T15:37:39.601429Z"
    },
    "papermill": {
     "duration": 0.434583,
     "end_time": "2024-04-17T15:37:39.612700",
     "exception": false,
     "start_time": "2024-04-17T15:37:39.178117",
     "status": "completed"
    },
    "tags": []
   },
   "outputs": [],
   "source": [
    "# calculate 2D coordinates for ROBIN lib. because it is in 3D\n",
    "robin_df['mol'] = robin_df['mol'].apply(generate_2d_coords)"
   ]
  },
  {
   "cell_type": "code",
   "execution_count": null,
   "id": "f0218a4a",
   "metadata": {
    "execution": {
     "iopub.execute_input": "2024-04-17T15:37:39.634162Z",
     "iopub.status.busy": "2024-04-17T15:37:39.633690Z",
     "iopub.status.idle": "2024-04-17T15:53:52.851292Z",
     "shell.execute_reply": "2024-04-17T15:53:52.849166Z"
    },
    "papermill": {
     "duration": 973.229535,
     "end_time": "2024-04-17T15:53:52.853587",
     "exception": false,
     "start_time": "2024-04-17T15:37:39.624052",
     "status": "completed"
    },
    "tags": []
   },
   "outputs": [],
   "source": [
    "# Standardize all datasets\n",
    "chemdiv_df['mol'] = chemdiv_df['mol'].apply(lambda mol: standardize_mol(mol))\n",
    "life_chemicals_df['mol'] = life_chemicals_df['mol'].apply(lambda mol: standardize_mol(mol))\n",
    "enamine_rna_df['mol'] = enamine_rna_df['mol'].apply(lambda mol: standardize_mol(mol))\n",
    "enamine_protein_df['mol'] = enamine_protein_df['mol'].apply(lambda mol: standardize_mol(mol))\n",
    "robin_df['mol'] = robin_df['mol'].apply(lambda mol: standardize_mol(mol))"
   ]
  },
  {
   "cell_type": "code",
   "execution_count": 18,
   "id": "7c428dac",
   "metadata": {
    "execution": {
     "iopub.execute_input": "2024-04-17T15:53:54.480041Z",
     "iopub.status.busy": "2024-04-17T15:53:54.478669Z",
     "iopub.status.idle": "2024-04-17T15:53:54.494100Z",
     "shell.execute_reply": "2024-04-17T15:53:54.492530Z"
    },
    "papermill": {
     "duration": 0.860715,
     "end_time": "2024-04-17T15:53:54.498086",
     "exception": false,
     "start_time": "2024-04-17T15:53:53.637371",
     "status": "completed"
    },
    "tags": []
   },
   "outputs": [],
   "source": [
    "chemdiv_df['source'] = 'chemdiv'\n",
    "enamine_rna_df['source'] = 'enamine'\n",
    "enamine_protein_df['source'] = 'enamine_protein'\n",
    "life_chemicals_df['source'] = 'life_chemicals'\n",
    "robin_df['source'] = 'robin'\n"
   ]
  },
  {
   "cell_type": "code",
   "execution_count": 19,
   "id": "1c95f806",
   "metadata": {
    "execution": {
     "iopub.execute_input": "2024-04-17T15:53:56.455853Z",
     "iopub.status.busy": "2024-04-17T15:53:56.455139Z",
     "iopub.status.idle": "2024-04-17T15:55:04.926273Z",
     "shell.execute_reply": "2024-04-17T15:55:04.925145Z"
    },
    "papermill": {
     "duration": 69.399695,
     "end_time": "2024-04-17T15:55:04.963255",
     "exception": false,
     "start_time": "2024-04-17T15:53:55.563560",
     "status": "completed"
    },
    "tags": []
   },
   "outputs": [],
   "source": [
    "# create SMILES column for each dataset using rdKit\n",
    "datasets = [chemdiv_df, enamine_rna_df, enamine_protein_df, life_chemicals_df, robin_df]\n",
    "\n",
    "for dataset in datasets:\n",
    "    dataset['SMILES'] = dataset['mol'].apply(Chem.MolToSmiles, canonical=True)\n"
   ]
  },
  {
   "cell_type": "code",
   "execution_count": 20,
   "id": "d837d54d",
   "metadata": {
    "execution": {
     "iopub.execute_input": "2024-04-17T15:55:06.632992Z",
     "iopub.status.busy": "2024-04-17T15:55:06.632244Z",
     "iopub.status.idle": "2024-04-17T15:55:06.677718Z",
     "shell.execute_reply": "2024-04-17T15:55:06.676545Z"
    },
    "papermill": {
     "duration": 0.848469,
     "end_time": "2024-04-17T15:55:06.679960",
     "exception": false,
     "start_time": "2024-04-17T15:55:05.831491",
     "status": "completed"
    },
    "tags": []
   },
   "outputs": [],
   "source": [
    "rna_df = pd.concat([chemdiv_df, enamine_rna_df, life_chemicals_df, robin_df], ignore_index=True)\n",
    "all_df = pd.concat([chemdiv_df, enamine_rna_df, enamine_protein_df, life_chemicals_df, robin_df], ignore_index=True)"
   ]
  },
  {
   "cell_type": "code",
   "execution_count": 21,
   "id": "f905d66c",
   "metadata": {},
   "outputs": [
    {
     "data": {
      "text/plain": [
       "((20000, 3),\n",
       " (15520, 3),\n",
       " (460160, 3),\n",
       " (5544, 3),\n",
       " (2003, 3),\n",
       " (43067, 3),\n",
       " (503227, 3))"
      ]
     },
     "execution_count": 21,
     "metadata": {},
     "output_type": "execute_result"
    }
   ],
   "source": [
    "chemdiv_df.shape, enamine_rna_df.shape, enamine_protein_df.shape, life_chemicals_df.shape, robin_df.shape, rna_df.shape, all_df.shape"
   ]
  },
  {
   "cell_type": "code",
   "execution_count": 22,
   "id": "692e5294",
   "metadata": {},
   "outputs": [
    {
     "data": {
      "text/plain": [
       "((43067, 3), (460160, 3))"
      ]
     },
     "execution_count": 22,
     "metadata": {},
     "output_type": "execute_result"
    }
   ],
   "source": [
    "rna_df.shape, enamine_protein_df.shape"
   ]
  },
  {
   "cell_type": "code",
   "execution_count": null,
   "id": "c5ab9a3c",
   "metadata": {
    "execution": {
     "iopub.execute_input": "2024-04-17T15:55:08.348974Z",
     "iopub.status.busy": "2024-04-17T15:55:08.348066Z",
     "iopub.status.idle": "2024-04-17T16:20:02.831267Z",
     "shell.execute_reply": "2024-04-17T16:20:02.829509Z"
    },
    "papermill": {
     "duration": 1497.67267,
     "end_time": "2024-04-17T16:20:05.196500",
     "exception": false,
     "start_time": "2024-04-17T15:55:07.523830",
     "status": "completed"
    },
    "tags": []
   },
   "outputs": [],
   "source": [
    "import pandas as pd\n",
    "from rdkit import Chem\n",
    "from chembl_structure_pipeline import standardizer\n",
    "\n",
    "def standardize_smiles(smiles):\n",
    "    \"\"\"Standardize SMILES using ChEMBL Structure Pipeline.\"\"\"\n",
    "    mol = Chem.MolFromSmiles(smiles)\n",
    "    if mol:\n",
    "        standardized_mol = standardizer.standardize_mol(mol)\n",
    "        standardized_smiles = Chem.MolToSmiles(standardized_mol, canonical=True)\n",
    "        return standardized_smiles\n",
    "    return None\n",
    "\n",
    "def correct_smiles(smiles):\n",
    "    \"\"\"Keep the longer part of the SMILES string, discarding salts.\"\"\"\n",
    "    parts = smiles.split('.')\n",
    "    if len(parts) > 1:\n",
    "        largest_part = max(parts, key=lambda x: len(Chem.MolFromSmiles(x).GetAtoms()))\n",
    "        return largest_part\n",
    "    return smiles\n",
    "\n",
    "# Assuming all_df is your DataFrame containing molecules data\n",
    "# Remove the 'mol' column\n",
    "all_df.drop(columns=['mol'], inplace=True)\n",
    "\n",
    "# Initialize a list to store molecules with disconnected components\n",
    "disconnected_mols = []\n",
    "\n",
    "# Process each row in all_df\n",
    "for idx, row in all_df.iterrows():\n",
    "    smiles = row['SMILES']\n",
    "    source = row['source']\n",
    "\n",
    "    # Standardize and correct SMILES\n",
    "    standardized_smiles = standardize_smiles(smiles)\n",
    "    if standardized_smiles is None:\n",
    "        print(f\"Invalid SMILES string at index {idx}: {smiles}\")\n",
    "        continue\n",
    "\n",
    "    corrected_smiles = correct_smiles(standardized_smiles)\n",
    "    mol_from_smiles = Chem.MolFromSmiles(corrected_smiles)\n",
    "\n",
    "    if mol_from_smiles is None or mol_from_smiles.GetNumAtoms() == 0:\n",
    "        print(f\"Invalid SMILES string after correction at index {idx}: {smiles}\")\n",
    "        continue\n",
    "\n",
    "    num_components = Chem.GetMolFrags(mol_from_smiles, asMols=False, sanitizeFrags=False)\n",
    "    if len(num_components) > 1:\n",
    "        print(f\"Disconnected components in molecule at index {idx}: {smiles}, from source {source}\")\n",
    "        disconnected_mols.append({'Index': idx, 'SMILES': corrected_smiles, 'Source': source})\n",
    "        all_df.at[idx, 'SMILES'] = corrected_smiles  # Update SMILES with corrected version\n",
    "\n",
    "# Recompute 'mol' column from corrected SMILES\n",
    "all_df['mol'] = all_df['SMILES'].apply(lambda x: Chem.MolFromSmiles(x))\n",
    "\n",
    "# Convert the list to a DataFrame and save to JSON\n",
    "disconnected_mols_df = pd.DataFrame(disconnected_mols)\n",
    "disconnected_mols_df.to_json('disconnected_mols_V2.json')\n",
    "\n",
    "# Optionally, print or return the DataFrame of disconnected molecules\n",
    "disconnected_mols_df"
   ]
  },
  {
   "cell_type": "code",
   "execution_count": 13,
   "id": "54590a48",
   "metadata": {
    "execution": {
     "iopub.execute_input": "2024-04-17T16:20:09.516015Z",
     "iopub.status.busy": "2024-04-17T16:20:09.514683Z",
     "iopub.status.idle": "2024-04-17T16:20:09.760141Z",
     "shell.execute_reply": "2024-04-17T16:20:09.759198Z"
    },
    "papermill": {
     "duration": 2.365977,
     "end_time": "2024-04-17T16:20:09.764300",
     "exception": false,
     "start_time": "2024-04-17T16:20:07.398323",
     "status": "completed"
    },
    "tags": []
   },
   "outputs": [],
   "source": [
    "# check the SMILES column in all_df if they do not have dot in the string\n",
    "dissconnected_molecules = all_df[all_df['SMILES'].str.contains('\\.')]\n",
    "\n",
    "# save the dissconnected molecules to json\n",
    "dissconnected_molecules.to_json('mols_with_salt_V2.json')\n"
   ]
  },
  {
   "cell_type": "code",
   "execution_count": 14,
   "id": "cef69c54",
   "metadata": {
    "execution": {
     "iopub.execute_input": "2024-04-17T16:20:13.268726Z",
     "iopub.status.busy": "2024-04-17T16:20:13.266993Z",
     "iopub.status.idle": "2024-04-17T16:20:13.300422Z",
     "shell.execute_reply": "2024-04-17T16:20:13.299232Z"
    },
    "papermill": {
     "duration": 1.763657,
     "end_time": "2024-04-17T16:20:13.304288",
     "exception": false,
     "start_time": "2024-04-17T16:20:11.540631",
     "status": "completed"
    },
    "tags": []
   },
   "outputs": [
    {
     "data": {
      "text/html": [
       "<div>\n",
       "<style scoped>\n",
       "    .dataframe tbody tr th:only-of-type {\n",
       "        vertical-align: middle;\n",
       "    }\n",
       "\n",
       "    .dataframe tbody tr th {\n",
       "        vertical-align: top;\n",
       "    }\n",
       "\n",
       "    .dataframe thead th {\n",
       "        text-align: right;\n",
       "    }\n",
       "</style>\n",
       "<table border=\"1\" class=\"dataframe\">\n",
       "  <thead>\n",
       "    <tr style=\"text-align: right;\">\n",
       "      <th></th>\n",
       "      <th>SMILES</th>\n",
       "      <th>source</th>\n",
       "      <th>mol</th>\n",
       "    </tr>\n",
       "  </thead>\n",
       "  <tbody>\n",
       "    <tr>\n",
       "      <th>20005</th>\n",
       "      <td>COc1ccc(-n2c(-c3ccccc3)c[n+]3c2CCc2ccccc2-3)cc...</td>\n",
       "      <td>enamine</td>\n",
       "      <td>&lt;rdkit.Chem.rdchem.Mol object at 0x7f05a0e50cf0&gt;</td>\n",
       "    </tr>\n",
       "    <tr>\n",
       "      <th>20023</th>\n",
       "      <td>Br.c1ccc(N=c2scc(-c3cccs3)n2-c2ccccc2)cc1</td>\n",
       "      <td>enamine</td>\n",
       "      <td>&lt;rdkit.Chem.rdchem.Mol object at 0x7f05a0e514d0&gt;</td>\n",
       "    </tr>\n",
       "    <tr>\n",
       "      <th>20025</th>\n",
       "      <td>COc1ccc(-c2n(-c3ccccn3)c3ccccc3[n+]2-c2ccccn2)...</td>\n",
       "      <td>enamine</td>\n",
       "      <td>&lt;rdkit.Chem.rdchem.Mol object at 0x7f05a0e515b0&gt;</td>\n",
       "    </tr>\n",
       "    <tr>\n",
       "      <th>20030</th>\n",
       "      <td>Br.COc1ccc(-c2csc(Nc3ccccc3)[n+]2CC(O)c2ccc([N...</td>\n",
       "      <td>enamine</td>\n",
       "      <td>&lt;rdkit.Chem.rdchem.Mol object at 0x7f05a0e517e0&gt;</td>\n",
       "    </tr>\n",
       "    <tr>\n",
       "      <th>20040</th>\n",
       "      <td>Br.Cc1ccc(N=c2scc(-c3ccc(C)cc3)n2-c2ccc(C)cc2)cc1</td>\n",
       "      <td>enamine</td>\n",
       "      <td>&lt;rdkit.Chem.rdchem.Mol object at 0x7f05a0e51c40&gt;</td>\n",
       "    </tr>\n",
       "    <tr>\n",
       "      <th>...</th>\n",
       "      <td>...</td>\n",
       "      <td>...</td>\n",
       "      <td>...</td>\n",
       "    </tr>\n",
       "    <tr>\n",
       "      <th>500913</th>\n",
       "      <td>CC(C)O.COc1ccc(CCN2COc3ccc4c(c3C2)O/C(=C\\c2ccc...</td>\n",
       "      <td>life_chemicals</td>\n",
       "      <td>&lt;rdkit.Chem.rdchem.Mol object at 0x7f05ad3531b0&gt;</td>\n",
       "    </tr>\n",
       "    <tr>\n",
       "      <th>500998</th>\n",
       "      <td>Cl.O=C(O)c1cccc(Nc2ncnc3c2oc2ccccc23)c1</td>\n",
       "      <td>life_chemicals</td>\n",
       "      <td>&lt;rdkit.Chem.rdchem.Mol object at 0x7f05ad339770&gt;</td>\n",
       "    </tr>\n",
       "    <tr>\n",
       "      <th>501000</th>\n",
       "      <td>Cl.O=C(O)c1ccc(Nc2ncnc3c2oc2ccccc23)cc1</td>\n",
       "      <td>life_chemicals</td>\n",
       "      <td>&lt;rdkit.Chem.rdchem.Mol object at 0x7f05ad339850&gt;</td>\n",
       "    </tr>\n",
       "    <tr>\n",
       "      <th>501077</th>\n",
       "      <td>CN(C)CCN(C(=O)Cc1cccc2ccccc12)c1nc2ccc(F)cc2s1.Cl</td>\n",
       "      <td>life_chemicals</td>\n",
       "      <td>&lt;rdkit.Chem.rdchem.Mol object at 0x7f05ad33ba00&gt;</td>\n",
       "    </tr>\n",
       "    <tr>\n",
       "      <th>501142</th>\n",
       "      <td>CN(C)CCN(C(=O)COc1ccc(Cl)cc1)c1nc2cc3c(cc2s1)O...</td>\n",
       "      <td>life_chemicals</td>\n",
       "      <td>&lt;rdkit.Chem.rdchem.Mol object at 0x7f05ad51a730&gt;</td>\n",
       "    </tr>\n",
       "  </tbody>\n",
       "</table>\n",
       "<p>6702 rows × 3 columns</p>\n",
       "</div>"
      ],
      "text/plain": [
       "                                                   SMILES          source  \\\n",
       "20005   COc1ccc(-n2c(-c3ccccc3)c[n+]3c2CCc2ccccc2-3)cc...         enamine   \n",
       "20023           Br.c1ccc(N=c2scc(-c3cccs3)n2-c2ccccc2)cc1         enamine   \n",
       "20025   COc1ccc(-c2n(-c3ccccn3)c3ccccc3[n+]2-c2ccccn2)...         enamine   \n",
       "20030   Br.COc1ccc(-c2csc(Nc3ccccc3)[n+]2CC(O)c2ccc([N...         enamine   \n",
       "20040   Br.Cc1ccc(N=c2scc(-c3ccc(C)cc3)n2-c2ccc(C)cc2)cc1         enamine   \n",
       "...                                                   ...             ...   \n",
       "500913  CC(C)O.COc1ccc(CCN2COc3ccc4c(c3C2)O/C(=C\\c2ccc...  life_chemicals   \n",
       "500998            Cl.O=C(O)c1cccc(Nc2ncnc3c2oc2ccccc23)c1  life_chemicals   \n",
       "501000            Cl.O=C(O)c1ccc(Nc2ncnc3c2oc2ccccc23)cc1  life_chemicals   \n",
       "501077  CN(C)CCN(C(=O)Cc1cccc2ccccc12)c1nc2ccc(F)cc2s1.Cl  life_chemicals   \n",
       "501142  CN(C)CCN(C(=O)COc1ccc(Cl)cc1)c1nc2cc3c(cc2s1)O...  life_chemicals   \n",
       "\n",
       "                                                     mol  \n",
       "20005   <rdkit.Chem.rdchem.Mol object at 0x7f05a0e50cf0>  \n",
       "20023   <rdkit.Chem.rdchem.Mol object at 0x7f05a0e514d0>  \n",
       "20025   <rdkit.Chem.rdchem.Mol object at 0x7f05a0e515b0>  \n",
       "20030   <rdkit.Chem.rdchem.Mol object at 0x7f05a0e517e0>  \n",
       "20040   <rdkit.Chem.rdchem.Mol object at 0x7f05a0e51c40>  \n",
       "...                                                  ...  \n",
       "500913  <rdkit.Chem.rdchem.Mol object at 0x7f05ad3531b0>  \n",
       "500998  <rdkit.Chem.rdchem.Mol object at 0x7f05ad339770>  \n",
       "501000  <rdkit.Chem.rdchem.Mol object at 0x7f05ad339850>  \n",
       "501077  <rdkit.Chem.rdchem.Mol object at 0x7f05ad33ba00>  \n",
       "501142  <rdkit.Chem.rdchem.Mol object at 0x7f05ad51a730>  \n",
       "\n",
       "[6702 rows x 3 columns]"
      ]
     },
     "execution_count": 14,
     "metadata": {},
     "output_type": "execute_result"
    }
   ],
   "source": [
    "dissconnected_molecules"
   ]
  },
  {
   "cell_type": "code",
   "execution_count": null,
   "id": "4817462d",
   "metadata": {
    "execution": {
     "iopub.execute_input": "2024-04-17T16:20:17.507295Z",
     "iopub.status.busy": "2024-04-17T16:20:17.506607Z",
     "iopub.status.idle": "2024-04-17T16:20:57.133481Z",
     "shell.execute_reply": "2024-04-17T16:20:57.131684Z"
    },
    "papermill": {
     "duration": 41.782031,
     "end_time": "2024-04-17T16:20:57.137498",
     "exception": false,
     "start_time": "2024-04-17T16:20:15.355467",
     "status": "completed"
    },
    "tags": []
   },
   "outputs": [],
   "source": [
    "from chembl_structure_pipeline import standardizer\n",
    "from rdkit import Chem\n",
    "\n",
    "def get_parent_mol(smiles):\n",
    "    \"\"\"Remove salt from SMILES and return the parent molecule's SMILES.\"\"\"\n",
    "    mol = Chem.MolFromSmiles(smiles)\n",
    "    if mol:\n",
    "        parent_mol, _ = standardizer.get_parent_mol(mol)  # Unpack the returned tuple\n",
    "        if parent_mol:  # Ensure parent_mol is not None\n",
    "            parent_smiles = Chem.MolToSmiles(parent_mol)\n",
    "            return parent_smiles\n",
    "    return None\n",
    "\n",
    "# Assuming dissconnected_molecules is a DataFrame containing molecules\n",
    "removed_salts = []\n",
    "for idx, row in dissconnected_molecules.iterrows():\n",
    "    smiles = row['SMILES']\n",
    "    source = row['source']\n",
    "    parent_smiles = get_parent_mol(smiles)\n",
    "    if parent_smiles is None:\n",
    "        print(f\"Invalid SMILES string at index {idx}: {smiles}\")\n",
    "        continue\n",
    "    removed_salts.append({'Index': idx, 'SMILES': parent_smiles, 'Source': source})\n",
    "    # Assuming you want to update all_df too\n",
    "    all_df.at[idx, 'SMILES'] = parent_smiles  # Update SMILES with corrected version\n",
    "\n",
    "# Process the removed_salts list as needed\n",
    "removed_salts_df = pd.DataFrame(removed_salts)\n",
    "removed_salts_df.to_json('removed_salts_df_V2.json')\n",
    "\n"
   ]
  },
  {
   "cell_type": "code",
   "execution_count": 16,
   "id": "3d1927b2",
   "metadata": {
    "execution": {
     "iopub.execute_input": "2024-04-17T16:21:01.464802Z",
     "iopub.status.busy": "2024-04-17T16:21:01.463076Z",
     "iopub.status.idle": "2024-04-17T16:21:01.633622Z",
     "shell.execute_reply": "2024-04-17T16:21:01.632602Z"
    },
    "papermill": {
     "duration": 2.26584,
     "end_time": "2024-04-17T16:21:01.638213",
     "exception": false,
     "start_time": "2024-04-17T16:20:59.372373",
     "status": "completed"
    },
    "tags": []
   },
   "outputs": [
    {
     "data": {
      "text/html": [
       "<div>\n",
       "<style scoped>\n",
       "    .dataframe tbody tr th:only-of-type {\n",
       "        vertical-align: middle;\n",
       "    }\n",
       "\n",
       "    .dataframe tbody tr th {\n",
       "        vertical-align: top;\n",
       "    }\n",
       "\n",
       "    .dataframe thead th {\n",
       "        text-align: right;\n",
       "    }\n",
       "</style>\n",
       "<table border=\"1\" class=\"dataframe\">\n",
       "  <thead>\n",
       "    <tr style=\"text-align: right;\">\n",
       "      <th></th>\n",
       "      <th>SMILES</th>\n",
       "      <th>source</th>\n",
       "      <th>mol</th>\n",
       "    </tr>\n",
       "  </thead>\n",
       "  <tbody>\n",
       "    <tr>\n",
       "      <th>20025</th>\n",
       "      <td>COc1ccc(-c2n(-c3ccccn3)c3ccccc3[n+]2-c2ccccn2)...</td>\n",
       "      <td>enamine</td>\n",
       "      <td>&lt;rdkit.Chem.rdchem.Mol object at 0x7f05a0e515b0&gt;</td>\n",
       "    </tr>\n",
       "    <tr>\n",
       "      <th>20440</th>\n",
       "      <td>[O-][Cl+3]([O-])([O-])[O-].c1ccc(-c2[se]c3nccc...</td>\n",
       "      <td>enamine</td>\n",
       "      <td>&lt;rdkit.Chem.rdchem.Mol object at 0x7f05a0eb0cf0&gt;</td>\n",
       "    </tr>\n",
       "    <tr>\n",
       "      <th>20867</th>\n",
       "      <td>OC1CSc2n(-c3ccccc3)c(-c3ccccc3)c(-c3ccccc3)[n+...</td>\n",
       "      <td>enamine</td>\n",
       "      <td>&lt;rdkit.Chem.rdchem.Mol object at 0x7f05a0e24970&gt;</td>\n",
       "    </tr>\n",
       "    <tr>\n",
       "      <th>24830</th>\n",
       "      <td>[O-][Cl+3]([O-])([O-])[O-].c1ccc(-c2ccc(-c3n(-...</td>\n",
       "      <td>enamine</td>\n",
       "      <td>&lt;rdkit.Chem.rdchem.Mol object at 0x7f05ae071e70&gt;</td>\n",
       "    </tr>\n",
       "    <tr>\n",
       "      <th>28659</th>\n",
       "      <td>COc1ccc(-c2cc(=Nc3cccc(C)c3C)c3cc(C)ccc3o2)cc1...</td>\n",
       "      <td>enamine</td>\n",
       "      <td>&lt;rdkit.Chem.rdchem.Mol object at 0x7f05a3667840&gt;</td>\n",
       "    </tr>\n",
       "    <tr>\n",
       "      <th>28794</th>\n",
       "      <td>CN(C)c1ccc(/C=C/c2cc(-c3ccccc3)c3ccccc3[o+]2)c...</td>\n",
       "      <td>enamine</td>\n",
       "      <td>&lt;rdkit.Chem.rdchem.Mol object at 0x7f05a35fb3e0&gt;</td>\n",
       "    </tr>\n",
       "  </tbody>\n",
       "</table>\n",
       "</div>"
      ],
      "text/plain": [
       "                                                  SMILES   source  \\\n",
       "20025  COc1ccc(-c2n(-c3ccccn3)c3ccccc3[n+]2-c2ccccn2)...  enamine   \n",
       "20440  [O-][Cl+3]([O-])([O-])[O-].c1ccc(-c2[se]c3nccc...  enamine   \n",
       "20867  OC1CSc2n(-c3ccccc3)c(-c3ccccc3)c(-c3ccccc3)[n+...  enamine   \n",
       "24830  [O-][Cl+3]([O-])([O-])[O-].c1ccc(-c2ccc(-c3n(-...  enamine   \n",
       "28659  COc1ccc(-c2cc(=Nc3cccc(C)c3C)c3cc(C)ccc3o2)cc1...  enamine   \n",
       "28794  CN(C)c1ccc(/C=C/c2cc(-c3ccccc3)c3ccccc3[o+]2)c...  enamine   \n",
       "\n",
       "                                                    mol  \n",
       "20025  <rdkit.Chem.rdchem.Mol object at 0x7f05a0e515b0>  \n",
       "20440  <rdkit.Chem.rdchem.Mol object at 0x7f05a0eb0cf0>  \n",
       "20867  <rdkit.Chem.rdchem.Mol object at 0x7f05a0e24970>  \n",
       "24830  <rdkit.Chem.rdchem.Mol object at 0x7f05ae071e70>  \n",
       "28659  <rdkit.Chem.rdchem.Mol object at 0x7f05a3667840>  \n",
       "28794  <rdkit.Chem.rdchem.Mol object at 0x7f05a35fb3e0>  "
      ]
     },
     "execution_count": 16,
     "metadata": {},
     "output_type": "execute_result"
    }
   ],
   "source": [
    "salt_check = all_df[all_df['SMILES'].str.contains('\\.')].copy()\n",
    "salt_check\n"
   ]
  },
  {
   "cell_type": "code",
   "execution_count": 17,
   "id": "50dd0d88",
   "metadata": {
    "execution": {
     "iopub.execute_input": "2024-04-17T16:21:06.595245Z",
     "iopub.status.busy": "2024-04-17T16:21:06.594539Z",
     "iopub.status.idle": "2024-04-17T16:21:06.608750Z",
     "shell.execute_reply": "2024-04-17T16:21:06.606828Z"
    },
    "papermill": {
     "duration": 2.448627,
     "end_time": "2024-04-17T16:21:06.612948",
     "exception": false,
     "start_time": "2024-04-17T16:21:04.164321",
     "status": "completed"
    },
    "tags": []
   },
   "outputs": [],
   "source": [
    "# from salt_check, remove the [O-][Cl+3]([O-])([O-])[O-] from the SMILES\n",
    "salt_check['SMILES'] = salt_check['SMILES'].str.replace(r'[O-][Cl+3]([O-])([O-])[O-].', '')\n",
    "salt_check['SMILES'] = salt_check['SMILES'].str.replace(r'.[O-][Cl+3]([O-])([O-])[O-]', '')\n",
    "salt_check['SMILES'] = salt_check['SMILES'].str.replace(r'.[O-][Cl+3]([O-])([O-])O', '')\n"
   ]
  },
  {
   "cell_type": "code",
   "execution_count": 18,
   "id": "da5a9ea7",
   "metadata": {
    "execution": {
     "iopub.execute_input": "2024-04-17T16:21:11.180937Z",
     "iopub.status.busy": "2024-04-17T16:21:11.180235Z",
     "iopub.status.idle": "2024-04-17T16:21:11.189778Z",
     "shell.execute_reply": "2024-04-17T16:21:11.188021Z"
    },
    "papermill": {
     "duration": 2.391531,
     "end_time": "2024-04-17T16:21:11.194161",
     "exception": false,
     "start_time": "2024-04-17T16:21:08.802630",
     "status": "completed"
    },
    "tags": []
   },
   "outputs": [
    {
     "name": "stdout",
     "output_type": "stream",
     "text": [
      "COc1ccc(-c2n(-c3ccccn3)c3ccccc3[n+]2-c2ccccn2)cc1\n",
      "c1ccc(-c2[se]c3nccc[n+]3c2-c2ccccc2)cc1\n",
      "OC1CSc2n(-c3ccccc3)c(-c3ccccc3)c(-c3ccccc3)[n+]2C1\n",
      "c1ccc(-c2ccc(-c3n(-c4ccccn4)c4ccccc4[n+]3-c3ccccn3)cc2)cc1\n",
      "COc1ccc(-c2cc(=Nc3cccc(C)c3C)c3cc(C)ccc3o2)cc1\n",
      "CN(C)c1ccc(/C=C/c2cc(-c3ccccc3)c3ccccc3[o+]2)cc1\n"
     ]
    }
   ],
   "source": [
    "for x in salt_check['SMILES']:\n",
    "    print(x)"
   ]
  },
  {
   "cell_type": "code",
   "execution_count": 19,
   "id": "4136e0a4",
   "metadata": {
    "execution": {
     "iopub.execute_input": "2024-04-17T16:21:15.310726Z",
     "iopub.status.busy": "2024-04-17T16:21:15.309180Z",
     "iopub.status.idle": "2024-04-17T16:21:15.780867Z",
     "shell.execute_reply": "2024-04-17T16:21:15.779780Z"
    },
    "papermill": {
     "duration": 2.388012,
     "end_time": "2024-04-17T16:21:15.784992",
     "exception": false,
     "start_time": "2024-04-17T16:21:13.396980",
     "status": "completed"
    },
    "tags": []
   },
   "outputs": [],
   "source": [
    "all_df['SMILES']  = all_df['SMILES'].str.replace(r'[O-][Cl+3]([O-])([O-])[O-].', '')\n",
    "all_df['SMILES']  = all_df['SMILES'].str.replace(r'.[O-][Cl+3]([O-])([O-])[O-]', '')\n",
    "all_df['SMILES']  = all_df['SMILES'].str.replace(r'.[O-][Cl+3]([O-])([O-])O', '')"
   ]
  },
  {
   "cell_type": "code",
   "execution_count": 20,
   "id": "24fdf8f3",
   "metadata": {
    "execution": {
     "iopub.execute_input": "2024-04-17T16:21:19.638869Z",
     "iopub.status.busy": "2024-04-17T16:21:19.638175Z",
     "iopub.status.idle": "2024-04-17T16:21:19.800500Z",
     "shell.execute_reply": "2024-04-17T16:21:19.799502Z"
    },
    "papermill": {
     "duration": 2.130513,
     "end_time": "2024-04-17T16:21:19.804536",
     "exception": false,
     "start_time": "2024-04-17T16:21:17.674023",
     "status": "completed"
    },
    "tags": []
   },
   "outputs": [
    {
     "data": {
      "text/html": [
       "<div>\n",
       "<style scoped>\n",
       "    .dataframe tbody tr th:only-of-type {\n",
       "        vertical-align: middle;\n",
       "    }\n",
       "\n",
       "    .dataframe tbody tr th {\n",
       "        vertical-align: top;\n",
       "    }\n",
       "\n",
       "    .dataframe thead th {\n",
       "        text-align: right;\n",
       "    }\n",
       "</style>\n",
       "<table border=\"1\" class=\"dataframe\">\n",
       "  <thead>\n",
       "    <tr style=\"text-align: right;\">\n",
       "      <th></th>\n",
       "      <th>SMILES</th>\n",
       "      <th>source</th>\n",
       "      <th>mol</th>\n",
       "    </tr>\n",
       "  </thead>\n",
       "  <tbody>\n",
       "  </tbody>\n",
       "</table>\n",
       "</div>"
      ],
      "text/plain": [
       "Empty DataFrame\n",
       "Columns: [SMILES, source, mol]\n",
       "Index: []"
      ]
     },
     "execution_count": 20,
     "metadata": {},
     "output_type": "execute_result"
    }
   ],
   "source": [
    "all_df[all_df['SMILES'].str.contains('\\.')]"
   ]
  },
  {
   "cell_type": "code",
   "execution_count": null,
   "id": "4a88e60c",
   "metadata": {
    "execution": {
     "iopub.execute_input": "2024-04-17T16:21:23.998099Z",
     "iopub.status.busy": "2024-04-17T16:21:23.997648Z",
     "iopub.status.idle": "2024-04-17T16:40:24.340431Z",
     "shell.execute_reply": "2024-04-17T16:40:24.338898Z"
    },
    "papermill": {
     "duration": 1146.232289,
     "end_time": "2024-04-17T16:40:28.168622",
     "exception": false,
     "start_time": "2024-04-17T16:21:21.936333",
     "status": "completed"
    },
    "tags": []
   },
   "outputs": [],
   "source": [
    "# Initialize a list to store molecules with disconnected components\n",
    "disconnected_mols = []\n",
    "\n",
    "# Process each row in all_df\n",
    "for idx, row in all_df.iterrows():\n",
    "    smiles = row['SMILES']\n",
    "    source = row['source']\n",
    "\n",
    "    # Standardize and correct SMILES\n",
    "    standardized_smiles = standardize_smiles(smiles)\n",
    "    if standardized_smiles is None:\n",
    "        print(f\"Invalid SMILES string at index {idx}: {smiles}\")\n",
    "        continue\n",
    "\n",
    "    corrected_smiles = correct_smiles(standardized_smiles)\n",
    "    mol_from_smiles = Chem.MolFromSmiles(corrected_smiles)\n",
    "\n",
    "    if mol_from_smiles is None or mol_from_smiles.GetNumAtoms() == 0:\n",
    "        print(f\"Invalid SMILES string after correction at index {idx}: {smiles}\")\n",
    "        continue\n",
    "\n",
    "    num_components = Chem.GetMolFrags(mol_from_smiles, asMols=False, sanitizeFrags=False)\n",
    "    if len(num_components) > 1:\n",
    "        print(f\"Disconnected components in molecule at index {idx}: {smiles}, from source {source}\")\n",
    "        disconnected_mols.append({'Index': idx, 'SMILES': corrected_smiles, 'Source': source})\n",
    "        all_df.at[idx, 'SMILES'] = corrected_smiles  # Update SMILES with corrected version\n",
    "\n",
    "# Recompute 'mol' column from corrected SMILES\n",
    "all_df['mol'] = all_df['SMILES'].apply(lambda x: Chem.MolFromSmiles(x))\n",
    "\n",
    "# Convert the list to a DataFrame and save to JSON\n",
    "disconnected_mols_2_df = pd.DataFrame(disconnected_mols)\n",
    "disconnected_mols_2_df.to_json('disconnected_mols_2_df_V2.json')\n",
    "\n",
    "# Optionally, print or return the DataFrame of disconnected molecules\n",
    "disconnected_mols_2_df"
   ]
  },
  {
   "cell_type": "code",
   "execution_count": 22,
   "id": "f2823f31",
   "metadata": {
    "execution": {
     "iopub.execute_input": "2024-04-17T16:40:35.519636Z",
     "iopub.status.busy": "2024-04-17T16:40:35.518923Z",
     "iopub.status.idle": "2024-04-17T16:41:52.504035Z",
     "shell.execute_reply": "2024-04-17T16:41:52.502741Z"
    },
    "papermill": {
     "duration": 80.426788,
     "end_time": "2024-04-17T16:41:52.508600",
     "exception": false,
     "start_time": "2024-04-17T16:40:32.081812",
     "status": "completed"
    },
    "tags": []
   },
   "outputs": [],
   "source": [
    "# drop the mol column\n",
    "all_df.drop(columns=['mol'], inplace=True)\n",
    "\n",
    "# compute mol from SMILES\n",
    "all_df['mol'] = all_df['SMILES'].apply(lambda x: Chem.MolFromSmiles(x))\n",
    "\n",
    "# drop SMILES column\n",
    "all_df.drop(columns=['SMILES'], inplace=True)\n",
    "\n"
   ]
  },
  {
   "cell_type": "code",
   "execution_count": 23,
   "id": "21a9d008",
   "metadata": {
    "execution": {
     "iopub.execute_input": "2024-04-17T16:41:59.891133Z",
     "iopub.status.busy": "2024-04-17T16:41:59.890397Z",
     "iopub.status.idle": "2024-04-17T16:42:35.697177Z",
     "shell.execute_reply": "2024-04-17T16:42:35.696043Z"
    },
    "papermill": {
     "duration": 39.460342,
     "end_time": "2024-04-17T16:42:35.701465",
     "exception": false,
     "start_time": "2024-04-17T16:41:56.241123",
     "status": "completed"
    },
    "tags": []
   },
   "outputs": [],
   "source": [
    "# compute SMILES from mol\n",
    "all_df['SMILES'] = all_df['mol'].apply(Chem.MolToSmiles, canonical=True)"
   ]
  },
  {
   "cell_type": "code",
   "execution_count": 24,
   "id": "6503ce12",
   "metadata": {
    "execution": {
     "iopub.execute_input": "2024-04-17T16:42:42.911797Z",
     "iopub.status.busy": "2024-04-17T16:42:42.910392Z",
     "iopub.status.idle": "2024-04-17T16:42:43.095437Z",
     "shell.execute_reply": "2024-04-17T16:42:43.093461Z"
    },
    "papermill": {
     "duration": 3.581224,
     "end_time": "2024-04-17T16:42:43.099730",
     "exception": false,
     "start_time": "2024-04-17T16:42:39.518506",
     "status": "completed"
    },
    "tags": []
   },
   "outputs": [
    {
     "data": {
      "text/html": [
       "<div>\n",
       "<style scoped>\n",
       "    .dataframe tbody tr th:only-of-type {\n",
       "        vertical-align: middle;\n",
       "    }\n",
       "\n",
       "    .dataframe tbody tr th {\n",
       "        vertical-align: top;\n",
       "    }\n",
       "\n",
       "    .dataframe thead th {\n",
       "        text-align: right;\n",
       "    }\n",
       "</style>\n",
       "<table border=\"1\" class=\"dataframe\">\n",
       "  <thead>\n",
       "    <tr style=\"text-align: right;\">\n",
       "      <th></th>\n",
       "      <th>source</th>\n",
       "      <th>mol</th>\n",
       "      <th>SMILES</th>\n",
       "    </tr>\n",
       "  </thead>\n",
       "  <tbody>\n",
       "  </tbody>\n",
       "</table>\n",
       "</div>"
      ],
      "text/plain": [
       "Empty DataFrame\n",
       "Columns: [source, mol, SMILES]\n",
       "Index: []"
      ]
     },
     "execution_count": 24,
     "metadata": {},
     "output_type": "execute_result"
    }
   ],
   "source": [
    "all_df[all_df['SMILES'].str.contains('\\.')]"
   ]
  },
  {
   "cell_type": "code",
   "execution_count": 25,
   "id": "372bafd8",
   "metadata": {
    "execution": {
     "iopub.execute_input": "2024-04-17T16:42:49.673990Z",
     "iopub.status.busy": "2024-04-17T16:42:49.672568Z",
     "iopub.status.idle": "2024-04-17T16:42:50.780725Z",
     "shell.execute_reply": "2024-04-17T16:42:50.779678Z"
    },
    "papermill": {
     "duration": 4.348046,
     "end_time": "2024-04-17T16:42:50.784443",
     "exception": false,
     "start_time": "2024-04-17T16:42:46.436397",
     "status": "completed"
    },
    "tags": []
   },
   "outputs": [
    {
     "name": "stdout",
     "output_type": "stream",
     "text": [
      "Chemdiv: 20000\n",
      "Enamine: 15520\n",
      "Enamine Protein: 460160\n",
      "Life Chemicals: 5544\n",
      "Robin: 2003\n"
     ]
    }
   ],
   "source": [
    "# using source column, divide the all_df into 5 different dataframes\n",
    "chemdiv_df = all_df[all_df['source'] == 'chemdiv']\n",
    "enamine_rna_df = all_df[all_df['source'] == 'enamine']\n",
    "enamine_protein_df = all_df[all_df['source'] == 'enamine_protein']\n",
    "life_chemicals_df = all_df[all_df['source'] == 'life_chemicals']\n",
    "robin_df = all_df[all_df['source'] == 'robin']\n",
    "\n",
    "# statistics of the number of molecules in each dataset\n",
    "print(f'Chemdiv: {len(chemdiv_df)}')\n",
    "print(f'Enamine: {len(enamine_rna_df)}')\n",
    "print(f'Enamine Protein: {len(enamine_protein_df)}')\n",
    "print(f'Life Chemicals: {len(life_chemicals_df)}')\n",
    "print(f'Robin: {len(robin_df)}')\n"
   ]
  },
  {
   "cell_type": "code",
   "execution_count": 26,
   "id": "e797de28",
   "metadata": {
    "execution": {
     "iopub.execute_input": "2024-04-17T16:42:56.594782Z",
     "iopub.status.busy": "2024-04-17T16:42:56.594214Z",
     "iopub.status.idle": "2024-04-17T16:42:56.602238Z",
     "shell.execute_reply": "2024-04-17T16:42:56.600332Z"
    },
    "papermill": {
     "duration": 3.310963,
     "end_time": "2024-04-17T16:42:56.604822",
     "exception": false,
     "start_time": "2024-04-17T16:42:53.293859",
     "status": "completed"
    },
    "tags": []
   },
   "outputs": [],
   "source": [
    "# create a folder for standardized data\n",
    "if not os.path.exists('../data/standardized_data'):\n",
    "    os.makedirs('../data/standardized_data')"
   ]
  },
  {
   "cell_type": "code",
   "execution_count": 27,
   "id": "06d0cd85",
   "metadata": {
    "execution": {
     "iopub.execute_input": "2024-04-17T16:43:05.199151Z",
     "iopub.status.busy": "2024-04-17T16:43:05.197729Z",
     "iopub.status.idle": "2024-04-17T16:43:26.912656Z",
     "shell.execute_reply": "2024-04-17T16:43:26.911101Z"
    },
    "papermill": {
     "duration": 25.899353,
     "end_time": "2024-04-17T16:43:26.917341",
     "exception": false,
     "start_time": "2024-04-17T16:43:01.017988",
     "status": "completed"
    },
    "tags": []
   },
   "outputs": [],
   "source": [
    "# save standardized data as pickle files\n",
    "chemdiv_df.to_pickle('../data/standardized_data/chemdiv_df.pkl')\n",
    "life_chemicals_df.to_pickle('../data/standardized_data/life_chemicals_df.pkl')\n",
    "enamine_rna_df.to_pickle('../data/standardized_data/enamine_rna_df.pkl')\n",
    "enamine_protein_df.to_pickle('../data/standardized_data/enamine_protein_df.pkl')\n",
    "robin_df.to_pickle('../data/standardized_data/robin_df.pkl')\n"
   ]
  },
  {
   "cell_type": "code",
   "execution_count": 28,
   "id": "382f47f1",
   "metadata": {
    "execution": {
     "iopub.execute_input": "2024-04-17T16:43:34.025861Z",
     "iopub.status.busy": "2024-04-17T16:43:34.025128Z",
     "iopub.status.idle": "2024-04-17T16:43:34.034247Z",
     "shell.execute_reply": "2024-04-17T16:43:34.032430Z"
    },
    "papermill": {
     "duration": 3.594952,
     "end_time": "2024-04-17T16:43:34.036909",
     "exception": false,
     "start_time": "2024-04-17T16:43:30.441957",
     "status": "completed"
    },
    "tags": []
   },
   "outputs": [],
   "source": [
    "# create folder for sdf files in standardized_data folder\n",
    "if not os.path.exists('../data/standardized_data/sdf_files'):\n",
    "    os.makedirs('../data/standardized_data/sdf_files')"
   ]
  },
  {
   "cell_type": "code",
   "execution_count": 29,
   "id": "90952a72",
   "metadata": {
    "execution": {
     "iopub.execute_input": "2024-04-17T16:43:42.262620Z",
     "iopub.status.busy": "2024-04-17T16:43:42.260707Z",
     "iopub.status.idle": "2024-04-17T16:47:49.821685Z",
     "shell.execute_reply": "2024-04-17T16:47:49.820038Z"
    },
    "papermill": {
     "duration": 251.400329,
     "end_time": "2024-04-17T16:47:49.826048",
     "exception": false,
     "start_time": "2024-04-17T16:43:38.425719",
     "status": "completed"
    },
    "tags": []
   },
   "outputs": [],
   "source": [
    "# save standardized data as sdf files using rdkit\n",
    "Chem.PandasTools.WriteSDF(chemdiv_df, '../data/standardized_data/sdf_files/chemdiv_df.sdf', molColName='mol', properties=list(chemdiv_df.columns))\n",
    "Chem.PandasTools.WriteSDF(life_chemicals_df, '../data/standardized_data/sdf_files/life_chemicals_df.sdf', molColName='mol', properties=list(life_chemicals_df.columns))\n",
    "Chem.PandasTools.WriteSDF(enamine_rna_df, '../data/standardized_data/sdf_files/enamine_rna_df.sdf', molColName='mol', properties=list(enamine_rna_df.columns))\n",
    "Chem.PandasTools.WriteSDF(enamine_protein_df, '../data/standardized_data/sdf_files/enamine_protein_df.sdf', molColName='mol', properties=list(enamine_protein_df.columns))\n",
    "Chem.PandasTools.WriteSDF(robin_df, '../data/standardized_data/sdf_files/robin_df.sdf', molColName='mol', properties=list(robin_df.columns))\n"
   ]
  }
 ],
 "metadata": {
  "kernelspec": {
   "display_name": "cdd",
   "language": "python",
   "name": "python3"
  },
  "language_info": {
   "codemirror_mode": {
    "name": "ipython",
    "version": 3
   },
   "file_extension": ".py",
   "mimetype": "text/x-python",
   "name": "python",
   "nbconvert_exporter": "python",
   "pygments_lexer": "ipython3",
   "version": "3.10.10"
  },
  "papermill": {
   "default_parameters": {},
   "duration": 4351.431654,
   "end_time": "2024-04-17T16:47:56.785584",
   "environment_variables": {},
   "exception": null,
   "input_path": "01_standardization.ipynb",
   "output_path": "./final/01_standardization_final.ipynb",
   "parameters": {},
   "start_time": "2024-04-17T15:35:25.353930",
   "version": "2.3.4"
  }
 },
 "nbformat": 4,
 "nbformat_minor": 5
}
