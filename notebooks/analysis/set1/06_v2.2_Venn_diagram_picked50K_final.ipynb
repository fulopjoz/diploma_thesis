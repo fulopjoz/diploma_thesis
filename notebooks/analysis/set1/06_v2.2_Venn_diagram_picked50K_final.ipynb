{
 "cells": [
  {
   "cell_type": "code",
   "execution_count": 1,
   "id": "aa3f77ea",
   "metadata": {
    "execution": {
     "iopub.execute_input": "2024-04-17T19:12:39.048212Z",
     "iopub.status.busy": "2024-04-17T19:12:39.047168Z",
     "iopub.status.idle": "2024-04-17T19:12:39.789433Z",
     "shell.execute_reply": "2024-04-17T19:12:39.788317Z"
    },
    "papermill": {
     "duration": 0.759802,
     "end_time": "2024-04-17T19:12:39.793618",
     "exception": false,
     "start_time": "2024-04-17T19:12:39.033816",
     "status": "completed"
    },
    "tags": []
   },
   "outputs": [],
   "source": [
    "import pandas as pd\n",
    "\n",
    "from rdkit.Chem import Draw, MolToSmiles, MolFromSmiles\n",
    "from venn import venn\n",
    "import matplotlib.pyplot as plt"
   ]
  },
  {
   "cell_type": "code",
   "execution_count": 2,
   "id": "aad3e768",
   "metadata": {
    "execution": {
     "iopub.execute_input": "2024-04-17T19:12:39.812323Z",
     "iopub.status.busy": "2024-04-17T19:12:39.811924Z",
     "iopub.status.idle": "2024-04-17T19:12:53.482440Z",
     "shell.execute_reply": "2024-04-17T19:12:53.481304Z"
    },
    "papermill": {
     "duration": 13.682972,
     "end_time": "2024-04-17T19:12:53.486573",
     "exception": false,
     "start_time": "2024-04-17T19:12:39.803601",
     "status": "completed"
    },
    "tags": []
   },
   "outputs": [],
   "source": [
    "# load datasets pickle from ../data/standardized_data\n",
    "\n",
    "chemdiv_rna = pd.read_pickle('../data/standardized_data/chemdiv_df.pkl')\n",
    "enamine_rna = pd.read_pickle('../data/standardized_data/enamine_rna_df.pkl')\n",
    "enamine_protein = pd.read_pickle('../data/standardized_data/enamine_protein_df.pkl')\n",
    "life_chemicals = pd.read_pickle('../data/standardized_data/life_chemicals_df.pkl')\n",
    "robin_df = pd.read_pickle('../data/standardized_data/robin_df.pkl')"
   ]
  },
  {
   "cell_type": "code",
   "execution_count": 3,
   "id": "b473fb41",
   "metadata": {
    "execution": {
     "iopub.execute_input": "2024-04-17T19:12:53.506071Z",
     "iopub.status.busy": "2024-04-17T19:12:53.505708Z",
     "iopub.status.idle": "2024-04-17T19:12:53.521737Z",
     "shell.execute_reply": "2024-04-17T19:12:53.520399Z"
    },
    "papermill": {
     "duration": 0.028815,
     "end_time": "2024-04-17T19:12:53.525607",
     "exception": false,
     "start_time": "2024-04-17T19:12:53.496792",
     "status": "completed"
    },
    "tags": []
   },
   "outputs": [],
   "source": [
    "# for each dataset create a column source, which will be used to identify the source of the molecule\n",
    "\n",
    "chemdiv_rna['source'] = 'Chemdiv_RNA'\n",
    "enamine_rna['source'] = 'Enamine_RNA'\n",
    "enamine_protein['source'] = 'Enamine_Protein'\n",
    "life_chemicals['source'] = 'Life_chemicals_RNA'\n",
    "robin_df['source'] = 'ROBIN_RNA'\n"
   ]
  },
  {
   "cell_type": "code",
   "execution_count": 4,
   "id": "d0761fef",
   "metadata": {
    "execution": {
     "iopub.execute_input": "2024-04-17T19:12:53.543488Z",
     "iopub.status.busy": "2024-04-17T19:12:53.542919Z",
     "iopub.status.idle": "2024-04-17T19:13:35.169159Z",
     "shell.execute_reply": "2024-04-17T19:13:35.168113Z"
    },
    "papermill": {
     "duration": 41.639577,
     "end_time": "2024-04-17T19:13:35.173582",
     "exception": false,
     "start_time": "2024-04-17T19:12:53.534005",
     "status": "completed"
    },
    "tags": []
   },
   "outputs": [],
   "source": [
    "# calculate canonical SMILES for each dataset using 'mol' column\n",
    "chemdiv_rna['SMILES'] = chemdiv_rna['mol'].apply(MolToSmiles, canonical=True)\n",
    "enamine_rna['SMILES'] = enamine_rna['mol'].apply(MolToSmiles, canonical=True)\n",
    "enamine_protein['SMILES'] = enamine_protein['mol'].apply(MolToSmiles, canonical=True)\n",
    "life_chemicals['SMILES'] = life_chemicals['mol'].apply(MolToSmiles, canonical=True)\n",
    "robin_df['SMILES'] = robin_df['mol'].apply(MolToSmiles, canonical=True)\n",
    "\n",
    "# create a list of all datasets\n",
    "datasets = [chemdiv_rna, enamine_rna, enamine_protein, life_chemicals, robin_df]"
   ]
  },
  {
   "cell_type": "code",
   "execution_count": 5,
   "id": "aab0fac8",
   "metadata": {
    "execution": {
     "iopub.execute_input": "2024-04-17T19:13:35.192545Z",
     "iopub.status.busy": "2024-04-17T19:13:35.191905Z",
     "iopub.status.idle": "2024-04-17T19:13:35.200598Z",
     "shell.execute_reply": "2024-04-17T19:13:35.198916Z"
    },
    "papermill": {
     "duration": 0.021585,
     "end_time": "2024-04-17T19:13:35.204579",
     "exception": false,
     "start_time": "2024-04-17T19:13:35.182994",
     "status": "completed"
    },
    "tags": []
   },
   "outputs": [],
   "source": [
    "# create folder venn_diagrams to save venn diagrams\n",
    "import os\n",
    "if not os.path.exists('../output/venn_diagrams/v2'):\n",
    "    os.makedirs('../output/venn_diagrams/v2')"
   ]
  },
  {
   "cell_type": "code",
   "execution_count": 6,
   "id": "6030a078",
   "metadata": {
    "execution": {
     "iopub.execute_input": "2024-04-17T19:13:35.228706Z",
     "iopub.status.busy": "2024-04-17T19:13:35.228104Z",
     "iopub.status.idle": "2024-04-17T19:13:38.340574Z",
     "shell.execute_reply": "2024-04-17T19:13:38.339463Z"
    },
    "papermill": {
     "duration": 3.131592,
     "end_time": "2024-04-17T19:13:38.344780",
     "exception": false,
     "start_time": "2024-04-17T19:13:35.213188",
     "status": "completed"
    },
    "tags": []
   },
   "outputs": [
    {
     "data": {
      "text/plain": [
       "<Figure size 800x800 with 0 Axes>"
      ]
     },
     "metadata": {},
     "output_type": "display_data"
    },
    {
     "data": {
      "text/plain": [
       "<Figure size 800x800 with 0 Axes>"
      ]
     },
     "metadata": {},
     "output_type": "display_data"
    }
   ],
   "source": [
    "\n",
    "def read_smiles(dataframe):\n",
    "    return set(dataframe['SMILES'])\n",
    "\n",
    "# Read the SMILES from each DataFrame and store them in separate variables\n",
    "library1 = read_smiles(enamine_protein)\n",
    "library2 = read_smiles(life_chemicals)\n",
    "library3 = read_smiles(chemdiv_rna)\n",
    "library4 = read_smiles(enamine_rna)\n",
    "library5 = read_smiles(robin_df)\n",
    "\n",
    "# Create a merged library from libraries 2, 3, 4, and 5\n",
    "merged_library = library2.union(library3, library4, library5)\n",
    "\n",
    "# Calculate intersections and store duplicates for the first Venn Diagram\n",
    "intersections_1 = {\n",
    "    \"RNA-Targeted Life Chemicals & RNA-Targeted Chemdiv\": library2.intersection(library3),\n",
    "    \"RNA-Targeted Life Chemicals & RNA-Targeted Enamine\": library2.intersection(library4),\n",
    "    \"RNA-Targeted Life Chemicals & RNA-Targeted ROBIN\": library2.intersection(library5),\n",
    "    \"RNA-Targeted Chemdiv & RNA-Targeted ROBIN\": library3.intersection(library5),\n",
    "    \"RNA-Targeted Enamine & RNA-Targeted ROBIN\": library4.intersection(library5),\n",
    "    \"RNA-Targeted Chemdiv & RNA-Targeted Enamine\": library3.intersection(library4),\n",
    "    \"RNA-Targeted Chemdiv & RNA-Targeted Enamine & RNA-Targeted ROBIN\": library3.intersection(library4, library5),\n",
    "    \"RNA-Targeted Life Chemicals & RNA-Targeted Chemdiv & RNA-Targeted Enamine\": library2.intersection(library3, library4),\n",
    "    \"RNA-Targeted Life Chemicals & RNA-Targeted Chemdiv & RNA-Targeted ROBIN\": library2.intersection(library3, library5),\n",
    "    \"RNA-Targeted Life Chemicals & RNA-Targeted Enamine & RNA-Targeted ROBIN\": library2.intersection(library4, library5),\n",
    "    \"RNA-Targeted Chemdiv & RNA-Targeted Enamine & RNA-Targeted ROBIN\": library3.intersection(library4, library5),\n",
    "    \"RNA-Targeted Life Chemicals & RNA-Targeted Chemdiv & RNA-Targeted Enamine & RNA-Targeted ROBIN\": library2.intersection(library3, library4, library5),\n",
    "    \"All Libraries\": library2.intersection(library3, library4, library5),\n",
    "}\n",
    "\n",
    "# Save duplicates information as pickled DataFrames for each intersection in the first Venn Diagram\n",
    "for key, value in intersections_1.items():\n",
    "    mols = [MolFromSmiles(smiles) for smiles in value]\n",
    "    duplicates_1 = pd.DataFrame({\"mol\": mols, \"SMILES\": list(value)})\n",
    "    pickle_file_name = f\"venn_intersections_1_{key.replace(' ', '_')}.pkl\"\n",
    "    duplicates_1.to_pickle(f'../output/venn_diagrams/v2/{pickle_file_name}')\n",
    "\n",
    "# Create the first Venn diagram\n",
    "dataset_dict_1 = {\n",
    "    \"RNA-Targeted Life Chemicals\": library2,\n",
    "    \"RNA-Targeted Chemdiv\": library3,\n",
    "    \"RNA-Targeted Enamine\": library4,\n",
    "    \"RNA-Targeted ROBIN\": library5,\n",
    "}\n",
    "venn(dataset_dict_1, fmt=\"{size}\", cmap=\"viridis\")\n",
    "\n",
    "# Save the first figure\n",
    "plt.savefig('../output/venn_diagrams/v2/venn_diagram_1_50K_picked.png', dpi=400)\n",
    "\n",
    "plt.clf()  # clear figure for next plot\n",
    "\n",
    "# Calculate intersections and store duplicates for the second Venn Diagram\n",
    "intersections_2 = {\n",
    "    \"Protein-Targeted Enamine & Merged RNA-Targeted Libraries\": library1.intersection(merged_library),\n",
    "}\n",
    "\n",
    "# Save duplicates information as a pickled DataFrame for the second Venn Diagram\n",
    "for key, value in intersections_2.items():\n",
    "    mols = [MolFromSmiles(smiles) for smiles in value]\n",
    "    duplicates_2 = pd.DataFrame({\"mol\": mols, \"SMILES\": list(value)})\n",
    "    pickle_file_name = f\"venn_intersections_2__50K_picked{key.replace(' ', '_')}.pkl\"\n",
    "    duplicates_2.to_pickle(f'../output/venn_diagrams/v2/{pickle_file_name}_50K_picked')\n",
    "\n",
    "\n",
    "\n",
    "# Create the second Venn diagram\n",
    "dataset_dict_2 = {\n",
    "    \"Protein-Targeted Enamine\": library1,\n",
    "    \"Merged RNA-Targeted Libraries\": merged_library,\n",
    "}\n",
    "venn(dataset_dict_2, fmt=\"{size}\", cmap=\"viridis\")\n",
    "\n",
    "# Save the second figure\n",
    "plt.savefig('../output/venn_diagrams/v2/venn_diagram_2_50K_picked.png', dpi=600)\n",
    "plt.clf()  # clear figure for next plot\n"
   ]
  },
  {
   "cell_type": "code",
   "execution_count": 7,
   "id": "9f563f4a",
   "metadata": {
    "execution": {
     "iopub.execute_input": "2024-04-17T19:13:38.363984Z",
     "iopub.status.busy": "2024-04-17T19:13:38.363333Z",
     "iopub.status.idle": "2024-04-17T19:13:42.555574Z",
     "shell.execute_reply": "2024-04-17T19:13:42.553929Z"
    },
    "papermill": {
     "duration": 4.205055,
     "end_time": "2024-04-17T19:13:42.559401",
     "exception": false,
     "start_time": "2024-04-17T19:13:38.354346",
     "status": "completed"
    },
    "tags": []
   },
   "outputs": [
    {
     "data": {
      "text/plain": [
       "<Figure size 800x800 with 0 Axes>"
      ]
     },
     "metadata": {},
     "output_type": "display_data"
    }
   ],
   "source": [
    "# now I need to create a merged dataframe chemdiv+enamine and create a venn diagram with life_chemicals and robin and the merged dataframe\n",
    "\n",
    "# merge chemdiv and enamine\n",
    "merged_chemdiv_enamine = pd.concat([chemdiv_rna, enamine_rna], ignore_index=True)\n",
    "\n",
    "# calculate canonical SMILES for the merged dataframe\n",
    "merged_chemdiv_enamine['SMILES'] = merged_chemdiv_enamine['mol'].apply(MolToSmiles, canonical=True)\n",
    "\n",
    "# Read the SMILES from the merged DataFrame and store them in a variable\n",
    "library6 = read_smiles(merged_chemdiv_enamine)\n",
    "\n",
    "# Calculate intersections of the merged DataFrame with libraries 2 and 5\n",
    "intersections_3 = {\n",
    "    \"RNA-Targeted Life Chemicals & Merged RNA-Targeted Libraries\": library2.intersection(library6),\n",
    "    \"RNA-Targeted ROBIN & Merged RNA-Targeted Libraries\": library5.intersection(library6),\n",
    "    \"RNA-Targeted Life Chemicals & RNA-Targeted ROBIN & Merged RNA-Targeted Libraries\": library2.intersection(library5, library6),\n",
    "}\n",
    "\n",
    "# Save duplicates information as pickled DataFrames for each intersection in the third Venn Diagram\n",
    "for key, value in intersections_3.items():\n",
    "    mols = [MolFromSmiles(smiles) for smiles in value]\n",
    "    duplicates_3 = pd.DataFrame({\"mol\": mols, \"SMILES\": list(value)})\n",
    "    pickle_file_name = f\"venn_intersections_3__50K_picked{key.replace(' ', '_')}.pkl\"\n",
    "    duplicates_3.to_pickle(f'../output/venn_diagrams/v2/{pickle_file_name}_50K_picked')\n",
    "    \n",
    "    \n",
    "# Create the third Venn diagram\n",
    "dataset_dict_3 = {\n",
    "    \"RNA-Targeted Life Chemicals\": library2,\n",
    "        \"RNA-Targeted Merged Chemdiv & Enamine\": library6,\n",
    "    \"RNA-Targeted ROBIN\": library5,\n",
    "}\n",
    "\n",
    "venn(dataset_dict_3, fmt=\"{size}\", cmap=\"viridis\")\n",
    "\n",
    "# Save the third figure\n",
    "plt.savefig('../output/venn_diagrams/v2/venn_diagram_3_50K_picked.png', dpi=600)\n",
    "plt.clf()  # clear figure for next plot\n",
    "\n"
   ]
  },
  {
   "cell_type": "code",
   "execution_count": 8,
   "id": "9f9ae88a",
   "metadata": {
    "execution": {
     "iopub.execute_input": "2024-04-17T19:13:42.581625Z",
     "iopub.status.busy": "2024-04-17T19:13:42.580942Z",
     "iopub.status.idle": "2024-04-17T19:13:42.600348Z",
     "shell.execute_reply": "2024-04-17T19:13:42.598789Z"
    },
    "papermill": {
     "duration": 0.033361,
     "end_time": "2024-04-17T19:13:42.603613",
     "exception": false,
     "start_time": "2024-04-17T19:13:42.570252",
     "status": "completed"
    },
    "tags": []
   },
   "outputs": [],
   "source": [
    "# save all intersection as smiles to txt file \n",
    "for key, value in intersections_1.items():\n",
    "    with open(f'../output/venn_diagrams/v2/{key.replace(\" \", \"_\")}_50K_picked.txt', 'w') as file:\n",
    "        for item in value:\n",
    "            file.write(\"%s\\n\" % item)\n",
    "            \n",
    "for key, value in intersections_2.items():\n",
    "    with open(f'../output/venn_diagrams/v2/{key.replace(\" \", \"_\")}_50K_picked.txt', 'w') as file:\n",
    "        for item in value:\n",
    "            file.write(\"%s\\n\" % item)\n",
    "            \n",
    "for key, value in intersections_3.items():\n",
    "    with open(f'../output/venn_diagrams/v2/{key.replace(\" \", \"_\")}_50K_picked.txt', 'w') as file:\n",
    "        for item in value:\n",
    "            file.write(\"%s\\n\" % item)\n",
    "            \n"
   ]
  },
  {
   "cell_type": "code",
   "execution_count": 9,
   "id": "88cccffb",
   "metadata": {
    "execution": {
     "iopub.execute_input": "2024-04-17T19:13:42.622662Z",
     "iopub.status.busy": "2024-04-17T19:13:42.622062Z",
     "iopub.status.idle": "2024-04-17T19:13:42.631300Z",
     "shell.execute_reply": "2024-04-17T19:13:42.629721Z"
    },
    "papermill": {
     "duration": 0.02153,
     "end_time": "2024-04-17T19:13:42.634250",
     "exception": false,
     "start_time": "2024-04-17T19:13:42.612720",
     "status": "completed"
    },
    "tags": []
   },
   "outputs": [],
   "source": [
    "# # load datasets pickle venn_intersections_1.pkl from ../data/standardized_data\n",
    "# venn_intersections_1_all = pd.read_pickle('../output/venn_diagrams/v2/venn_intersections_1_All_Libraries.pkl')\n",
    "\n",
    "# life_chemicals_robin = pd.read_pickle('../output/venn_diagrams/v2/venn_intersections_1_RNA-Targeted_Life_Chemicals_&_RNA-Targeted_ROBIN.pkl')\n",
    "# life_chemicals_chemdiv = pd.read_pickle('../output/venn_diagrams/v2/venn_intersections_1_RNA-Targeted_Life_Chemicals_&_RNA-Targeted_Chemdiv.pkl')\n",
    "# life_chemicals_enamine = pd.read_pickle('../output/venn_diagrams/v2/venn_intersections_1_RNA-Targeted_Life_Chemicals_&_RNA-Targeted_Enamine.pkl')\n",
    "\n",
    "# chemdiv_rna_robin = pd.read_pickle('../output/venn_diagrams/v2/venn_intersections_1_RNA-Targeted_Chemdiv_&_RNA-Targeted_ROBIN.pkl')\n",
    "# chemdiv_rna_enamine = pd.read_pickle('../output/venn_diagrams/v2/venn_intersections_1_RNA-Targeted_Chemdiv_&_RNA-Targeted_Enamine.pkl')\n",
    "# enamine_rna_robin = pd.read_pickle('../output/venn_diagrams/v2/venn_intersections_1_RNA-Targeted_Enamine_&_RNA-Targeted_ROBIN.pkl')\n",
    "\n",
    "# chemdiv_rna_enamine_robin = pd.read_pickle('../output/venn_diagrams/v2/venn_intersections_1_RNA-Targeted_Chemdiv_&_RNA-Targeted_Enamine_&_RNA-Targeted_ROBIN.pkl')\n",
    "\n",
    "# life_chemicals_chemdiv_enamine = pd.read_pickle('../output/venn_diagrams/v2/venn_intersections_1_RNA-Targeted_Life_Chemicals_&_RNA-Targeted_Chemdiv_&_RNA-Targeted_Enamine.pkl')\n",
    "# life_chemicals_chemdiv_robin = pd.read_pickle('../output/venn_diagrams/v2/venn_intersections_1_RNA-Targeted_Life_Chemicals_&_RNA-Targeted_Chemdiv_&_RNA-Targeted_ROBIN.pkl')\n",
    "# life_chemicals_enamine_robin = pd.read_pickle('../output/venn_diagrams/v2/venn_intersections_1_RNA-Targeted_Life_Chemicals_&_RNA-Targeted_Enamine_&_RNA-Targeted_ROBIN.pkl')\n",
    "\n",
    "# life_chemicals_merged = pd.read_pickle('../output/venn_diagrams/v2/venn_intersections_3_RNA-Targeted_Life_Chemicals_&_Merged_RNA-Targeted_Libraries.pkl')\n",
    "# robin_merged = pd.read_pickle('../output/venn_diagrams/v2/venn_intersections_3_RNA-Targeted_ROBIN_&_Merged_RNA-Targeted_Libraries.pkl')\n",
    "# all_rna_libs = pd.read_pickle('../output/venn_diagrams/v2/venn_intersections_3_RNA-Targeted_Life_Chemicals_&_RNA-Targeted_ROBIN_&_Merged_RNA-Targeted_Libraries.pkl')\n",
    "\n",
    "# protein_all_rna = pd.read_pickle('../output/venn_diagrams/v2/venn_intersections_2_Protein-Targeted_Enamine_&_Merged_RNA-Targeted_Libraries.pkl')\n",
    "\n"
   ]
  },
  {
   "cell_type": "code",
   "execution_count": 10,
   "id": "a003bcfc",
   "metadata": {
    "execution": {
     "iopub.execute_input": "2024-04-17T19:13:42.649115Z",
     "iopub.status.busy": "2024-04-17T19:13:42.647774Z",
     "iopub.status.idle": "2024-04-17T19:13:42.655435Z",
     "shell.execute_reply": "2024-04-17T19:13:42.653503Z"
    },
    "papermill": {
     "duration": 0.017622,
     "end_time": "2024-04-17T19:13:42.658279",
     "exception": false,
     "start_time": "2024-04-17T19:13:42.640657",
     "status": "completed"
    },
    "tags": []
   },
   "outputs": [],
   "source": [
    "# all_rna_libs"
   ]
  },
  {
   "cell_type": "code",
   "execution_count": 11,
   "id": "a944876e",
   "metadata": {
    "execution": {
     "iopub.execute_input": "2024-04-17T19:13:42.686449Z",
     "iopub.status.busy": "2024-04-17T19:13:42.685120Z",
     "iopub.status.idle": "2024-04-17T19:13:42.692461Z",
     "shell.execute_reply": "2024-04-17T19:13:42.690812Z"
    },
    "papermill": {
     "duration": 0.0212,
     "end_time": "2024-04-17T19:13:42.696321",
     "exception": false,
     "start_time": "2024-04-17T19:13:42.675121",
     "status": "completed"
    },
    "tags": []
   },
   "outputs": [],
   "source": [
    "# # visualize the molecules in the intersection of life_chemicals and merged_chemdiv_enamine\n",
    "# Draw.MolsToGridImage(list(life_chemicals_merged['mol']), molsPerRow=5, subImgSize=(400, 400), useSVG=True, legends=list(life_chemicals_merged['SMILES']))"
   ]
  },
  {
   "cell_type": "code",
   "execution_count": 12,
   "id": "bf5b7948",
   "metadata": {
    "execution": {
     "iopub.execute_input": "2024-04-17T19:13:42.715614Z",
     "iopub.status.busy": "2024-04-17T19:13:42.714328Z",
     "iopub.status.idle": "2024-04-17T19:13:42.721770Z",
     "shell.execute_reply": "2024-04-17T19:13:42.719939Z"
    },
    "papermill": {
     "duration": 0.019986,
     "end_time": "2024-04-17T19:13:42.724970",
     "exception": false,
     "start_time": "2024-04-17T19:13:42.704984",
     "status": "completed"
    },
    "tags": []
   },
   "outputs": [],
   "source": [
    "# # visualize the molecules in the intersection of robin and merged_chemdiv_enamine\n",
    "# Draw.MolsToGridImage(list(robin_merged['mol']), molsPerRow=4, subImgSize=(400, 400), useSVG=True, legends=list(robin_merged['SMILES']))\n"
   ]
  },
  {
   "cell_type": "code",
   "execution_count": 13,
   "id": "91e957fd",
   "metadata": {
    "execution": {
     "iopub.execute_input": "2024-04-17T19:13:42.740510Z",
     "iopub.status.busy": "2024-04-17T19:13:42.739231Z",
     "iopub.status.idle": "2024-04-17T19:13:42.746915Z",
     "shell.execute_reply": "2024-04-17T19:13:42.744915Z"
    },
    "papermill": {
     "duration": 0.017725,
     "end_time": "2024-04-17T19:13:42.749552",
     "exception": false,
     "start_time": "2024-04-17T19:13:42.731827",
     "status": "completed"
    },
    "tags": []
   },
   "outputs": [],
   "source": [
    "# # visualize the molecules in the intersection of life_chemicals and robin and merged_chemdiv_enamine\n",
    "# Draw.MolsToGridImage(list(all_rna_libs['mol']), molsPerRow=1, subImgSize=(400, 400), useSVG=True, legends=list(all_rna_libs['SMILES']))"
   ]
  },
  {
   "cell_type": "code",
   "execution_count": 14,
   "id": "fb407c25",
   "metadata": {
    "execution": {
     "iopub.execute_input": "2024-04-17T19:13:42.763678Z",
     "iopub.status.busy": "2024-04-17T19:13:42.762440Z",
     "iopub.status.idle": "2024-04-17T19:13:42.769484Z",
     "shell.execute_reply": "2024-04-17T19:13:42.767747Z"
    },
    "papermill": {
     "duration": 0.017105,
     "end_time": "2024-04-17T19:13:42.772104",
     "exception": false,
     "start_time": "2024-04-17T19:13:42.754999",
     "status": "completed"
    },
    "tags": []
   },
   "outputs": [],
   "source": [
    "# # print out smiles of molecules in the intersection of life_chemicals and robin and merged_chemdiv_enamine\n",
    "# print(list(all_rna_libs['SMILES']))"
   ]
  },
  {
   "cell_type": "code",
   "execution_count": 15,
   "id": "be69c7b3",
   "metadata": {
    "execution": {
     "iopub.execute_input": "2024-04-17T19:13:42.786977Z",
     "iopub.status.busy": "2024-04-17T19:13:42.785663Z",
     "iopub.status.idle": "2024-04-17T19:13:42.792780Z",
     "shell.execute_reply": "2024-04-17T19:13:42.791100Z"
    },
    "papermill": {
     "duration": 0.017772,
     "end_time": "2024-04-17T19:13:42.795637",
     "exception": false,
     "start_time": "2024-04-17T19:13:42.777865",
     "status": "completed"
    },
    "tags": []
   },
   "outputs": [],
   "source": [
    "# # print this smiles  CN(C)CCNc1nc2c(c(=O)n(C)c(=O)n2C)n1Cc1ccccc1Cl and visualize it\n",
    "# mol = MolFromSmiles('CN(C)CCNc1nc2c(c(=O)n(C)c(=O)n2C)n1Cc1ccccc1Cl')\n",
    "# Draw.MolToImage(mol, size=(400, 400), useSVG=True)"
   ]
  },
  {
   "cell_type": "code",
   "execution_count": 16,
   "id": "a896b800",
   "metadata": {
    "execution": {
     "iopub.execute_input": "2024-04-17T19:13:42.808825Z",
     "iopub.status.busy": "2024-04-17T19:13:42.808232Z",
     "iopub.status.idle": "2024-04-17T19:13:42.815502Z",
     "shell.execute_reply": "2024-04-17T19:13:42.813747Z"
    },
    "papermill": {
     "duration": 0.016929,
     "end_time": "2024-04-17T19:13:42.818242",
     "exception": false,
     "start_time": "2024-04-17T19:13:42.801313",
     "status": "completed"
    },
    "tags": []
   },
   "outputs": [],
   "source": [
    "# # print this smiles  Cn1c2c(c(=O)n(c1=O)C)n(c(n2)NCCN(C)C)Cc3ccccc3Cl and visualize it\n",
    "# mol = MolFromSmiles('Cn1c2c(c(=O)n(c1=O)C)n(c(n2)NCCN(C)C)Cc3ccccc3Cl')\n",
    "# Draw.MolToImage(mol, size=(400, 400), useSVG=True)\n"
   ]
  },
  {
   "cell_type": "code",
   "execution_count": 17,
   "id": "cd253fb3",
   "metadata": {
    "execution": {
     "iopub.execute_input": "2024-04-17T19:13:42.832094Z",
     "iopub.status.busy": "2024-04-17T19:13:42.830803Z",
     "iopub.status.idle": "2024-04-17T19:13:42.838303Z",
     "shell.execute_reply": "2024-04-17T19:13:42.836351Z"
    },
    "papermill": {
     "duration": 0.017294,
     "end_time": "2024-04-17T19:13:42.840805",
     "exception": false,
     "start_time": "2024-04-17T19:13:42.823511",
     "status": "completed"
    },
    "tags": []
   },
   "outputs": [],
   "source": [
    "# # visualize the molecules in the intersection of life_chemicals and robin\n",
    "# Draw.MolsToGridImage(list(life_chemicals_robin['mol']), molsPerRow=1, subImgSize=(400, 400), legends=list(life_chemicals_robin['SMILES']), useSVG=False)\n"
   ]
  },
  {
   "cell_type": "code",
   "execution_count": 18,
   "id": "f1a08568",
   "metadata": {
    "execution": {
     "iopub.execute_input": "2024-04-17T19:13:42.855251Z",
     "iopub.status.busy": "2024-04-17T19:13:42.854643Z",
     "iopub.status.idle": "2024-04-17T19:13:42.861740Z",
     "shell.execute_reply": "2024-04-17T19:13:42.860045Z"
    },
    "papermill": {
     "duration": 0.017564,
     "end_time": "2024-04-17T19:13:42.863935",
     "exception": false,
     "start_time": "2024-04-17T19:13:42.846371",
     "status": "completed"
    },
    "tags": []
   },
   "outputs": [],
   "source": [
    "# # print out smiles of molecules in the intersection of life_chemicals_robin\n",
    "# print(list(life_chemicals_robin['SMILES']))"
   ]
  },
  {
   "cell_type": "code",
   "execution_count": 19,
   "id": "8e96c7b2",
   "metadata": {
    "execution": {
     "iopub.execute_input": "2024-04-17T19:13:42.877001Z",
     "iopub.status.busy": "2024-04-17T19:13:42.876381Z",
     "iopub.status.idle": "2024-04-17T19:13:42.883530Z",
     "shell.execute_reply": "2024-04-17T19:13:42.881824Z"
    },
    "papermill": {
     "duration": 0.017112,
     "end_time": "2024-04-17T19:13:42.886218",
     "exception": false,
     "start_time": "2024-04-17T19:13:42.869106",
     "status": "completed"
    },
    "tags": []
   },
   "outputs": [],
   "source": [
    "# # visualize the molecules in the intersection of life_chemicals and robin\n",
    "# Draw.MolsToGridImage(list(life_chemicals_robin['mol']), molsPerRow=4, subImgSize=(350, 350), legends=list(life_chemicals_robin['SMILES']), useSVG=True)"
   ]
  },
  {
   "cell_type": "code",
   "execution_count": 20,
   "id": "5076b6e2",
   "metadata": {
    "execution": {
     "iopub.execute_input": "2024-04-17T19:13:42.898670Z",
     "iopub.status.busy": "2024-04-17T19:13:42.898075Z",
     "iopub.status.idle": "2024-04-17T19:13:42.905131Z",
     "shell.execute_reply": "2024-04-17T19:13:42.903475Z"
    },
    "papermill": {
     "duration": 0.016401,
     "end_time": "2024-04-17T19:13:42.907905",
     "exception": false,
     "start_time": "2024-04-17T19:13:42.891504",
     "status": "completed"
    },
    "tags": []
   },
   "outputs": [],
   "source": [
    "# # visualize the molecules in the intersection of life_chemicals and robin\n",
    "# Draw.MolsToGridImage(list(life_chemicals_robin['mol']), molsPerRow=3, subImgSize=(350, 350), useSVG=True) # , legends=list(life_chemicals_robin['SMILES'])"
   ]
  },
  {
   "cell_type": "code",
   "execution_count": 21,
   "id": "0cd8f962",
   "metadata": {
    "execution": {
     "iopub.execute_input": "2024-04-17T19:13:42.921368Z",
     "iopub.status.busy": "2024-04-17T19:13:42.920071Z",
     "iopub.status.idle": "2024-04-17T19:13:42.927202Z",
     "shell.execute_reply": "2024-04-17T19:13:42.925549Z"
    },
    "papermill": {
     "duration": 0.01675,
     "end_time": "2024-04-17T19:13:42.930110",
     "exception": false,
     "start_time": "2024-04-17T19:13:42.913360",
     "status": "completed"
    },
    "tags": []
   },
   "outputs": [],
   "source": [
    "# # visualize the molecules in the intersection of life_chemicals and chemdiv and enamine\n",
    "# Draw.MolsToGridImage(list(life_chemicals_chemdiv_enamine['mol'][:12]), molsPerRow=4, subImgSize=(350, 200), useSVG=True) # , legends=list(life_chemicals_chemdiv_enamine['SMILES'])"
   ]
  },
  {
   "cell_type": "code",
   "execution_count": 22,
   "id": "f88e5903",
   "metadata": {
    "execution": {
     "iopub.execute_input": "2024-04-17T19:13:42.944468Z",
     "iopub.status.busy": "2024-04-17T19:13:42.943224Z",
     "iopub.status.idle": "2024-04-17T19:13:42.950349Z",
     "shell.execute_reply": "2024-04-17T19:13:42.948668Z"
    },
    "papermill": {
     "duration": 0.016734,
     "end_time": "2024-04-17T19:13:42.952814",
     "exception": false,
     "start_time": "2024-04-17T19:13:42.936080",
     "status": "completed"
    },
    "tags": []
   },
   "outputs": [],
   "source": [
    "# # visualize the molecules in the intersection of Protein-Targeted Enamine & Merged RNA-Targeted Libraries\n",
    "# Draw.MolsToGridImage(list(protein_all_rna['mol'][:12]), molsPerRow=5, subImgSize=(350, 200), useSVG=True) # legends=list(protein_all_rna['SMILES']),"
   ]
  }
 ],
 "metadata": {
  "kernelspec": {
   "display_name": "cdd",
   "language": "python",
   "name": "python3"
  },
  "language_info": {
   "codemirror_mode": {
    "name": "ipython",
    "version": 3
   },
   "file_extension": ".py",
   "mimetype": "text/x-python",
   "name": "python",
   "nbconvert_exporter": "python",
   "pygments_lexer": "ipython3",
   "version": "3.10.10"
  },
  "papermill": {
   "default_parameters": {},
   "duration": 68.218999,
   "end_time": "2024-04-17T19:13:45.885594",
   "environment_variables": {},
   "exception": null,
   "input_path": "06_v2.2_Venn_diagram_picked50K.ipynb",
   "output_path": "./final/06_v2.2_Venn_diagram_picked50K_final.ipynb",
   "parameters": {},
   "start_time": "2024-04-17T19:12:37.666595",
   "version": "2.3.4"
  }
 },
 "nbformat": 4,
 "nbformat_minor": 5
}