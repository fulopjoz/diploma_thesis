{
 "cells": [
  {
   "cell_type": "code",
   "execution_count": 1,
   "id": "7268a80b",
   "metadata": {
    "execution": {
     "iopub.execute_input": "2024-04-17T21:11:41.428415Z",
     "iopub.status.busy": "2024-04-17T21:11:41.427806Z",
     "iopub.status.idle": "2024-04-17T21:11:43.080095Z",
     "shell.execute_reply": "2024-04-17T21:11:43.078807Z"
    },
    "papermill": {
     "duration": 1.667465,
     "end_time": "2024-04-17T21:11:43.084363",
     "exception": false,
     "start_time": "2024-04-17T21:11:41.416898",
     "status": "completed"
    },
    "tags": []
   },
   "outputs": [],
   "source": [
    "import pandas as pd\n",
    "pd.set_option('mode.chained_assignment', None)\n",
    "import seaborn as sns\n",
    "import matplotlib.pyplot as plt\n",
    "import numpy as np\n",
    "\n",
    "import os \n",
    "from rdkit.Chem import Lipinski\n",
    "from rdkit.Chem import rdMolDescriptors\n",
    "from rdkit.Chem import Descriptors, MolToSmiles, QED\n",
    "\n",
    "import sys\n",
    "sys.path.append(\"../sfi\")  # Add the parent directory (project root) to the path\n",
    "from logd_predictor_clean import LogDPredictor"
   ]
  },
  {
   "cell_type": "code",
   "execution_count": 2,
   "id": "a460c23d",
   "metadata": {
    "execution": {
     "iopub.execute_input": "2024-04-17T21:11:43.103160Z",
     "iopub.status.busy": "2024-04-17T21:11:43.102525Z",
     "iopub.status.idle": "2024-04-17T21:11:46.194150Z",
     "shell.execute_reply": "2024-04-17T21:11:46.193021Z"
    },
    "papermill": {
     "duration": 3.105595,
     "end_time": "2024-04-17T21:11:46.198244",
     "exception": false,
     "start_time": "2024-04-17T21:11:43.092649",
     "status": "completed"
    },
    "tags": []
   },
   "outputs": [],
   "source": [
    "# load the dataframes\n",
    "rna_df_picked = pd.read_pickle('../data/diversity_picking/RNA/ECFP6_v2/rna_ECFP6_MaxMin_v3.pkl')\n",
    "protein_df_picked = pd.read_pickle('../data/diversity_picking/ECFP6_v2/enamine_protein_ECFP6_MaxMin_v3.pkl').head(36937)\n"
   ]
  },
  {
   "cell_type": "code",
   "execution_count": 3,
   "id": "22333eff",
   "metadata": {
    "execution": {
     "iopub.execute_input": "2024-04-17T21:11:46.214129Z",
     "iopub.status.busy": "2024-04-17T21:11:46.213319Z",
     "iopub.status.idle": "2024-04-17T21:11:46.249831Z",
     "shell.execute_reply": "2024-04-17T21:11:46.248774Z"
    },
    "papermill": {
     "duration": 0.047669,
     "end_time": "2024-04-17T21:11:46.253963",
     "exception": false,
     "start_time": "2024-04-17T21:11:46.206294",
     "status": "completed"
    },
    "tags": []
   },
   "outputs": [],
   "source": [
    "# using 'source' column separate rna_df_picked and protein_df_picked to datarames\n",
    "enamine_protein = protein_df_picked[protein_df_picked['source'] == 'enamine_protein']\n",
    "# change the 'smiles' column to 'SMILES' column\n",
    "enamine_protein.rename(columns={'smiles':'SMILES'}, inplace=True)\n",
    "chemdiv_rna = rna_df_picked[rna_df_picked['source'] == 'chemdiv']\n",
    "enamine_rna = rna_df_picked[rna_df_picked['source'] == 'enamine']\n",
    "life_chemicals_rna = rna_df_picked[rna_df_picked['source'] == 'life_chemicals']\n",
    "robin_rna = rna_df_picked[rna_df_picked['source'] == 'robin']\n",
    "\n",
    "\n",
    "\n",
    "# create folder for output propety_analysis\n",
    "if not os.path.exists('../output/v2/property_analysis'):\n",
    "   os.makedirs('../output/v2/property_analysis')\n",
    "\n",
    "\n",
    "\n",
    "# create new dataframe with only the columns we need 'mol'\n",
    "enamine_protein_mol = enamine_protein[['mol']]\n",
    "chemdiv_rna_mol = chemdiv_rna[['mol']]\n",
    "enamine_rna_mol = enamine_rna[['mol']]\n",
    "life_chemicals_rna_mol = life_chemicals_rna[['mol']]\n",
    "robin_rna_mol = robin_rna[['mol']]\n"
   ]
  },
  {
   "cell_type": "code",
   "execution_count": 4,
   "id": "e5db6d43",
   "metadata": {
    "execution": {
     "iopub.execute_input": "2024-04-17T21:11:46.270192Z",
     "iopub.status.busy": "2024-04-17T21:11:46.269908Z",
     "iopub.status.idle": "2024-04-17T21:11:46.308399Z",
     "shell.execute_reply": "2024-04-17T21:11:46.307321Z"
    },
    "papermill": {
     "duration": 0.051014,
     "end_time": "2024-04-17T21:11:46.312580",
     "exception": false,
     "start_time": "2024-04-17T21:11:46.261566",
     "status": "completed"
    },
    "tags": []
   },
   "outputs": [],
   "source": [
    "# Combine datasets into one DataFrame\n",
    "combined_df = pd.concat([enamine_protein, chemdiv_rna, enamine_rna, life_chemicals_rna, robin_rna])\n",
    "\n",
    "# Sort datasets by size (largest to smallest)\n",
    "datasets = [enamine_protein, chemdiv_rna, enamine_rna, life_chemicals_rna, robin_rna]\n",
    "sorted_datasets = sorted(datasets, key=lambda x: x.shape[0], reverse=True)\n",
    "\n",
    "# Finding all unique duplicates across datasets\n",
    "all_duplicates = combined_df[combined_df.duplicated('SMILES', keep=False)]\n",
    "\n",
    "# Remove duplicates in order from largest to smallest, except the smallest\n",
    "for i in range(len(sorted_datasets) - 1):  # Skip the smallest dataset\n",
    "    dataset = sorted_datasets[i]\n",
    "    duplicates_to_remove = all_duplicates[~all_duplicates['source'].isin([dataset['source'].iloc[0]])]['SMILES']\n",
    "    sorted_datasets[i] = dataset[~dataset['SMILES'].isin(duplicates_to_remove)]\n",
    "\n",
    "# Extracting the updated datasets\n",
    "enamine_protein, chemdiv_rna, enamine_rna, life_chemicals, robin_df = sorted_datasets\n",
    "\n",
    "# Now the datasets are deduplicated in the desired order"
   ]
  },
  {
   "cell_type": "code",
   "execution_count": 5,
   "id": "e812cf5a",
   "metadata": {
    "execution": {
     "iopub.execute_input": "2024-04-17T21:11:46.328486Z",
     "iopub.status.busy": "2024-04-17T21:11:46.328086Z",
     "iopub.status.idle": "2024-04-17T21:11:46.382431Z",
     "shell.execute_reply": "2024-04-17T21:11:46.381349Z"
    },
    "papermill": {
     "duration": 0.066056,
     "end_time": "2024-04-17T21:11:46.386390",
     "exception": false,
     "start_time": "2024-04-17T21:11:46.320334",
     "status": "completed"
    },
    "tags": []
   },
   "outputs": [
    {
     "name": "stdout",
     "output_type": "stream",
     "text": [
      "Duplicates between chemdiv and enamine_protein: 0\n",
      "Duplicates between enamine and enamine_protein: 0\n",
      "Duplicates between enamine_protein and life_chemicals: 0\n",
      "Duplicates between enamine_protein and robin: 0\n",
      "Duplicates between chemdiv and enamine: 0\n",
      "Duplicates between chemdiv and life_chemicals: 0\n",
      "Duplicates between chemdiv and robin: 0\n",
      "Duplicates between enamine and life_chemicals: 0\n",
      "Duplicates between enamine and robin: 0\n",
      "Duplicates between life_chemicals and robin: 0\n"
     ]
    }
   ],
   "source": [
    "\n",
    "# Assuming you have these dataframes already loaded: \n",
    "# enamine_protein, chemdiv_rna, enamine_rna, life_chemicals_rna, robin_rna\n",
    "\n",
    "# Concatenate the dataframes into one\n",
    "combined_df = pd.concat([\n",
    "    enamine_protein, chemdiv_rna, enamine_rna, \n",
    "    life_chemicals_rna, robin_rna\n",
    "])\n",
    "\n",
    "# Finding duplicates in the 'SMILES' column\n",
    "duplicates = combined_df[combined_df.duplicated('SMILES', keep=False)]\n",
    "\n",
    "# Creating a summary of duplicates between each pair of datasets\n",
    "summary = {}\n",
    "for dataset1 in combined_df['source'].unique():\n",
    "    for dataset2 in combined_df['source'].unique():\n",
    "        if dataset1 != dataset2:\n",
    "            pair = tuple(sorted([dataset1, dataset2]))\n",
    "            if pair not in summary:\n",
    "                duplicates_in_pair = duplicates[\n",
    "                    (duplicates['source'] == dataset1) | \n",
    "                    (duplicates['source'] == dataset2)\n",
    "                ]\n",
    "                count = duplicates_in_pair['SMILES'].nunique()\n",
    "                summary[pair] = count\n",
    "\n",
    "# Displaying the summary\n",
    "for pair, count in summary.items():\n",
    "    print(f\"Duplicates between {pair[0]} and {pair[1]}: {count}\")\n"
   ]
  },
  {
   "cell_type": "code",
   "execution_count": 6,
   "id": "5a0e847d",
   "metadata": {
    "execution": {
     "iopub.execute_input": "2024-04-17T21:11:46.402231Z",
     "iopub.status.busy": "2024-04-17T21:11:46.401879Z",
     "iopub.status.idle": "2024-04-17T21:36:37.477287Z",
     "shell.execute_reply": "2024-04-17T21:36:37.475668Z"
    },
    "papermill": {
     "duration": 1491.088152,
     "end_time": "2024-04-17T21:36:37.481838",
     "exception": false,
     "start_time": "2024-04-17T21:11:46.393686",
     "status": "completed"
    },
    "tags": []
   },
   "outputs": [],
   "source": [
    "predict_logd = LogDPredictor(model_file_name='../sfi/model_plus.txt')\n",
    "\n",
    "\n",
    "def calculate_properties(mol):\n",
    "    \"\"\"\n",
    "    The `calculate_properties` function takes a molecule object as input and calculates various \n",
    "    molecular properties, such as molecular weight, heavy atom count, number of oxygen, nitrogen, \n",
    "    carbon, chlorine, fluorine, and sulfur atoms, hydrogen bond acceptors and donors, \n",
    "    number of rings, logarithm of the octanol-water partition coefficient (cLogP), \n",
    "    number of rotatable bonds, and topological polar surface area (TPSA). \n",
    "    The function returns a pandas Series containing the SMILES representation of \n",
    "    the molecule and the calculated properties.\n",
    "    \"\"\"\n",
    "    smiles = MolToSmiles(mol, canonical=True)\n",
    "    mw = Descriptors.MolWt(mol)\n",
    "    heavy_atom_count = mol.GetNumHeavyAtoms()\n",
    "    num_O_atoms = len([atom for atom in mol.GetAtoms() if atom.GetSymbol() == 'O'])\n",
    "    num_N_atoms = len([atom for atom in mol.GetAtoms() if atom.GetSymbol() == 'N'])\n",
    "    num_C_atoms = len([atom for atom in mol.GetAtoms() if atom.GetSymbol() == 'C'])\n",
    "    num_Cl_atoms = len([atom for atom in mol.GetAtoms() if atom.GetSymbol() == 'Cl'])\n",
    "    num_F_atoms = len([atom for atom in mol.GetAtoms() if atom.GetSymbol() == 'F'])\n",
    "    num_S_atoms = len([atom for atom in mol.GetAtoms() if atom.GetSymbol() == 'S'])\n",
    "    qed = QED.qed(mol)\n",
    "    # use the predict_logd to calculate logd\n",
    "    clogD = predict_logd.predict(mol) # model for this prediction can be found in /sfi/build_logd_model.ipynb\n",
    "\n",
    "    hba = Lipinski.NumHAcceptors(mol)\n",
    "    hbd = Lipinski.NumHDonors(mol)\n",
    "    rings = rdMolDescriptors.CalcNumRings(mol)\n",
    "    clogP = Descriptors.MolLogP(mol)\n",
    "    n_rot = rdMolDescriptors.CalcNumRotatableBonds(mol)\n",
    "    tpsa = rdMolDescriptors.CalcTPSA(mol)\n",
    "\n",
    "    return pd.Series([smiles, mw, heavy_atom_count, num_O_atoms, num_N_atoms, num_C_atoms, \n",
    "                      num_Cl_atoms, num_F_atoms, num_S_atoms, hba, hbd, rings, clogP, n_rot, tpsa, qed, clogD],)\n",
    "\n",
    "\n",
    "enamine_protein[['SMILES', 'MW', '#HeavyAtoms', 'NumO', 'NumN', 'NumC', 'NumCl', 'NumF', 'NumS', 'HBA', 'HBD', 'Rings', 'ClogP', '#RotBonds', 'TPSA', 'QED', 'ClogD']] = enamine_protein_mol.apply(lambda x: calculate_properties(x['mol']), axis=1)\n",
    "chemdiv_rna[['SMILES', 'MW', '#HeavyAtoms', 'NumO', 'NumN', 'NumC', 'NumCl', 'NumF', 'NumS', 'HBA', 'HBD', 'Rings', 'ClogP', '#RotBonds', 'TPSA', 'QED', 'ClogD']] = chemdiv_rna_mol.apply(lambda x: calculate_properties(x['mol']), axis=1)\n",
    "enamine_rna[['SMILES', 'MW', '#HeavyAtoms', 'NumO', 'NumN', 'NumC', 'NumCl', 'NumF', 'NumS', 'HBA', 'HBD', 'Rings', 'ClogP', '#RotBonds', 'TPSA', 'QED', 'ClogD']] = enamine_rna_mol.apply(lambda x: calculate_properties(x['mol']), axis=1)\n",
    "life_chemicals_rna[['SMILES', 'MW', '#HeavyAtoms', 'NumO', 'NumN', 'NumC', 'NumCl', 'NumF', 'NumS', 'HBA', 'HBD', 'Rings', 'ClogP', '#RotBonds', 'TPSA', 'QED', 'ClogD']] = life_chemicals_rna_mol.apply(lambda x: calculate_properties(x['mol']), axis=1)\n",
    "robin_rna[['SMILES', 'MW', '#HeavyAtoms', 'NumO', 'NumN', 'NumC', 'NumCl', 'NumF', 'NumS', 'HBA', 'HBD', 'Rings', 'ClogP', '#RotBonds', 'TPSA', 'QED', 'ClogD']] = robin_rna_mol.apply(lambda x: calculate_properties(x['mol']), axis=1)\n"
   ]
  },
  {
   "cell_type": "code",
   "execution_count": 7,
   "id": "c129ef0a",
   "metadata": {
    "execution": {
     "iopub.execute_input": "2024-04-17T21:36:37.499151Z",
     "iopub.status.busy": "2024-04-17T21:36:37.498782Z",
     "iopub.status.idle": "2024-04-17T21:36:38.268230Z",
     "shell.execute_reply": "2024-04-17T21:36:38.267021Z"
    },
    "papermill": {
     "duration": 0.78222,
     "end_time": "2024-04-17T21:36:38.272583",
     "exception": false,
     "start_time": "2024-04-17T21:36:37.490363",
     "status": "completed"
    },
    "tags": []
   },
   "outputs": [],
   "source": [
    "# save to csv without index\n",
    "enamine_protein.to_csv('../output/v2/property_analysis/enamine_protein.csv', index=False)\n",
    "chemdiv_rna.to_csv('../output/v2/property_analysis/chemdiv_rna.csv', index=False)\n",
    "enamine_rna.to_csv('../output/v2/property_analysis/enamine_rna.csv', index=False)\n",
    "life_chemicals_rna.to_csv('../output/v2/property_analysis/life_chemicals.csv', index=False)\n",
    "robin_rna.to_csv('../output/v2/property_analysis/robin_df.csv', index=False)"
   ]
  },
  {
   "cell_type": "code",
   "execution_count": 8,
   "id": "456f7f01",
   "metadata": {
    "execution": {
     "iopub.execute_input": "2024-04-17T21:36:38.288785Z",
     "iopub.status.busy": "2024-04-17T21:36:38.288334Z",
     "iopub.status.idle": "2024-04-17T21:36:38.325153Z",
     "shell.execute_reply": "2024-04-17T21:36:38.324225Z"
    },
    "papermill": {
     "duration": 0.048412,
     "end_time": "2024-04-17T21:36:38.329259",
     "exception": false,
     "start_time": "2024-04-17T21:36:38.280847",
     "status": "completed"
    },
    "tags": []
   },
   "outputs": [
    {
     "data": {
      "text/html": [
       "<div>\n",
       "<style scoped>\n",
       "    .dataframe tbody tr th:only-of-type {\n",
       "        vertical-align: middle;\n",
       "    }\n",
       "\n",
       "    .dataframe tbody tr th {\n",
       "        vertical-align: top;\n",
       "    }\n",
       "\n",
       "    .dataframe thead th {\n",
       "        text-align: right;\n",
       "    }\n",
       "</style>\n",
       "<table border=\"1\" class=\"dataframe\">\n",
       "  <thead>\n",
       "    <tr style=\"text-align: right;\">\n",
       "      <th></th>\n",
       "      <th>source</th>\n",
       "      <th>SMILES</th>\n",
       "      <th>mol</th>\n",
       "      <th>ECFP6</th>\n",
       "      <th>MW</th>\n",
       "      <th>#HeavyAtoms</th>\n",
       "      <th>NumO</th>\n",
       "      <th>NumN</th>\n",
       "      <th>NumC</th>\n",
       "      <th>NumCl</th>\n",
       "      <th>NumF</th>\n",
       "      <th>NumS</th>\n",
       "      <th>HBA</th>\n",
       "      <th>HBD</th>\n",
       "      <th>Rings</th>\n",
       "      <th>ClogP</th>\n",
       "      <th>#RotBonds</th>\n",
       "      <th>TPSA</th>\n",
       "      <th>QED</th>\n",
       "      <th>ClogD</th>\n",
       "    </tr>\n",
       "  </thead>\n",
       "  <tbody>\n",
       "    <tr>\n",
       "      <th>32754</th>\n",
       "      <td>robin</td>\n",
       "      <td>C#CC1(N)CCCCC1</td>\n",
       "      <td>&lt;rdkit.Chem.rdchem.Mol object at 0x7feae92dc450&gt;</td>\n",
       "      <td>[0, 0, 1, 0, 0, 0, 0, 0, 0, 0, 0, 0, 0, 0, 0, ...</td>\n",
       "      <td>123.199</td>\n",
       "      <td>9</td>\n",
       "      <td>0</td>\n",
       "      <td>1</td>\n",
       "      <td>8</td>\n",
       "      <td>0</td>\n",
       "      <td>0</td>\n",
       "      <td>0</td>\n",
       "      <td>1</td>\n",
       "      <td>1</td>\n",
       "      <td>1</td>\n",
       "      <td>1.28120</td>\n",
       "      <td>0</td>\n",
       "      <td>26.02</td>\n",
       "      <td>0.482364</td>\n",
       "      <td>-0.415902</td>\n",
       "    </tr>\n",
       "    <tr>\n",
       "      <th>32043</th>\n",
       "      <td>robin</td>\n",
       "      <td>CSc1c(N(C)C)c(=O)c1=S</td>\n",
       "      <td>&lt;rdkit.Chem.rdchem.Mol object at 0x7feae92dc4f0&gt;</td>\n",
       "      <td>[0, 0, 0, 0, 0, 0, 0, 0, 0, 0, 0, 0, 0, 0, 0, ...</td>\n",
       "      <td>187.289</td>\n",
       "      <td>11</td>\n",
       "      <td>1</td>\n",
       "      <td>1</td>\n",
       "      <td>7</td>\n",
       "      <td>0</td>\n",
       "      <td>0</td>\n",
       "      <td>2</td>\n",
       "      <td>4</td>\n",
       "      <td>0</td>\n",
       "      <td>1</td>\n",
       "      <td>1.43979</td>\n",
       "      <td>2</td>\n",
       "      <td>20.31</td>\n",
       "      <td>0.515274</td>\n",
       "      <td>1.928297</td>\n",
       "    </tr>\n",
       "    <tr>\n",
       "      <th>33318</th>\n",
       "      <td>robin</td>\n",
       "      <td>NCCCCNCCCN</td>\n",
       "      <td>&lt;rdkit.Chem.rdchem.Mol object at 0x7feae92dc590&gt;</td>\n",
       "      <td>[0, 0, 0, 0, 0, 0, 0, 0, 0, 0, 0, 0, 0, 0, 0, ...</td>\n",
       "      <td>145.250</td>\n",
       "      <td>10</td>\n",
       "      <td>0</td>\n",
       "      <td>3</td>\n",
       "      <td>7</td>\n",
       "      <td>0</td>\n",
       "      <td>0</td>\n",
       "      <td>0</td>\n",
       "      <td>3</td>\n",
       "      <td>3</td>\n",
       "      <td>0</td>\n",
       "      <td>-0.33630</td>\n",
       "      <td>7</td>\n",
       "      <td>64.07</td>\n",
       "      <td>0.429544</td>\n",
       "      <td>-8.854660</td>\n",
       "    </tr>\n",
       "    <tr>\n",
       "      <th>33330</th>\n",
       "      <td>robin</td>\n",
       "      <td>S=P(N1CC1)(N1CC1)N1CC1</td>\n",
       "      <td>&lt;rdkit.Chem.rdchem.Mol object at 0x7feae92dc6d0&gt;</td>\n",
       "      <td>[0, 0, 0, 0, 0, 0, 0, 0, 0, 0, 0, 0, 0, 0, 0, ...</td>\n",
       "      <td>189.224</td>\n",
       "      <td>11</td>\n",
       "      <td>0</td>\n",
       "      <td>3</td>\n",
       "      <td>6</td>\n",
       "      <td>0</td>\n",
       "      <td>0</td>\n",
       "      <td>1</td>\n",
       "      <td>1</td>\n",
       "      <td>0</td>\n",
       "      <td>3</td>\n",
       "      <td>0.15770</td>\n",
       "      <td>3</td>\n",
       "      <td>9.03</td>\n",
       "      <td>0.461380</td>\n",
       "      <td>-1.273761</td>\n",
       "    </tr>\n",
       "    <tr>\n",
       "      <th>32479</th>\n",
       "      <td>robin</td>\n",
       "      <td>Nc1ccc(-c2nc3nc(N)nc(N)c3nc2-c2ccc(N)cc2)cc1</td>\n",
       "      <td>&lt;rdkit.Chem.rdchem.Mol object at 0x7feae92dc950&gt;</td>\n",
       "      <td>[0, 0, 0, 0, 0, 0, 0, 0, 0, 0, 0, 0, 0, 0, 0, ...</td>\n",
       "      <td>344.382</td>\n",
       "      <td>26</td>\n",
       "      <td>0</td>\n",
       "      <td>8</td>\n",
       "      <td>18</td>\n",
       "      <td>0</td>\n",
       "      <td>0</td>\n",
       "      <td>0</td>\n",
       "      <td>8</td>\n",
       "      <td>4</td>\n",
       "      <td>4</td>\n",
       "      <td>2.08260</td>\n",
       "      <td>2</td>\n",
       "      <td>155.64</td>\n",
       "      <td>0.402617</td>\n",
       "      <td>1.444472</td>\n",
       "    </tr>\n",
       "  </tbody>\n",
       "</table>\n",
       "</div>"
      ],
      "text/plain": [
       "      source                                        SMILES  \\\n",
       "32754  robin                                C#CC1(N)CCCCC1   \n",
       "32043  robin                         CSc1c(N(C)C)c(=O)c1=S   \n",
       "33318  robin                                    NCCCCNCCCN   \n",
       "33330  robin                        S=P(N1CC1)(N1CC1)N1CC1   \n",
       "32479  robin  Nc1ccc(-c2nc3nc(N)nc(N)c3nc2-c2ccc(N)cc2)cc1   \n",
       "\n",
       "                                                    mol  \\\n",
       "32754  <rdkit.Chem.rdchem.Mol object at 0x7feae92dc450>   \n",
       "32043  <rdkit.Chem.rdchem.Mol object at 0x7feae92dc4f0>   \n",
       "33318  <rdkit.Chem.rdchem.Mol object at 0x7feae92dc590>   \n",
       "33330  <rdkit.Chem.rdchem.Mol object at 0x7feae92dc6d0>   \n",
       "32479  <rdkit.Chem.rdchem.Mol object at 0x7feae92dc950>   \n",
       "\n",
       "                                                   ECFP6       MW  \\\n",
       "32754  [0, 0, 1, 0, 0, 0, 0, 0, 0, 0, 0, 0, 0, 0, 0, ...  123.199   \n",
       "32043  [0, 0, 0, 0, 0, 0, 0, 0, 0, 0, 0, 0, 0, 0, 0, ...  187.289   \n",
       "33318  [0, 0, 0, 0, 0, 0, 0, 0, 0, 0, 0, 0, 0, 0, 0, ...  145.250   \n",
       "33330  [0, 0, 0, 0, 0, 0, 0, 0, 0, 0, 0, 0, 0, 0, 0, ...  189.224   \n",
       "32479  [0, 0, 0, 0, 0, 0, 0, 0, 0, 0, 0, 0, 0, 0, 0, ...  344.382   \n",
       "\n",
       "       #HeavyAtoms  NumO  NumN  NumC  NumCl  NumF  NumS  HBA  HBD  Rings  \\\n",
       "32754            9     0     1     8      0     0     0    1    1      1   \n",
       "32043           11     1     1     7      0     0     2    4    0      1   \n",
       "33318           10     0     3     7      0     0     0    3    3      0   \n",
       "33330           11     0     3     6      0     0     1    1    0      3   \n",
       "32479           26     0     8    18      0     0     0    8    4      4   \n",
       "\n",
       "         ClogP  #RotBonds    TPSA       QED     ClogD  \n",
       "32754  1.28120          0   26.02  0.482364 -0.415902  \n",
       "32043  1.43979          2   20.31  0.515274  1.928297  \n",
       "33318 -0.33630          7   64.07  0.429544 -8.854660  \n",
       "33330  0.15770          3    9.03  0.461380 -1.273761  \n",
       "32479  2.08260          2  155.64  0.402617  1.444472  "
      ]
     },
     "execution_count": 8,
     "metadata": {},
     "output_type": "execute_result"
    }
   ],
   "source": [
    "robin_rna.head(5)"
   ]
  },
  {
   "cell_type": "markdown",
   "id": "9f617f94",
   "metadata": {
    "papermill": {
     "duration": 0.006017,
     "end_time": "2024-04-17T21:36:38.343608",
     "exception": false,
     "start_time": "2024-04-17T21:36:38.337591",
     "status": "completed"
    },
    "tags": []
   },
   "source": [
    "## Again with separated datasets not RNA and Protein picked but each is picked alone\n"
   ]
  },
  {
   "cell_type": "code",
   "execution_count": 9,
   "id": "b804768e",
   "metadata": {
    "execution": {
     "iopub.execute_input": "2024-04-17T21:36:38.353934Z",
     "iopub.status.busy": "2024-04-17T21:36:38.353445Z",
     "iopub.status.idle": "2024-04-17T21:36:43.587566Z",
     "shell.execute_reply": "2024-04-17T21:36:43.586017Z"
    },
    "papermill": {
     "duration": 5.243997,
     "end_time": "2024-04-17T21:36:43.591691",
     "exception": false,
     "start_time": "2024-04-17T21:36:38.347694",
     "status": "completed"
    },
    "tags": []
   },
   "outputs": [],
   "source": [
    "\n",
    "enamine_protein = pd.read_pickle('../data/diversity_picking/ECFP6_v2/enamine_protein_ECFP6_MaxMin_v2.pkl')\n",
    "chemdiv_rna = pd.read_pickle('../data/diversity_picking/ECFP6_v2/chemdiv_rna_ECFP6_MaxMin_v2.pkl')\n",
    "enamine_rna = pd.read_pickle('../data/diversity_picking/ECFP6_v2/enamine_rna_ECFP6_MaxMin_v2.pkl')\n",
    "life_chemicals = pd.read_pickle('../data/diversity_picking/ECFP6_v2/life_chemicals_rna_ECFP6_MaxMin_v2.pkl')\n",
    "robin_df = pd.read_pickle('../data/diversity_picking/ECFP6_v2/robin_rna_ECFP6_MaxMin_v2.pkl')\n",
    "\n",
    "\n",
    "# create new dataframe with only the columns we need 'mol' but just 2003 molecules from each dataset\n",
    "enamine_protein_mol = enamine_protein[['mol']].head(2003)\n",
    "chemdiv_rna_mol = chemdiv_rna[['mol']].head(2003)\n",
    "enamine_rna_mol = enamine_rna[['mol']].head(2003)\n",
    "life_chemicals_mol = life_chemicals[['mol']].head(2003)\n",
    "robin_df_mol = robin_df[['mol']].head(2003)"
   ]
  },
  {
   "cell_type": "code",
   "execution_count": 10,
   "id": "18204d81",
   "metadata": {
    "execution": {
     "iopub.execute_input": "2024-04-17T21:36:43.608842Z",
     "iopub.status.busy": "2024-04-17T21:36:43.608473Z",
     "iopub.status.idle": "2024-04-17T21:36:48.832878Z",
     "shell.execute_reply": "2024-04-17T21:36:48.831260Z"
    },
    "papermill": {
     "duration": 5.236505,
     "end_time": "2024-04-17T21:36:48.837147",
     "exception": false,
     "start_time": "2024-04-17T21:36:43.600642",
     "status": "completed"
    },
    "tags": []
   },
   "outputs": [],
   "source": [
    "# Load the datasets\n",
    "enamine_protein = pd.read_pickle('../data/diversity_picking/ECFP6_v2/enamine_protein_ECFP6_MaxMin_v2.pkl')\n",
    "chemdiv_rna = pd.read_pickle('../data/diversity_picking/ECFP6_v2/chemdiv_rna_ECFP6_MaxMin_v2.pkl')\n",
    "enamine_rna = pd.read_pickle('../data/diversity_picking/ECFP6_v2/enamine_rna_ECFP6_MaxMin_v2.pkl')\n",
    "life_chemicals = pd.read_pickle('../data/diversity_picking/ECFP6_v2/life_chemicals_rna_ECFP6_MaxMin_v2.pkl')\n",
    "robin_df = pd.read_pickle('../data/diversity_picking/ECFP6_v2/robin_rna_ECFP6_MaxMin_v2.pkl')\n",
    "\n",
    "# Combine datasets into one DataFrame\n",
    "combined_df = pd.concat([enamine_protein, chemdiv_rna, enamine_rna, life_chemicals, robin_df])\n",
    "\n",
    "# Sort datasets by size (largest to smallest)\n",
    "datasets = [enamine_protein, chemdiv_rna, enamine_rna, life_chemicals, robin_df]\n",
    "sorted_datasets = sorted(datasets, key=lambda x: x.shape[0], reverse=True)\n",
    "\n",
    "# Finding all unique duplicates across datasets\n",
    "all_duplicates = combined_df[combined_df.duplicated('smiles', keep=False)]\n",
    "\n",
    "# Remove duplicates in order from largest to smallest, except the smallest\n",
    "for i in range(len(sorted_datasets) - 1):  # Skip the smallest dataset\n",
    "    dataset = sorted_datasets[i]\n",
    "    duplicates_to_remove = all_duplicates[~all_duplicates['source'].isin([dataset['source'].iloc[0]])]['smiles']\n",
    "    sorted_datasets[i] = dataset[~dataset['smiles'].isin(duplicates_to_remove)]\n",
    "\n",
    "# Extracting the updated datasets\n",
    "enamine_protein, chemdiv_rna, enamine_rna, life_chemicals, robin_df = sorted_datasets\n",
    "\n",
    "# Now the datasets are deduplicated in the desired order\n"
   ]
  },
  {
   "cell_type": "code",
   "execution_count": 11,
   "id": "fb4fee6b",
   "metadata": {
    "execution": {
     "iopub.execute_input": "2024-04-17T21:36:48.855983Z",
     "iopub.status.busy": "2024-04-17T21:36:48.855302Z",
     "iopub.status.idle": "2024-04-17T21:36:48.918853Z",
     "shell.execute_reply": "2024-04-17T21:36:48.917192Z"
    },
    "papermill": {
     "duration": 0.076651,
     "end_time": "2024-04-17T21:36:48.922754",
     "exception": false,
     "start_time": "2024-04-17T21:36:48.846103",
     "status": "completed"
    },
    "tags": []
   },
   "outputs": [
    {
     "name": "stdout",
     "output_type": "stream",
     "text": [
      "Duplicates between chemdiv and enamine_protein: 0\n",
      "Duplicates between enamine and enamine_protein: 0\n",
      "Duplicates between enamine_protein and life_chemicals: 0\n",
      "Duplicates between enamine_protein and robin: 0\n",
      "Duplicates between chemdiv and enamine: 0\n",
      "Duplicates between chemdiv and life_chemicals: 0\n",
      "Duplicates between chemdiv and robin: 0\n",
      "Duplicates between enamine and life_chemicals: 0\n",
      "Duplicates between enamine and robin: 0\n",
      "Duplicates between life_chemicals and robin: 0\n"
     ]
    }
   ],
   "source": [
    "# Concatenate the dataframes into one\n",
    "combined_df = pd.concat([\n",
    "    enamine_protein, chemdiv_rna, enamine_rna, \n",
    "    life_chemicals, robin_df\n",
    "])\n",
    "\n",
    "# Finding duplicates in the 'SMILES' column\n",
    "duplicates = combined_df[combined_df.duplicated('smiles', keep=False)]\n",
    "\n",
    "# Creating a summary of duplicates between each pair of datasets\n",
    "summary = {}\n",
    "for dataset1 in combined_df['source'].unique():\n",
    "    for dataset2 in combined_df['source'].unique():\n",
    "        if dataset1 != dataset2:\n",
    "            pair = tuple(sorted([dataset1, dataset2]))\n",
    "            if pair not in summary:\n",
    "                duplicates_in_pair = duplicates[\n",
    "                    (duplicates['source'] == dataset1) | \n",
    "                    (duplicates['source'] == dataset2)\n",
    "                ]\n",
    "                count = duplicates_in_pair['smiles'].nunique()\n",
    "                summary[pair] = count\n",
    "\n",
    "# Displaying the summary\n",
    "for pair, count in summary.items():\n",
    "    print(f\"Duplicates between {pair[0]} and {pair[1]}: {count}\")"
   ]
  },
  {
   "cell_type": "code",
   "execution_count": 12,
   "id": "2e5cbccf",
   "metadata": {
    "execution": {
     "iopub.execute_input": "2024-04-17T21:36:48.940729Z",
     "iopub.status.busy": "2024-04-17T21:36:48.939318Z",
     "iopub.status.idle": "2024-04-17T22:04:54.377544Z",
     "shell.execute_reply": "2024-04-17T22:04:54.376331Z"
    },
    "papermill": {
     "duration": 1685.44921,
     "end_time": "2024-04-17T22:04:54.380085",
     "exception": false,
     "start_time": "2024-04-17T21:36:48.930875",
     "status": "completed"
    },
    "tags": []
   },
   "outputs": [],
   "source": [
    "predict_logd = LogDPredictor(model_file_name='../sfi/model_plus.txt')\n",
    "\n",
    "\n",
    "def calculate_properties(mol):\n",
    "    \"\"\"\n",
    "    The `calculate_properties` function takes a molecule object as input and calculates various \n",
    "    molecular properties, such as molecular weight, heavy atom count, number of oxygen, nitrogen, \n",
    "    carbon, chlorine, fluorine, and sulfur atoms, hydrogen bond acceptors and donors, \n",
    "    number of rings, logarithm of the octanol-water partition coefficient (cLogP), \n",
    "    number of rotatable bonds, and topological polar surface area (TPSA). \n",
    "    The function returns a pandas Series containing the SMILES representation of \n",
    "    the molecule and the calculated properties.\n",
    "    \"\"\"\n",
    "    smiles = MolToSmiles(mol, canonical=True)\n",
    "    mw = Descriptors.MolWt(mol)\n",
    "    heavy_atom_count = mol.GetNumHeavyAtoms()\n",
    "    num_O_atoms = len([atom for atom in mol.GetAtoms() if atom.GetSymbol() == 'O'])\n",
    "    num_N_atoms = len([atom for atom in mol.GetAtoms() if atom.GetSymbol() == 'N'])\n",
    "    num_C_atoms = len([atom for atom in mol.GetAtoms() if atom.GetSymbol() == 'C'])\n",
    "    num_Cl_atoms = len([atom for atom in mol.GetAtoms() if atom.GetSymbol() == 'Cl'])\n",
    "    num_F_atoms = len([atom for atom in mol.GetAtoms() if atom.GetSymbol() == 'F'])\n",
    "    num_S_atoms = len([atom for atom in mol.GetAtoms() if atom.GetSymbol() == 'S'])\n",
    "    qed = QED.qed(mol)\n",
    "    # use the predict_logd to calculate logd\n",
    "    clogD = predict_logd.predict(mol)\n",
    "\n",
    "    hba = Lipinski.NumHAcceptors(mol)\n",
    "    hbd = Lipinski.NumHDonors(mol)\n",
    "    rings = rdMolDescriptors.CalcNumRings(mol)\n",
    "    clogP = Descriptors.MolLogP(mol)\n",
    "    n_rot = rdMolDescriptors.CalcNumRotatableBonds(mol)\n",
    "    tpsa = rdMolDescriptors.CalcTPSA(mol)\n",
    "\n",
    "    return pd.Series([smiles, mw, heavy_atom_count, num_O_atoms, num_N_atoms, num_C_atoms, \n",
    "                      num_Cl_atoms, num_F_atoms, num_S_atoms, hba, hbd, rings, clogP, n_rot, tpsa, qed, clogD],)\n",
    "\n",
    "\n",
    "enamine_protein_mol[['SMILES', 'MW', '#HeavyAtoms', 'NumO', 'NumN', 'NumC', 'NumCl', 'NumF', 'NumS', 'HBA', 'HBD', 'Rings', 'ClogP', '#RotBonds', 'TPSA', 'QED', 'ClogD']] = enamine_protein.apply(lambda x: calculate_properties(x['mol']), axis=1)\n",
    "chemdiv_rna_mol[['SMILES', 'MW', '#HeavyAtoms', 'NumO', 'NumN', 'NumC', 'NumCl', 'NumF', 'NumS', 'HBA', 'HBD', 'Rings', 'ClogP', '#RotBonds', 'TPSA', 'QED', 'ClogD']] = chemdiv_rna.apply(lambda x: calculate_properties(x['mol']), axis=1)\n",
    "enamine_rna_mol[['SMILES', 'MW', '#HeavyAtoms', 'NumO', 'NumN', 'NumC', 'NumCl', 'NumF', 'NumS', 'HBA', 'HBD', 'Rings', 'ClogP', '#RotBonds', 'TPSA', 'QED', 'ClogD']] = enamine_rna.apply(lambda x: calculate_properties(x['mol']), axis=1)\n",
    "life_chemicals_mol[['SMILES', 'MW', '#HeavyAtoms', 'NumO', 'NumN', 'NumC', 'NumCl', 'NumF', 'NumS', 'HBA', 'HBD', 'Rings', 'ClogP', '#RotBonds', 'TPSA', 'QED', 'ClogD']] = life_chemicals.apply(lambda x: calculate_properties(x['mol']), axis=1)\n",
    "robin_df_mol[['SMILES', 'MW', '#HeavyAtoms', 'NumO', 'NumN', 'NumC', 'NumCl', 'NumF', 'NumS', 'HBA', 'HBD', 'Rings', 'ClogP', '#RotBonds', 'TPSA', 'QED', 'ClogD']] = robin_df.apply(lambda x: calculate_properties(x['mol']), axis=1)\n"
   ]
  },
  {
   "cell_type": "code",
   "execution_count": 13,
   "id": "42209846",
   "metadata": {
    "execution": {
     "iopub.execute_input": "2024-04-17T22:04:54.394629Z",
     "iopub.status.busy": "2024-04-17T22:04:54.394270Z",
     "iopub.status.idle": "2024-04-17T22:04:54.489991Z",
     "shell.execute_reply": "2024-04-17T22:04:54.488969Z"
    },
    "papermill": {
     "duration": 0.110694,
     "end_time": "2024-04-17T22:04:54.494006",
     "exception": false,
     "start_time": "2024-04-17T22:04:54.383312",
     "status": "completed"
    },
    "tags": []
   },
   "outputs": [],
   "source": [
    "# save to csv without index\n",
    "enamine_protein_mol.to_csv('../output/v2/property_analysis/enamine_protein_new.csv', index=False)\n",
    "chemdiv_rna_mol.to_csv('../output/v2/property_analysis/chemdiv_rna_new.csv', index=False)\n",
    "enamine_rna_mol.to_csv('../output/v2/property_analysis/enamine_rna_new.csv', index=False)\n",
    "life_chemicals_mol.to_csv('../output/v2/property_analysis/life_chemicals_new.csv', index=False)\n",
    "robin_df_mol.to_csv('../output/v2/property_analysis/robin_df_new.csv', index=False)\n"
   ]
  }
 ],
 "metadata": {
  "kernelspec": {
   "display_name": "cdd",
   "language": "python",
   "name": "python3"
  },
  "language_info": {
   "codemirror_mode": {
    "name": "ipython",
    "version": 3
   },
   "file_extension": ".py",
   "mimetype": "text/x-python",
   "name": "python",
   "nbconvert_exporter": "python",
   "pygments_lexer": "ipython3",
   "version": "3.10.10"
  },
  "papermill": {
   "default_parameters": {},
   "duration": 3197.411903,
   "end_time": "2024-04-17T22:04:57.638937",
   "environment_variables": {},
   "exception": null,
   "input_path": "10_v2_propetry_compute.ipynb",
   "output_path": "./final/10_v2_propetry_compute_final.ipynb",
   "parameters": {},
   "start_time": "2024-04-17T21:11:40.227034",
   "version": "2.3.4"
  }
 },
 "nbformat": 4,
 "nbformat_minor": 5
}