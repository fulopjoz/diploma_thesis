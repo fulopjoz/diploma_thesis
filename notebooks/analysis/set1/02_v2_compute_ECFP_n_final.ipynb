{
 "cells": [
  {
   "cell_type": "code",
   "execution_count": 1,
   "id": "f628e340",
   "metadata": {
    "execution": {
     "iopub.execute_input": "2024-04-17T16:48:50.143049Z",
     "iopub.status.busy": "2024-04-17T16:48:50.141726Z",
     "iopub.status.idle": "2024-04-17T16:49:14.067484Z",
     "shell.execute_reply": "2024-04-17T16:49:14.065419Z"
    },
    "papermill": {
     "duration": 23.974497,
     "end_time": "2024-04-17T16:49:14.072532",
     "exception": false,
     "start_time": "2024-04-17T16:48:50.098035",
     "status": "completed"
    },
    "tags": []
   },
   "outputs": [],
   "source": [
    "from rdkit.Chem.AllChem import GetMorganFingerprintAsBitVect\n",
    "from rdkit.Chem import MolFromSmiles, MolToSmiles\n",
    "from tqdm.auto import tqdm\n",
    "tqdm.pandas()\n",
    "import pandas as pd\n",
    "import os\n",
    "import pickle\n",
    "from multiprocessing import Pool\n",
    "from rdkit import RDLogger\n",
    "import numpy as np\n",
    "import itertools\n",
    "RDLogger.DisableLog('rdApp.error')"
   ]
  },
  {
   "cell_type": "code",
   "execution_count": 2,
   "id": "6e4303f6",
   "metadata": {
    "execution": {
     "iopub.execute_input": "2024-04-17T16:49:14.098124Z",
     "iopub.status.busy": "2024-04-17T16:49:14.097222Z",
     "iopub.status.idle": "2024-04-17T16:49:28.287582Z",
     "shell.execute_reply": "2024-04-17T16:49:28.285433Z"
    },
    "papermill": {
     "duration": 14.205422,
     "end_time": "2024-04-17T16:49:28.292076",
     "exception": false,
     "start_time": "2024-04-17T16:49:14.086654",
     "status": "completed"
    },
    "tags": []
   },
   "outputs": [],
   "source": [
    "# load datasets pickle from ../data/standardized_data\n",
    "\n",
    "chemdiv_df = pd.read_pickle('../../../data/standardized_data/chemdiv_df.pkl')\n",
    "enamine_df = pd.read_pickle('../../../data/standardized_data/enamine_rna_df.pkl')\n",
    "enamine_protein_df = pd.read_pickle('../../../data/standardized_data/enamine_protein_df.pkl')\n",
    "life_chemicals_df = pd.read_pickle('../../../data/standardized_data/life_chemicals_df.pkl')\n",
    "robin_df = pd.read_pickle('../../../data/standardized_data/robin_df.pkl')\n",
    "\n"
   ]
  },
  {
   "cell_type": "code",
   "execution_count": 3,
   "id": "59c0a05e",
   "metadata": {
    "execution": {
     "iopub.execute_input": "2024-04-17T16:49:28.376094Z",
     "iopub.status.busy": "2024-04-17T16:49:28.375492Z",
     "iopub.status.idle": "2024-04-17T16:49:28.430437Z",
     "shell.execute_reply": "2024-04-17T16:49:28.428878Z"
    },
    "papermill": {
     "duration": 0.067024,
     "end_time": "2024-04-17T16:49:28.434309",
     "exception": false,
     "start_time": "2024-04-17T16:49:28.367285",
     "status": "completed"
    },
    "tags": []
   },
   "outputs": [],
   "source": [
    "all_df = pd.concat([chemdiv_df, enamine_df, enamine_protein_df, life_chemicals_df, robin_df], ignore_index=True)\n",
    "rna_df = pd.concat([chemdiv_df, enamine_df, life_chemicals_df, robin_df], ignore_index=True)"
   ]
  },
  {
   "cell_type": "code",
   "execution_count": 4,
   "id": "02a6c93e",
   "metadata": {
    "execution": {
     "iopub.execute_input": "2024-04-17T16:49:28.459118Z",
     "iopub.status.busy": "2024-04-17T16:49:28.458796Z",
     "iopub.status.idle": "2024-04-17T16:49:28.498209Z",
     "shell.execute_reply": "2024-04-17T16:49:28.496305Z"
    },
    "papermill": {
     "duration": 0.053868,
     "end_time": "2024-04-17T16:49:28.502106",
     "exception": false,
     "start_time": "2024-04-17T16:49:28.448238",
     "status": "completed"
    },
    "tags": []
   },
   "outputs": [
    {
     "data": {
      "text/html": [
       "<div>\n",
       "<style scoped>\n",
       "    .dataframe tbody tr th:only-of-type {\n",
       "        vertical-align: middle;\n",
       "    }\n",
       "\n",
       "    .dataframe tbody tr th {\n",
       "        vertical-align: top;\n",
       "    }\n",
       "\n",
       "    .dataframe thead th {\n",
       "        text-align: right;\n",
       "    }\n",
       "</style>\n",
       "<table border=\"1\" class=\"dataframe\">\n",
       "  <thead>\n",
       "    <tr style=\"text-align: right;\">\n",
       "      <th></th>\n",
       "      <th>source</th>\n",
       "      <th>mol</th>\n",
       "      <th>SMILES</th>\n",
       "    </tr>\n",
       "  </thead>\n",
       "  <tbody>\n",
       "    <tr>\n",
       "      <th>0</th>\n",
       "      <td>chemdiv</td>\n",
       "      <td>&lt;rdkit.Chem.rdchem.Mol object at 0x7fa95236f6a0&gt;</td>\n",
       "      <td>O=C(Nc1ccc2ccccc2c1)c1ccc2c(c1)C(=O)N(c1cccc(N...</td>\n",
       "    </tr>\n",
       "    <tr>\n",
       "      <th>1</th>\n",
       "      <td>chemdiv</td>\n",
       "      <td>&lt;rdkit.Chem.rdchem.Mol object at 0x7fa9a812fdd0&gt;</td>\n",
       "      <td>O=C(CSc1nnc(-c2ccccc2Cl)n1-c1ccccc1)c1ccc2c(c1...</td>\n",
       "    </tr>\n",
       "    <tr>\n",
       "      <th>2</th>\n",
       "      <td>chemdiv</td>\n",
       "      <td>&lt;rdkit.Chem.rdchem.Mol object at 0x7fa9522d4130&gt;</td>\n",
       "      <td>Cc1ccc(-n2c(=O)c3c4c(sc3n3c(SCC(=O)c5ccccc5)nn...</td>\n",
       "    </tr>\n",
       "    <tr>\n",
       "      <th>3</th>\n",
       "      <td>chemdiv</td>\n",
       "      <td>&lt;rdkit.Chem.rdchem.Mol object at 0x7fa9a812cd60&gt;</td>\n",
       "      <td>O=C(Nc1ccc(C(=O)c2ccccc2)cc1)c1ccc(Oc2ccc(C(=O...</td>\n",
       "    </tr>\n",
       "    <tr>\n",
       "      <th>4</th>\n",
       "      <td>chemdiv</td>\n",
       "      <td>&lt;rdkit.Chem.rdchem.Mol object at 0x7fa9a812fc90&gt;</td>\n",
       "      <td>O=C(Nc1ccc(Oc2cccc(Oc3ccc(NC(=O)c4ccccc4Cl)cc3...</td>\n",
       "    </tr>\n",
       "    <tr>\n",
       "      <th>...</th>\n",
       "      <td>...</td>\n",
       "      <td>...</td>\n",
       "      <td>...</td>\n",
       "    </tr>\n",
       "    <tr>\n",
       "      <th>503222</th>\n",
       "      <td>robin</td>\n",
       "      <td>&lt;rdkit.Chem.rdchem.Mol object at 0x7fa946a20fe0&gt;</td>\n",
       "      <td>C=CC(=O)Nc1cccc(Nc2nc(N[C@H]3CC[C@H](N(C)C)CC3...</td>\n",
       "    </tr>\n",
       "    <tr>\n",
       "      <th>503223</th>\n",
       "      <td>robin</td>\n",
       "      <td>&lt;rdkit.Chem.rdchem.Mol object at 0x7fa947361030&gt;</td>\n",
       "      <td>N#C/C(C(=O)c1ccc(Cl)cc1Cl)=C1\\NC(=O)c2ccc(Cl)c...</td>\n",
       "    </tr>\n",
       "    <tr>\n",
       "      <th>503224</th>\n",
       "      <td>robin</td>\n",
       "      <td>&lt;rdkit.Chem.rdchem.Mol object at 0x7fa946a21080&gt;</td>\n",
       "      <td>C[C@H](N[C@H]1C[C@H]1c1ccccc1)c1ccc2c(c1)OCCO2</td>\n",
       "    </tr>\n",
       "    <tr>\n",
       "      <th>503225</th>\n",
       "      <td>robin</td>\n",
       "      <td>&lt;rdkit.Chem.rdchem.Mol object at 0x7fa946a210d0&gt;</td>\n",
       "      <td>NCCC[C@@H](N)CC(=O)N[C@H]1CNC(=O)[C@@H]([C@@H]...</td>\n",
       "    </tr>\n",
       "    <tr>\n",
       "      <th>503226</th>\n",
       "      <td>robin</td>\n",
       "      <td>&lt;rdkit.Chem.rdchem.Mol object at 0x7fa946a21120&gt;</td>\n",
       "      <td>CC(C)=CCC/C(C)=C\\CNCCN[C@H]1[C@@H]2C[C@H]3C[C@...</td>\n",
       "    </tr>\n",
       "  </tbody>\n",
       "</table>\n",
       "<p>503227 rows × 3 columns</p>\n",
       "</div>"
      ],
      "text/plain": [
       "         source                                               mol  \\\n",
       "0       chemdiv  <rdkit.Chem.rdchem.Mol object at 0x7fa95236f6a0>   \n",
       "1       chemdiv  <rdkit.Chem.rdchem.Mol object at 0x7fa9a812fdd0>   \n",
       "2       chemdiv  <rdkit.Chem.rdchem.Mol object at 0x7fa9522d4130>   \n",
       "3       chemdiv  <rdkit.Chem.rdchem.Mol object at 0x7fa9a812cd60>   \n",
       "4       chemdiv  <rdkit.Chem.rdchem.Mol object at 0x7fa9a812fc90>   \n",
       "...         ...                                               ...   \n",
       "503222    robin  <rdkit.Chem.rdchem.Mol object at 0x7fa946a20fe0>   \n",
       "503223    robin  <rdkit.Chem.rdchem.Mol object at 0x7fa947361030>   \n",
       "503224    robin  <rdkit.Chem.rdchem.Mol object at 0x7fa946a21080>   \n",
       "503225    robin  <rdkit.Chem.rdchem.Mol object at 0x7fa946a210d0>   \n",
       "503226    robin  <rdkit.Chem.rdchem.Mol object at 0x7fa946a21120>   \n",
       "\n",
       "                                                   SMILES  \n",
       "0       O=C(Nc1ccc2ccccc2c1)c1ccc2c(c1)C(=O)N(c1cccc(N...  \n",
       "1       O=C(CSc1nnc(-c2ccccc2Cl)n1-c1ccccc1)c1ccc2c(c1...  \n",
       "2       Cc1ccc(-n2c(=O)c3c4c(sc3n3c(SCC(=O)c5ccccc5)nn...  \n",
       "3       O=C(Nc1ccc(C(=O)c2ccccc2)cc1)c1ccc(Oc2ccc(C(=O...  \n",
       "4       O=C(Nc1ccc(Oc2cccc(Oc3ccc(NC(=O)c4ccccc4Cl)cc3...  \n",
       "...                                                   ...  \n",
       "503222  C=CC(=O)Nc1cccc(Nc2nc(N[C@H]3CC[C@H](N(C)C)CC3...  \n",
       "503223  N#C/C(C(=O)c1ccc(Cl)cc1Cl)=C1\\NC(=O)c2ccc(Cl)c...  \n",
       "503224     C[C@H](N[C@H]1C[C@H]1c1ccccc1)c1ccc2c(c1)OCCO2  \n",
       "503225  NCCC[C@@H](N)CC(=O)N[C@H]1CNC(=O)[C@@H]([C@@H]...  \n",
       "503226  CC(C)=CCC/C(C)=C\\CNCCN[C@H]1[C@@H]2C[C@H]3C[C@...  \n",
       "\n",
       "[503227 rows x 3 columns]"
      ]
     },
     "execution_count": 4,
     "metadata": {},
     "output_type": "execute_result"
    }
   ],
   "source": [
    "all_df"
   ]
  },
  {
   "cell_type": "code",
   "execution_count": 5,
   "id": "cd9dbfe9",
   "metadata": {
    "execution": {
     "iopub.execute_input": "2024-04-17T16:49:28.528843Z",
     "iopub.status.busy": "2024-04-17T16:49:28.528220Z",
     "iopub.status.idle": "2024-04-17T16:49:28.582507Z",
     "shell.execute_reply": "2024-04-17T16:49:28.580995Z"
    },
    "papermill": {
     "duration": 0.069055,
     "end_time": "2024-04-17T16:49:28.585901",
     "exception": false,
     "start_time": "2024-04-17T16:49:28.516846",
     "status": "completed"
    },
    "tags": []
   },
   "outputs": [
    {
     "name": "stdout",
     "output_type": "stream",
     "text": [
      "Total ALL: 503227\n",
      "Total RNA: 43067\n",
      "Enamine Protein: 460160\n",
      "Chemdiv: 20000\n",
      "Enamine: 15520\n",
      "Life Chemicals: 5544\n",
      "Robin: 2003\n"
     ]
    },
    {
     "data": {
      "text/html": [
       "<div>\n",
       "<style scoped>\n",
       "    .dataframe tbody tr th:only-of-type {\n",
       "        vertical-align: middle;\n",
       "    }\n",
       "\n",
       "    .dataframe tbody tr th {\n",
       "        vertical-align: top;\n",
       "    }\n",
       "\n",
       "    .dataframe thead th {\n",
       "        text-align: right;\n",
       "    }\n",
       "</style>\n",
       "<table border=\"1\" class=\"dataframe\">\n",
       "  <thead>\n",
       "    <tr style=\"text-align: right;\">\n",
       "      <th></th>\n",
       "      <th>before</th>\n",
       "      <th>after</th>\n",
       "      <th>difference</th>\n",
       "    </tr>\n",
       "  </thead>\n",
       "  <tbody>\n",
       "    <tr>\n",
       "      <th>Enamine Protein</th>\n",
       "      <td>460160</td>\n",
       "      <td>0</td>\n",
       "      <td>0</td>\n",
       "    </tr>\n",
       "    <tr>\n",
       "      <th>Chemdiv</th>\n",
       "      <td>20000</td>\n",
       "      <td>0</td>\n",
       "      <td>0</td>\n",
       "    </tr>\n",
       "    <tr>\n",
       "      <th>Enamine</th>\n",
       "      <td>15520</td>\n",
       "      <td>0</td>\n",
       "      <td>0</td>\n",
       "    </tr>\n",
       "    <tr>\n",
       "      <th>Life Chemicals</th>\n",
       "      <td>5544</td>\n",
       "      <td>0</td>\n",
       "      <td>0</td>\n",
       "    </tr>\n",
       "    <tr>\n",
       "      <th>Robin</th>\n",
       "      <td>2003</td>\n",
       "      <td>0</td>\n",
       "      <td>0</td>\n",
       "    </tr>\n",
       "  </tbody>\n",
       "</table>\n",
       "</div>"
      ],
      "text/plain": [
       "                 before  after  difference\n",
       "Enamine Protein  460160      0           0\n",
       "Chemdiv           20000      0           0\n",
       "Enamine           15520      0           0\n",
       "Life Chemicals     5544      0           0\n",
       "Robin              2003      0           0"
      ]
     },
     "execution_count": 5,
     "metadata": {},
     "output_type": "execute_result"
    }
   ],
   "source": [
    "# number of molecules in each dataset\n",
    "# sum without protein\n",
    "print(f'Total ALL: {len(all_df)}')\n",
    "print(f'Total RNA: {len(rna_df)}')\n",
    "print(f'Enamine Protein: {len(enamine_protein_df)}')\n",
    "print(f'Chemdiv: {len(chemdiv_df)}')\n",
    "print(f'Enamine: {len(enamine_df)}')\n",
    "print(f'Life Chemicals: {len(life_chemicals_df)}')\n",
    "print(f'Robin: {len(robin_df)}')\n",
    "\n",
    "\n",
    "# create a df where will be three columns, before, after and difference. Before deduplication, after deduplication and difference. Store the first column for each dataset\n",
    "df_deduplication = pd.DataFrame(columns=['before', 'after', 'difference'])\n",
    "df_deduplication['before'] = [len(enamine_protein_df), len(chemdiv_df), len(enamine_df), len(life_chemicals_df), len(robin_df)]\n",
    "df_deduplication.index = ['Enamine Protein', 'Chemdiv', 'Enamine', 'Life Chemicals', 'Robin']\n",
    "df_deduplication[['after', 'difference']] = 0\n",
    "\n",
    "df_deduplication"
   ]
  },
  {
   "cell_type": "code",
   "execution_count": 6,
   "id": "dec02ac4",
   "metadata": {
    "execution": {
     "iopub.execute_input": "2024-04-17T16:49:28.609955Z",
     "iopub.status.busy": "2024-04-17T16:49:28.609323Z",
     "iopub.status.idle": "2024-04-17T16:49:28.630706Z",
     "shell.execute_reply": "2024-04-17T16:49:28.628686Z"
    },
    "papermill": {
     "duration": 0.035278,
     "end_time": "2024-04-17T16:49:28.633725",
     "exception": false,
     "start_time": "2024-04-17T16:49:28.598447",
     "status": "completed"
    },
    "tags": []
   },
   "outputs": [],
   "source": [
    "# add column 'source' to each df\n",
    "chemdiv_df['source'] = 'chemdiv'\n",
    "enamine_df['source'] = 'enamine'\n",
    "enamine_protein_df['source'] = 'enamine_protein'\n",
    "life_chemicals_df['source'] = 'life_chemicals'\n",
    "robin_df['source'] = 'robin'\n"
   ]
  },
  {
   "cell_type": "code",
   "execution_count": 7,
   "id": "48e42805",
   "metadata": {
    "execution": {
     "iopub.execute_input": "2024-04-17T16:49:28.659494Z",
     "iopub.status.busy": "2024-04-17T16:49:28.658221Z",
     "iopub.status.idle": "2024-04-17T16:50:09.490930Z",
     "shell.execute_reply": "2024-04-17T16:50:09.489762Z"
    },
    "papermill": {
     "duration": 40.8479,
     "end_time": "2024-04-17T16:50:09.495069",
     "exception": false,
     "start_time": "2024-04-17T16:49:28.647169",
     "status": "completed"
    },
    "tags": []
   },
   "outputs": [],
   "source": [
    "# create SMILES column for each dataset using rdKit\n",
    "datasets = [chemdiv_df, enamine_df, enamine_protein_df, life_chemicals_df, robin_df]\n",
    "\n",
    "for dataset in datasets:\n",
    "    dataset['SMILES'] = dataset['mol'].apply(MolToSmiles, canonical=True)\n"
   ]
  },
  {
   "cell_type": "code",
   "execution_count": 8,
   "id": "aa84ca10",
   "metadata": {
    "execution": {
     "iopub.execute_input": "2024-04-17T16:50:09.524939Z",
     "iopub.status.busy": "2024-04-17T16:50:09.523747Z",
     "iopub.status.idle": "2024-04-17T16:50:09.532870Z",
     "shell.execute_reply": "2024-04-17T16:50:09.530995Z"
    },
    "papermill": {
     "duration": 0.023858,
     "end_time": "2024-04-17T16:50:09.535592",
     "exception": false,
     "start_time": "2024-04-17T16:50:09.511734",
     "status": "completed"
    },
    "tags": []
   },
   "outputs": [],
   "source": [
    "del rna_df, all_df"
   ]
  },
  {
   "cell_type": "code",
   "execution_count": 9,
   "id": "a0905c16",
   "metadata": {
    "execution": {
     "iopub.execute_input": "2024-04-17T16:50:09.556527Z",
     "iopub.status.busy": "2024-04-17T16:50:09.555293Z",
     "iopub.status.idle": "2024-04-17T16:50:09.602335Z",
     "shell.execute_reply": "2024-04-17T16:50:09.601375Z"
    },
    "papermill": {
     "duration": 0.060913,
     "end_time": "2024-04-17T16:50:09.606381",
     "exception": false,
     "start_time": "2024-04-17T16:50:09.545468",
     "status": "completed"
    },
    "tags": []
   },
   "outputs": [],
   "source": [
    "rna_df = pd.concat([chemdiv_df, enamine_df, life_chemicals_df, robin_df], ignore_index=True)\n",
    "all_df = pd.concat([chemdiv_df, enamine_df, enamine_protein_df, life_chemicals_df, robin_df], ignore_index=True)"
   ]
  },
  {
   "cell_type": "code",
   "execution_count": 10,
   "id": "88fbecbd",
   "metadata": {
    "execution": {
     "iopub.execute_input": "2024-04-17T16:50:09.676562Z",
     "iopub.status.busy": "2024-04-17T16:50:09.674989Z",
     "iopub.status.idle": "2024-04-17T16:50:10.761074Z",
     "shell.execute_reply": "2024-04-17T16:50:10.760050Z"
    },
    "papermill": {
     "duration": 1.100954,
     "end_time": "2024-04-17T16:50:10.765360",
     "exception": false,
     "start_time": "2024-04-17T16:50:09.664406",
     "status": "completed"
    },
    "tags": []
   },
   "outputs": [
    {
     "data": {
      "text/html": [
       "<div>\n",
       "<style scoped>\n",
       "    .dataframe tbody tr th:only-of-type {\n",
       "        vertical-align: middle;\n",
       "    }\n",
       "\n",
       "    .dataframe tbody tr th {\n",
       "        vertical-align: top;\n",
       "    }\n",
       "\n",
       "    .dataframe thead th {\n",
       "        text-align: right;\n",
       "    }\n",
       "</style>\n",
       "<table border=\"1\" class=\"dataframe\">\n",
       "  <thead>\n",
       "    <tr style=\"text-align: right;\">\n",
       "      <th></th>\n",
       "      <th>source</th>\n",
       "      <th>mol</th>\n",
       "      <th>SMILES</th>\n",
       "    </tr>\n",
       "  </thead>\n",
       "  <tbody>\n",
       "    <tr>\n",
       "      <th>count</th>\n",
       "      <td>503227</td>\n",
       "      <td>503227</td>\n",
       "      <td>503227</td>\n",
       "    </tr>\n",
       "    <tr>\n",
       "      <th>unique</th>\n",
       "      <td>5</td>\n",
       "      <td>503227</td>\n",
       "      <td>498994</td>\n",
       "    </tr>\n",
       "    <tr>\n",
       "      <th>top</th>\n",
       "      <td>enamine_protein</td>\n",
       "      <td>&lt;rdkit.Chem.rdchem.Mol object at 0x7fa946a21120&gt;</td>\n",
       "      <td>CCC(C)Nc1nc2c(c(=O)n(C)c(=O)n2C)n1CCCc1ccccc1</td>\n",
       "    </tr>\n",
       "    <tr>\n",
       "      <th>freq</th>\n",
       "      <td>460160</td>\n",
       "      <td>1</td>\n",
       "      <td>3</td>\n",
       "    </tr>\n",
       "  </tbody>\n",
       "</table>\n",
       "</div>"
      ],
      "text/plain": [
       "                 source                                               mol  \\\n",
       "count            503227                                            503227   \n",
       "unique                5                                            503227   \n",
       "top     enamine_protein  <rdkit.Chem.rdchem.Mol object at 0x7fa946a21120>   \n",
       "freq             460160                                                 1   \n",
       "\n",
       "                                               SMILES  \n",
       "count                                          503227  \n",
       "unique                                         498994  \n",
       "top     CCC(C)Nc1nc2c(c(=O)n(C)c(=O)n2C)n1CCCc1ccccc1  \n",
       "freq                                                3  "
      ]
     },
     "execution_count": 10,
     "metadata": {},
     "output_type": "execute_result"
    }
   ],
   "source": [
    "all_df.describe()"
   ]
  },
  {
   "cell_type": "code",
   "execution_count": 11,
   "id": "6990daf7",
   "metadata": {
    "execution": {
     "iopub.execute_input": "2024-04-17T16:50:10.792589Z",
     "iopub.status.busy": "2024-04-17T16:50:10.791369Z",
     "iopub.status.idle": "2024-04-17T17:08:36.298286Z",
     "shell.execute_reply": "2024-04-17T17:08:36.296270Z"
    },
    "papermill": {
     "duration": 1106.415421,
     "end_time": "2024-04-17T17:08:37.196117",
     "exception": false,
     "start_time": "2024-04-17T16:50:10.780696",
     "status": "completed"
    },
    "tags": []
   },
   "outputs": [],
   "source": [
    "# import pandas as pd\n",
    "# from rdkit import Chem\n",
    "# from chembl_structure_pipeline import standardizer\n",
    "\n",
    "# def standardize_smiles(smiles):\n",
    "#     \"\"\"Standardize SMILES using ChEMBL Structure Pipeline.\"\"\"\n",
    "#     mol = Chem.MolFromSmiles(smiles)\n",
    "#     if mol:\n",
    "#         standardized_mol = standardizer.standardize_mol(mol)\n",
    "#         standardized_smiles = Chem.MolToSmiles(standardized_mol, canonical=True)\n",
    "#         return standardized_smiles\n",
    "#     return None\n",
    "\n",
    "# def correct_smiles(smiles):\n",
    "#     \"\"\"Keep the longer part of the SMILES string, discarding salts.\"\"\"\n",
    "#     parts = smiles.split('.')\n",
    "#     if len(parts) > 1:\n",
    "#         largest_part = max(parts, key=lambda x: len(Chem.MolFromSmiles(x).GetAtoms()))\n",
    "#         return largest_part\n",
    "#     return smiles\n",
    "\n",
    "# # Assuming all_df is your DataFrame containing molecules data\n",
    "# # Remove the 'mol' column\n",
    "# all_df.drop(columns=['mol'], inplace=True)\n",
    "\n",
    "# # Initialize a list to store molecules with disconnected components\n",
    "# disconnected_mols = []\n",
    "\n",
    "# # Process each row in all_df\n",
    "# for idx, row in all_df.iterrows():\n",
    "#     smiles = row['SMILES']\n",
    "#     source = row['source']\n",
    "\n",
    "#     # Standardize and correct SMILES\n",
    "#     standardized_smiles = standardize_smiles(smiles)\n",
    "#     if standardized_smiles is None:\n",
    "#         print(f\"Invalid SMILES string at index {idx}: {smiles}\")\n",
    "#         continue\n",
    "\n",
    "#     corrected_smiles = correct_smiles(standardized_smiles)\n",
    "#     mol_from_smiles = Chem.MolFromSmiles(corrected_smiles)\n",
    "\n",
    "#     if mol_from_smiles is None or mol_from_smiles.GetNumAtoms() == 0:\n",
    "#         print(f\"Invalid SMILES string after correction at index {idx}: {smiles}\")\n",
    "#         continue\n",
    "\n",
    "#     num_components = Chem.GetMolFrags(mol_from_smiles, asMols=False, sanitizeFrags=False)\n",
    "#     if len(num_components) > 1:\n",
    "#         print(f\"Disconnected components in molecule at index {idx}: {smiles}, from source {source}\")\n",
    "#         disconnected_mols.append({'Index': idx, 'SMILES': corrected_smiles, 'Source': source})\n",
    "#         all_df.at[idx, 'SMILES'] = corrected_smiles  # Update SMILES with corrected version\n",
    "\n",
    "# # Recompute 'mol' column from corrected SMILES\n",
    "# all_df['mol'] = all_df['SMILES'].apply(lambda x: Chem.MolFromSmiles(x))\n",
    "\n",
    "# # Convert the list to a DataFrame and save to JSON\n",
    "# disconnected_mols_df = pd.DataFrame(disconnected_mols)\n",
    "# disconnected_mols_df.to_json('disconnected_mols_df.json')\n",
    "\n",
    "# # Optionally, print or return the DataFrame of disconnected molecules\n",
    "# disconnected_mols_df"
   ]
  },
  {
   "cell_type": "code",
   "execution_count": 12,
   "id": "208486ac",
   "metadata": {
    "execution": {
     "iopub.execute_input": "2024-04-17T17:08:39.482516Z",
     "iopub.status.busy": "2024-04-17T17:08:39.481797Z",
     "iopub.status.idle": "2024-04-17T17:08:39.512653Z",
     "shell.execute_reply": "2024-04-17T17:08:39.511171Z"
    },
    "papermill": {
     "duration": 0.929097,
     "end_time": "2024-04-17T17:08:39.516678",
     "exception": false,
     "start_time": "2024-04-17T17:08:38.587581",
     "status": "completed"
    },
    "tags": []
   },
   "outputs": [
    {
     "data": {
      "text/html": [
       "<div>\n",
       "<style scoped>\n",
       "    .dataframe tbody tr th:only-of-type {\n",
       "        vertical-align: middle;\n",
       "    }\n",
       "\n",
       "    .dataframe tbody tr th {\n",
       "        vertical-align: top;\n",
       "    }\n",
       "\n",
       "    .dataframe thead th {\n",
       "        text-align: right;\n",
       "    }\n",
       "</style>\n",
       "<table border=\"1\" class=\"dataframe\">\n",
       "  <thead>\n",
       "    <tr style=\"text-align: right;\">\n",
       "      <th></th>\n",
       "      <th>source</th>\n",
       "      <th>mol</th>\n",
       "      <th>SMILES</th>\n",
       "    </tr>\n",
       "  </thead>\n",
       "  <tbody>\n",
       "    <tr>\n",
       "      <th>0</th>\n",
       "      <td>chemdiv</td>\n",
       "      <td>&lt;rdkit.Chem.rdchem.Mol object at 0x7fa95236f6a0&gt;</td>\n",
       "      <td>O=C(Nc1ccc2ccccc2c1)c1ccc2c(c1)C(=O)N(c1cccc(N...</td>\n",
       "    </tr>\n",
       "    <tr>\n",
       "      <th>1</th>\n",
       "      <td>chemdiv</td>\n",
       "      <td>&lt;rdkit.Chem.rdchem.Mol object at 0x7fa9a812fdd0&gt;</td>\n",
       "      <td>O=C(CSc1nnc(-c2ccccc2Cl)n1-c1ccccc1)c1ccc2c(c1...</td>\n",
       "    </tr>\n",
       "    <tr>\n",
       "      <th>2</th>\n",
       "      <td>chemdiv</td>\n",
       "      <td>&lt;rdkit.Chem.rdchem.Mol object at 0x7fa9522d4130&gt;</td>\n",
       "      <td>Cc1ccc(-n2c(=O)c3c4c(sc3n3c(SCC(=O)c5ccccc5)nn...</td>\n",
       "    </tr>\n",
       "    <tr>\n",
       "      <th>3</th>\n",
       "      <td>chemdiv</td>\n",
       "      <td>&lt;rdkit.Chem.rdchem.Mol object at 0x7fa9a812cd60&gt;</td>\n",
       "      <td>O=C(Nc1ccc(C(=O)c2ccccc2)cc1)c1ccc(Oc2ccc(C(=O...</td>\n",
       "    </tr>\n",
       "    <tr>\n",
       "      <th>4</th>\n",
       "      <td>chemdiv</td>\n",
       "      <td>&lt;rdkit.Chem.rdchem.Mol object at 0x7fa9a812fc90&gt;</td>\n",
       "      <td>O=C(Nc1ccc(Oc2cccc(Oc3ccc(NC(=O)c4ccccc4Cl)cc3...</td>\n",
       "    </tr>\n",
       "    <tr>\n",
       "      <th>...</th>\n",
       "      <td>...</td>\n",
       "      <td>...</td>\n",
       "      <td>...</td>\n",
       "    </tr>\n",
       "    <tr>\n",
       "      <th>503222</th>\n",
       "      <td>robin</td>\n",
       "      <td>&lt;rdkit.Chem.rdchem.Mol object at 0x7fa946a20fe0&gt;</td>\n",
       "      <td>C=CC(=O)Nc1cccc(Nc2nc(N[C@H]3CC[C@H](N(C)C)CC3...</td>\n",
       "    </tr>\n",
       "    <tr>\n",
       "      <th>503223</th>\n",
       "      <td>robin</td>\n",
       "      <td>&lt;rdkit.Chem.rdchem.Mol object at 0x7fa947361030&gt;</td>\n",
       "      <td>N#C/C(C(=O)c1ccc(Cl)cc1Cl)=C1\\NC(=O)c2ccc(Cl)c...</td>\n",
       "    </tr>\n",
       "    <tr>\n",
       "      <th>503224</th>\n",
       "      <td>robin</td>\n",
       "      <td>&lt;rdkit.Chem.rdchem.Mol object at 0x7fa946a21080&gt;</td>\n",
       "      <td>C[C@H](N[C@H]1C[C@H]1c1ccccc1)c1ccc2c(c1)OCCO2</td>\n",
       "    </tr>\n",
       "    <tr>\n",
       "      <th>503225</th>\n",
       "      <td>robin</td>\n",
       "      <td>&lt;rdkit.Chem.rdchem.Mol object at 0x7fa946a210d0&gt;</td>\n",
       "      <td>NCCC[C@@H](N)CC(=O)N[C@H]1CNC(=O)[C@@H]([C@@H]...</td>\n",
       "    </tr>\n",
       "    <tr>\n",
       "      <th>503226</th>\n",
       "      <td>robin</td>\n",
       "      <td>&lt;rdkit.Chem.rdchem.Mol object at 0x7fa946a21120&gt;</td>\n",
       "      <td>CC(C)=CCC/C(C)=C\\CNCCN[C@H]1[C@@H]2C[C@H]3C[C@...</td>\n",
       "    </tr>\n",
       "  </tbody>\n",
       "</table>\n",
       "<p>503227 rows × 3 columns</p>\n",
       "</div>"
      ],
      "text/plain": [
       "         source                                               mol  \\\n",
       "0       chemdiv  <rdkit.Chem.rdchem.Mol object at 0x7fa95236f6a0>   \n",
       "1       chemdiv  <rdkit.Chem.rdchem.Mol object at 0x7fa9a812fdd0>   \n",
       "2       chemdiv  <rdkit.Chem.rdchem.Mol object at 0x7fa9522d4130>   \n",
       "3       chemdiv  <rdkit.Chem.rdchem.Mol object at 0x7fa9a812cd60>   \n",
       "4       chemdiv  <rdkit.Chem.rdchem.Mol object at 0x7fa9a812fc90>   \n",
       "...         ...                                               ...   \n",
       "503222    robin  <rdkit.Chem.rdchem.Mol object at 0x7fa946a20fe0>   \n",
       "503223    robin  <rdkit.Chem.rdchem.Mol object at 0x7fa947361030>   \n",
       "503224    robin  <rdkit.Chem.rdchem.Mol object at 0x7fa946a21080>   \n",
       "503225    robin  <rdkit.Chem.rdchem.Mol object at 0x7fa946a210d0>   \n",
       "503226    robin  <rdkit.Chem.rdchem.Mol object at 0x7fa946a21120>   \n",
       "\n",
       "                                                   SMILES  \n",
       "0       O=C(Nc1ccc2ccccc2c1)c1ccc2c(c1)C(=O)N(c1cccc(N...  \n",
       "1       O=C(CSc1nnc(-c2ccccc2Cl)n1-c1ccccc1)c1ccc2c(c1...  \n",
       "2       Cc1ccc(-n2c(=O)c3c4c(sc3n3c(SCC(=O)c5ccccc5)nn...  \n",
       "3       O=C(Nc1ccc(C(=O)c2ccccc2)cc1)c1ccc(Oc2ccc(C(=O...  \n",
       "4       O=C(Nc1ccc(Oc2cccc(Oc3ccc(NC(=O)c4ccccc4Cl)cc3...  \n",
       "...                                                   ...  \n",
       "503222  C=CC(=O)Nc1cccc(Nc2nc(N[C@H]3CC[C@H](N(C)C)CC3...  \n",
       "503223  N#C/C(C(=O)c1ccc(Cl)cc1Cl)=C1\\NC(=O)c2ccc(Cl)c...  \n",
       "503224     C[C@H](N[C@H]1C[C@H]1c1ccccc1)c1ccc2c(c1)OCCO2  \n",
       "503225  NCCC[C@@H](N)CC(=O)N[C@H]1CNC(=O)[C@@H]([C@@H]...  \n",
       "503226  CC(C)=CCC/C(C)=C\\CNCCN[C@H]1[C@@H]2C[C@H]3C[C@...  \n",
       "\n",
       "[503227 rows x 3 columns]"
      ]
     },
     "execution_count": 12,
     "metadata": {},
     "output_type": "execute_result"
    }
   ],
   "source": [
    "all_df"
   ]
  },
  {
   "cell_type": "code",
   "execution_count": 13,
   "id": "c0615f9b",
   "metadata": {
    "execution": {
     "iopub.execute_input": "2024-04-17T17:08:41.084521Z",
     "iopub.status.busy": "2024-04-17T17:08:41.083786Z",
     "iopub.status.idle": "2024-04-17T17:08:41.241636Z",
     "shell.execute_reply": "2024-04-17T17:08:41.240701Z"
    },
    "papermill": {
     "duration": 0.937252,
     "end_time": "2024-04-17T17:08:41.245480",
     "exception": false,
     "start_time": "2024-04-17T17:08:40.308228",
     "status": "completed"
    },
    "tags": []
   },
   "outputs": [],
   "source": [
    "# check the SMILES column in all_df if they do not have dot in the string\n",
    "dissconnected_molecules = all_df[all_df['SMILES'].str.contains('\\.')]\n",
    "\n",
    "# save the dissconnected molecules to json\n",
    "dissconnected_molecules.to_json('mols_with_salt.json')\n"
   ]
  },
  {
   "cell_type": "code",
   "execution_count": 14,
   "id": "edbfe880",
   "metadata": {
    "execution": {
     "iopub.execute_input": "2024-04-17T17:08:43.223999Z",
     "iopub.status.busy": "2024-04-17T17:08:43.222604Z",
     "iopub.status.idle": "2024-04-17T17:08:43.237758Z",
     "shell.execute_reply": "2024-04-17T17:08:43.236333Z"
    },
    "papermill": {
     "duration": 0.807104,
     "end_time": "2024-04-17T17:08:43.241751",
     "exception": false,
     "start_time": "2024-04-17T17:08:42.434647",
     "status": "completed"
    },
    "tags": []
   },
   "outputs": [
    {
     "data": {
      "text/html": [
       "<div>\n",
       "<style scoped>\n",
       "    .dataframe tbody tr th:only-of-type {\n",
       "        vertical-align: middle;\n",
       "    }\n",
       "\n",
       "    .dataframe tbody tr th {\n",
       "        vertical-align: top;\n",
       "    }\n",
       "\n",
       "    .dataframe thead th {\n",
       "        text-align: right;\n",
       "    }\n",
       "</style>\n",
       "<table border=\"1\" class=\"dataframe\">\n",
       "  <thead>\n",
       "    <tr style=\"text-align: right;\">\n",
       "      <th></th>\n",
       "      <th>source</th>\n",
       "      <th>mol</th>\n",
       "      <th>SMILES</th>\n",
       "    </tr>\n",
       "  </thead>\n",
       "  <tbody>\n",
       "  </tbody>\n",
       "</table>\n",
       "</div>"
      ],
      "text/plain": [
       "Empty DataFrame\n",
       "Columns: [source, mol, SMILES]\n",
       "Index: []"
      ]
     },
     "execution_count": 14,
     "metadata": {},
     "output_type": "execute_result"
    }
   ],
   "source": [
    "dissconnected_molecules"
   ]
  },
  {
   "cell_type": "code",
   "execution_count": 15,
   "id": "32512f30",
   "metadata": {
    "execution": {
     "iopub.execute_input": "2024-04-17T17:08:45.223699Z",
     "iopub.status.busy": "2024-04-17T17:08:45.222933Z",
     "iopub.status.idle": "2024-04-17T17:08:45.240485Z",
     "shell.execute_reply": "2024-04-17T17:08:45.238741Z"
    },
    "papermill": {
     "duration": 1.17721,
     "end_time": "2024-04-17T17:08:45.244564",
     "exception": false,
     "start_time": "2024-04-17T17:08:44.067354",
     "status": "completed"
    },
    "tags": []
   },
   "outputs": [],
   "source": [
    "# from chembl_structure_pipeline import standardizer\n",
    "# from rdkit import Chem\n",
    "\n",
    "# def get_parent_mol(smiles):\n",
    "#     \"\"\"Remove salt from SMILES and return the parent molecule's SMILES.\"\"\"\n",
    "#     mol = Chem.MolFromSmiles(smiles)\n",
    "#     if mol:\n",
    "#         parent_mol, _ = standardizer.get_parent_mol(mol)  # Unpack the returned tuple\n",
    "#         if parent_mol:  # Ensure parent_mol is not None\n",
    "#             parent_smiles = Chem.MolToSmiles(parent_mol, canonical=True)\n",
    "#             return parent_smiles\n",
    "#     return None\n",
    "\n",
    "# # Assuming dissconnected_molecules is a DataFrame containing molecules\n",
    "# removed_salts = []\n",
    "# for idx, row in dissconnected_molecules.iterrows():\n",
    "#     smiles = row['SMILES']\n",
    "#     source = row['source']\n",
    "#     parent_smiles = get_parent_mol(smiles)\n",
    "#     if parent_smiles is None:\n",
    "#         print(f\"Invalid SMILES string at index {idx}: {smiles}\")\n",
    "#         continue\n",
    "#     removed_salts.append({'Index': idx, 'SMILES': parent_smiles, 'Source': source})\n",
    "#     # Assuming you want to update all_df too\n",
    "#     all_df.at[idx, 'SMILES'] = parent_smiles  # Update SMILES with corrected version\n",
    "\n",
    "# # Process the removed_salts list as needed\n",
    "# removed_salts_df = pd.DataFrame(removed_salts)\n",
    "# removed_salts_df.to_json('removed_salts_df.json')\n",
    "\n"
   ]
  },
  {
   "cell_type": "code",
   "execution_count": 16,
   "id": "bbb45c9b",
   "metadata": {
    "execution": {
     "iopub.execute_input": "2024-04-17T17:08:46.875010Z",
     "iopub.status.busy": "2024-04-17T17:08:46.874315Z",
     "iopub.status.idle": "2024-04-17T17:08:47.033445Z",
     "shell.execute_reply": "2024-04-17T17:08:47.031292Z"
    },
    "papermill": {
     "duration": 0.97332,
     "end_time": "2024-04-17T17:08:47.038819",
     "exception": false,
     "start_time": "2024-04-17T17:08:46.065499",
     "status": "completed"
    },
    "tags": []
   },
   "outputs": [
    {
     "data": {
      "text/html": [
       "<div>\n",
       "<style scoped>\n",
       "    .dataframe tbody tr th:only-of-type {\n",
       "        vertical-align: middle;\n",
       "    }\n",
       "\n",
       "    .dataframe tbody tr th {\n",
       "        vertical-align: top;\n",
       "    }\n",
       "\n",
       "    .dataframe thead th {\n",
       "        text-align: right;\n",
       "    }\n",
       "</style>\n",
       "<table border=\"1\" class=\"dataframe\">\n",
       "  <thead>\n",
       "    <tr style=\"text-align: right;\">\n",
       "      <th></th>\n",
       "      <th>source</th>\n",
       "      <th>mol</th>\n",
       "      <th>SMILES</th>\n",
       "    </tr>\n",
       "  </thead>\n",
       "  <tbody>\n",
       "  </tbody>\n",
       "</table>\n",
       "</div>"
      ],
      "text/plain": [
       "Empty DataFrame\n",
       "Columns: [source, mol, SMILES]\n",
       "Index: []"
      ]
     },
     "execution_count": 16,
     "metadata": {},
     "output_type": "execute_result"
    }
   ],
   "source": [
    "salt_check = all_df[all_df['SMILES'].str.contains('\\.')].copy()\n",
    "# drop mol column\n",
    "salt_check\n"
   ]
  },
  {
   "cell_type": "code",
   "execution_count": 17,
   "id": "0831c7b3",
   "metadata": {
    "execution": {
     "iopub.execute_input": "2024-04-17T17:08:48.943379Z",
     "iopub.status.busy": "2024-04-17T17:08:48.941947Z",
     "iopub.status.idle": "2024-04-17T17:08:48.954965Z",
     "shell.execute_reply": "2024-04-17T17:08:48.952873Z"
    },
    "papermill": {
     "duration": 0.806896,
     "end_time": "2024-04-17T17:08:48.959356",
     "exception": false,
     "start_time": "2024-04-17T17:08:48.152460",
     "status": "completed"
    },
    "tags": []
   },
   "outputs": [],
   "source": [
    "# # from salt_check, remove the [O-][Cl+3]([O-])([O-])[O-] from the SMILES\n",
    "# salt_check['SMILES'] = salt_check['SMILES'].str.replace(r'[O-][Cl+3]([O-])([O-])[O-].', '')\n",
    "# salt_check['SMILES'] = salt_check['SMILES'].str.replace(r'.[O-][Cl+3]([O-])([O-])[O-]', '')\n",
    "# salt_check['SMILES'] = salt_check['SMILES'].str.replace(r'.[O-][Cl+3]([O-])([O-])O', '')\n"
   ]
  },
  {
   "cell_type": "code",
   "execution_count": 18,
   "id": "cbac4272",
   "metadata": {
    "execution": {
     "iopub.execute_input": "2024-04-17T17:08:50.672332Z",
     "iopub.status.busy": "2024-04-17T17:08:50.671533Z",
     "iopub.status.idle": "2024-04-17T17:08:50.679877Z",
     "shell.execute_reply": "2024-04-17T17:08:50.678358Z"
    },
    "papermill": {
     "duration": 0.800695,
     "end_time": "2024-04-17T17:08:50.683674",
     "exception": false,
     "start_time": "2024-04-17T17:08:49.882979",
     "status": "completed"
    },
    "tags": []
   },
   "outputs": [],
   "source": [
    "for x in salt_check['SMILES']:\n",
    "    print(x)"
   ]
  },
  {
   "cell_type": "code",
   "execution_count": 19,
   "id": "9f4eabb7",
   "metadata": {
    "execution": {
     "iopub.execute_input": "2024-04-17T17:08:52.688478Z",
     "iopub.status.busy": "2024-04-17T17:08:52.687718Z",
     "iopub.status.idle": "2024-04-17T17:08:53.113259Z",
     "shell.execute_reply": "2024-04-17T17:08:53.112128Z"
    },
    "papermill": {
     "duration": 1.650875,
     "end_time": "2024-04-17T17:08:53.117544",
     "exception": false,
     "start_time": "2024-04-17T17:08:51.466669",
     "status": "completed"
    },
    "tags": []
   },
   "outputs": [],
   "source": [
    "all_df['SMILES']  = all_df['SMILES'].str.replace(r'[O-][Cl+3]([O-])([O-])[O-].', '')\n",
    "all_df['SMILES']  = all_df['SMILES'].str.replace(r'.[O-][Cl+3]([O-])([O-])[O-]', '')\n",
    "all_df['SMILES']  = all_df['SMILES'].str.replace(r'.[O-][Cl+3]([O-])([O-])O', '')"
   ]
  },
  {
   "cell_type": "code",
   "execution_count": 20,
   "id": "7cef8d16",
   "metadata": {
    "execution": {
     "iopub.execute_input": "2024-04-17T17:08:54.723200Z",
     "iopub.status.busy": "2024-04-17T17:08:54.721498Z",
     "iopub.status.idle": "2024-04-17T17:08:54.881902Z",
     "shell.execute_reply": "2024-04-17T17:08:54.880747Z"
    },
    "papermill": {
     "duration": 0.946657,
     "end_time": "2024-04-17T17:08:54.885582",
     "exception": false,
     "start_time": "2024-04-17T17:08:53.938925",
     "status": "completed"
    },
    "tags": []
   },
   "outputs": [
    {
     "data": {
      "text/html": [
       "<div>\n",
       "<style scoped>\n",
       "    .dataframe tbody tr th:only-of-type {\n",
       "        vertical-align: middle;\n",
       "    }\n",
       "\n",
       "    .dataframe tbody tr th {\n",
       "        vertical-align: top;\n",
       "    }\n",
       "\n",
       "    .dataframe thead th {\n",
       "        text-align: right;\n",
       "    }\n",
       "</style>\n",
       "<table border=\"1\" class=\"dataframe\">\n",
       "  <thead>\n",
       "    <tr style=\"text-align: right;\">\n",
       "      <th></th>\n",
       "      <th>source</th>\n",
       "      <th>mol</th>\n",
       "      <th>SMILES</th>\n",
       "    </tr>\n",
       "  </thead>\n",
       "  <tbody>\n",
       "  </tbody>\n",
       "</table>\n",
       "</div>"
      ],
      "text/plain": [
       "Empty DataFrame\n",
       "Columns: [source, mol, SMILES]\n",
       "Index: []"
      ]
     },
     "execution_count": 20,
     "metadata": {},
     "output_type": "execute_result"
    }
   ],
   "source": [
    "all_df[all_df['SMILES'].str.contains('\\.')]"
   ]
  },
  {
   "cell_type": "code",
   "execution_count": 21,
   "id": "078d200d",
   "metadata": {
    "execution": {
     "iopub.execute_input": "2024-04-17T17:08:56.820122Z",
     "iopub.status.busy": "2024-04-17T17:08:56.818645Z",
     "iopub.status.idle": "2024-04-17T17:08:56.837010Z",
     "shell.execute_reply": "2024-04-17T17:08:56.835313Z"
    },
    "papermill": {
     "duration": 1.182091,
     "end_time": "2024-04-17T17:08:56.840798",
     "exception": false,
     "start_time": "2024-04-17T17:08:55.658707",
     "status": "completed"
    },
    "tags": []
   },
   "outputs": [
    {
     "data": {
      "text/html": [
       "<div>\n",
       "<style scoped>\n",
       "    .dataframe tbody tr th:only-of-type {\n",
       "        vertical-align: middle;\n",
       "    }\n",
       "\n",
       "    .dataframe tbody tr th {\n",
       "        vertical-align: top;\n",
       "    }\n",
       "\n",
       "    .dataframe thead th {\n",
       "        text-align: right;\n",
       "    }\n",
       "</style>\n",
       "<table border=\"1\" class=\"dataframe\">\n",
       "  <thead>\n",
       "    <tr style=\"text-align: right;\">\n",
       "      <th></th>\n",
       "      <th>source</th>\n",
       "      <th>mol</th>\n",
       "      <th>SMILES</th>\n",
       "    </tr>\n",
       "  </thead>\n",
       "  <tbody>\n",
       "    <tr>\n",
       "      <th>0</th>\n",
       "      <td>chemdiv</td>\n",
       "      <td>&lt;rdkit.Chem.rdchem.Mol object at 0x7fa95236f6a0&gt;</td>\n",
       "      <td>O=C(Nc1ccc2ccccc2c1)c1ccc2c(c1)C(=O)N(c1cccc(N...</td>\n",
       "    </tr>\n",
       "    <tr>\n",
       "      <th>1</th>\n",
       "      <td>chemdiv</td>\n",
       "      <td>&lt;rdkit.Chem.rdchem.Mol object at 0x7fa9a812fdd0&gt;</td>\n",
       "      <td>O=C(CSc1nnc(-c2ccccc2Cl)n1-c1ccccc1)c1ccc2c(c1...</td>\n",
       "    </tr>\n",
       "    <tr>\n",
       "      <th>2</th>\n",
       "      <td>chemdiv</td>\n",
       "      <td>&lt;rdkit.Chem.rdchem.Mol object at 0x7fa9522d4130&gt;</td>\n",
       "      <td>Cc1ccc(-n2c(=O)c3c4c(sc3n3c(SCC(=O)c5ccccc5)nn...</td>\n",
       "    </tr>\n",
       "    <tr>\n",
       "      <th>3</th>\n",
       "      <td>chemdiv</td>\n",
       "      <td>&lt;rdkit.Chem.rdchem.Mol object at 0x7fa9a812cd60&gt;</td>\n",
       "      <td>O=C(Nc1ccc(C(=O)c2ccccc2)cc1)c1ccc(Oc2ccc(C(=O...</td>\n",
       "    </tr>\n",
       "    <tr>\n",
       "      <th>4</th>\n",
       "      <td>chemdiv</td>\n",
       "      <td>&lt;rdkit.Chem.rdchem.Mol object at 0x7fa9a812fc90&gt;</td>\n",
       "      <td>O=C(Nc1ccc(Oc2cccc(Oc3ccc(NC(=O)c4ccccc4Cl)cc3...</td>\n",
       "    </tr>\n",
       "  </tbody>\n",
       "</table>\n",
       "</div>"
      ],
      "text/plain": [
       "    source                                               mol  \\\n",
       "0  chemdiv  <rdkit.Chem.rdchem.Mol object at 0x7fa95236f6a0>   \n",
       "1  chemdiv  <rdkit.Chem.rdchem.Mol object at 0x7fa9a812fdd0>   \n",
       "2  chemdiv  <rdkit.Chem.rdchem.Mol object at 0x7fa9522d4130>   \n",
       "3  chemdiv  <rdkit.Chem.rdchem.Mol object at 0x7fa9a812cd60>   \n",
       "4  chemdiv  <rdkit.Chem.rdchem.Mol object at 0x7fa9a812fc90>   \n",
       "\n",
       "                                              SMILES  \n",
       "0  O=C(Nc1ccc2ccccc2c1)c1ccc2c(c1)C(=O)N(c1cccc(N...  \n",
       "1  O=C(CSc1nnc(-c2ccccc2Cl)n1-c1ccccc1)c1ccc2c(c1...  \n",
       "2  Cc1ccc(-n2c(=O)c3c4c(sc3n3c(SCC(=O)c5ccccc5)nn...  \n",
       "3  O=C(Nc1ccc(C(=O)c2ccccc2)cc1)c1ccc(Oc2ccc(C(=O...  \n",
       "4  O=C(Nc1ccc(Oc2cccc(Oc3ccc(NC(=O)c4ccccc4Cl)cc3...  "
      ]
     },
     "execution_count": 21,
     "metadata": {},
     "output_type": "execute_result"
    }
   ],
   "source": [
    "all_df.head(5)"
   ]
  },
  {
   "cell_type": "code",
   "execution_count": 22,
   "id": "8c04f5c9",
   "metadata": {
    "execution": {
     "iopub.execute_input": "2024-04-17T17:08:58.518923Z",
     "iopub.status.busy": "2024-04-17T17:08:58.517767Z",
     "iopub.status.idle": "2024-04-17T17:24:05.112845Z",
     "shell.execute_reply": "2024-04-17T17:24:05.111468Z"
    },
    "papermill": {
     "duration": 909.24622,
     "end_time": "2024-04-17T17:24:06.929510",
     "exception": false,
     "start_time": "2024-04-17T17:08:57.683290",
     "status": "completed"
    },
    "tags": []
   },
   "outputs": [],
   "source": [
    "# # Initialize a list to store molecules with disconnected components\n",
    "# disconnected_mols = []\n",
    "\n",
    "# # Process each row in all_df\n",
    "# for idx, row in all_df.iterrows():\n",
    "#     smiles = row['SMILES']\n",
    "#     source = row['source']\n",
    "\n",
    "#     # Standardize and correct SMILES\n",
    "#     standardized_smiles = standardize_smiles(smiles)\n",
    "#     if standardized_smiles is None:\n",
    "#         print(f\"Invalid SMILES string at index {idx}: {smiles}\")\n",
    "#         continue\n",
    "\n",
    "#     corrected_smiles = correct_smiles(standardized_smiles)\n",
    "#     mol_from_smiles = Chem.MolFromSmiles(corrected_smiles)\n",
    "\n",
    "#     if mol_from_smiles is None or mol_from_smiles.GetNumAtoms() == 0:\n",
    "#         print(f\"Invalid SMILES string after correction at index {idx}: {smiles}\")\n",
    "#         continue\n",
    "\n",
    "#     num_components = Chem.GetMolFrags(mol_from_smiles, asMols=False, sanitizeFrags=False)\n",
    "#     if len(num_components) > 1:\n",
    "#         print(f\"Disconnected components in molecule at index {idx}: {smiles}, from source {source}\")\n",
    "#         disconnected_mols.append({'Index': idx, 'SMILES': corrected_smiles, 'Source': source})\n",
    "#         all_df.at[idx, 'SMILES'] = corrected_smiles  # Update SMILES with corrected version\n",
    "\n",
    "# # Recompute 'mol' column from corrected SMILES\n",
    "# all_df['mol'] = all_df['SMILES'].apply(lambda x: Chem.MolFromSmiles(x))\n",
    "\n",
    "# # Convert the list to a DataFrame and save to JSON\n",
    "# disconnected_mols_2_df = pd.DataFrame(disconnected_mols)\n",
    "# disconnected_mols_2_df.to_json('disconnected_mols_2_df.json')\n",
    "\n",
    "# # Optionally, print or return the DataFrame of disconnected molecules\n",
    "# disconnected_mols_2_df"
   ]
  },
  {
   "cell_type": "code",
   "execution_count": 23,
   "id": "c50b5a60",
   "metadata": {
    "execution": {
     "iopub.execute_input": "2024-04-17T17:24:14.710329Z",
     "iopub.status.busy": "2024-04-17T17:24:14.709622Z",
     "iopub.status.idle": "2024-04-17T17:24:14.867440Z",
     "shell.execute_reply": "2024-04-17T17:24:14.866445Z"
    },
    "papermill": {
     "duration": 1.902774,
     "end_time": "2024-04-17T17:24:14.871342",
     "exception": false,
     "start_time": "2024-04-17T17:24:12.968568",
     "status": "completed"
    },
    "tags": []
   },
   "outputs": [
    {
     "data": {
      "text/html": [
       "<div>\n",
       "<style scoped>\n",
       "    .dataframe tbody tr th:only-of-type {\n",
       "        vertical-align: middle;\n",
       "    }\n",
       "\n",
       "    .dataframe tbody tr th {\n",
       "        vertical-align: top;\n",
       "    }\n",
       "\n",
       "    .dataframe thead th {\n",
       "        text-align: right;\n",
       "    }\n",
       "</style>\n",
       "<table border=\"1\" class=\"dataframe\">\n",
       "  <thead>\n",
       "    <tr style=\"text-align: right;\">\n",
       "      <th></th>\n",
       "      <th>source</th>\n",
       "      <th>mol</th>\n",
       "      <th>SMILES</th>\n",
       "    </tr>\n",
       "  </thead>\n",
       "  <tbody>\n",
       "  </tbody>\n",
       "</table>\n",
       "</div>"
      ],
      "text/plain": [
       "Empty DataFrame\n",
       "Columns: [source, mol, SMILES]\n",
       "Index: []"
      ]
     },
     "execution_count": 23,
     "metadata": {},
     "output_type": "execute_result"
    }
   ],
   "source": [
    "all_df[all_df['SMILES'].str.contains('\\.')]"
   ]
  },
  {
   "cell_type": "code",
   "execution_count": 24,
   "id": "caec46bf",
   "metadata": {
    "execution": {
     "iopub.execute_input": "2024-04-17T17:24:18.674141Z",
     "iopub.status.busy": "2024-04-17T17:24:18.673411Z",
     "iopub.status.idle": "2024-04-17T17:24:18.841585Z",
     "shell.execute_reply": "2024-04-17T17:24:18.840578Z"
    },
    "papermill": {
     "duration": 2.284517,
     "end_time": "2024-04-17T17:24:18.845441",
     "exception": false,
     "start_time": "2024-04-17T17:24:16.560924",
     "status": "completed"
    },
    "tags": []
   },
   "outputs": [
    {
     "name": "stdout",
     "output_type": "stream",
     "text": [
      "Chemdiv: 20000\n",
      "Enamine: 15520\n",
      "Enamine Protein: 460160\n",
      "Life Chemicals: 5544\n",
      "Robin: 2003\n"
     ]
    }
   ],
   "source": [
    "# using source column, divide the all_df into 5 different dataframes\n",
    "chemdiv_df = all_df[all_df['source'] == 'chemdiv']\n",
    "enamine_df = all_df[all_df['source'] == 'enamine']\n",
    "enamine_protein_df = all_df[all_df['source'] == 'enamine_protein']\n",
    "life_chemicals_df = all_df[all_df['source'] == 'life_chemicals']\n",
    "robin_df = all_df[all_df['source'] == 'robin']\n",
    "\n",
    "# statistics of the number of molecules in each dataset\n",
    "print(f'Chemdiv: {len(chemdiv_df)}')\n",
    "print(f'Enamine: {len(enamine_df)}')\n",
    "print(f'Enamine Protein: {len(enamine_protein_df)}')\n",
    "print(f'Life Chemicals: {len(life_chemicals_df)}')\n",
    "print(f'Robin: {len(robin_df)}')\n"
   ]
  },
  {
   "cell_type": "code",
   "execution_count": 25,
   "id": "210ac74b",
   "metadata": {
    "execution": {
     "iopub.execute_input": "2024-04-17T17:24:22.755602Z",
     "iopub.status.busy": "2024-04-17T17:24:22.754891Z",
     "iopub.status.idle": "2024-04-17T17:24:23.288471Z",
     "shell.execute_reply": "2024-04-17T17:24:23.287501Z"
    },
    "papermill": {
     "duration": 2.57135,
     "end_time": "2024-04-17T17:24:23.294280",
     "exception": false,
     "start_time": "2024-04-17T17:24:20.722930",
     "status": "completed"
    },
    "tags": []
   },
   "outputs": [
    {
     "name": "stdout",
     "output_type": "stream",
     "text": [
      "Duplicates between Enamine protein and Chemdiv: 54\n",
      "Duplicates between Enamine protein and Enamine: 3901\n",
      "Duplicates between Enamine protein and Life Chemicals: 111\n",
      "Duplicates between Enamine protein and ROBIN: 1\n",
      "Duplicates between Chemdiv and Enamine: 11\n",
      "Duplicates between Chemdiv and Life Chemicals: 20\n",
      "Duplicates between Chemdiv and ROBIN: 7\n",
      "Duplicates between Enamine and Life Chemicals: 112\n",
      "Duplicates between Enamine and ROBIN: 2\n",
      "Duplicates between Life Chemicals and ROBIN: 1\n",
      "Duplicates between RNA and Enamine Protein: 4059\n"
     ]
    },
    {
     "data": {
      "text/html": [
       "<div>\n",
       "<style scoped>\n",
       "    .dataframe tbody tr th:only-of-type {\n",
       "        vertical-align: middle;\n",
       "    }\n",
       "\n",
       "    .dataframe tbody tr th {\n",
       "        vertical-align: top;\n",
       "    }\n",
       "\n",
       "    .dataframe thead th {\n",
       "        text-align: right;\n",
       "    }\n",
       "</style>\n",
       "<table border=\"1\" class=\"dataframe\">\n",
       "  <thead>\n",
       "    <tr style=\"text-align: right;\">\n",
       "      <th></th>\n",
       "      <th>Enamine protein</th>\n",
       "      <th>Chemdiv</th>\n",
       "      <th>Enamine</th>\n",
       "      <th>Life Chemicals</th>\n",
       "      <th>ROBIN</th>\n",
       "    </tr>\n",
       "  </thead>\n",
       "  <tbody>\n",
       "    <tr>\n",
       "      <th>Enamine protein</th>\n",
       "      <td>0</td>\n",
       "      <td>54</td>\n",
       "      <td>3901</td>\n",
       "      <td>111</td>\n",
       "      <td>1</td>\n",
       "    </tr>\n",
       "    <tr>\n",
       "      <th>Chemdiv</th>\n",
       "      <td>54</td>\n",
       "      <td>0</td>\n",
       "      <td>11</td>\n",
       "      <td>20</td>\n",
       "      <td>7</td>\n",
       "    </tr>\n",
       "    <tr>\n",
       "      <th>Enamine</th>\n",
       "      <td>3901</td>\n",
       "      <td>11</td>\n",
       "      <td>0</td>\n",
       "      <td>112</td>\n",
       "      <td>2</td>\n",
       "    </tr>\n",
       "    <tr>\n",
       "      <th>Life Chemicals</th>\n",
       "      <td>111</td>\n",
       "      <td>20</td>\n",
       "      <td>112</td>\n",
       "      <td>0</td>\n",
       "      <td>1</td>\n",
       "    </tr>\n",
       "    <tr>\n",
       "      <th>ROBIN</th>\n",
       "      <td>1</td>\n",
       "      <td>7</td>\n",
       "      <td>2</td>\n",
       "      <td>1</td>\n",
       "      <td>0</td>\n",
       "    </tr>\n",
       "  </tbody>\n",
       "</table>\n",
       "</div>"
      ],
      "text/plain": [
       "                 Enamine protein  Chemdiv  Enamine  Life Chemicals  ROBIN\n",
       "Enamine protein                0       54     3901             111      1\n",
       "Chemdiv                       54        0       11              20      7\n",
       "Enamine                     3901       11        0             112      2\n",
       "Life Chemicals               111       20      112               0      1\n",
       "ROBIN                          1        7        2               1      0"
      ]
     },
     "execution_count": 25,
     "metadata": {},
     "output_type": "execute_result"
    }
   ],
   "source": [
    "# List of datasets\n",
    "datasets = {\n",
    "    'Enamine protein': enamine_protein_df,\n",
    "    'Chemdiv': chemdiv_df,\n",
    "    'Enamine': enamine_df,\n",
    "    'Life Chemicals': life_chemicals_df,\n",
    "    'ROBIN': robin_df,\n",
    "}\n",
    "\n",
    "# remove duplicates within datasets\n",
    "for dataset in datasets:\n",
    "    datasets[dataset] = datasets[dataset].drop_duplicates(subset='SMILES', keep='first')\n",
    "    \n",
    "\n",
    "# create a df to store the number of duplicates between each pair of datasets\n",
    "df_dup_count = pd.DataFrame(columns=datasets.keys(), index=datasets.keys())\n",
    "df_dup_count = df_dup_count.fillna(0)\n",
    "    \n",
    "# Iterate over all pairs of datasets and count duplicates\n",
    "for (name1, df1), (name2, df2) in itertools.combinations(datasets.items(), 2):\n",
    "    # Find duplicates between df1 and df2\n",
    "    duplicates = df1[df1['SMILES'].isin(df2['SMILES'])]\n",
    "    \n",
    "    # Store the number of duplicates in the df\n",
    "    df_dup_count.loc[name1, name2] = len(duplicates)\n",
    "    df_dup_count.loc[name2, name1] = len(duplicates)\n",
    "    \n",
    "    # Print the count of duplicates\n",
    "    print(f\"Duplicates between {name1} and {name2}: {len(duplicates)}\")\n",
    "    \n",
    "\n",
    "# center the diagonal\n",
    "df_dup_count.values[[np.arange(len(df_dup_count))]*2] = 0\n",
    "\n",
    "\n",
    "    \n",
    "# drop duplicates in rna_df and enamine_protein_df\n",
    "rna_df = rna_df.drop_duplicates(subset='SMILES', keep='first')\n",
    "enamine_protein_df = enamine_protein_df.drop_duplicates(subset='SMILES', keep='first')\n",
    "\n",
    "rna_prot_dup = rna_df[rna_df['SMILES'].isin(enamine_protein_df['SMILES'])]\n",
    "print(f'Duplicates between RNA and Enamine Protein: {len(rna_prot_dup)}')\n",
    "df_dup_count\n"
   ]
  },
  {
   "cell_type": "code",
   "execution_count": 26,
   "id": "fae6233a",
   "metadata": {
    "execution": {
     "iopub.execute_input": "2024-04-17T17:24:27.023238Z",
     "iopub.status.busy": "2024-04-17T17:24:27.021827Z",
     "iopub.status.idle": "2024-04-17T17:24:27.032391Z",
     "shell.execute_reply": "2024-04-17T17:24:27.030513Z"
    },
    "papermill": {
     "duration": 1.906186,
     "end_time": "2024-04-17T17:24:27.036303",
     "exception": false,
     "start_time": "2024-04-17T17:24:25.130117",
     "status": "completed"
    },
    "tags": []
   },
   "outputs": [
    {
     "name": "stdout",
     "output_type": "stream",
     "text": [
      "Chemdiv: 20000\n",
      "Enamine: 15520\n",
      "Enamine Protein: 460139\n",
      "Life Chemicals: 5544\n",
      "Robin: 2003\n"
     ]
    }
   ],
   "source": [
    "print(f'Chemdiv: {len(chemdiv_df)}')\n",
    "print(f'Enamine: {len(enamine_df)}')\n",
    "print(f'Enamine Protein: {len(enamine_protein_df)}')\n",
    "print(f'Life Chemicals: {len(life_chemicals_df)}')\n",
    "print(f'Robin: {len(robin_df)}')"
   ]
  },
  {
   "cell_type": "code",
   "execution_count": 27,
   "id": "56c46b19",
   "metadata": {
    "execution": {
     "iopub.execute_input": "2024-04-17T17:24:31.066626Z",
     "iopub.status.busy": "2024-04-17T17:24:31.065878Z",
     "iopub.status.idle": "2024-04-17T17:24:31.767945Z",
     "shell.execute_reply": "2024-04-17T17:24:31.766896Z"
    },
    "papermill": {
     "duration": 2.805831,
     "end_time": "2024-04-17T17:24:31.772143",
     "exception": false,
     "start_time": "2024-04-17T17:24:28.966312",
     "status": "completed"
    },
    "tags": []
   },
   "outputs": [],
   "source": [
    "# # Save the number of duplicates to a pickle file\n",
    "# df_dup_count.to_pickle('duplicate_counts_v4.pkl')\n",
    "    \n",
    "# # Save the number of duplicates to a text file\n",
    "# duplicate_counts = df_dup_count.to_dict()\n",
    "# with open('duplicate_counts_v4.txt', 'w') as f:\n",
    "#     for key, value in duplicate_counts.items():\n",
    "#         f.write(f'{key}: {value}\\n')\n",
    "    \n",
    "# # save found duplicates to a pickle file\n",
    "# duplicates = rna_df[rna_df['SMILES'].isin(enamine_protein_df['SMILES'])]\n",
    "# duplicates.to_pickle('duplicates_v4.pkl')\n"
   ]
  },
  {
   "cell_type": "code",
   "execution_count": 28,
   "id": "ab26fedd",
   "metadata": {
    "execution": {
     "iopub.execute_input": "2024-04-17T17:24:35.627870Z",
     "iopub.status.busy": "2024-04-17T17:24:35.627155Z",
     "iopub.status.idle": "2024-04-17T17:24:35.636352Z",
     "shell.execute_reply": "2024-04-17T17:24:35.634480Z"
    },
    "papermill": {
     "duration": 2.040095,
     "end_time": "2024-04-17T17:24:35.640348",
     "exception": false,
     "start_time": "2024-04-17T17:24:33.600253",
     "status": "completed"
    },
    "tags": []
   },
   "outputs": [],
   "source": [
    "# # Combine datasets into one DataFrame\n",
    "# combined_df = pd.concat([enamine_protein_df, chemdiv_df, enamine_df, life_chemicals_df, robin_df])\n",
    "\n",
    "# # Sort datasets by size (largest to smallest)\n",
    "# datasets = [enamine_protein_df, chemdiv_df, enamine_df, life_chemicals_df, robin_df]\n",
    "# sorted_datasets = sorted(datasets, key=lambda x: x.shape[0], reverse=True)\n",
    "\n",
    "# # Finding all unique duplicates across datasets\n",
    "# all_duplicates = combined_df[combined_df.duplicated('SMILES', keep=False)]\n",
    "\n",
    "# # Remove duplicates in order from largest to smallest, except the smallest\n",
    "# for i in range(len(sorted_datasets) - 1):  # Skip the smallest dataset\n",
    "#     dataset = sorted_datasets[i]\n",
    "#     duplicates_to_remove = all_duplicates[~all_duplicates['source'].isin([dataset['source'].iloc[0]])]['SMILES']\n",
    "#     sorted_datasets[i] = dataset[~dataset['SMILES'].isin(duplicates_to_remove)]\n",
    "\n",
    "# # Extracting the updated datasets\n",
    "# enamine_protein_df, chemdiv_df, enamine_df, life_chemicals_df, robin_df = sorted_datasets\n",
    "\n",
    "# # Now the datasets are deduplicated in the desired order"
   ]
  },
  {
   "cell_type": "markdown",
   "id": "8c0e7f60",
   "metadata": {
    "papermill": {
     "duration": 1.986928,
     "end_time": "2024-04-17T17:24:39.880891",
     "exception": false,
     "start_time": "2024-04-17T17:24:37.893963",
     "status": "completed"
    },
    "tags": []
   },
   "source": [
    "## remove all duplicates\n",
    "\n",
    "\n",
    "\n"
   ]
  },
  {
   "cell_type": "code",
   "execution_count": 29,
   "id": "89fb58a0",
   "metadata": {
    "execution": {
     "iopub.execute_input": "2024-04-17T17:24:44.244937Z",
     "iopub.status.busy": "2024-04-17T17:24:44.243519Z",
     "iopub.status.idle": "2024-04-17T17:24:44.652002Z",
     "shell.execute_reply": "2024-04-17T17:24:44.650953Z"
    },
    "papermill": {
     "duration": 2.717121,
     "end_time": "2024-04-17T17:24:44.656236",
     "exception": false,
     "start_time": "2024-04-17T17:24:41.939115",
     "status": "completed"
    },
    "tags": []
   },
   "outputs": [],
   "source": [
    "# Combine datasets into one DataFrame\n",
    "combined_df = pd.concat([enamine_protein_df, chemdiv_df, enamine_df, life_chemicals_df, robin_df])\n",
    "\n",
    "# Finding all duplicates across datasets\n",
    "all_duplicates = combined_df[combined_df.duplicated('SMILES', keep=False)]['SMILES'].unique()\n",
    "\n",
    "# Remove these duplicates from each dataset\n",
    "enamine_protein_df = enamine_protein_df[~enamine_protein_df['SMILES'].isin(all_duplicates)]\n",
    "chemdiv_df = chemdiv_df[~chemdiv_df['SMILES'].isin(all_duplicates)]\n",
    "enamine_df = enamine_df[~enamine_df['SMILES'].isin(all_duplicates)]\n",
    "life_chemicals_df = life_chemicals_df[~life_chemicals_df['SMILES'].isin(all_duplicates)]\n",
    "robin_df = robin_df[~robin_df['SMILES'].isin(all_duplicates)]\n",
    "\n",
    "# Check for and remove duplicates within each individual dataset\n",
    "datasets = [enamine_protein_df, chemdiv_df, enamine_df, life_chemicals_df, robin_df]\n",
    "for i, dataset in enumerate(datasets):\n",
    "    datasets[i] = dataset.drop_duplicates(subset='SMILES')\n",
    "\n",
    "# Extracting the updated datasets\n",
    "enamine_protein_df, chemdiv_df, enamine_df, life_chemicals_df, robin_df = datasets"
   ]
  },
  {
   "cell_type": "code",
   "execution_count": 30,
   "id": "54a24aac",
   "metadata": {
    "execution": {
     "iopub.execute_input": "2024-04-17T17:24:48.111153Z",
     "iopub.status.busy": "2024-04-17T17:24:48.110452Z",
     "iopub.status.idle": "2024-04-17T17:24:48.118262Z",
     "shell.execute_reply": "2024-04-17T17:24:48.116334Z"
    },
    "papermill": {
     "duration": 1.688431,
     "end_time": "2024-04-17T17:24:48.121120",
     "exception": false,
     "start_time": "2024-04-17T17:24:46.432689",
     "status": "completed"
    },
    "tags": []
   },
   "outputs": [],
   "source": [
    "# # find duplicates in enamine_protein_df and remove them\n",
    "\n",
    "# enamine_protein_df = enamine_protein_df.drop_duplicates(subset='SMILES', keep='first')\n"
   ]
  },
  {
   "cell_type": "code",
   "execution_count": 31,
   "id": "c117b886",
   "metadata": {
    "execution": {
     "iopub.execute_input": "2024-04-17T17:24:51.674745Z",
     "iopub.status.busy": "2024-04-17T17:24:51.674033Z",
     "iopub.status.idle": "2024-04-17T17:24:51.835059Z",
     "shell.execute_reply": "2024-04-17T17:24:51.833974Z"
    },
    "papermill": {
     "duration": 1.828807,
     "end_time": "2024-04-17T17:24:51.838912",
     "exception": false,
     "start_time": "2024-04-17T17:24:50.010105",
     "status": "completed"
    },
    "tags": []
   },
   "outputs": [
    {
     "name": "stdout",
     "output_type": "stream",
     "text": [
      "Duplicates between enamine_protein and chemdiv: 0\n",
      "Duplicates between enamine_protein and enamine: 0\n",
      "Duplicates between enamine_protein and life_chemicals: 0\n",
      "Duplicates between enamine_protein and robin: 0\n",
      "Duplicates between chemdiv and enamine: 0\n",
      "Duplicates between chemdiv and life_chemicals: 0\n",
      "Duplicates between chemdiv and robin: 0\n",
      "Duplicates between enamine and life_chemicals: 0\n",
      "Duplicates between enamine and robin: 0\n",
      "Duplicates between life_chemicals and robin: 0\n"
     ]
    }
   ],
   "source": [
    "# List of datasets\n",
    "datasets = {\n",
    "    'enamine_protein': enamine_protein_df,\n",
    "    'chemdiv': chemdiv_df,\n",
    "    'enamine': enamine_df,\n",
    "    'life_chemicals': life_chemicals_df,\n",
    "    'robin': robin_df\n",
    "}\n",
    "\n",
    "# Iterate over all pairs of datasets and count duplicates\n",
    "for (name1, df1), (name2, df2) in itertools.combinations(datasets.items(), 2):\n",
    "    # Find duplicates between df1 and df2\n",
    "    duplicates = df1[df1['SMILES'].isin(df2['SMILES'])]\n",
    "    \n",
    "    # Print the count of duplicates\n",
    "    print(f\"Duplicates between {name1} and {name2}: {len(duplicates)}\")"
   ]
  },
  {
   "cell_type": "code",
   "execution_count": 32,
   "id": "84301f19",
   "metadata": {
    "execution": {
     "iopub.execute_input": "2024-04-17T17:24:55.498352Z",
     "iopub.status.busy": "2024-04-17T17:24:55.496497Z",
     "iopub.status.idle": "2024-04-17T17:24:55.515995Z",
     "shell.execute_reply": "2024-04-17T17:24:55.514633Z"
    },
    "papermill": {
     "duration": 1.75095,
     "end_time": "2024-04-17T17:24:55.519887",
     "exception": false,
     "start_time": "2024-04-17T17:24:53.768937",
     "status": "completed"
    },
    "tags": []
   },
   "outputs": [
    {
     "data": {
      "text/html": [
       "<div>\n",
       "<style scoped>\n",
       "    .dataframe tbody tr th:only-of-type {\n",
       "        vertical-align: middle;\n",
       "    }\n",
       "\n",
       "    .dataframe tbody tr th {\n",
       "        vertical-align: top;\n",
       "    }\n",
       "\n",
       "    .dataframe thead th {\n",
       "        text-align: right;\n",
       "    }\n",
       "</style>\n",
       "<table border=\"1\" class=\"dataframe\">\n",
       "  <thead>\n",
       "    <tr style=\"text-align: right;\">\n",
       "      <th></th>\n",
       "      <th>before</th>\n",
       "      <th>after</th>\n",
       "      <th>difference</th>\n",
       "    </tr>\n",
       "  </thead>\n",
       "  <tbody>\n",
       "    <tr>\n",
       "      <th>Enamine Protein</th>\n",
       "      <td>460160</td>\n",
       "      <td>456080</td>\n",
       "      <td>4080</td>\n",
       "    </tr>\n",
       "    <tr>\n",
       "      <th>Chemdiv</th>\n",
       "      <td>20000</td>\n",
       "      <td>19908</td>\n",
       "      <td>92</td>\n",
       "    </tr>\n",
       "    <tr>\n",
       "      <th>Enamine</th>\n",
       "      <td>15520</td>\n",
       "      <td>11502</td>\n",
       "      <td>4018</td>\n",
       "    </tr>\n",
       "    <tr>\n",
       "      <th>Life Chemicals</th>\n",
       "      <td>5544</td>\n",
       "      <td>5308</td>\n",
       "      <td>236</td>\n",
       "    </tr>\n",
       "    <tr>\n",
       "      <th>Robin</th>\n",
       "      <td>2003</td>\n",
       "      <td>1992</td>\n",
       "      <td>11</td>\n",
       "    </tr>\n",
       "  </tbody>\n",
       "</table>\n",
       "</div>"
      ],
      "text/plain": [
       "                 before   after  difference\n",
       "Enamine Protein  460160  456080        4080\n",
       "Chemdiv           20000   19908          92\n",
       "Enamine           15520   11502        4018\n",
       "Life Chemicals     5544    5308         236\n",
       "Robin              2003    1992          11"
      ]
     },
     "execution_count": 32,
     "metadata": {},
     "output_type": "execute_result"
    }
   ],
   "source": [
    "df_deduplication['after'] = [len(enamine_protein_df), len(chemdiv_df), len(enamine_df), len(life_chemicals_df), len(robin_df)]\n",
    "df_deduplication['difference'] = df_deduplication['before'] - df_deduplication['after']\n",
    "df_deduplication"
   ]
  },
  {
   "cell_type": "code",
   "execution_count": 33,
   "id": "59f781fa",
   "metadata": {
    "execution": {
     "iopub.execute_input": "2024-04-17T17:24:59.436113Z",
     "iopub.status.busy": "2024-04-17T17:24:59.435164Z",
     "iopub.status.idle": "2024-04-17T17:24:59.580715Z",
     "shell.execute_reply": "2024-04-17T17:24:59.579645Z"
    },
    "papermill": {
     "duration": 2.166827,
     "end_time": "2024-04-17T17:24:59.584497",
     "exception": false,
     "start_time": "2024-04-17T17:24:57.417670",
     "status": "completed"
    },
    "tags": []
   },
   "outputs": [
    {
     "name": "stdout",
     "output_type": "stream",
     "text": [
      "No duplicates found.\n"
     ]
    }
   ],
   "source": [
    "# Load your datasets (assuming they are already loaded as per your previous message)\n",
    "\n",
    "# Verify and sort datasets by size\n",
    "datasets = [enamine_protein_df, chemdiv_df, enamine_df, life_chemicals_df, robin_df]\n",
    "sorted_datasets = sorted(datasets, key=lambda x: x.shape[0], reverse=True)  # Sort by size\n",
    "\n",
    "# Check for duplicates again\n",
    "combined_df = pd.concat(sorted_datasets)\n",
    "duplicates_check = combined_df[combined_df.duplicated('SMILES', keep=False)]\n",
    "if duplicates_check.empty:\n",
    "    print(\"No duplicates found.\")\n",
    "else:\n",
    "    print(\"Duplicates still exist.\")\n"
   ]
  },
  {
   "cell_type": "code",
   "execution_count": 34,
   "id": "0c10c637",
   "metadata": {
    "execution": {
     "iopub.execute_input": "2024-04-17T17:25:03.237546Z",
     "iopub.status.busy": "2024-04-17T17:25:03.236790Z",
     "iopub.status.idle": "2024-04-17T17:25:03.250226Z",
     "shell.execute_reply": "2024-04-17T17:25:03.248466Z"
    },
    "papermill": {
     "duration": 1.882369,
     "end_time": "2024-04-17T17:25:03.254419",
     "exception": false,
     "start_time": "2024-04-17T17:25:01.372050",
     "status": "completed"
    },
    "tags": []
   },
   "outputs": [
    {
     "data": {
      "text/plain": [
       "Series([], Name: count, dtype: int64)"
      ]
     },
     "execution_count": 34,
     "metadata": {},
     "output_type": "execute_result"
    }
   ],
   "source": [
    "# which dataset has the most duplicates?\n",
    "duplicates_check['source'].value_counts()\n"
   ]
  },
  {
   "cell_type": "code",
   "execution_count": 35,
   "id": "798e1202",
   "metadata": {
    "execution": {
     "iopub.execute_input": "2024-04-17T17:25:10.791469Z",
     "iopub.status.busy": "2024-04-17T17:25:10.790730Z",
     "iopub.status.idle": "2024-04-17T17:25:10.798472Z",
     "shell.execute_reply": "2024-04-17T17:25:10.796900Z"
    },
    "papermill": {
     "duration": 1.785409,
     "end_time": "2024-04-17T17:25:10.801996",
     "exception": false,
     "start_time": "2024-04-17T17:25:09.016587",
     "status": "completed"
    },
    "tags": []
   },
   "outputs": [],
   "source": [
    "# check if True if not create dir named 'no_duplicates'\n",
    "if not os.path.exists('../data/no_duplicates/v2'):\n",
    "    os.makedirs('../data/no_duplicates/v2')"
   ]
  },
  {
   "cell_type": "code",
   "execution_count": 36,
   "id": "3ec8a6ee",
   "metadata": {},
   "outputs": [
    {
     "data": {
      "text/html": [
       "<div>\n",
       "<style scoped>\n",
       "    .dataframe tbody tr th:only-of-type {\n",
       "        vertical-align: middle;\n",
       "    }\n",
       "\n",
       "    .dataframe tbody tr th {\n",
       "        vertical-align: top;\n",
       "    }\n",
       "\n",
       "    .dataframe thead th {\n",
       "        text-align: right;\n",
       "    }\n",
       "</style>\n",
       "<table border=\"1\" class=\"dataframe\">\n",
       "  <thead>\n",
       "    <tr style=\"text-align: right;\">\n",
       "      <th></th>\n",
       "      <th>source</th>\n",
       "      <th>mol</th>\n",
       "      <th>SMILES</th>\n",
       "    </tr>\n",
       "  </thead>\n",
       "  <tbody>\n",
       "    <tr>\n",
       "      <th>35520</th>\n",
       "      <td>enamine_protein</td>\n",
       "      <td>&lt;rdkit.Chem.rdchem.Mol object at 0x7fa946a457b0&gt;</td>\n",
       "      <td>CCc1nn(C)cc1NC(=O)c1cnn(CC(=O)NC2CCCCC2)c1</td>\n",
       "    </tr>\n",
       "    <tr>\n",
       "      <th>35521</th>\n",
       "      <td>enamine_protein</td>\n",
       "      <td>&lt;rdkit.Chem.rdchem.Mol object at 0x7fa946a45530&gt;</td>\n",
       "      <td>O=C(Cc1coc2ccccc12)NC1(c2ncon2)CCOCC1</td>\n",
       "    </tr>\n",
       "    <tr>\n",
       "      <th>35522</th>\n",
       "      <td>enamine_protein</td>\n",
       "      <td>&lt;rdkit.Chem.rdchem.Mol object at 0x7fa946a45760&gt;</td>\n",
       "      <td>CC(C)(C)c1ccc(O)c(NC(=O)c2cccc(Oc3cnccn3)c2)c1</td>\n",
       "    </tr>\n",
       "    <tr>\n",
       "      <th>35523</th>\n",
       "      <td>enamine_protein</td>\n",
       "      <td>&lt;rdkit.Chem.rdchem.Mol object at 0x7fa946a45440&gt;</td>\n",
       "      <td>CC(NC(=O)Cc1ccc(Cl)s1)(C(N)=O)c1ccccc1</td>\n",
       "    </tr>\n",
       "    <tr>\n",
       "      <th>35524</th>\n",
       "      <td>enamine_protein</td>\n",
       "      <td>&lt;rdkit.Chem.rdchem.Mol object at 0x7fa946a46b10&gt;</td>\n",
       "      <td>COCc1cccc(S(=O)(=O)Nc2cccc(-n3cn[nH]c3=O)c2C)c1</td>\n",
       "    </tr>\n",
       "    <tr>\n",
       "      <th>...</th>\n",
       "      <td>...</td>\n",
       "      <td>...</td>\n",
       "      <td>...</td>\n",
       "    </tr>\n",
       "    <tr>\n",
       "      <th>503222</th>\n",
       "      <td>robin</td>\n",
       "      <td>&lt;rdkit.Chem.rdchem.Mol object at 0x7fa946a20fe0&gt;</td>\n",
       "      <td>C=CC(=O)Nc1cccc(Nc2nc(N[C@H]3CC[C@H](N(C)C)CC3...</td>\n",
       "    </tr>\n",
       "    <tr>\n",
       "      <th>503223</th>\n",
       "      <td>robin</td>\n",
       "      <td>&lt;rdkit.Chem.rdchem.Mol object at 0x7fa947361030&gt;</td>\n",
       "      <td>N#C/C(C(=O)c1ccc(Cl)cc1Cl)=C1\\NC(=O)c2ccc(Cl)c...</td>\n",
       "    </tr>\n",
       "    <tr>\n",
       "      <th>503224</th>\n",
       "      <td>robin</td>\n",
       "      <td>&lt;rdkit.Chem.rdchem.Mol object at 0x7fa946a21080&gt;</td>\n",
       "      <td>C[C@H](N[C@H]1C[C@H]1c1ccccc1)c1ccc2c(c1)OCCO2</td>\n",
       "    </tr>\n",
       "    <tr>\n",
       "      <th>503225</th>\n",
       "      <td>robin</td>\n",
       "      <td>&lt;rdkit.Chem.rdchem.Mol object at 0x7fa946a210d0&gt;</td>\n",
       "      <td>NCCC[C@@H](N)CC(=O)N[C@H]1CNC(=O)[C@@H]([C@@H]...</td>\n",
       "    </tr>\n",
       "    <tr>\n",
       "      <th>503226</th>\n",
       "      <td>robin</td>\n",
       "      <td>&lt;rdkit.Chem.rdchem.Mol object at 0x7fa946a21120&gt;</td>\n",
       "      <td>CC(C)=CCC/C(C)=C\\CNCCN[C@H]1[C@@H]2C[C@H]3C[C@...</td>\n",
       "    </tr>\n",
       "  </tbody>\n",
       "</table>\n",
       "<p>494790 rows × 3 columns</p>\n",
       "</div>"
      ],
      "text/plain": [
       "                 source                                               mol  \\\n",
       "35520   enamine_protein  <rdkit.Chem.rdchem.Mol object at 0x7fa946a457b0>   \n",
       "35521   enamine_protein  <rdkit.Chem.rdchem.Mol object at 0x7fa946a45530>   \n",
       "35522   enamine_protein  <rdkit.Chem.rdchem.Mol object at 0x7fa946a45760>   \n",
       "35523   enamine_protein  <rdkit.Chem.rdchem.Mol object at 0x7fa946a45440>   \n",
       "35524   enamine_protein  <rdkit.Chem.rdchem.Mol object at 0x7fa946a46b10>   \n",
       "...                 ...                                               ...   \n",
       "503222            robin  <rdkit.Chem.rdchem.Mol object at 0x7fa946a20fe0>   \n",
       "503223            robin  <rdkit.Chem.rdchem.Mol object at 0x7fa947361030>   \n",
       "503224            robin  <rdkit.Chem.rdchem.Mol object at 0x7fa946a21080>   \n",
       "503225            robin  <rdkit.Chem.rdchem.Mol object at 0x7fa946a210d0>   \n",
       "503226            robin  <rdkit.Chem.rdchem.Mol object at 0x7fa946a21120>   \n",
       "\n",
       "                                                   SMILES  \n",
       "35520          CCc1nn(C)cc1NC(=O)c1cnn(CC(=O)NC2CCCCC2)c1  \n",
       "35521               O=C(Cc1coc2ccccc12)NC1(c2ncon2)CCOCC1  \n",
       "35522      CC(C)(C)c1ccc(O)c(NC(=O)c2cccc(Oc3cnccn3)c2)c1  \n",
       "35523              CC(NC(=O)Cc1ccc(Cl)s1)(C(N)=O)c1ccccc1  \n",
       "35524     COCc1cccc(S(=O)(=O)Nc2cccc(-n3cn[nH]c3=O)c2C)c1  \n",
       "...                                                   ...  \n",
       "503222  C=CC(=O)Nc1cccc(Nc2nc(N[C@H]3CC[C@H](N(C)C)CC3...  \n",
       "503223  N#C/C(C(=O)c1ccc(Cl)cc1Cl)=C1\\NC(=O)c2ccc(Cl)c...  \n",
       "503224     C[C@H](N[C@H]1C[C@H]1c1ccccc1)c1ccc2c(c1)OCCO2  \n",
       "503225  NCCC[C@@H](N)CC(=O)N[C@H]1CNC(=O)[C@@H]([C@@H]...  \n",
       "503226  CC(C)=CCC/C(C)=C\\CNCCN[C@H]1[C@@H]2C[C@H]3C[C@...  \n",
       "\n",
       "[494790 rows x 3 columns]"
      ]
     },
     "execution_count": 36,
     "metadata": {},
     "output_type": "execute_result"
    }
   ],
   "source": [
    "combined_df"
   ]
  },
  {
   "cell_type": "markdown",
   "id": "fbc0e840",
   "metadata": {
    "papermill": {
     "duration": 1.897743,
     "end_time": "2024-04-17T17:25:14.562561",
     "exception": false,
     "start_time": "2024-04-17T17:25:12.664818",
     "status": "completed"
    },
    "tags": []
   },
   "source": [
    "## v4 are deleted duplicates fully from everything"
   ]
  },
  {
   "cell_type": "code",
   "execution_count": 37,
   "id": "607e64e5",
   "metadata": {
    "execution": {
     "iopub.execute_input": "2024-04-17T17:25:18.299429Z",
     "iopub.status.busy": "2024-04-17T17:25:18.298030Z",
     "iopub.status.idle": "2024-04-17T17:25:18.308158Z",
     "shell.execute_reply": "2024-04-17T17:25:18.306543Z"
    },
    "papermill": {
     "duration": 2.061289,
     "end_time": "2024-04-17T17:25:18.311260",
     "exception": false,
     "start_time": "2024-04-17T17:25:16.249971",
     "status": "completed"
    },
    "tags": []
   },
   "outputs": [],
   "source": [
    "# create function for ECFP calculation. Function will use rdkit's AllChem.GetMorganFingerprintAsBitVect() function and it will compute ECFP4 fingerprints with radius 2, ECFP6 fingerprints with radius 3\n",
    "# ,ECFP8 fingerprints with radius 4 and ECFP10 fingerprints with radius 5. Function will create new columns for each ECFP and it will return dataframe with new columns.\n",
    "\n",
    "def compute_ECFP(df, smiles_column, radius):\n",
    "    df['ECFP'+str(radius*2)] = df[smiles_column].apply(lambda x: GetMorganFingerprintAsBitVect(MolFromSmiles(x),radius, nBits=2048))\n",
    "    \n",
    "    return df"
   ]
  },
  {
   "cell_type": "code",
   "execution_count": 38,
   "id": "7545fbc0",
   "metadata": {},
   "outputs": [
    {
     "data": {
      "text/html": [
       "<div>\n",
       "<style scoped>\n",
       "    .dataframe tbody tr th:only-of-type {\n",
       "        vertical-align: middle;\n",
       "    }\n",
       "\n",
       "    .dataframe tbody tr th {\n",
       "        vertical-align: top;\n",
       "    }\n",
       "\n",
       "    .dataframe thead th {\n",
       "        text-align: right;\n",
       "    }\n",
       "</style>\n",
       "<table border=\"1\" class=\"dataframe\">\n",
       "  <thead>\n",
       "    <tr style=\"text-align: right;\">\n",
       "      <th></th>\n",
       "      <th>source</th>\n",
       "      <th>mol</th>\n",
       "      <th>SMILES</th>\n",
       "      <th>ECFP6</th>\n",
       "    </tr>\n",
       "  </thead>\n",
       "  <tbody>\n",
       "    <tr>\n",
       "      <th>35520</th>\n",
       "      <td>enamine_protein</td>\n",
       "      <td>&lt;rdkit.Chem.rdchem.Mol object at 0x7fa946a457b0&gt;</td>\n",
       "      <td>CCc1nn(C)cc1NC(=O)c1cnn(CC(=O)NC2CCCCC2)c1</td>\n",
       "      <td>[0, 0, 1, 0, 0, 0, 0, 0, 0, 0, 0, 0, 0, 0, 0, ...</td>\n",
       "    </tr>\n",
       "    <tr>\n",
       "      <th>35521</th>\n",
       "      <td>enamine_protein</td>\n",
       "      <td>&lt;rdkit.Chem.rdchem.Mol object at 0x7fa946a45530&gt;</td>\n",
       "      <td>O=C(Cc1coc2ccccc12)NC1(c2ncon2)CCOCC1</td>\n",
       "      <td>[0, 0, 0, 0, 0, 0, 0, 0, 0, 0, 0, 1, 0, 1, 0, ...</td>\n",
       "    </tr>\n",
       "    <tr>\n",
       "      <th>35522</th>\n",
       "      <td>enamine_protein</td>\n",
       "      <td>&lt;rdkit.Chem.rdchem.Mol object at 0x7fa946a45760&gt;</td>\n",
       "      <td>CC(C)(C)c1ccc(O)c(NC(=O)c2cccc(Oc3cnccn3)c2)c1</td>\n",
       "      <td>[0, 0, 0, 0, 0, 0, 0, 0, 0, 0, 0, 0, 0, 0, 0, ...</td>\n",
       "    </tr>\n",
       "    <tr>\n",
       "      <th>35523</th>\n",
       "      <td>enamine_protein</td>\n",
       "      <td>&lt;rdkit.Chem.rdchem.Mol object at 0x7fa946a45440&gt;</td>\n",
       "      <td>CC(NC(=O)Cc1ccc(Cl)s1)(C(N)=O)c1ccccc1</td>\n",
       "      <td>[0, 0, 0, 0, 0, 0, 0, 0, 0, 0, 0, 0, 0, 0, 0, ...</td>\n",
       "    </tr>\n",
       "    <tr>\n",
       "      <th>35524</th>\n",
       "      <td>enamine_protein</td>\n",
       "      <td>&lt;rdkit.Chem.rdchem.Mol object at 0x7fa946a46b10&gt;</td>\n",
       "      <td>COCc1cccc(S(=O)(=O)Nc2cccc(-n3cn[nH]c3=O)c2C)c1</td>\n",
       "      <td>[0, 0, 0, 0, 1, 0, 0, 1, 0, 0, 0, 0, 0, 0, 0, ...</td>\n",
       "    </tr>\n",
       "    <tr>\n",
       "      <th>...</th>\n",
       "      <td>...</td>\n",
       "      <td>...</td>\n",
       "      <td>...</td>\n",
       "      <td>...</td>\n",
       "    </tr>\n",
       "    <tr>\n",
       "      <th>503222</th>\n",
       "      <td>robin</td>\n",
       "      <td>&lt;rdkit.Chem.rdchem.Mol object at 0x7fa946a20fe0&gt;</td>\n",
       "      <td>C=CC(=O)Nc1cccc(Nc2nc(N[C@H]3CC[C@H](N(C)C)CC3...</td>\n",
       "      <td>[0, 1, 0, 0, 0, 0, 0, 0, 0, 1, 0, 0, 0, 0, 0, ...</td>\n",
       "    </tr>\n",
       "    <tr>\n",
       "      <th>503223</th>\n",
       "      <td>robin</td>\n",
       "      <td>&lt;rdkit.Chem.rdchem.Mol object at 0x7fa947361030&gt;</td>\n",
       "      <td>N#C/C(C(=O)c1ccc(Cl)cc1Cl)=C1\\NC(=O)c2ccc(Cl)c...</td>\n",
       "      <td>[0, 0, 0, 0, 0, 0, 0, 0, 0, 0, 0, 0, 0, 0, 0, ...</td>\n",
       "    </tr>\n",
       "    <tr>\n",
       "      <th>503224</th>\n",
       "      <td>robin</td>\n",
       "      <td>&lt;rdkit.Chem.rdchem.Mol object at 0x7fa946a21080&gt;</td>\n",
       "      <td>C[C@H](N[C@H]1C[C@H]1c1ccccc1)c1ccc2c(c1)OCCO2</td>\n",
       "      <td>[0, 1, 0, 0, 0, 0, 0, 0, 0, 0, 0, 0, 0, 0, 0, ...</td>\n",
       "    </tr>\n",
       "    <tr>\n",
       "      <th>503225</th>\n",
       "      <td>robin</td>\n",
       "      <td>&lt;rdkit.Chem.rdchem.Mol object at 0x7fa946a210d0&gt;</td>\n",
       "      <td>NCCC[C@@H](N)CC(=O)N[C@H]1CNC(=O)[C@@H]([C@@H]...</td>\n",
       "      <td>[0, 1, 0, 1, 0, 0, 0, 0, 0, 0, 0, 0, 0, 0, 0, ...</td>\n",
       "    </tr>\n",
       "    <tr>\n",
       "      <th>503226</th>\n",
       "      <td>robin</td>\n",
       "      <td>&lt;rdkit.Chem.rdchem.Mol object at 0x7fa946a21120&gt;</td>\n",
       "      <td>CC(C)=CCC/C(C)=C\\CNCCN[C@H]1[C@@H]2C[C@H]3C[C@...</td>\n",
       "      <td>[0, 0, 0, 0, 0, 0, 0, 0, 0, 0, 0, 0, 0, 0, 0, ...</td>\n",
       "    </tr>\n",
       "  </tbody>\n",
       "</table>\n",
       "<p>494790 rows × 4 columns</p>\n",
       "</div>"
      ],
      "text/plain": [
       "                 source                                               mol  \\\n",
       "35520   enamine_protein  <rdkit.Chem.rdchem.Mol object at 0x7fa946a457b0>   \n",
       "35521   enamine_protein  <rdkit.Chem.rdchem.Mol object at 0x7fa946a45530>   \n",
       "35522   enamine_protein  <rdkit.Chem.rdchem.Mol object at 0x7fa946a45760>   \n",
       "35523   enamine_protein  <rdkit.Chem.rdchem.Mol object at 0x7fa946a45440>   \n",
       "35524   enamine_protein  <rdkit.Chem.rdchem.Mol object at 0x7fa946a46b10>   \n",
       "...                 ...                                               ...   \n",
       "503222            robin  <rdkit.Chem.rdchem.Mol object at 0x7fa946a20fe0>   \n",
       "503223            robin  <rdkit.Chem.rdchem.Mol object at 0x7fa947361030>   \n",
       "503224            robin  <rdkit.Chem.rdchem.Mol object at 0x7fa946a21080>   \n",
       "503225            robin  <rdkit.Chem.rdchem.Mol object at 0x7fa946a210d0>   \n",
       "503226            robin  <rdkit.Chem.rdchem.Mol object at 0x7fa946a21120>   \n",
       "\n",
       "                                                   SMILES  \\\n",
       "35520          CCc1nn(C)cc1NC(=O)c1cnn(CC(=O)NC2CCCCC2)c1   \n",
       "35521               O=C(Cc1coc2ccccc12)NC1(c2ncon2)CCOCC1   \n",
       "35522      CC(C)(C)c1ccc(O)c(NC(=O)c2cccc(Oc3cnccn3)c2)c1   \n",
       "35523              CC(NC(=O)Cc1ccc(Cl)s1)(C(N)=O)c1ccccc1   \n",
       "35524     COCc1cccc(S(=O)(=O)Nc2cccc(-n3cn[nH]c3=O)c2C)c1   \n",
       "...                                                   ...   \n",
       "503222  C=CC(=O)Nc1cccc(Nc2nc(N[C@H]3CC[C@H](N(C)C)CC3...   \n",
       "503223  N#C/C(C(=O)c1ccc(Cl)cc1Cl)=C1\\NC(=O)c2ccc(Cl)c...   \n",
       "503224     C[C@H](N[C@H]1C[C@H]1c1ccccc1)c1ccc2c(c1)OCCO2   \n",
       "503225  NCCC[C@@H](N)CC(=O)N[C@H]1CNC(=O)[C@@H]([C@@H]...   \n",
       "503226  CC(C)=CCC/C(C)=C\\CNCCN[C@H]1[C@@H]2C[C@H]3C[C@...   \n",
       "\n",
       "                                                    ECFP6  \n",
       "35520   [0, 0, 1, 0, 0, 0, 0, 0, 0, 0, 0, 0, 0, 0, 0, ...  \n",
       "35521   [0, 0, 0, 0, 0, 0, 0, 0, 0, 0, 0, 1, 0, 1, 0, ...  \n",
       "35522   [0, 0, 0, 0, 0, 0, 0, 0, 0, 0, 0, 0, 0, 0, 0, ...  \n",
       "35523   [0, 0, 0, 0, 0, 0, 0, 0, 0, 0, 0, 0, 0, 0, 0, ...  \n",
       "35524   [0, 0, 0, 0, 1, 0, 0, 1, 0, 0, 0, 0, 0, 0, 0, ...  \n",
       "...                                                   ...  \n",
       "503222  [0, 1, 0, 0, 0, 0, 0, 0, 0, 1, 0, 0, 0, 0, 0, ...  \n",
       "503223  [0, 0, 0, 0, 0, 0, 0, 0, 0, 0, 0, 0, 0, 0, 0, ...  \n",
       "503224  [0, 1, 0, 0, 0, 0, 0, 0, 0, 0, 0, 0, 0, 0, 0, ...  \n",
       "503225  [0, 1, 0, 1, 0, 0, 0, 0, 0, 0, 0, 0, 0, 0, 0, ...  \n",
       "503226  [0, 0, 0, 0, 0, 0, 0, 0, 0, 0, 0, 0, 0, 0, 0, ...  \n",
       "\n",
       "[494790 rows x 4 columns]"
      ]
     },
     "execution_count": 38,
     "metadata": {},
     "output_type": "execute_result"
    }
   ],
   "source": [
    "compute_ECFP(combined_df, 'SMILES', 3)"
   ]
  },
  {
   "cell_type": "code",
   "execution_count": 43,
   "id": "f7a3411c",
   "metadata": {},
   "outputs": [
    {
     "data": {
      "text/html": [
       "<div>\n",
       "<style scoped>\n",
       "    .dataframe tbody tr th:only-of-type {\n",
       "        vertical-align: middle;\n",
       "    }\n",
       "\n",
       "    .dataframe tbody tr th {\n",
       "        vertical-align: top;\n",
       "    }\n",
       "\n",
       "    .dataframe thead th {\n",
       "        text-align: right;\n",
       "    }\n",
       "</style>\n",
       "<table border=\"1\" class=\"dataframe\">\n",
       "  <thead>\n",
       "    <tr style=\"text-align: right;\">\n",
       "      <th></th>\n",
       "      <th>source</th>\n",
       "      <th>mol</th>\n",
       "      <th>SMILES</th>\n",
       "      <th>ECFP6</th>\n",
       "    </tr>\n",
       "  </thead>\n",
       "  <tbody>\n",
       "  </tbody>\n",
       "</table>\n",
       "</div>"
      ],
      "text/plain": [
       "Empty DataFrame\n",
       "Columns: [source, mol, SMILES, ECFP6]\n",
       "Index: []"
      ]
     },
     "execution_count": 43,
     "metadata": {},
     "output_type": "execute_result"
    }
   ],
   "source": [
    "# check for duplicates in SMILES column \n",
    "combined_df[combined_df.duplicated('SMILES')]"
   ]
  },
  {
   "cell_type": "code",
   "execution_count": 40,
   "id": "f0992a4b",
   "metadata": {},
   "outputs": [],
   "source": [
    "# split the dataset to 5 different datasets\n",
    "chemdiv_df = combined_df[combined_df['source'] == 'chemdiv']\n",
    "enamine_df = combined_df[combined_df['source'] == 'enamine']\n",
    "enamine_protein_df = combined_df[combined_df['source'] == 'enamine_protein']\n",
    "life_chemicals_df = combined_df[combined_df['source'] == 'life_chemicals']\n",
    "robin_df = combined_df[combined_df['source'] == 'robin']\n"
   ]
  },
  {
   "cell_type": "code",
   "execution_count": 41,
   "id": "d4599719",
   "metadata": {
    "execution": {
     "iopub.execute_input": "2024-04-17T17:27:10.043910Z",
     "iopub.status.busy": "2024-04-17T17:27:10.042417Z",
     "iopub.status.idle": "2024-04-17T17:27:10.074983Z",
     "shell.execute_reply": "2024-04-17T17:27:10.074016Z"
    },
    "papermill": {
     "duration": 1.697167,
     "end_time": "2024-04-17T17:27:10.079726",
     "exception": false,
     "start_time": "2024-04-17T17:27:08.382559",
     "status": "completed"
    },
    "tags": []
   },
   "outputs": [],
   "source": [
    "# reset indexes of each dataset\n",
    "for dataset in [chemdiv_df, enamine_df, enamine_protein_df, life_chemicals_df, robin_df]:\n",
    "    dataset.reset_index(drop=True, inplace=True)\n",
    "    "
   ]
  },
  {
   "cell_type": "code",
   "execution_count": 42,
   "id": "d41d35cb",
   "metadata": {
    "execution": {
     "iopub.execute_input": "2024-04-17T17:27:13.745870Z",
     "iopub.status.busy": "2024-04-17T17:27:13.744402Z",
     "iopub.status.idle": "2024-04-17T17:27:36.696731Z",
     "shell.execute_reply": "2024-04-17T17:27:36.695631Z"
    },
    "papermill": {
     "duration": 24.731608,
     "end_time": "2024-04-17T17:27:36.699007",
     "exception": false,
     "start_time": "2024-04-17T17:27:11.967399",
     "status": "completed"
    },
    "tags": []
   },
   "outputs": [],
   "source": [
    "# create a folder for ECFP datasets\n",
    "if not os.path.exists('../data/ECFP_datasets'):\n",
    "    os.makedirs('../data/ECFP_datasets')\n",
    "\n",
    "\n",
    "# save ECFP datasets as pickle files\n",
    "chemdiv_df.to_pickle('../../../data/ECFP_datasets/chemdiv_ECFP6_v4_dedup_all.pkl')\n",
    "enamine_df.to_pickle('../../../data/ECFP_datasets/enamine_ECFP6_v4_dedup_all.pkl')\n",
    "enamine_protein_df.to_pickle('../../../data/ECFP_datasets/enamine_protein_ECFP6_v4_dedup_all.pkl')\n",
    "life_chemicals_df.to_pickle('../../../data/ECFP_datasets/life_chemicals_ECFP6_v4_dedup_all.pkl')\n",
    "robin_df.to_pickle('../../../data/ECFP_datasets/robin_ECFP6_v4_dedup_all.pkl')\n"
   ]
  }
 ],
 "metadata": {
  "kernelspec": {
   "display_name": "cdd",
   "language": "python",
   "name": "python3"
  },
  "language_info": {
   "codemirror_mode": {
    "name": "ipython",
    "version": 3
   },
   "file_extension": ".py",
   "mimetype": "text/x-python",
   "name": "python",
   "nbconvert_exporter": "python",
   "pygments_lexer": "ipython3",
   "version": "3.10.10"
  },
  "papermill": {
   "default_parameters": {},
   "duration": 2346.476512,
   "end_time": "2024-04-17T17:27:42.227667",
   "environment_variables": {},
   "exception": null,
   "input_path": "02_v2_compute_ECFP_n.ipynb",
   "output_path": "./final/02_v2_compute_ECFP_n_final.ipynb",
   "parameters": {},
   "start_time": "2024-04-17T16:48:35.751155",
   "version": "2.3.4"
  }
 },
 "nbformat": 4,
 "nbformat_minor": 5
}
