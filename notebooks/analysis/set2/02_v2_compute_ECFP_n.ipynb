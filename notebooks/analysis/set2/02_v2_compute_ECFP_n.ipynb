{
 "cells": [
  {
   "cell_type": "code",
   "execution_count": 1,
   "id": "f628e340",
   "metadata": {
    "execution": {
     "iopub.execute_input": "2023-10-15T21:37:01.147238Z",
     "iopub.status.busy": "2023-10-15T21:37:01.146530Z",
     "iopub.status.idle": "2023-10-15T21:37:01.634093Z",
     "shell.execute_reply": "2023-10-15T21:37:01.633159Z"
    },
    "papermill": {
     "duration": 0.501682,
     "end_time": "2023-10-15T21:37:01.638157",
     "exception": false,
     "start_time": "2023-10-15T21:37:01.136475",
     "status": "completed"
    },
    "tags": []
   },
   "outputs": [],
   "source": [
    "from rdkit.Chem.AllChem import GetMorganFingerprintAsBitVect\n",
    "from rdkit.Chem import MolFromSmiles, MolToSmiles\n",
    "from tqdm.auto import tqdm\n",
    "tqdm.pandas()\n",
    "import pandas as pd\n",
    "import os\n",
    "import pickle\n",
    "from multiprocessing import Pool\n",
    "from rdkit import RDLogger\n",
    "import numpy as np\n",
    "import itertools\n",
    "RDLogger.DisableLog('rdApp.error')"
   ]
  },
  {
   "cell_type": "code",
   "execution_count": 2,
   "id": "6e4303f6",
   "metadata": {
    "execution": {
     "iopub.execute_input": "2023-10-15T21:37:01.653548Z",
     "iopub.status.busy": "2023-10-15T21:37:01.652751Z",
     "iopub.status.idle": "2023-10-15T21:37:24.681558Z",
     "shell.execute_reply": "2023-10-15T21:37:24.679834Z"
    },
    "papermill": {
     "duration": 23.040727,
     "end_time": "2023-10-15T21:37:24.685753",
     "exception": false,
     "start_time": "2023-10-15T21:37:01.645026",
     "status": "completed"
    },
    "tags": []
   },
   "outputs": [],
   "source": [
    "# Load the datasets\n",
    "rna_binders_df = pd.read_pickle('data_dataset2/standardized_data/deduplicated_data/rna_binders_dedup.pkl')\n",
    "rna_non_binders_df = pd.read_pickle('data_dataset2/standardized_data/deduplicated_data/rna_non_binders_dedup.pkl')\n",
    "protein_binders_df = pd.read_pickle('data_dataset2/standardized_data/deduplicated_data/protein_binders_dedup.pkl')\n",
    "protein_non_binders_df = pd.read_pickle('data_dataset2/standardized_data/deduplicated_data/protein_non_binders_dedup.pkl')\n"
   ]
  },
  {
   "cell_type": "code",
   "execution_count": 3,
   "id": "c1017899",
   "metadata": {},
   "outputs": [],
   "source": [
    "# Concatenate dataframes\n",
    "all_df = pd.concat([rna_binders_df, rna_non_binders_df, protein_binders_df, protein_non_binders_df], ignore_index=True)\n",
    "rna_df = pd.concat([rna_binders_df, rna_non_binders_df], ignore_index=True)\n",
    "protein_df = pd.concat([protein_binders_df, protein_non_binders_df], ignore_index=True)\n"
   ]
  },
  {
   "cell_type": "code",
   "execution_count": 4,
   "metadata": {},
   "outputs": [
    {
     "name": "stdout",
     "output_type": "stream",
     "text": [
      "Total ALL: 51065\n",
      "Total RNA: 23844\n",
      "Total Protein: 27221\n",
      "ROBIN: 23844\n",
      "Probes & Drugs: 2276\n",
      "Zinc Dark Matter: 24945\n"
     ]
    }
   ],
   "source": [
    "\n",
    "# Corrected summaries\n",
    "print(f'Total ALL: {len(all_df)}')\n",
    "print(f'Total RNA: {len(rna_binders_df) + len(rna_non_binders_df)}')  # Summing both RNA datasets\n",
    "print(f'Total Protein: {len(protein_binders_df) + len(protein_non_binders_df)}')  # Summing both protein datasets\n",
    "\n",
    "# Corrections based on correct data source naming\n",
    "print(f'ROBIN: {len(rna_binders_df) + len(rna_non_binders_df)}')  # Summing RNA datasets from ROBIN\n",
    "print(f'Probes & Drugs: {len(protein_binders_df)}')  # Protein binders from Probes & Drugs\n",
    "print(f'Zinc Dark Matter: {len(protein_non_binders_df)}')  # Protein non-binders from Zinc Dark Matter\n",
    "\n",
    "\n"
   ]
  },
  {
   "cell_type": "code",
   "execution_count": 5,
   "id": "48e42805",
   "metadata": {
    "execution": {
     "iopub.execute_input": "2023-10-15T21:37:24.753957Z",
     "iopub.status.busy": "2023-10-15T21:37:24.753354Z",
     "iopub.status.idle": "2023-10-15T21:38:14.691843Z",
     "shell.execute_reply": "2023-10-15T21:38:14.690777Z"
    },
    "papermill": {
     "duration": 49.9497,
     "end_time": "2023-10-15T21:38:14.696080",
     "exception": false,
     "start_time": "2023-10-15T21:37:24.746380",
     "status": "completed"
    },
    "tags": []
   },
   "outputs": [],
   "source": [
    "datasets = [rna_binders_df, rna_non_binders_df, protein_binders_df, protein_non_binders_df]\n"
   ]
  },
  {
   "cell_type": "code",
   "execution_count": 6,
   "id": "2dd1a756",
   "metadata": {},
   "outputs": [
    {
     "data": {
      "text/plain": [
       "Series([], Name: count, dtype: int64)"
      ]
     },
     "execution_count": 6,
     "metadata": {},
     "output_type": "execute_result"
    }
   ],
   "source": [
    "\n",
    "# from which source are the duplicated smiles\n",
    "all_df[all_df['smiles'].duplicated()]['source'].value_counts()\n",
    "\n",
    "\n"
   ]
  },
  {
   "cell_type": "code",
   "execution_count": 7,
   "metadata": {},
   "outputs": [],
   "source": [
    "# using source column, divide the all_df into 4 dataframes\n",
    "rna_binders_df = all_df[all_df['source'] == 'robin_b']\n",
    "rna_non_binders_df = all_df[all_df['source'] == 'robin_n']\n",
    "protein_binders_df = all_df[all_df['source'] == 'probes_drugs']\n",
    "protein_non_binders_df = all_df[all_df['source'] == 'zinc_dark_m']\n",
    "\n",
    " "
   ]
  },
  {
   "cell_type": "code",
   "execution_count": 8,
   "metadata": {},
   "outputs": [
    {
     "name": "stdout",
     "output_type": "stream",
     "text": [
      "Duplicates between rna_binders and rna_non_binders: 0\n",
      "Duplicates between rna_binders and protein_binders: 0\n",
      "Duplicates between rna_binders and protein_non_binders: 0\n",
      "Duplicates between rna_non_binders and protein_binders: 0\n",
      "Duplicates between rna_non_binders and protein_non_binders: 0\n",
      "Duplicates between protein_binders and protein_non_binders: 0\n"
     ]
    }
   ],
   "source": [
    "# List of datasets\n",
    "datasets = {\n",
    "    'rna_binders': rna_binders_df,\n",
    "    'rna_non_binders': rna_non_binders_df,\n",
    "    'protein_binders': protein_binders_df,\n",
    "    'protein_non_binders': protein_non_binders_df\n",
    "    \n",
    "}\n",
    "\n",
    "# remove duplicates within datasets\n",
    "for dataset in datasets:\n",
    "    datasets[dataset] = datasets[dataset].drop_duplicates(subset='smiles', keep='first')\n",
    "    \n",
    "\n",
    "# create a df to store the number of duplicates between each pair of datasets\n",
    "df_dup_count = pd.DataFrame(columns=datasets.keys(), index=datasets.keys())\n",
    "df_dup_count = df_dup_count.fillna(0)\n",
    "    \n",
    "# Iterate over all pairs of datasets and count duplicates\n",
    "for (name1, df1), (name2, df2) in itertools.combinations(datasets.items(), 2):\n",
    "    # Find duplicates between df1 and df2\n",
    "    duplicates = df1[df1['smiles'].isin(df2['smiles'])]\n",
    "    \n",
    "    # Store the number of duplicates in the df\n",
    "    df_dup_count.loc[name1, name2] = len(duplicates)\n",
    "    df_dup_count.loc[name2, name1] = len(duplicates)\n",
    "    \n",
    "    # Print the count of duplicates\n",
    "    print(f\"Duplicates between {name1} and {name2}: {len(duplicates)}\")\n",
    "    \n",
    "\n",
    "# center the diagonal\n",
    "df_dup_count.values[[np.arange(len(df_dup_count))]*2] = 0\n",
    "\n",
    "\n",
    "    \n",
    "# drop duplicates in rna_df and protein_df\n",
    "rna_df = rna_df.drop_duplicates(subset='smiles', keep='first')\n",
    "protein_df = protein_df.drop_duplicates(subset='smiles', keep='first')\n",
    "\n"
   ]
  },
  {
   "cell_type": "code",
   "execution_count": 9,
   "metadata": {},
   "outputs": [
    {
     "name": "stdout",
     "output_type": "stream",
     "text": [
      "RNA binders: 1961\n",
      "RNA non-binders: 21883\n",
      "Protein binders: 2276\n",
      "Protein non-binders: 24945\n"
     ]
    }
   ],
   "source": [
    "print(f'RNA binders: {len(rna_binders_df)}')\n",
    "print(f'RNA non-binders: {len(rna_non_binders_df)}')\n",
    "print(f'Protein binders: {len(protein_binders_df)}')\n",
    "print(f'Protein non-binders: {len(protein_non_binders_df)}')\n"
   ]
  },
  {
   "cell_type": "code",
   "execution_count": 10,
   "id": "798e1202",
   "metadata": {
    "execution": {
     "iopub.execute_input": "2023-10-15T21:38:14.740557Z",
     "iopub.status.busy": "2023-10-15T21:38:14.740223Z",
     "iopub.status.idle": "2023-10-15T21:38:14.747871Z",
     "shell.execute_reply": "2023-10-15T21:38:14.745857Z"
    },
    "papermill": {
     "duration": 0.016646,
     "end_time": "2023-10-15T21:38:14.750518",
     "exception": false,
     "start_time": "2023-10-15T21:38:14.733872",
     "status": "completed"
    },
    "tags": []
   },
   "outputs": [],
   "source": [
    "# check if True if not create dir named 'no_duplicates'\n",
    "if not os.path.exists('../data/no_duplicates/v2_second'):\n",
    "    os.makedirs('../data/no_duplicates/v2_second')"
   ]
  },
  {
   "cell_type": "code",
   "execution_count": 11,
   "id": "607e64e5",
   "metadata": {
    "execution": {
     "iopub.execute_input": "2023-10-10T15:39:43.973286Z",
     "iopub.status.busy": "2023-10-10T15:39:43.972521Z",
     "iopub.status.idle": "2023-10-10T15:39:43.991308Z",
     "shell.execute_reply": "2023-10-10T15:39:43.989893Z"
    },
    "papermill": {
     "duration": null,
     "end_time": null,
     "exception": null,
     "start_time": null,
     "status": "pending"
    },
    "tags": []
   },
   "outputs": [],
   "source": [
    "# create function for ECFP calculation. Function will use rdkit's AllChem.GetMorganFingerprintAsBitVect() function and it will compute ECFP4 fingerprints with radius 2, ECFP6 fingerprints with radius 3\n",
    "# ,ECFP8 fingerprints with radius 4 and ECFP10 fingerprints with radius 5. Function will create new columns for each ECFP and it will return dataframe with new columns.\n",
    "\n",
    "def compute_ECFP(df, smiles_column, radius):\n",
    "    df['ECFP'+str(radius*2)] = df[smiles_column].apply(lambda x: GetMorganFingerprintAsBitVect(MolFromSmiles(x),radius, nBits=2048))\n",
    "    \n",
    "    return df"
   ]
  },
  {
   "cell_type": "code",
   "execution_count": 12,
   "id": "28f8b553",
   "metadata": {},
   "outputs": [],
   "source": [
    "combined_df = pd.concat([rna_binders_df, rna_non_binders_df, protein_binders_df, protein_non_binders_df], ignore_index=True)"
   ]
  },
  {
   "cell_type": "code",
   "execution_count": 13,
   "id": "5e1f5eb0",
   "metadata": {},
   "outputs": [
    {
     "data": {
      "text/html": [
       "<div>\n",
       "<style scoped>\n",
       "    .dataframe tbody tr th:only-of-type {\n",
       "        vertical-align: middle;\n",
       "    }\n",
       "\n",
       "    .dataframe tbody tr th {\n",
       "        vertical-align: top;\n",
       "    }\n",
       "\n",
       "    .dataframe thead th {\n",
       "        text-align: right;\n",
       "    }\n",
       "</style>\n",
       "<table border=\"1\" class=\"dataframe\">\n",
       "  <thead>\n",
       "    <tr style=\"text-align: right;\">\n",
       "      <th></th>\n",
       "      <th>mol</th>\n",
       "      <th>source</th>\n",
       "      <th>smiles</th>\n",
       "      <th>ECFP6</th>\n",
       "    </tr>\n",
       "  </thead>\n",
       "  <tbody>\n",
       "    <tr>\n",
       "      <th>0</th>\n",
       "      <td>&lt;rdkit.Chem.rdchem.Mol object at 0x7f01bc696070&gt;</td>\n",
       "      <td>robin_b</td>\n",
       "      <td>CC(=O)c1ccc(Br)c(N)c1</td>\n",
       "      <td>[0, 0, 0, 0, 0, 0, 0, 0, 0, 0, 0, 0, 0, 0, 0, ...</td>\n",
       "    </tr>\n",
       "    <tr>\n",
       "      <th>1</th>\n",
       "      <td>&lt;rdkit.Chem.rdchem.Mol object at 0x7f01686d7c40&gt;</td>\n",
       "      <td>robin_b</td>\n",
       "      <td>O=C(NCCO)c1cc2ccccc2oc1=O</td>\n",
       "      <td>[0, 0, 0, 0, 0, 0, 0, 0, 1, 0, 0, 0, 0, 0, 0, ...</td>\n",
       "    </tr>\n",
       "  </tbody>\n",
       "</table>\n",
       "</div>"
      ],
      "text/plain": [
       "                                                mol   source  \\\n",
       "0  <rdkit.Chem.rdchem.Mol object at 0x7f01bc696070>  robin_b   \n",
       "1  <rdkit.Chem.rdchem.Mol object at 0x7f01686d7c40>  robin_b   \n",
       "\n",
       "                      smiles  \\\n",
       "0      CC(=O)c1ccc(Br)c(N)c1   \n",
       "1  O=C(NCCO)c1cc2ccccc2oc1=O   \n",
       "\n",
       "                                               ECFP6  \n",
       "0  [0, 0, 0, 0, 0, 0, 0, 0, 0, 0, 0, 0, 0, 0, 0, ...  \n",
       "1  [0, 0, 0, 0, 0, 0, 0, 0, 1, 0, 0, 0, 0, 0, 0, ...  "
      ]
     },
     "execution_count": 13,
     "metadata": {},
     "output_type": "execute_result"
    }
   ],
   "source": [
    "combined_df = compute_ECFP(combined_df, 'smiles', 3)\n",
    "combined_df.head(2)"
   ]
  },
  {
   "cell_type": "code",
   "execution_count": 14,
   "id": "b9641576",
   "metadata": {},
   "outputs": [],
   "source": [
    "rna_binders_df = combined_df[combined_df['source'] == 'robin_b']\n",
    "rna_non_binders_df = combined_df[combined_df['source'] == 'robin_n']\n",
    "protein_binders_df = combined_df[combined_df['source'] == 'probes_drugs']\n",
    "protein_non_binders_df = combined_df[combined_df['source'] == 'zinc_dark_m']"
   ]
  },
  {
   "cell_type": "code",
   "execution_count": 15,
   "id": "d41d35cb",
   "metadata": {
    "execution": {
     "iopub.execute_input": "2023-10-10T15:41:38.869141Z",
     "iopub.status.busy": "2023-10-10T15:41:38.867752Z",
     "iopub.status.idle": "2023-10-10T15:42:06.136809Z",
     "shell.execute_reply": "2023-10-10T15:42:06.135833Z"
    },
    "papermill": {
     "duration": null,
     "end_time": null,
     "exception": null,
     "start_time": null,
     "status": "pending"
    },
    "tags": []
   },
   "outputs": [],
   "source": [
    "# create a folder for ECFP datasets\n",
    "if not os.path.exists('data_dataset2/standardized_data/ECFP_datasets_set2'):\n",
    "    os.makedirs('data_dataset2/standardized_data/ECFP_datasets_set2')\n",
    "\n",
    "\n",
    "# save ECFP datasets as pickle files\n",
    "rna_binders_df.to_pickle('data_dataset2/standardized_data/ECFP_datasets_set2/rna_binders_ECFP6_set2_dedup.pkl')\n",
    "rna_non_binders_df.to_pickle('data_dataset2/standardized_data/ECFP_datasets_set2/rna_non_binders_ECFP6_set2_dedup.pkl')\n",
    "protein_binders_df.to_pickle('data_dataset2/standardized_data/ECFP_datasets_set2/protein_binders_ECFP6_set2_dedup.pkl')\n",
    "protein_non_binders_df.to_pickle('data_dataset2/standardized_data/ECFP_datasets_set2/protein_non_binders_ECFP6_set2_dedup.pkl')\n",
    "\n"
   ]
  },
  {
   "cell_type": "code",
   "execution_count": null,
   "id": "8f7c440d",
   "metadata": {},
   "outputs": [],
   "source": []
  }
 ],
 "metadata": {
  "kernelspec": {
   "display_name": "cdd",
   "language": "python",
   "name": "python3"
  },
  "language_info": {
   "codemirror_mode": {
    "name": "ipython",
    "version": 3
   },
   "file_extension": ".py",
   "mimetype": "text/x-python",
   "name": "python",
   "nbconvert_exporter": "python",
   "pygments_lexer": "ipython3",
   "version": "3.10.10"
  },
  "papermill": {
   "default_parameters": {},
   "duration": null,
   "end_time": null,
   "environment_variables": {},
   "exception": null,
   "input_path": "02_v2_compute_ECFP(n).ipynb",
   "output_path": "02_v2_compute_ECFP(n).ipynb",
   "parameters": {},
   "start_time": "2023-10-15T21:36:59.791992",
   "version": "2.3.4"
  }
 },
 "nbformat": 4,
 "nbformat_minor": 5
}
