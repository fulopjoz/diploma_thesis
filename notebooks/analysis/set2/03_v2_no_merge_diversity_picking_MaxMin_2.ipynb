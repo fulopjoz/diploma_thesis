{
 "cells": [
  {
   "cell_type": "code",
   "execution_count": 1,
   "id": "40aeb1fa",
   "metadata": {
    "execution": {
     "iopub.execute_input": "2024-02-11T12:13:13.189112Z",
     "iopub.status.busy": "2024-02-11T12:13:13.188467Z",
     "iopub.status.idle": "2024-02-11T12:13:13.671459Z",
     "shell.execute_reply": "2024-02-11T12:13:13.670228Z"
    },
    "papermill": {
     "duration": 0.503508,
     "end_time": "2024-02-11T12:13:13.675748",
     "exception": false,
     "start_time": "2024-02-11T12:13:13.172240",
     "status": "completed"
    },
    "tags": []
   },
   "outputs": [],
   "source": [
    "import os\n",
    "import pandas as pd\n",
    "from rdkit.SimDivFilters import  MaxMinPicker\n",
    "from rdkit import RDLogger\n",
    "RDLogger.DisableLog('rdApp.error')\n",
    "from tqdm.auto import tqdm\n",
    "tqdm.pandas()\n",
    "from multiprocessing import Pool, cpu_count\n",
    "import time\n",
    "import pandas as pd\n",
    "from rdkit import Chem"
   ]
  },
  {
   "cell_type": "code",
   "execution_count": 2,
   "id": "94f0d802",
   "metadata": {
    "execution": {
     "iopub.execute_input": "2024-02-11T12:13:13.700126Z",
     "iopub.status.busy": "2024-02-11T12:13:13.699339Z",
     "iopub.status.idle": "2024-02-11T12:13:31.336911Z",
     "shell.execute_reply": "2024-02-11T12:13:31.335834Z"
    },
    "papermill": {
     "duration": 17.653187,
     "end_time": "2024-02-11T12:13:31.341440",
     "exception": false,
     "start_time": "2024-02-11T12:13:13.688253",
     "status": "completed"
    },
    "tags": []
   },
   "outputs": [],
   "source": [
    "# load datasets pickle from ../data/ECFP_datasets/\n",
    "rna_binders_df = pd.read_pickle('data_dataset2/standardized_data/ECFP_datasets_set2/rna_binders_ECFP6_set2_dedup.pkl')\n",
    "rna_non_binders_df = pd.read_pickle('data_dataset2/standardized_data/ECFP_datasets_set2/rna_non_binders_ECFP6_set2_dedup.pkl')\n",
    "protein_binders_df = pd.read_pickle('data_dataset2/standardized_data/ECFP_datasets_set2/protein_binders_ECFP6_set2_dedup.pkl')\n",
    "protein_non_binders_df = pd.read_pickle('data_dataset2/standardized_data/ECFP_datasets_set2/protein_non_binders_ECFP6_set2_dedup.pkl')\n"
   ]
  },
  {
   "cell_type": "code",
   "execution_count": 3,
   "id": "edb1f920",
   "metadata": {},
   "outputs": [
    {
     "data": {
      "text/plain": [
       "((1961, 4), (21883, 4), (2276, 4), (24945, 4))"
      ]
     },
     "execution_count": 3,
     "metadata": {},
     "output_type": "execute_result"
    }
   ],
   "source": [
    "rna_binders_df.shape, rna_non_binders_df.shape, protein_binders_df.shape, protein_non_binders_df.shape"
   ]
  },
  {
   "cell_type": "code",
   "execution_count": 4,
   "id": "1502455f",
   "metadata": {
    "execution": {
     "iopub.execute_input": "2024-02-11T12:13:31.365814Z",
     "iopub.status.busy": "2024-02-11T12:13:31.365120Z",
     "iopub.status.idle": "2024-02-11T12:13:31.400935Z",
     "shell.execute_reply": "2024-02-11T12:13:31.399951Z"
    },
    "papermill": {
     "duration": 0.050793,
     "end_time": "2024-02-11T12:13:31.405244",
     "exception": false,
     "start_time": "2024-02-11T12:13:31.354451",
     "status": "completed"
    },
    "tags": []
   },
   "outputs": [
    {
     "data": {
      "text/plain": [
       "23844"
      ]
     },
     "execution_count": 4,
     "metadata": {},
     "output_type": "execute_result"
    }
   ],
   "source": [
    "total_molecules_rna = len(rna_binders_df) + len(rna_non_binders_df)\n",
    "total_molecules_rna"
   ]
  },
  {
   "cell_type": "code",
   "execution_count": 5,
   "id": "af9cbf4e",
   "metadata": {
    "execution": {
     "iopub.execute_input": "2024-02-11T12:13:31.512218Z",
     "iopub.status.busy": "2024-02-11T12:13:31.511573Z",
     "iopub.status.idle": "2024-02-11T12:13:31.521095Z",
     "shell.execute_reply": "2024-02-11T12:13:31.519099Z"
    },
    "papermill": {
     "duration": 0.02308,
     "end_time": "2024-02-11T12:13:31.525410",
     "exception": false,
     "start_time": "2024-02-11T12:13:31.502330",
     "status": "completed"
    },
    "tags": []
   },
   "outputs": [],
   "source": [
    "# create folder for results\n",
    "# create subfolder for each ECFP dataset ECFP4, ECFP6, ECFP8, ECFP10\n",
    "directories = ['../data/diversity_picking/ECFP6_set2/']\n",
    "\n",
    "\n",
    "for directory in directories:\n",
    "    if not os.path.exists(directory):\n",
    "        os.makedirs(directory)\n",
    "\n"
   ]
  },
  {
   "cell_type": "code",
   "execution_count": 6,
   "id": "89b018a5",
   "metadata": {},
   "outputs": [
    {
     "data": {
      "text/plain": [
       "Index(['mol', 'source', 'smiles', 'ECFP6'], dtype='object')"
      ]
     },
     "execution_count": 6,
     "metadata": {},
     "output_type": "execute_result"
    }
   ],
   "source": [
    "rna_binders_df.columns"
   ]
  },
  {
   "cell_type": "code",
   "execution_count": 7,
   "id": "1bdb2c22",
   "metadata": {},
   "outputs": [
    {
     "data": {
      "text/plain": [
       "(51065, 4)"
      ]
     },
     "execution_count": 7,
     "metadata": {},
     "output_type": "execute_result"
    }
   ],
   "source": [
    "all_df = pd.concat([rna_binders_df, rna_non_binders_df, protein_binders_df, protein_non_binders_df], ignore_index=True)\n",
    "all_df.shape"
   ]
  },
  {
   "cell_type": "code",
   "execution_count": 8,
   "id": "ebbcb2d6",
   "metadata": {},
   "outputs": [],
   "source": [
    "\n",
    "\n",
    "def check_mol_smiles_ecfp(df):\n",
    "    invalid_indices = []\n",
    "\n",
    "    for idx, row in df.iterrows():\n",
    "        mol = row['mol']\n",
    "        smiles = row['smiles']\n",
    "        ecfp = row['ECFP6']\n",
    "\n",
    "        # Check mol validity\n",
    "        if mol is None or mol.GetNumAtoms() == 0:\n",
    "            invalid_indices.append(idx)\n",
    "\n",
    "        # Check smiles validity\n",
    "        if smiles is None or smiles == '':\n",
    "            invalid_indices.append(idx)\n",
    "        else:\n",
    "            mol_from_smiles = Chem.MolFromSmiles(smiles)\n",
    "            if mol_from_smiles is None:\n",
    "                invalid_indices.append(idx)\n",
    "\n",
    "        # Check ECFP6 validity\n",
    "        if ecfp is None or ecfp == '':\n",
    "            invalid_indices.append(idx)\n",
    "\n",
    "    if invalid_indices:\n",
    "        invalid_rows = df[df.index.isin(invalid_indices)]\n",
    "        for _, row in invalid_rows.iterrows():\n",
    "            mol = row['mol']\n",
    "            smiles = row['smiles']\n",
    "            ecfp = row['ECFP6']\n",
    "\n",
    "            if mol is None or mol.GetNumAtoms() == 0:\n",
    "                print(f\"Invalid mol at index {row.name}: {smiles}\")\n",
    "            if smiles is None or smiles == '' or Chem.MolFromSmiles(smiles) is None:\n",
    "                print(f\"Invalid smiles at index {row.name}: {smiles}\")\n",
    "            if ecfp is None or ecfp == '':\n",
    "                print(f\"Invalid ECFP6 at index {row.name}: {ecfp}\")\n",
    "\n",
    "        df.drop(invalid_indices, inplace=True)\n",
    "        print(\"Invalid rows removed from the dataframe.\")\n",
    "    else:\n",
    "        print(\"No invalid rows found.\")\n",
    "\n",
    "    return df\n"
   ]
  },
  {
   "cell_type": "code",
   "execution_count": 9,
   "id": "ecff64d3",
   "metadata": {},
   "outputs": [
    {
     "name": "stdout",
     "output_type": "stream",
     "text": [
      "Invalid mol at index 8782: \n",
      "Invalid smiles at index 8782: \n",
      "Invalid rows removed from the dataframe.\n"
     ]
    },
    {
     "data": {
      "text/html": [
       "<div>\n",
       "<style scoped>\n",
       "    .dataframe tbody tr th:only-of-type {\n",
       "        vertical-align: middle;\n",
       "    }\n",
       "\n",
       "    .dataframe tbody tr th {\n",
       "        vertical-align: top;\n",
       "    }\n",
       "\n",
       "    .dataframe thead th {\n",
       "        text-align: right;\n",
       "    }\n",
       "</style>\n",
       "<table border=\"1\" class=\"dataframe\">\n",
       "  <thead>\n",
       "    <tr style=\"text-align: right;\">\n",
       "      <th></th>\n",
       "      <th>mol</th>\n",
       "      <th>source</th>\n",
       "      <th>smiles</th>\n",
       "      <th>ECFP6</th>\n",
       "    </tr>\n",
       "  </thead>\n",
       "  <tbody>\n",
       "    <tr>\n",
       "      <th>0</th>\n",
       "      <td>&lt;rdkit.Chem.rdchem.Mol object at 0x7f6910515850&gt;</td>\n",
       "      <td>robin_b</td>\n",
       "      <td>CC(=O)c1ccc(Br)c(N)c1</td>\n",
       "      <td>[0, 0, 0, 0, 0, 0, 0, 0, 0, 0, 0, 0, 0, 0, 0, ...</td>\n",
       "    </tr>\n",
       "    <tr>\n",
       "      <th>1</th>\n",
       "      <td>&lt;rdkit.Chem.rdchem.Mol object at 0x7f68b0512ac0&gt;</td>\n",
       "      <td>robin_b</td>\n",
       "      <td>O=C(NCCO)c1cc2ccccc2oc1=O</td>\n",
       "      <td>[0, 0, 0, 0, 0, 0, 0, 0, 1, 0, 0, 0, 0, 0, 0, ...</td>\n",
       "    </tr>\n",
       "    <tr>\n",
       "      <th>2</th>\n",
       "      <td>&lt;rdkit.Chem.rdchem.Mol object at 0x7f68b052a070&gt;</td>\n",
       "      <td>robin_b</td>\n",
       "      <td>Nc1ccc2oc(-c3ccccc3)nc2c1</td>\n",
       "      <td>[0, 0, 0, 0, 0, 0, 0, 0, 0, 0, 0, 0, 0, 0, 0, ...</td>\n",
       "    </tr>\n",
       "    <tr>\n",
       "      <th>3</th>\n",
       "      <td>&lt;rdkit.Chem.rdchem.Mol object at 0x7f68b052a110&gt;</td>\n",
       "      <td>robin_b</td>\n",
       "      <td>Nc1ccc(-c2nc3ccccc3o2)cc1</td>\n",
       "      <td>[0, 0, 0, 0, 0, 0, 0, 0, 0, 0, 0, 0, 0, 0, 0, ...</td>\n",
       "    </tr>\n",
       "    <tr>\n",
       "      <th>4</th>\n",
       "      <td>&lt;rdkit.Chem.rdchem.Mol object at 0x7f68b052a1b0&gt;</td>\n",
       "      <td>robin_b</td>\n",
       "      <td>Cc1nc2ccc(CCO)cc2s1</td>\n",
       "      <td>[0, 0, 0, 0, 0, 0, 0, 0, 0, 0, 0, 0, 0, 0, 0, ...</td>\n",
       "    </tr>\n",
       "    <tr>\n",
       "      <th>...</th>\n",
       "      <td>...</td>\n",
       "      <td>...</td>\n",
       "      <td>...</td>\n",
       "      <td>...</td>\n",
       "    </tr>\n",
       "    <tr>\n",
       "      <th>51060</th>\n",
       "      <td>&lt;rdkit.Chem.rdchem.Mol object at 0x7f68acea4680&gt;</td>\n",
       "      <td>zinc_dark_m</td>\n",
       "      <td>Cc1nn(C)c2nc(N(C)C[C@H]3CC(=O)N(C4CCCC4)C3)sc12</td>\n",
       "      <td>[1, 0, 0, 0, 0, 0, 0, 0, 0, 0, 0, 0, 0, 0, 0, ...</td>\n",
       "    </tr>\n",
       "    <tr>\n",
       "      <th>51061</th>\n",
       "      <td>&lt;rdkit.Chem.rdchem.Mol object at 0x7f68acea46d0&gt;</td>\n",
       "      <td>zinc_dark_m</td>\n",
       "      <td>CCOC(=O)c1c(C)[nH]c(C(=O)[C@H](C)N2CCN(C(=O)c3...</td>\n",
       "      <td>[0, 1, 0, 0, 0, 0, 0, 0, 0, 0, 0, 0, 0, 0, 0, ...</td>\n",
       "    </tr>\n",
       "    <tr>\n",
       "      <th>51062</th>\n",
       "      <td>&lt;rdkit.Chem.rdchem.Mol object at 0x7f68acea4720&gt;</td>\n",
       "      <td>zinc_dark_m</td>\n",
       "      <td>Cc1cc(C)nc(Nc2ccc([C@@H]3CN(C(=O)CCOc4ccccc4C)...</td>\n",
       "      <td>[0, 0, 0, 0, 0, 0, 0, 0, 0, 0, 0, 1, 0, 1, 0, ...</td>\n",
       "    </tr>\n",
       "    <tr>\n",
       "      <th>51063</th>\n",
       "      <td>&lt;rdkit.Chem.rdchem.Mol object at 0x7f68acea4770&gt;</td>\n",
       "      <td>zinc_dark_m</td>\n",
       "      <td>CC(C)C(=O)NN/C1=C(\\C(=O)C(F)(F)F)CCCCCCCCCC1</td>\n",
       "      <td>[0, 1, 1, 0, 0, 0, 0, 0, 0, 0, 0, 0, 0, 0, 0, ...</td>\n",
       "    </tr>\n",
       "    <tr>\n",
       "      <th>51064</th>\n",
       "      <td>&lt;rdkit.Chem.rdchem.Mol object at 0x7f68acea47c0&gt;</td>\n",
       "      <td>zinc_dark_m</td>\n",
       "      <td>CC[C@@H](C)NC(=O)[C@@H](C)N(Cc1c(Cl)cccc1Cl)C(...</td>\n",
       "      <td>[0, 1, 0, 0, 0, 0, 0, 0, 0, 0, 0, 0, 0, 0, 0, ...</td>\n",
       "    </tr>\n",
       "  </tbody>\n",
       "</table>\n",
       "<p>51064 rows × 4 columns</p>\n",
       "</div>"
      ],
      "text/plain": [
       "                                                    mol       source  \\\n",
       "0      <rdkit.Chem.rdchem.Mol object at 0x7f6910515850>      robin_b   \n",
       "1      <rdkit.Chem.rdchem.Mol object at 0x7f68b0512ac0>      robin_b   \n",
       "2      <rdkit.Chem.rdchem.Mol object at 0x7f68b052a070>      robin_b   \n",
       "3      <rdkit.Chem.rdchem.Mol object at 0x7f68b052a110>      robin_b   \n",
       "4      <rdkit.Chem.rdchem.Mol object at 0x7f68b052a1b0>      robin_b   \n",
       "...                                                 ...          ...   \n",
       "51060  <rdkit.Chem.rdchem.Mol object at 0x7f68acea4680>  zinc_dark_m   \n",
       "51061  <rdkit.Chem.rdchem.Mol object at 0x7f68acea46d0>  zinc_dark_m   \n",
       "51062  <rdkit.Chem.rdchem.Mol object at 0x7f68acea4720>  zinc_dark_m   \n",
       "51063  <rdkit.Chem.rdchem.Mol object at 0x7f68acea4770>  zinc_dark_m   \n",
       "51064  <rdkit.Chem.rdchem.Mol object at 0x7f68acea47c0>  zinc_dark_m   \n",
       "\n",
       "                                                  smiles  \\\n",
       "0                                  CC(=O)c1ccc(Br)c(N)c1   \n",
       "1                              O=C(NCCO)c1cc2ccccc2oc1=O   \n",
       "2                              Nc1ccc2oc(-c3ccccc3)nc2c1   \n",
       "3                              Nc1ccc(-c2nc3ccccc3o2)cc1   \n",
       "4                                    Cc1nc2ccc(CCO)cc2s1   \n",
       "...                                                  ...   \n",
       "51060    Cc1nn(C)c2nc(N(C)C[C@H]3CC(=O)N(C4CCCC4)C3)sc12   \n",
       "51061  CCOC(=O)c1c(C)[nH]c(C(=O)[C@H](C)N2CCN(C(=O)c3...   \n",
       "51062  Cc1cc(C)nc(Nc2ccc([C@@H]3CN(C(=O)CCOc4ccccc4C)...   \n",
       "51063       CC(C)C(=O)NN/C1=C(\\C(=O)C(F)(F)F)CCCCCCCCCC1   \n",
       "51064  CC[C@@H](C)NC(=O)[C@@H](C)N(Cc1c(Cl)cccc1Cl)C(...   \n",
       "\n",
       "                                                   ECFP6  \n",
       "0      [0, 0, 0, 0, 0, 0, 0, 0, 0, 0, 0, 0, 0, 0, 0, ...  \n",
       "1      [0, 0, 0, 0, 0, 0, 0, 0, 1, 0, 0, 0, 0, 0, 0, ...  \n",
       "2      [0, 0, 0, 0, 0, 0, 0, 0, 0, 0, 0, 0, 0, 0, 0, ...  \n",
       "3      [0, 0, 0, 0, 0, 0, 0, 0, 0, 0, 0, 0, 0, 0, 0, ...  \n",
       "4      [0, 0, 0, 0, 0, 0, 0, 0, 0, 0, 0, 0, 0, 0, 0, ...  \n",
       "...                                                  ...  \n",
       "51060  [1, 0, 0, 0, 0, 0, 0, 0, 0, 0, 0, 0, 0, 0, 0, ...  \n",
       "51061  [0, 1, 0, 0, 0, 0, 0, 0, 0, 0, 0, 0, 0, 0, 0, ...  \n",
       "51062  [0, 0, 0, 0, 0, 0, 0, 0, 0, 0, 0, 1, 0, 1, 0, ...  \n",
       "51063  [0, 1, 1, 0, 0, 0, 0, 0, 0, 0, 0, 0, 0, 0, 0, ...  \n",
       "51064  [0, 1, 0, 0, 0, 0, 0, 0, 0, 0, 0, 0, 0, 0, 0, ...  \n",
       "\n",
       "[51064 rows x 4 columns]"
      ]
     },
     "execution_count": 9,
     "metadata": {},
     "output_type": "execute_result"
    }
   ],
   "source": [
    "check_mol_smiles_ecfp(all_df)"
   ]
  },
  {
   "cell_type": "code",
   "execution_count": 10,
   "id": "423f30f5",
   "metadata": {},
   "outputs": [
    {
     "data": {
      "text/plain": [
       "array(['robin_b', 'robin_n', 'probes_drugs', 'zinc_dark_m'], dtype=object)"
      ]
     },
     "execution_count": 10,
     "metadata": {},
     "output_type": "execute_result"
    }
   ],
   "source": [
    "all_df['source'].unique()"
   ]
  },
  {
   "cell_type": "code",
   "execution_count": 11,
   "id": "2fec2a46",
   "metadata": {},
   "outputs": [],
   "source": [
    "# split all_df into datasets using column 'source' an reset index\n",
    "rna_binders_df = all_df[all_df['source'] == 'robin_b'].reset_index(drop=True)\n",
    "rna_non_binders_df = all_df[all_df['source'] == 'robin_n'].reset_index(drop=True)\n",
    "protein_binders_df = all_df[all_df['source'] == 'probes_drugs'].reset_index(drop=True)\n",
    "protein_non_binders_df = all_df[all_df['source'] == 'zinc_dark_m'].reset_index(drop=True)"
   ]
  },
  {
   "cell_type": "code",
   "execution_count": 12,
   "id": "fd4aa30a",
   "metadata": {},
   "outputs": [
    {
     "data": {
      "text/plain": [
       "((1961, 4), (21882, 4), (2276, 4), (24945, 4))"
      ]
     },
     "execution_count": 12,
     "metadata": {},
     "output_type": "execute_result"
    }
   ],
   "source": [
    "rna_binders_df.shape, rna_non_binders_df.shape, protein_binders_df.shape, protein_non_binders_df.shape"
   ]
  },
  {
   "cell_type": "code",
   "execution_count": 13,
   "id": "313d9594",
   "metadata": {
    "execution": {
     "iopub.execute_input": "2024-02-11T12:13:31.548296Z",
     "iopub.status.busy": "2024-02-11T12:13:31.547649Z",
     "iopub.status.idle": "2024-02-11T12:13:31.566146Z",
     "shell.execute_reply": "2024-02-11T12:13:31.564262Z"
    },
    "papermill": {
     "duration": 0.033032,
     "end_time": "2024-02-11T12:13:31.570196",
     "exception": false,
     "start_time": "2024-02-11T12:13:31.537164",
     "status": "completed"
    },
    "tags": []
   },
   "outputs": [],
   "source": [
    "def diversity_picking_MaxMin(df, colname, filename):\n",
    "    # Resetting the index of the DataFrame\n",
    "    df = df.reset_index(drop=True)\n",
    "\n",
    "    processed_col = df[colname]\n",
    "    smiles_col = df['smiles']\n",
    "    mol_col = df['mol']\n",
    "    source_col = df['source']\n",
    "    ecfp6_col = df['ECFP6']\n",
    "\n",
    "    fps = processed_col.values\n",
    "    mmp = MaxMinPicker()\n",
    "    picks = mmp.LazyBitVectorPick(fps, len(df), len(df), seed=42)\n",
    "    \n",
    "    picked_df = pd.DataFrame({\n",
    "        'mol': mol_col.iloc[picks],\n",
    "        'smiles': smiles_col.iloc[picks],\n",
    "        colname: processed_col.iloc[picks],\n",
    "        'ECFP6': ecfp6_col.iloc[picks],     \n",
    "        'source': source_col.iloc[picks]\n",
    "    })\n",
    "\n",
    "    picked_df.to_pickle(filename)\n",
    "    return picked_df\n",
    "\n"
   ]
  },
  {
   "cell_type": "code",
   "execution_count": 14,
   "id": "2317f647",
   "metadata": {},
   "outputs": [
    {
     "data": {
      "text/html": [
       "<div>\n",
       "<style scoped>\n",
       "    .dataframe tbody tr th:only-of-type {\n",
       "        vertical-align: middle;\n",
       "    }\n",
       "\n",
       "    .dataframe tbody tr th {\n",
       "        vertical-align: top;\n",
       "    }\n",
       "\n",
       "    .dataframe thead th {\n",
       "        text-align: right;\n",
       "    }\n",
       "</style>\n",
       "<table border=\"1\" class=\"dataframe\">\n",
       "  <thead>\n",
       "    <tr style=\"text-align: right;\">\n",
       "      <th></th>\n",
       "      <th>mol</th>\n",
       "      <th>smiles</th>\n",
       "      <th>ECFP6</th>\n",
       "      <th>source</th>\n",
       "    </tr>\n",
       "  </thead>\n",
       "  <tbody>\n",
       "    <tr>\n",
       "      <th>9342</th>\n",
       "      <td>&lt;rdkit.Chem.rdchem.Mol object at 0x7f68ad9a28e0&gt;</td>\n",
       "      <td>CCN[C@H]1CCCC[C@@H]1N(C)C</td>\n",
       "      <td>[0, 0, 0, 0, 0, 0, 0, 0, 0, 0, 0, 0, 0, 0, 0, ...</td>\n",
       "      <td>zinc_dark_m</td>\n",
       "    </tr>\n",
       "    <tr>\n",
       "      <th>146</th>\n",
       "      <td>&lt;rdkit.Chem.rdchem.Mol object at 0x7f68ad476160&gt;</td>\n",
       "      <td>Nc1cn2cccnc2n1</td>\n",
       "      <td>[0, 0, 0, 0, 0, 0, 0, 0, 0, 0, 0, 0, 0, 0, 0, ...</td>\n",
       "      <td>zinc_dark_m</td>\n",
       "    </tr>\n",
       "    <tr>\n",
       "      <th>2237</th>\n",
       "      <td>&lt;rdkit.Chem.rdchem.Mol object at 0x7f68aeb03560&gt;</td>\n",
       "      <td>[O-][S@+](Cl)C(Cl)=C(Cl)Cl</td>\n",
       "      <td>[0, 0, 0, 0, 0, 0, 0, 0, 0, 0, 0, 0, 0, 0, 0, ...</td>\n",
       "      <td>zinc_dark_m</td>\n",
       "    </tr>\n",
       "    <tr>\n",
       "      <th>14204</th>\n",
       "      <td>&lt;rdkit.Chem.rdchem.Mol object at 0x7f68ae199e40&gt;</td>\n",
       "      <td>O=S1(=O)OC(F)(F)[C@@]1(F)C(F)(F)C(F)(F)C(F)(F)...</td>\n",
       "      <td>[0, 0, 0, 0, 0, 0, 0, 0, 0, 0, 0, 0, 0, 0, 0, ...</td>\n",
       "      <td>zinc_dark_m</td>\n",
       "    </tr>\n",
       "    <tr>\n",
       "      <th>3880</th>\n",
       "      <td>&lt;rdkit.Chem.rdchem.Mol object at 0x7f68ad4e78d0&gt;</td>\n",
       "      <td>C1C[C@]2(CCSC2)CN1</td>\n",
       "      <td>[0, 0, 0, 0, 0, 0, 0, 0, 0, 0, 0, 0, 0, 0, 0, ...</td>\n",
       "      <td>zinc_dark_m</td>\n",
       "    </tr>\n",
       "    <tr>\n",
       "      <th>...</th>\n",
       "      <td>...</td>\n",
       "      <td>...</td>\n",
       "      <td>...</td>\n",
       "      <td>...</td>\n",
       "    </tr>\n",
       "    <tr>\n",
       "      <th>24585</th>\n",
       "      <td>&lt;rdkit.Chem.rdchem.Mol object at 0x7f68ace85710&gt;</td>\n",
       "      <td>COC(=O)c1ccc(CN2CCN3CCC[C@H]3[C@@H]2C2CCCCC2)cc1</td>\n",
       "      <td>[0, 0, 1, 0, 0, 0, 0, 0, 0, 0, 0, 0, 0, 0, 0, ...</td>\n",
       "      <td>zinc_dark_m</td>\n",
       "    </tr>\n",
       "    <tr>\n",
       "      <th>24641</th>\n",
       "      <td>&lt;rdkit.Chem.rdchem.Mol object at 0x7f68ace86890&gt;</td>\n",
       "      <td>CC[C@]1(C)CN(C(=O)N[C@H](C)[C@H]2CCOC2)CCO1</td>\n",
       "      <td>[0, 1, 0, 0, 0, 0, 0, 0, 0, 0, 0, 1, 0, 0, 0, ...</td>\n",
       "      <td>zinc_dark_m</td>\n",
       "    </tr>\n",
       "    <tr>\n",
       "      <th>24681</th>\n",
       "      <td>&lt;rdkit.Chem.rdchem.Mol object at 0x7f68ace87510&gt;</td>\n",
       "      <td>CC(C)N1CCC(N2CCN(Cc3c[nH]nc3-c3cccc(F)c3)C[C@H...</td>\n",
       "      <td>[0, 1, 0, 0, 0, 1, 0, 0, 0, 0, 0, 0, 0, 0, 0, ...</td>\n",
       "      <td>zinc_dark_m</td>\n",
       "    </tr>\n",
       "    <tr>\n",
       "      <th>24726</th>\n",
       "      <td>&lt;rdkit.Chem.rdchem.Mol object at 0x7f68ace68360&gt;</td>\n",
       "      <td>COC(=O)c1ccccc1-c1ccc([C@@H]2[C@@H](c3ccccn3)N...</td>\n",
       "      <td>[0, 0, 0, 0, 0, 0, 0, 0, 0, 0, 0, 0, 0, 0, 0, ...</td>\n",
       "      <td>zinc_dark_m</td>\n",
       "    </tr>\n",
       "    <tr>\n",
       "      <th>24827</th>\n",
       "      <td>&lt;rdkit.Chem.rdchem.Mol object at 0x7f68ace6a2f0&gt;</td>\n",
       "      <td>CN1c2ccc([N+](=O)[O-])cc2C[C@@]2(C(=O)NC(=O)N(...</td>\n",
       "      <td>[0, 0, 0, 0, 0, 0, 0, 0, 0, 0, 0, 0, 0, 0, 0, ...</td>\n",
       "      <td>zinc_dark_m</td>\n",
       "    </tr>\n",
       "  </tbody>\n",
       "</table>\n",
       "<p>24945 rows × 4 columns</p>\n",
       "</div>"
      ],
      "text/plain": [
       "                                                    mol  \\\n",
       "9342   <rdkit.Chem.rdchem.Mol object at 0x7f68ad9a28e0>   \n",
       "146    <rdkit.Chem.rdchem.Mol object at 0x7f68ad476160>   \n",
       "2237   <rdkit.Chem.rdchem.Mol object at 0x7f68aeb03560>   \n",
       "14204  <rdkit.Chem.rdchem.Mol object at 0x7f68ae199e40>   \n",
       "3880   <rdkit.Chem.rdchem.Mol object at 0x7f68ad4e78d0>   \n",
       "...                                                 ...   \n",
       "24585  <rdkit.Chem.rdchem.Mol object at 0x7f68ace85710>   \n",
       "24641  <rdkit.Chem.rdchem.Mol object at 0x7f68ace86890>   \n",
       "24681  <rdkit.Chem.rdchem.Mol object at 0x7f68ace87510>   \n",
       "24726  <rdkit.Chem.rdchem.Mol object at 0x7f68ace68360>   \n",
       "24827  <rdkit.Chem.rdchem.Mol object at 0x7f68ace6a2f0>   \n",
       "\n",
       "                                                  smiles  \\\n",
       "9342                           CCN[C@H]1CCCC[C@@H]1N(C)C   \n",
       "146                                       Nc1cn2cccnc2n1   \n",
       "2237                          [O-][S@+](Cl)C(Cl)=C(Cl)Cl   \n",
       "14204  O=S1(=O)OC(F)(F)[C@@]1(F)C(F)(F)C(F)(F)C(F)(F)...   \n",
       "3880                                  C1C[C@]2(CCSC2)CN1   \n",
       "...                                                  ...   \n",
       "24585   COC(=O)c1ccc(CN2CCN3CCC[C@H]3[C@@H]2C2CCCCC2)cc1   \n",
       "24641        CC[C@]1(C)CN(C(=O)N[C@H](C)[C@H]2CCOC2)CCO1   \n",
       "24681  CC(C)N1CCC(N2CCN(Cc3c[nH]nc3-c3cccc(F)c3)C[C@H...   \n",
       "24726  COC(=O)c1ccccc1-c1ccc([C@@H]2[C@@H](c3ccccn3)N...   \n",
       "24827  CN1c2ccc([N+](=O)[O-])cc2C[C@@]2(C(=O)NC(=O)N(...   \n",
       "\n",
       "                                                   ECFP6       source  \n",
       "9342   [0, 0, 0, 0, 0, 0, 0, 0, 0, 0, 0, 0, 0, 0, 0, ...  zinc_dark_m  \n",
       "146    [0, 0, 0, 0, 0, 0, 0, 0, 0, 0, 0, 0, 0, 0, 0, ...  zinc_dark_m  \n",
       "2237   [0, 0, 0, 0, 0, 0, 0, 0, 0, 0, 0, 0, 0, 0, 0, ...  zinc_dark_m  \n",
       "14204  [0, 0, 0, 0, 0, 0, 0, 0, 0, 0, 0, 0, 0, 0, 0, ...  zinc_dark_m  \n",
       "3880   [0, 0, 0, 0, 0, 0, 0, 0, 0, 0, 0, 0, 0, 0, 0, ...  zinc_dark_m  \n",
       "...                                                  ...          ...  \n",
       "24585  [0, 0, 1, 0, 0, 0, 0, 0, 0, 0, 0, 0, 0, 0, 0, ...  zinc_dark_m  \n",
       "24641  [0, 1, 0, 0, 0, 0, 0, 0, 0, 0, 0, 1, 0, 0, 0, ...  zinc_dark_m  \n",
       "24681  [0, 1, 0, 0, 0, 1, 0, 0, 0, 0, 0, 0, 0, 0, 0, ...  zinc_dark_m  \n",
       "24726  [0, 0, 0, 0, 0, 0, 0, 0, 0, 0, 0, 0, 0, 0, 0, ...  zinc_dark_m  \n",
       "24827  [0, 0, 0, 0, 0, 0, 0, 0, 0, 0, 0, 0, 0, 0, 0, ...  zinc_dark_m  \n",
       "\n",
       "[24945 rows x 4 columns]"
      ]
     },
     "execution_count": 14,
     "metadata": {},
     "output_type": "execute_result"
    }
   ],
   "source": [
    "# do diversity picking for all datasets\n",
    "diversity_picking_MaxMin(rna_binders_df, 'ECFP6', '../data/diversity_picking/ECFP6_set2/rna_binders_ECFP6_set2_diversity_picked.pkl')\n",
    "diversity_picking_MaxMin(rna_non_binders_df, 'ECFP6', '../data/diversity_picking/ECFP6_set2/rna_non_binders_ECFP6_set2_diversity_picked.pkl')\n",
    "diversity_picking_MaxMin(protein_binders_df, 'ECFP6', '../data/diversity_picking/ECFP6_set2/protein_binders_ECFP6_set2_diversity_picked.pkl')\n",
    "diversity_picking_MaxMin(protein_non_binders_df, 'ECFP6', '../data/diversity_picking/ECFP6_set2/protein_non_binders_ECFP6_set2_diversity_picked.pkl')\n",
    "\n"
   ]
  }
 ],
 "metadata": {
  "kernelspec": {
   "display_name": "cdd",
   "language": "python",
   "name": "python3"
  },
  "language_info": {
   "codemirror_mode": {
    "name": "ipython",
    "version": 3
   },
   "file_extension": ".py",
   "mimetype": "text/x-python",
   "name": "python",
   "nbconvert_exporter": "python",
   "pygments_lexer": "ipython3",
   "version": "3.10.10"
  },
  "papermill": {
   "default_parameters": {},
   "duration": 1351.523458,
   "end_time": "2024-02-11T12:35:43.486930",
   "environment_variables": {},
   "exception": null,
   "input_path": "03_v2_no_merge_diversity_picking_MaxMin.ipynb",
   "output_path": "03_v2_no_merge_diversity_picking_MaxMin.ipynb",
   "parameters": {},
   "start_time": "2024-02-11T12:13:11.963472",
   "version": "2.3.4"
  },
  "widgets": {
   "application/vnd.jupyter.widget-state+json": {
    "state": {
     "0411b7c10842415194475d8305f02f66": {
      "model_module": "@jupyter-widgets/base",
      "model_module_version": "2.0.0",
      "model_name": "LayoutModel",
      "state": {
       "_model_module": "@jupyter-widgets/base",
       "_model_module_version": "2.0.0",
       "_model_name": "LayoutModel",
       "_view_count": null,
       "_view_module": "@jupyter-widgets/base",
       "_view_module_version": "2.0.0",
       "_view_name": "LayoutView",
       "align_content": null,
       "align_items": null,
       "align_self": null,
       "border_bottom": null,
       "border_left": null,
       "border_right": null,
       "border_top": null,
       "bottom": null,
       "display": null,
       "flex": null,
       "flex_flow": null,
       "grid_area": null,
       "grid_auto_columns": null,
       "grid_auto_flow": null,
       "grid_auto_rows": null,
       "grid_column": null,
       "grid_gap": null,
       "grid_row": null,
       "grid_template_areas": null,
       "grid_template_columns": null,
       "grid_template_rows": null,
       "height": null,
       "justify_content": null,
       "justify_items": null,
       "left": null,
       "margin": null,
       "max_height": null,
       "max_width": null,
       "min_height": null,
       "min_width": null,
       "object_fit": null,
       "object_position": null,
       "order": null,
       "overflow": null,
       "padding": null,
       "right": null,
       "top": null,
       "visibility": null,
       "width": null
      }
     },
     "199740eb2bb04be7a13ab2f3bf232cd3": {
      "model_module": "@jupyter-widgets/controls",
      "model_module_version": "2.0.0",
      "model_name": "HTMLStyleModel",
      "state": {
       "_model_module": "@jupyter-widgets/controls",
       "_model_module_version": "2.0.0",
       "_model_name": "HTMLStyleModel",
       "_view_count": null,
       "_view_module": "@jupyter-widgets/base",
       "_view_module_version": "2.0.0",
       "_view_name": "StyleView",
       "background": null,
       "description_width": "",
       "font_size": null,
       "text_color": null
      }
     },
     "26a9277321f942078e788f1ba0b950e7": {
      "model_module": "@jupyter-widgets/controls",
      "model_module_version": "2.0.0",
      "model_name": "FloatProgressModel",
      "state": {
       "_dom_classes": [],
       "_model_module": "@jupyter-widgets/controls",
       "_model_module_version": "2.0.0",
       "_model_name": "FloatProgressModel",
       "_view_count": null,
       "_view_module": "@jupyter-widgets/controls",
       "_view_module_version": "2.0.0",
       "_view_name": "ProgressView",
       "bar_style": "danger",
       "description": "",
       "description_allow_html": false,
       "layout": "IPY_MODEL_cf88a738c431487689a4f60127787025",
       "max": 4,
       "min": 0,
       "orientation": "horizontal",
       "style": "IPY_MODEL_84633125250247038b57fdf56e39b664",
       "tabbable": null,
       "tooltip": null,
       "value": 1
      }
     },
     "4a7fa2abe36e4420ada7cd1aa80f08ae": {
      "model_module": "@jupyter-widgets/base",
      "model_module_version": "2.0.0",
      "model_name": "LayoutModel",
      "state": {
       "_model_module": "@jupyter-widgets/base",
       "_model_module_version": "2.0.0",
       "_model_name": "LayoutModel",
       "_view_count": null,
       "_view_module": "@jupyter-widgets/base",
       "_view_module_version": "2.0.0",
       "_view_name": "LayoutView",
       "align_content": null,
       "align_items": null,
       "align_self": null,
       "border_bottom": null,
       "border_left": null,
       "border_right": null,
       "border_top": null,
       "bottom": null,
       "display": null,
       "flex": null,
       "flex_flow": null,
       "grid_area": null,
       "grid_auto_columns": null,
       "grid_auto_flow": null,
       "grid_auto_rows": null,
       "grid_column": null,
       "grid_gap": null,
       "grid_row": null,
       "grid_template_areas": null,
       "grid_template_columns": null,
       "grid_template_rows": null,
       "height": null,
       "justify_content": null,
       "justify_items": null,
       "left": null,
       "margin": null,
       "max_height": null,
       "max_width": null,
       "min_height": null,
       "min_width": null,
       "object_fit": null,
       "object_position": null,
       "order": null,
       "overflow": null,
       "padding": null,
       "right": null,
       "top": null,
       "visibility": null,
       "width": null
      }
     },
     "688c0957768c4f519ff3632fcf914080": {
      "model_module": "@jupyter-widgets/controls",
      "model_module_version": "2.0.0",
      "model_name": "HTMLStyleModel",
      "state": {
       "_model_module": "@jupyter-widgets/controls",
       "_model_module_version": "2.0.0",
       "_model_name": "HTMLStyleModel",
       "_view_count": null,
       "_view_module": "@jupyter-widgets/base",
       "_view_module_version": "2.0.0",
       "_view_name": "StyleView",
       "background": null,
       "description_width": "",
       "font_size": null,
       "text_color": null
      }
     },
     "8022572e5901469ab4b385fe25377752": {
      "model_module": "@jupyter-widgets/controls",
      "model_module_version": "2.0.0",
      "model_name": "HTMLModel",
      "state": {
       "_dom_classes": [],
       "_model_module": "@jupyter-widgets/controls",
       "_model_module_version": "2.0.0",
       "_model_name": "HTMLModel",
       "_view_count": null,
       "_view_module": "@jupyter-widgets/controls",
       "_view_module_version": "2.0.0",
       "_view_name": "HTMLView",
       "description": "",
       "description_allow_html": false,
       "layout": "IPY_MODEL_0411b7c10842415194475d8305f02f66",
       "placeholder": "​",
       "style": "IPY_MODEL_199740eb2bb04be7a13ab2f3bf232cd3",
       "tabbable": null,
       "tooltip": null,
       "value": "Processing RNA datasets:  25%"
      }
     },
     "84633125250247038b57fdf56e39b664": {
      "model_module": "@jupyter-widgets/controls",
      "model_module_version": "2.0.0",
      "model_name": "ProgressStyleModel",
      "state": {
       "_model_module": "@jupyter-widgets/controls",
       "_model_module_version": "2.0.0",
       "_model_name": "ProgressStyleModel",
       "_view_count": null,
       "_view_module": "@jupyter-widgets/base",
       "_view_module_version": "2.0.0",
       "_view_name": "StyleView",
       "bar_color": null,
       "description_width": ""
      }
     },
     "98dd07eb5c364a728beb03975ff53d05": {
      "model_module": "@jupyter-widgets/controls",
      "model_module_version": "2.0.0",
      "model_name": "HBoxModel",
      "state": {
       "_dom_classes": [],
       "_model_module": "@jupyter-widgets/controls",
       "_model_module_version": "2.0.0",
       "_model_name": "HBoxModel",
       "_view_count": null,
       "_view_module": "@jupyter-widgets/controls",
       "_view_module_version": "2.0.0",
       "_view_name": "HBoxView",
       "box_style": "",
       "children": [
        "IPY_MODEL_8022572e5901469ab4b385fe25377752",
        "IPY_MODEL_26a9277321f942078e788f1ba0b950e7",
        "IPY_MODEL_de837664cced442d99c3e85f66563f07"
       ],
       "layout": "IPY_MODEL_4a7fa2abe36e4420ada7cd1aa80f08ae",
       "tabbable": null,
       "tooltip": null
      }
     },
     "a7e68955f435407d97e0e7b1f08d5a25": {
      "model_module": "@jupyter-widgets/base",
      "model_module_version": "2.0.0",
      "model_name": "LayoutModel",
      "state": {
       "_model_module": "@jupyter-widgets/base",
       "_model_module_version": "2.0.0",
       "_model_name": "LayoutModel",
       "_view_count": null,
       "_view_module": "@jupyter-widgets/base",
       "_view_module_version": "2.0.0",
       "_view_name": "LayoutView",
       "align_content": null,
       "align_items": null,
       "align_self": null,
       "border_bottom": null,
       "border_left": null,
       "border_right": null,
       "border_top": null,
       "bottom": null,
       "display": null,
       "flex": null,
       "flex_flow": null,
       "grid_area": null,
       "grid_auto_columns": null,
       "grid_auto_flow": null,
       "grid_auto_rows": null,
       "grid_column": null,
       "grid_gap": null,
       "grid_row": null,
       "grid_template_areas": null,
       "grid_template_columns": null,
       "grid_template_rows": null,
       "height": null,
       "justify_content": null,
       "justify_items": null,
       "left": null,
       "margin": null,
       "max_height": null,
       "max_width": null,
       "min_height": null,
       "min_width": null,
       "object_fit": null,
       "object_position": null,
       "order": null,
       "overflow": null,
       "padding": null,
       "right": null,
       "top": null,
       "visibility": null,
       "width": null
      }
     },
     "cf88a738c431487689a4f60127787025": {
      "model_module": "@jupyter-widgets/base",
      "model_module_version": "2.0.0",
      "model_name": "LayoutModel",
      "state": {
       "_model_module": "@jupyter-widgets/base",
       "_model_module_version": "2.0.0",
       "_model_name": "LayoutModel",
       "_view_count": null,
       "_view_module": "@jupyter-widgets/base",
       "_view_module_version": "2.0.0",
       "_view_name": "LayoutView",
       "align_content": null,
       "align_items": null,
       "align_self": null,
       "border_bottom": null,
       "border_left": null,
       "border_right": null,
       "border_top": null,
       "bottom": null,
       "display": null,
       "flex": null,
       "flex_flow": null,
       "grid_area": null,
       "grid_auto_columns": null,
       "grid_auto_flow": null,
       "grid_auto_rows": null,
       "grid_column": null,
       "grid_gap": null,
       "grid_row": null,
       "grid_template_areas": null,
       "grid_template_columns": null,
       "grid_template_rows": null,
       "height": null,
       "justify_content": null,
       "justify_items": null,
       "left": null,
       "margin": null,
       "max_height": null,
       "max_width": null,
       "min_height": null,
       "min_width": null,
       "object_fit": null,
       "object_position": null,
       "order": null,
       "overflow": null,
       "padding": null,
       "right": null,
       "top": null,
       "visibility": null,
       "width": null
      }
     },
     "de837664cced442d99c3e85f66563f07": {
      "model_module": "@jupyter-widgets/controls",
      "model_module_version": "2.0.0",
      "model_name": "HTMLModel",
      "state": {
       "_dom_classes": [],
       "_model_module": "@jupyter-widgets/controls",
       "_model_module_version": "2.0.0",
       "_model_name": "HTMLModel",
       "_view_count": null,
       "_view_module": "@jupyter-widgets/controls",
       "_view_module_version": "2.0.0",
       "_view_name": "HTMLView",
       "description": "",
       "description_allow_html": false,
       "layout": "IPY_MODEL_a7e68955f435407d97e0e7b1f08d5a25",
       "placeholder": "​",
       "style": "IPY_MODEL_688c0957768c4f519ff3632fcf914080",
       "tabbable": null,
       "tooltip": null,
       "value": " 1/4 [00:21&lt;00:01,  1.99it/s]"
      }
     }
    },
    "version_major": 2,
    "version_minor": 0
   }
  }
 },
 "nbformat": 4,
 "nbformat_minor": 5
}
