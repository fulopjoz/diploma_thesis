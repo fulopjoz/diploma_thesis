{
 "cells": [
  {
   "cell_type": "code",
   "execution_count": 1,
   "id": "7268a80b",
   "metadata": {
    "execution": {
     "iopub.execute_input": "2023-11-25T17:38:35.476555Z",
     "iopub.status.busy": "2023-11-25T17:38:35.475901Z",
     "iopub.status.idle": "2023-11-25T17:38:37.083652Z",
     "shell.execute_reply": "2023-11-25T17:38:37.081648Z"
    },
    "papermill": {
     "duration": 1.624111,
     "end_time": "2023-11-25T17:38:37.088250",
     "exception": false,
     "start_time": "2023-11-25T17:38:35.464139",
     "status": "completed"
    },
    "tags": []
   },
   "outputs": [],
   "source": [
    "import pandas as pd\n",
    "pd.set_option('mode.chained_assignment', None)\n",
    "import seaborn as sns\n",
    "import matplotlib.pyplot as plt\n",
    "import numpy as np\n",
    "\n",
    "import os \n",
    "from rdkit.Chem import Lipinski\n",
    "from rdkit.Chem import rdMolDescriptors\n",
    "from rdkit.Chem import Descriptors, MolToSmiles, QED, MolFromSmiles\n",
    "\n",
    "import sys\n",
    "sys.path.append(\"../sfi\")  # Add the parent directory (project root) to the path\n",
    "from logd_predictor_clean import LogDPredictor"
   ]
  },
  {
   "cell_type": "code",
   "execution_count": 2,
   "id": "413fabc5",
   "metadata": {},
   "outputs": [],
   "source": [
    "\n",
    "rna_binders = pd.read_pickle('../data/diversity_picking/ECFP6_set2/rna_binders_ECFP6_set2_diversity_picked.pkl')\n",
    "rna_non_binders = pd.read_pickle('../data/diversity_picking/ECFP6_set2/rna_non_binders_ECFP6_set2_diversity_picked.pkl')\n",
    "protein_binders = pd.read_pickle('../data/diversity_picking/ECFP6_set2/protein_binders_ECFP6_set2_diversity_picked.pkl')\n",
    "protein_non_binders = pd.read_pickle('../data/diversity_picking/ECFP6_set2/protein_non_binders_ECFP6_set2_diversity_picked.pkl')"
   ]
  },
  {
   "cell_type": "code",
   "execution_count": 3,
   "id": "22333eff",
   "metadata": {
    "execution": {
     "iopub.execute_input": "2023-11-25T17:38:41.458504Z",
     "iopub.status.busy": "2023-11-25T17:38:41.458186Z",
     "iopub.status.idle": "2023-11-25T17:38:41.494703Z",
     "shell.execute_reply": "2023-11-25T17:38:41.493678Z"
    },
    "papermill": {
     "duration": 0.047344,
     "end_time": "2023-11-25T17:38:41.498658",
     "exception": false,
     "start_time": "2023-11-25T17:38:41.451314",
     "status": "completed"
    },
    "tags": []
   },
   "outputs": [],
   "source": [
    "# create folder for output propety_analysis\n",
    "if not os.path.exists('../output/set2/property_analysis'):\n",
    "   os.makedirs('../output/set2/property_analysis')\n",
    "\n"
   ]
  },
  {
   "cell_type": "code",
   "execution_count": 4,
   "id": "fe7aadab",
   "metadata": {},
   "outputs": [
    {
     "name": "stdout",
     "output_type": "stream",
     "text": [
      "Duplicates between robin_b and robin_n: 0\n",
      "Duplicates between probes_drugs and robin_b: 0\n",
      "Duplicates between robin_b and zinc_dark_m: 0\n",
      "Duplicates between probes_drugs and robin_n: 0\n",
      "Duplicates between robin_n and zinc_dark_m: 0\n",
      "Duplicates between probes_drugs and zinc_dark_m: 0\n"
     ]
    }
   ],
   "source": [
    "# Concatenate the dataframes into one\n",
    "combined_df = pd.concat([\n",
    "    rna_binders,\n",
    "    rna_non_binders,\n",
    "    protein_binders,\n",
    "    protein_non_binders\n",
    "])\n",
    "\n",
    "# drop mol \n",
    "combined_df.drop(columns=['mol'], inplace=True)\n",
    "# compute mols from smiles\n",
    "combined_df['mol'] = combined_df['smiles'].apply(lambda x: MolFromSmiles(x))\n",
    "\n",
    "# Finding duplicates in the 'SMILES' column\n",
    "duplicates = combined_df[combined_df.duplicated('smiles', keep=False)]\n",
    "\n",
    "# Creating a summary of duplicates between each pair of datasets\n",
    "summary = {}\n",
    "for dataset1 in combined_df['source'].unique():\n",
    "    for dataset2 in combined_df['source'].unique():\n",
    "        if dataset1 != dataset2:\n",
    "            pair = tuple(sorted([dataset1, dataset2]))\n",
    "            if pair not in summary:\n",
    "                duplicates_in_pair = duplicates[\n",
    "                    (duplicates['source'] == dataset1) | \n",
    "                    (duplicates['source'] == dataset2)\n",
    "                ]\n",
    "                count = duplicates_in_pair['smiles'].nunique()\n",
    "                summary[pair] = count\n",
    "\n",
    "# Displaying the summary\n",
    "for pair, count in summary.items():\n",
    "    print(f\"Duplicates between {pair[0]} and {pair[1]}: {count}\")"
   ]
  },
  {
   "cell_type": "code",
   "execution_count": 5,
   "id": "4632ce6b",
   "metadata": {},
   "outputs": [
    {
     "data": {
      "text/plain": [
       "array(['robin_b', 'robin_n', 'probes_drugs', 'zinc_dark_m'], dtype=object)"
      ]
     },
     "execution_count": 5,
     "metadata": {},
     "output_type": "execute_result"
    }
   ],
   "source": [
    "combined_df['source'].unique()  "
   ]
  },
  {
   "cell_type": "code",
   "execution_count": 6,
   "id": "b78ddc1b",
   "metadata": {},
   "outputs": [],
   "source": [
    "rna_binders = combined_df[combined_df['source'] == 'robin_b']\n",
    "rna_non_binders = combined_df[combined_df['source'] == 'robin_n']\n",
    "protein_binders = combined_df[combined_df['source'] == 'probes_drugs']\n",
    "protein_non_binders = combined_df[combined_df['source'] == 'zinc_dark_m']\n",
    "\n"
   ]
  },
  {
   "cell_type": "code",
   "execution_count": 7,
   "id": "5a0e847d",
   "metadata": {
    "execution": {
     "iopub.execute_input": "2023-11-25T17:38:41.643431Z",
     "iopub.status.busy": "2023-11-25T17:38:41.643117Z",
     "iopub.status.idle": "2023-11-25T18:01:46.189279Z",
     "shell.execute_reply": "2023-11-25T18:01:46.188162Z"
    },
    "papermill": {
     "duration": 1384.557759,
     "end_time": "2023-11-25T18:01:46.193961",
     "exception": false,
     "start_time": "2023-11-25T17:38:41.636202",
     "status": "completed"
    },
    "tags": []
   },
   "outputs": [],
   "source": [
    "predict_logd = LogDPredictor(model_file_name='../sfi/model_plus.txt')\n",
    "\n",
    "\n",
    "def calculate_properties(mol):\n",
    "    \"\"\"\n",
    "    The `calculate_properties` function takes a molecule object as input and calculates various \n",
    "    molecular properties, such as molecular weight, heavy atom count, number of oxygen, nitrogen, \n",
    "    carbon, chlorine, fluorine, and sulfur atoms, hydrogen bond acceptors and donors, \n",
    "    number of rings, logarithm of the octanol-water partition coefficient (cLogP), \n",
    "    number of rotatable bonds, and topological polar surface area (TPSA). \n",
    "    The function returns a pandas Series containing the SMILES representation of \n",
    "    the molecule and the calculated properties.\n",
    "    \"\"\"\n",
    "    smiles = MolToSmiles(mol, canonical=True)\n",
    "    mw = Descriptors.MolWt(mol)\n",
    "    heavy_atom_count = mol.GetNumHeavyAtoms()\n",
    "    num_O_atoms = len([atom for atom in mol.GetAtoms() if atom.GetSymbol() == 'O'])\n",
    "    num_N_atoms = len([atom for atom in mol.GetAtoms() if atom.GetSymbol() == 'N'])\n",
    "    num_C_atoms = len([atom for atom in mol.GetAtoms() if atom.GetSymbol() == 'C'])\n",
    "    num_Cl_atoms = len([atom for atom in mol.GetAtoms() if atom.GetSymbol() == 'Cl'])\n",
    "    num_F_atoms = len([atom for atom in mol.GetAtoms() if atom.GetSymbol() == 'F'])\n",
    "    num_S_atoms = len([atom for atom in mol.GetAtoms() if atom.GetSymbol() == 'S'])\n",
    "    qed = QED.qed(mol)\n",
    "    # use the predict_logd to calculate logd\n",
    "    clogD = predict_logd.predict(mol) # model for this prediction can be found in /sfi/build_logd_model.ipynb\n",
    "\n",
    "    hba = Lipinski.NumHAcceptors(mol)\n",
    "    hbd = Lipinski.NumHDonors(mol)\n",
    "    rings = rdMolDescriptors.CalcNumRings(mol)\n",
    "    clogP = Descriptors.MolLogP(mol)\n",
    "    n_rot = rdMolDescriptors.CalcNumRotatableBonds(mol)\n",
    "    tpsa = rdMolDescriptors.CalcTPSA(mol)\n",
    "\n",
    "    return pd.Series([smiles, mw, heavy_atom_count, num_O_atoms, num_N_atoms, num_C_atoms, \n",
    "                      num_Cl_atoms, num_F_atoms, num_S_atoms, hba, hbd, rings, clogP, n_rot, tpsa, qed, clogD],)\n",
    "\n",
    "\n",
    "rna_binders[['smiles', 'MW', '#HeavyAtoms', 'NumO', 'NumN', 'NumC', 'NumCl', 'NumF', 'NumS', 'HBA', 'HBD', 'Rings', 'ClogP', '#RotBonds', 'TPSA', 'QED', 'ClogD']] = rna_binders.apply(lambda x: calculate_properties(x['mol']), axis=1)\n",
    "rna_non_binders[['smiles', 'MW', '#HeavyAtoms', 'NumO', 'NumN', 'NumC', 'NumCl', 'NumF', 'NumS', 'HBA', 'HBD', 'Rings', 'ClogP', '#RotBonds', 'TPSA', 'QED', 'ClogD']] = rna_non_binders.apply(lambda x: calculate_properties(x['mol']), axis=1)\n",
    "protein_binders[['smiles', 'MW', '#HeavyAtoms', 'NumO', 'NumN', 'NumC', 'NumCl', 'NumF', 'NumS', 'HBA', 'HBD', 'Rings', 'ClogP', '#RotBonds', 'TPSA', 'QED', 'ClogD']] = protein_binders.apply(lambda x: calculate_properties(x['mol']), axis=1)\n",
    "protein_non_binders[['smiles', 'MW', '#HeavyAtoms', 'NumO', 'NumN', 'NumC', 'NumCl', 'NumF', 'NumS', 'HBA', 'HBD', 'Rings', 'ClogP', '#RotBonds', 'TPSA', 'QED', 'ClogD']] = protein_non_binders.apply(lambda x: calculate_properties(x['mol']), axis=1)\n"
   ]
  },
  {
   "cell_type": "code",
   "execution_count": 8,
   "id": "c129ef0a",
   "metadata": {
    "execution": {
     "iopub.execute_input": "2023-11-25T18:01:46.213115Z",
     "iopub.status.busy": "2023-11-25T18:01:46.212846Z",
     "iopub.status.idle": "2023-11-25T18:01:46.892574Z",
     "shell.execute_reply": "2023-11-25T18:01:46.891619Z"
    },
    "papermill": {
     "duration": 0.694045,
     "end_time": "2023-11-25T18:01:46.896620",
     "exception": false,
     "start_time": "2023-11-25T18:01:46.202575",
     "status": "completed"
    },
    "tags": []
   },
   "outputs": [],
   "source": [
    "# save to csv without index\n",
    "rna_binders.to_csv('../output/set2/property_analysis/rna_binders.csv', index=False)\n",
    "rna_non_binders.to_csv('../output/set2/property_analysis/rna_non_binders.csv', index=False)\n",
    "protein_binders.to_csv('../output/set2/property_analysis/protein_binders.csv', index=False)\n",
    "protein_non_binders.to_csv('../output/set2/property_analysis/protein_non_binders.csv', index=False)\n"
   ]
  }
 ],
 "metadata": {
  "kernelspec": {
   "display_name": "cdd",
   "language": "python",
   "name": "python3"
  },
  "language_info": {
   "codemirror_mode": {
    "name": "ipython",
    "version": 3
   },
   "file_extension": ".py",
   "mimetype": "text/x-python",
   "name": "python",
   "nbconvert_exporter": "python",
   "pygments_lexer": "ipython3",
   "version": "3.10.10"
  },
  "papermill": {
   "default_parameters": {},
   "duration": 3028.251854,
   "end_time": "2023-11-25T18:29:02.334467",
   "environment_variables": {},
   "exception": null,
   "input_path": "10_v2_propetry_compute.ipynb",
   "output_path": "10_v2_propetry_compute.ipynb",
   "parameters": {},
   "start_time": "2023-11-25T17:38:34.082613",
   "version": "2.3.4"
  }
 },
 "nbformat": 4,
 "nbformat_minor": 5
}
