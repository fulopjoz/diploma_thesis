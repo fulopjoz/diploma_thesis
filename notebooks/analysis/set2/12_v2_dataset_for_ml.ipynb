{
 "cells": [
  {
   "cell_type": "code",
   "execution_count": 1,
   "metadata": {},
   "outputs": [],
   "source": [
    "\n",
    "from rdkit.Chem.AllChem import GetMorganFingerprintAsBitVect\n",
    "from rdkit.Chem import MolFromSmiles, MolToSmiles\n",
    "from tqdm.auto import tqdm\n",
    "tqdm.pandas()\n",
    "import pandas as pd\n",
    "import os\n",
    "import pickle\n",
    "from multiprocessing import Pool\n",
    "from rdkit import RDLogger\n",
    "import numpy as np\n",
    "import itertools\n",
    "RDLogger.DisableLog('rdApp.error')\n",
    "from rdkit import Chem\n",
    "from rdkit.Chem import AllChem\n",
    "import pandas as pd"
   ]
  },
  {
   "cell_type": "code",
   "execution_count": 2,
   "metadata": {},
   "outputs": [],
   "source": [
    "\n",
    "\n",
    "rna_binders = pd.read_pickle('data_dataset2/standardized_data/deduplicated_data/rna_binders_dedup.pkl')\n",
    "rna_non_binders = pd.read_pickle('data_dataset2/standardized_data/deduplicated_data/rna_non_binders_dedup.pkl')\n",
    "protein_binders = pd.read_pickle('data_dataset2/standardized_data/deduplicated_data/protein_binders_dedup.pkl')\n",
    "protein_non_binders = pd.read_pickle('data_dataset2/standardized_data/deduplicated_data/protein_non_binders_dedup.pkl')\n"
   ]
  },
  {
   "cell_type": "code",
   "execution_count": 3,
   "metadata": {},
   "outputs": [
    {
     "data": {
      "text/html": [
       "<div>\n",
       "<style scoped>\n",
       "    .dataframe tbody tr th:only-of-type {\n",
       "        vertical-align: middle;\n",
       "    }\n",
       "\n",
       "    .dataframe tbody tr th {\n",
       "        vertical-align: top;\n",
       "    }\n",
       "\n",
       "    .dataframe thead th {\n",
       "        text-align: right;\n",
       "    }\n",
       "</style>\n",
       "<table border=\"1\" class=\"dataframe\">\n",
       "  <thead>\n",
       "    <tr style=\"text-align: right;\">\n",
       "      <th></th>\n",
       "      <th>mol</th>\n",
       "      <th>source</th>\n",
       "      <th>smiles</th>\n",
       "    </tr>\n",
       "  </thead>\n",
       "  <tbody>\n",
       "  </tbody>\n",
       "</table>\n",
       "</div>"
      ],
      "text/plain": [
       "Empty DataFrame\n",
       "Columns: [mol, source, smiles]\n",
       "Index: []"
      ]
     },
     "execution_count": 3,
     "metadata": {},
     "output_type": "execute_result"
    }
   ],
   "source": [
    "combined = pd.concat([rna_binders, rna_non_binders, protein_binders, protein_non_binders])\n",
    "combined[combined.duplicated('smiles')]"
   ]
  },
  {
   "cell_type": "code",
   "execution_count": 4,
   "metadata": {},
   "outputs": [
    {
     "data": {
      "text/html": [
       "<div>\n",
       "<style scoped>\n",
       "    .dataframe tbody tr th:only-of-type {\n",
       "        vertical-align: middle;\n",
       "    }\n",
       "\n",
       "    .dataframe tbody tr th {\n",
       "        vertical-align: top;\n",
       "    }\n",
       "\n",
       "    .dataframe thead th {\n",
       "        text-align: right;\n",
       "    }\n",
       "</style>\n",
       "<table border=\"1\" class=\"dataframe\">\n",
       "  <thead>\n",
       "    <tr style=\"text-align: right;\">\n",
       "      <th></th>\n",
       "      <th>mol</th>\n",
       "      <th>source</th>\n",
       "      <th>smiles</th>\n",
       "    </tr>\n",
       "  </thead>\n",
       "  <tbody>\n",
       "  </tbody>\n",
       "</table>\n",
       "</div>"
      ],
      "text/plain": [
       "Empty DataFrame\n",
       "Columns: [mol, source, smiles]\n",
       "Index: []"
      ]
     },
     "execution_count": 4,
     "metadata": {},
     "output_type": "execute_result"
    }
   ],
   "source": [
    "# look for \".\" in smiles\n",
    "combined[combined.smiles.str.contains('\\.')]"
   ]
  },
  {
   "cell_type": "code",
   "execution_count": 5,
   "metadata": {},
   "outputs": [
    {
     "data": {
      "text/plain": [
       "(Index(['mol', 'source', 'smiles'], dtype='object'),\n",
       " Index(['mol', 'source', 'smiles'], dtype='object'),\n",
       " Index(['mol', 'source', 'smiles'], dtype='object'),\n",
       " Index(['mol', 'source', 'smiles'], dtype='object'))"
      ]
     },
     "execution_count": 5,
     "metadata": {},
     "output_type": "execute_result"
    }
   ],
   "source": [
    "# columns of the dataframe\n",
    "rna_binders.columns, rna_non_binders.columns, protein_binders.columns, protein_non_binders.columns"
   ]
  },
  {
   "cell_type": "code",
   "execution_count": 6,
   "metadata": {},
   "outputs": [
    {
     "name": "stdout",
     "output_type": "stream",
     "text": [
      "RNA binders: (1961, 3)\n",
      "RNA non-binders: (21883, 3)\n",
      "Probes & Drugs: (2276, 3)\n",
      "Zinc Dark Matter: (24945, 3)\n"
     ]
    }
   ],
   "source": [
    "# shape of the data\n",
    "print('RNA binders:', rna_binders.shape)\n",
    "print('RNA non-binders:', rna_non_binders.shape)\n",
    "print('Probes & Drugs:', protein_binders.shape)\n",
    "print('Zinc Dark Matter:', protein_non_binders.shape)\n"
   ]
  },
  {
   "cell_type": "code",
   "execution_count": 7,
   "metadata": {},
   "outputs": [],
   "source": [
    "df_list = [rna_binders, rna_non_binders, protein_binders, protein_non_binders]\n"
   ]
  },
  {
   "cell_type": "code",
   "execution_count": 8,
   "metadata": {},
   "outputs": [],
   "source": [
    "def compute_ECFP_with_bit_info(df, smiles_column):\n",
    "    # Function to calculate ECFP6 and capture bit information\n",
    "    def get_fingerprint_and_bit_info(smiles):\n",
    "        mol = Chem.MolFromSmiles(smiles)\n",
    "        # Calculate ECFP6 with radius=3 and capture bit info\n",
    "        fp = AllChem.GetMorganFingerprintAsBitVect(mol, radius=3, nBits=2048, bitInfo=bit_info_map)\n",
    "        # Convert fingerprint to bit string for storage\n",
    "        fp_bit_string = fp.ToBitString()\n",
    "        # Convert bit info map to a storable format (e.g., string or list)\n",
    "        bit_info_storable = {bit: list(info) for bit, info in bit_info_map.items()}\n",
    "        return fp_bit_string, bit_info_storable\n",
    "\n",
    "    # Initialize an empty bit info map for each molecule\n",
    "    bit_info_map = {}\n",
    "    # Apply the function to each smiles in the dataframe\n",
    "    df[['ecfp6', 'bit_info_map']] = df.apply(lambda x: pd.Series(get_fingerprint_and_bit_info(x[smiles_column])), axis=1)\n",
    "    \n",
    "    return df\n",
    "\n"
   ]
  },
  {
   "cell_type": "code",
   "execution_count": 9,
   "metadata": {},
   "outputs": [],
   "source": [
    "# compute ECFP with bit info for each dataset  \n",
    "rna_binders = compute_ECFP_with_bit_info(rna_binders, 'smiles')\n",
    "rna_non_binders = compute_ECFP_with_bit_info(rna_non_binders, 'smiles')\n",
    "protein_binders = compute_ECFP_with_bit_info(protein_binders, 'smiles')\n",
    "protein_non_binders = compute_ECFP_with_bit_info(protein_non_binders, 'smiles')\n"
   ]
  },
  {
   "cell_type": "code",
   "execution_count": 10,
   "metadata": {},
   "outputs": [],
   "source": [
    "rna_binders['label'] = 1  # Positive class for RNA binding\n",
    "rna_non_binders['label'] = 0  # Negative class for RNA binding\n",
    "protein_binders['label'] = 0  # Negative class for binding model\n",
    "protein_non_binders['label'] = 0  # Negative class for binding model"
   ]
  },
  {
   "cell_type": "code",
   "execution_count": 11,
   "metadata": {},
   "outputs": [],
   "source": [
    "# dires for models\n",
    "os.makedirs('data_for_ml/ml_datasets_set2', exist_ok=True)\n",
    "os.makedirs('data_for_ml/ml_datasets_set2/model1_rna_bin_non_rna_bin', exist_ok=True)\n",
    "os.makedirs('data_for_ml/ml_datasets_set2/model2_rna_bin_protein_bin', exist_ok=True)\n",
    "os.makedirs('data_for_ml/ml_datasets_set2/model3_binders_nonbinders', exist_ok=True)"
   ]
  },
  {
   "cell_type": "code",
   "execution_count": 12,
   "metadata": {},
   "outputs": [],
   "source": [
    "# Sample from each DataFrame\n",
    "protein_binders_sampled = protein_binders.sample(n=654, random_state=42)\n",
    "rna_non_binders_sampled = rna_non_binders.sample(n=653  , random_state=42)\n",
    "protein_non_binders_sampled = protein_non_binders.sample(n=654, random_state=42)\n",
    "\n"
   ]
  },
  {
   "cell_type": "code",
   "execution_count": 13,
   "metadata": {},
   "outputs": [
    {
     "name": "stdout",
     "output_type": "stream",
     "text": [
      "Protein Binders Sampled: 654\n",
      "RNA Non-Binders Sampled: 653\n",
      "Protein Non-Binders Sampled: 654\n"
     ]
    }
   ],
   "source": [
    "print(\"Protein Binders Sampled:\", len(protein_binders_sampled))\n",
    "print(\"RNA Non-Binders Sampled:\", len(rna_non_binders_sampled))\n",
    "print(\"Protein Non-Binders Sampled:\", len(protein_non_binders_sampled))\n"
   ]
  },
  {
   "cell_type": "code",
   "execution_count": 14,
   "metadata": {},
   "outputs": [
    {
     "name": "stdout",
     "output_type": "stream",
     "text": [
      "All datasets have been balanced and saved.\n"
     ]
    }
   ],
   "source": [
    "# balance the datasets\n",
    "# Concatenate all sampled non-binders into a single DataFrame\n",
    "non_binders_sampled = pd.concat([rna_non_binders_sampled, protein_non_binders_sampled, protein_binders_sampled])\n",
    "non_binders_sampled = non_binders_sampled.sample(frac=1, random_state=42).reset_index(drop=True)\n",
    "rna_non_binders_sampled = rna_non_binders.sample(n=1961, random_state=42)\n",
    "protein_binders_sampled = protein_binders.sample(n=1961, random_state=42)\n",
    "protein_non_binders_sampled = protein_non_binders.sample(n=1961, random_state=42)\n",
    "\n",
    "\n",
    "# For Model 1: RNA-Binders vs. Non-RNA-Binders\n",
    "rna_model1_df = pd.concat([rna_binders, rna_non_binders_sampled]).reset_index(drop=True)\n",
    "rna_model1_df = rna_model1_df.sample(frac=1, random_state=42)\n",
    "rna_model1_df.to_pickle('data_for_ml/ml_datasets_set2/model1_rna_bin_non_rna_bin/data.pkl')\n",
    "\n",
    "# For Model 2: RNA-Binders vs. Protein-Binders\n",
    "rna_model2_df = pd.concat([rna_binders, protein_binders_sampled]).reset_index(drop=True)\n",
    "rna_model2_df = rna_model2_df.sample(frac=1, random_state=42)\n",
    "rna_model2_df.to_pickle('data_for_ml/ml_datasets_set2/model2_rna_bin_protein_bin/data.pkl')\n",
    "\n",
    "# For Model 3: Binders vs. Non-Binders  (RNA binders vs RNA non-binders, protein binders, protein non-binders)\n",
    "rna_model3_df = pd.concat([rna_binders, non_binders_sampled]).reset_index(drop=True)\n",
    "rna_model3_df.to_pickle('data_for_ml/ml_datasets_set2/model3_binders_nonbinders/data.pkl')\n",
    "\n",
    "\n",
    "print(\"All datasets have been balanced and saved.\")\n"
   ]
  },
  {
   "cell_type": "code",
   "execution_count": 15,
   "metadata": {},
   "outputs": [
    {
     "name": "stdout",
     "output_type": "stream",
     "text": [
      "Total Non-Binders Sampled: 1961\n"
     ]
    }
   ],
   "source": [
    "print(\"Total Non-Binders Sampled:\", len(non_binders_sampled))"
   ]
  },
  {
   "cell_type": "code",
   "execution_count": 16,
   "metadata": {},
   "outputs": [
    {
     "data": {
      "text/plain": [
       "((3922, 6), (3922, 6), (3922, 6))"
      ]
     },
     "execution_count": 16,
     "metadata": {},
     "output_type": "execute_result"
    }
   ],
   "source": [
    "rna_model1_df.shape, rna_model2_df.shape, rna_model3_df.shape"
   ]
  },
  {
   "cell_type": "code",
   "execution_count": 17,
   "metadata": {},
   "outputs": [
    {
     "data": {
      "text/plain": [
       "(label\n",
       " 0    1961\n",
       " 1    1961\n",
       " Name: count, dtype: int64,\n",
       " label\n",
       " 0    1961\n",
       " 1    1961\n",
       " Name: count, dtype: int64,\n",
       " label\n",
       " 1    1961\n",
       " 0    1961\n",
       " Name: count, dtype: int64)"
      ]
     },
     "execution_count": 17,
     "metadata": {},
     "output_type": "execute_result"
    }
   ],
   "source": [
    "rna_model1_df['label'].value_counts(), rna_model2_df['label'].value_counts(), rna_model3_df['label'].value_counts()"
   ]
  }
 ],
 "metadata": {
  "kernelspec": {
   "display_name": "cdd",
   "language": "python",
   "name": "python3"
  },
  "language_info": {
   "codemirror_mode": {
    "name": "ipython",
    "version": 3
   },
   "file_extension": ".py",
   "mimetype": "text/x-python",
   "name": "python",
   "nbconvert_exporter": "python",
   "pygments_lexer": "ipython3",
   "version": "3.10.10"
  }
 },
 "nbformat": 4,
 "nbformat_minor": 2
}
